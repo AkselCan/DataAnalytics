{
 "cells": [
  {
   "cell_type": "code",
   "execution_count": null,
   "metadata": {},
   "outputs": [],
   "source": [
    "\n",
    "df['totalDuration'] = df['Administrative_Duration'] + df['Informational_Duration'] + df['ProductRelated_Duration']\n",
    "fig = px.scatter(df, x='Weekend', y='totalDuration')\n",
    "fig\n",
    "#   -> browser and operating system relation\n",
    "fig = px.scatter(df, x='Browser', y='OperatingSystems')\n",
    "fig\n",
    "# 2.0 Preprocessing -> Get rid of two columns and sample\n",
    "cleandf = df.copy()\n",
    "cleandf = cleandf.drop(columns=['Month', 'VistorType'])\n",
    "cleandf"
   ]
  }
 ],
 "metadata": {
  "language_info": {
   "name": "python"
  }
 },
 "nbformat": 4,
 "nbformat_minor": 2
}
