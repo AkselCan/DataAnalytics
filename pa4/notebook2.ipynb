{
 "cells": [
  {
   "cell_type": "code",
   "execution_count": 266,
   "metadata": {},
   "outputs": [],
   "source": [
    "import numpy as np\n",
    "import pandas as pd\n",
    "import plotly.express as px\n",
    "import plotly.io as pio\n",
    "import matplotlib.pyplot as plt\n",
    "import plotly.graph_objects as go\n",
    "import numpy as np\n",
    "import scipy.stats as stats\n",
    "from sklearn.model_selection import train_test_split\n",
    "from sklearn import metrics\n",
    "from sklearn.metrics import accuracy_score\n",
    "from sklearn.naive_bayes import GaussianNB\n",
    "\n",
    "from sklearn.svm import SVC\n",
    "from sklearn.preprocessing import StandardScaler\n",
    "\n",
    "from sklearn import neural_network\n",
    "from sklearn.metrics import classification_report\n",
    "from sklearn.metrics import fbeta_score\n",
    "from sklearn.model_selection import KFold\n",
    "\n",
    "import statistics\n",
    "\n",
    "pio.renderers.default = 'vscode'\n",
    "pio.templates.default = 'plotly'\n"
   ]
  },
  {
   "cell_type": "code",
   "execution_count": 26,
   "metadata": {},
   "outputs": [],
   "source": [
    "import seaborn as sb"
   ]
  },
  {
   "cell_type": "code",
   "execution_count": 135,
   "metadata": {},
   "outputs": [
    {
     "name": "stdout",
     "output_type": "stream",
     "text": [
      "<class 'pandas.core.frame.DataFrame'>\n",
      "RangeIndex: 748 entries, 0 to 747\n",
      "Data columns (total 5 columns):\n",
      " #   Column                       Non-Null Count  Dtype  \n",
      "---  ------                       --------------  -----  \n",
      " 0   months_since_last_donation   748 non-null    float64\n",
      " 1   total_number_of_donations    748 non-null    float64\n",
      " 2   total_blood_donated          748 non-null    float64\n",
      " 3   months_since_first_donation  748 non-null    float64\n",
      " 4   class                        748 non-null    int64  \n",
      "dtypes: float64(4), int64(1)\n",
      "memory usage: 29.3 KB\n"
     ]
    }
   ],
   "source": [
    "# TASK 0\n",
    "\n",
    "df = df = pd.read_csv('blood_transfusion.csv')\n",
    "df.info()\n"
   ]
  },
  {
   "cell_type": "code",
   "execution_count": 136,
   "metadata": {},
   "outputs": [
    {
     "data": {
      "text/plain": [
       "months_since_last_donation     0\n",
       "total_number_of_donations      0\n",
       "total_blood_donated            0\n",
       "months_since_first_donation    0\n",
       "class                          0\n",
       "dtype: int64"
      ]
     },
     "execution_count": 136,
     "metadata": {},
     "output_type": "execute_result"
    }
   ],
   "source": [
    "df.isnull().sum()"
   ]
  },
  {
   "cell_type": "code",
   "execution_count": 137,
   "metadata": {},
   "outputs": [
    {
     "data": {
      "text/html": [
       "<div>\n",
       "<style scoped>\n",
       "    .dataframe tbody tr th:only-of-type {\n",
       "        vertical-align: middle;\n",
       "    }\n",
       "\n",
       "    .dataframe tbody tr th {\n",
       "        vertical-align: top;\n",
       "    }\n",
       "\n",
       "    .dataframe thead th {\n",
       "        text-align: right;\n",
       "    }\n",
       "</style>\n",
       "<table border=\"1\" class=\"dataframe\">\n",
       "  <thead>\n",
       "    <tr style=\"text-align: right;\">\n",
       "      <th></th>\n",
       "      <th>months_since_last_donation</th>\n",
       "      <th>total_number_of_donations</th>\n",
       "      <th>total_blood_donated</th>\n",
       "      <th>months_since_first_donation</th>\n",
       "      <th>class</th>\n",
       "    </tr>\n",
       "  </thead>\n",
       "  <tbody>\n",
       "    <tr>\n",
       "      <th>count</th>\n",
       "      <td>748.000000</td>\n",
       "      <td>748.000000</td>\n",
       "      <td>748.000000</td>\n",
       "      <td>748.000000</td>\n",
       "      <td>748.000000</td>\n",
       "    </tr>\n",
       "    <tr>\n",
       "      <th>mean</th>\n",
       "      <td>9.506684</td>\n",
       "      <td>5.514706</td>\n",
       "      <td>1378.676471</td>\n",
       "      <td>34.282086</td>\n",
       "      <td>0.237968</td>\n",
       "    </tr>\n",
       "    <tr>\n",
       "      <th>std</th>\n",
       "      <td>8.095396</td>\n",
       "      <td>5.839307</td>\n",
       "      <td>1459.826781</td>\n",
       "      <td>24.376714</td>\n",
       "      <td>0.426124</td>\n",
       "    </tr>\n",
       "    <tr>\n",
       "      <th>min</th>\n",
       "      <td>0.000000</td>\n",
       "      <td>1.000000</td>\n",
       "      <td>250.000000</td>\n",
       "      <td>2.000000</td>\n",
       "      <td>0.000000</td>\n",
       "    </tr>\n",
       "    <tr>\n",
       "      <th>25%</th>\n",
       "      <td>2.750000</td>\n",
       "      <td>2.000000</td>\n",
       "      <td>500.000000</td>\n",
       "      <td>16.000000</td>\n",
       "      <td>0.000000</td>\n",
       "    </tr>\n",
       "    <tr>\n",
       "      <th>50%</th>\n",
       "      <td>7.000000</td>\n",
       "      <td>4.000000</td>\n",
       "      <td>1000.000000</td>\n",
       "      <td>28.000000</td>\n",
       "      <td>0.000000</td>\n",
       "    </tr>\n",
       "    <tr>\n",
       "      <th>75%</th>\n",
       "      <td>14.000000</td>\n",
       "      <td>7.000000</td>\n",
       "      <td>1750.000000</td>\n",
       "      <td>50.000000</td>\n",
       "      <td>0.000000</td>\n",
       "    </tr>\n",
       "    <tr>\n",
       "      <th>max</th>\n",
       "      <td>74.000000</td>\n",
       "      <td>50.000000</td>\n",
       "      <td>12500.000000</td>\n",
       "      <td>98.000000</td>\n",
       "      <td>1.000000</td>\n",
       "    </tr>\n",
       "  </tbody>\n",
       "</table>\n",
       "</div>"
      ],
      "text/plain": [
       "       months_since_last_donation  total_number_of_donations  \\\n",
       "count                  748.000000                 748.000000   \n",
       "mean                     9.506684                   5.514706   \n",
       "std                      8.095396                   5.839307   \n",
       "min                      0.000000                   1.000000   \n",
       "25%                      2.750000                   2.000000   \n",
       "50%                      7.000000                   4.000000   \n",
       "75%                     14.000000                   7.000000   \n",
       "max                     74.000000                  50.000000   \n",
       "\n",
       "       total_blood_donated  months_since_first_donation       class  \n",
       "count           748.000000                   748.000000  748.000000  \n",
       "mean           1378.676471                    34.282086    0.237968  \n",
       "std            1459.826781                    24.376714    0.426124  \n",
       "min             250.000000                     2.000000    0.000000  \n",
       "25%             500.000000                    16.000000    0.000000  \n",
       "50%            1000.000000                    28.000000    0.000000  \n",
       "75%            1750.000000                    50.000000    0.000000  \n",
       "max           12500.000000                    98.000000    1.000000  "
      ]
     },
     "execution_count": 137,
     "metadata": {},
     "output_type": "execute_result"
    }
   ],
   "source": [
    "df.describe()"
   ]
  },
  {
   "cell_type": "code",
   "execution_count": null,
   "metadata": {},
   "outputs": [],
   "source": [
    "#TASK 1"
   ]
  },
  {
   "cell_type": "code",
   "execution_count": 217,
   "metadata": {},
   "outputs": [
    {
     "data": {
      "text/plain": [
       "months_since_first_donation\n",
       "4.0     0.221519\n",
       "2.0     0.208861\n",
       "16.0    0.107595\n",
       "14.0    0.101266\n",
       "21.0    0.101266\n",
       "23.0    0.101266\n",
       "11.0    0.088608\n",
       "9.0     0.018987\n",
       "38.0    0.012658\n",
       "22.0    0.006329\n",
       "40.0    0.006329\n",
       "74.0    0.006329\n",
       "3.0     0.006329\n",
       "39.0    0.006329\n",
       "72.0    0.006329\n",
       "Name: proportion, dtype: float64"
      ]
     },
     "execution_count": 217,
     "metadata": {},
     "output_type": "execute_result"
    }
   ],
   "source": [
    "df[df['total_blood_donated'] == 250.0]['months_since_first_donation'].value_counts(normalize=True)"
   ]
  },
  {
   "cell_type": "code",
   "execution_count": 233,
   "metadata": {},
   "outputs": [
    {
     "data": {
      "text/plain": [
       "total_number_of_donations\n",
       "12.0    0.138889\n",
       "14.0    0.111111\n",
       "11.0    0.083333\n",
       "16.0    0.083333\n",
       "7.0     0.083333\n",
       "3.0     0.055556\n",
       "50.0    0.027778\n",
       "9.0     0.027778\n",
       "33.0    0.027778\n",
       "41.0    0.027778\n",
       "44.0    0.027778\n",
       "43.0    0.027778\n",
       "2.0     0.027778\n",
       "8.0     0.027778\n",
       "4.0     0.027778\n",
       "6.0     0.027778\n",
       "46.0    0.027778\n",
       "10.0    0.027778\n",
       "38.0    0.027778\n",
       "22.0    0.027778\n",
       "17.0    0.027778\n",
       "15.0    0.027778\n",
       "Name: proportion, dtype: float64"
      ]
     },
     "execution_count": 233,
     "metadata": {},
     "output_type": "execute_result"
    }
   ],
   "source": [
    "df[df['months_since_first_donation'] >= 84]['total_number_of_donations'].value_counts(normalize=True)"
   ]
  },
  {
   "cell_type": "code",
   "execution_count": 208,
   "metadata": {},
   "outputs": [
    {
     "data": {
      "text/plain": [
       "months_since_first_donation\n",
       "4.0     57\n",
       "16.0    51\n",
       "14.0    44\n",
       "23.0    36\n",
       "2.0     36\n",
       "        ..\n",
       "12.0     1\n",
       "55.0     1\n",
       "3.0      1\n",
       "13.0     1\n",
       "54.0     1\n",
       "Name: count, Length: 78, dtype: int64"
      ]
     },
     "execution_count": 208,
     "metadata": {},
     "output_type": "execute_result"
    }
   ],
   "source": [
    "df['months_since_first_donation'].value_counts()"
   ]
  },
  {
   "cell_type": "code",
   "execution_count": 214,
   "metadata": {},
   "outputs": [
    {
     "data": {
      "text/plain": [
       "months_since_last_donation\n",
       "2.0     173\n",
       "4.0     156\n",
       "11.0     84\n",
       "14.0     76\n",
       "16.0     63\n",
       "23.0     50\n",
       "21.0     44\n",
       "9.0      20\n",
       "3.0      13\n",
       "1.0       9\n",
       "7.0       8\n",
       "5.0       6\n",
       "8.0       6\n",
       "12.0      6\n",
       "6.0       5\n",
       "13.0      5\n",
       "0.0       5\n",
       "10.0      3\n",
       "38.0      2\n",
       "18.0      2\n",
       "15.0      2\n",
       "22.0      1\n",
       "26.0      1\n",
       "35.0      1\n",
       "40.0      1\n",
       "74.0      1\n",
       "20.0      1\n",
       "17.0      1\n",
       "25.0      1\n",
       "39.0      1\n",
       "72.0      1\n",
       "Name: count, dtype: int64"
      ]
     },
     "execution_count": 214,
     "metadata": {},
     "output_type": "execute_result"
    }
   ],
   "source": [
    "df['months_since_last_donation'].value_counts()"
   ]
  },
  {
   "cell_type": "code",
   "execution_count": 213,
   "metadata": {},
   "outputs": [
    {
     "data": {
      "text/plain": [
       "total_number_of_donations\n",
       "1.0     158\n",
       "2.0     112\n",
       "3.0      87\n",
       "4.0      62\n",
       "5.0      62\n",
       "6.0      52\n",
       "7.0      43\n",
       "8.0      31\n",
       "9.0      24\n",
       "11.0     22\n",
       "12.0     14\n",
       "10.0     14\n",
       "14.0     13\n",
       "16.0     13\n",
       "13.0      9\n",
       "15.0      6\n",
       "17.0      4\n",
       "24.0      3\n",
       "21.0      2\n",
       "19.0      2\n",
       "20.0      2\n",
       "22.0      2\n",
       "34.0      1\n",
       "41.0      1\n",
       "26.0      1\n",
       "44.0      1\n",
       "50.0      1\n",
       "43.0      1\n",
       "38.0      1\n",
       "18.0      1\n",
       "23.0      1\n",
       "46.0      1\n",
       "33.0      1\n",
       "Name: count, dtype: int64"
      ]
     },
     "execution_count": 213,
     "metadata": {},
     "output_type": "execute_result"
    }
   ],
   "source": [
    "df['total_number_of_donations'].value_counts()"
   ]
  },
  {
   "cell_type": "code",
   "execution_count": 215,
   "metadata": {},
   "outputs": [
    {
     "data": {
      "text/plain": [
       "total_blood_donated\n",
       "250.0      158\n",
       "500.0      112\n",
       "750.0       87\n",
       "1000.0      62\n",
       "1250.0      62\n",
       "1500.0      52\n",
       "1750.0      43\n",
       "2000.0      31\n",
       "2250.0      24\n",
       "2750.0      22\n",
       "3000.0      14\n",
       "2500.0      14\n",
       "3500.0      13\n",
       "4000.0      13\n",
       "3250.0       9\n",
       "3750.0       6\n",
       "4250.0       4\n",
       "6000.0       3\n",
       "5250.0       2\n",
       "4750.0       2\n",
       "5000.0       2\n",
       "5500.0       2\n",
       "8500.0       1\n",
       "10250.0      1\n",
       "6500.0       1\n",
       "11000.0      1\n",
       "12500.0      1\n",
       "10750.0      1\n",
       "9500.0       1\n",
       "4500.0       1\n",
       "5750.0       1\n",
       "11500.0      1\n",
       "8250.0       1\n",
       "Name: count, dtype: int64"
      ]
     },
     "execution_count": 215,
     "metadata": {},
     "output_type": "execute_result"
    }
   ],
   "source": [
    "df['total_blood_donated'].value_counts()            "
   ]
  },
  {
   "cell_type": "code",
   "execution_count": 222,
   "metadata": {},
   "outputs": [
    {
     "data": {
      "text/plain": [
       "months_since_last_donation  total_number_of_donations  total_blood_donated  months_since_first_donation  class\n",
       "2.0                         50.0                       12500.0              98.0                         1        1\n",
       "Name: count, dtype: int64"
      ]
     },
     "execution_count": 222,
     "metadata": {},
     "output_type": "execute_result"
    }
   ],
   "source": [
    "df[df['total_blood_donated'] == 12500].value_counts()"
   ]
  },
  {
   "cell_type": "code",
   "execution_count": 138,
   "metadata": {},
   "outputs": [
    {
     "data": {
      "application/vnd.plotly.v1+json": {
       "config": {
        "plotlyServerURL": "https://plot.ly"
       },
       "data": [
        {
         "alignmentgroup": "True",
         "bingroup": "x",
         "hovertemplate": "months_since_last_donation=2.0<br>class=%{x}<br>count=%{y}<extra></extra>",
         "legendgroup": "2.0",
         "marker": {
          "color": "#636efa",
          "pattern": {
           "shape": ""
          }
         },
         "name": "2.0",
         "offsetgroup": "2.0",
         "orientation": "v",
         "showlegend": true,
         "type": "histogram",
         "x": [
          1,
          1,
          1,
          1,
          1,
          1,
          1,
          1,
          1,
          1,
          1,
          1,
          1,
          1,
          0,
          1,
          1,
          1,
          1,
          0,
          1,
          0,
          0,
          0,
          0,
          0,
          0,
          1,
          0,
          0,
          1,
          0,
          0,
          1,
          0,
          1,
          1,
          0,
          0,
          0,
          1,
          1,
          1,
          0,
          0,
          0,
          0,
          0,
          0,
          1,
          0,
          1,
          1,
          0,
          0,
          0,
          0,
          0,
          1,
          1,
          1,
          1,
          1,
          0,
          0,
          0,
          1,
          0,
          0,
          0,
          0,
          0,
          0,
          0,
          0,
          0,
          1,
          0,
          1,
          1,
          0,
          0,
          0,
          0,
          0,
          0,
          0,
          0,
          0,
          1,
          1,
          1,
          0,
          0,
          0,
          0,
          0,
          0,
          0,
          0,
          0,
          0,
          0,
          0,
          0,
          1,
          0,
          0,
          0,
          0,
          0,
          0,
          1,
          0,
          0,
          0,
          1,
          1,
          0,
          1,
          0,
          1,
          1,
          0,
          0,
          1,
          1,
          0,
          1,
          0,
          1,
          1,
          0,
          0,
          1,
          1,
          1,
          1,
          1,
          0,
          0,
          1,
          1,
          0,
          0,
          0,
          0,
          0,
          1,
          0,
          1,
          0,
          0,
          1,
          0,
          0,
          0,
          0,
          1,
          0,
          0,
          0,
          0,
          0,
          0,
          0,
          0,
          0,
          0,
          0,
          0,
          1,
          0
         ],
         "xaxis": "x",
         "yaxis": "y"
        },
        {
         "alignmentgroup": "True",
         "bingroup": "x",
         "hovertemplate": "months_since_last_donation=0.0<br>class=%{x}<br>count=%{y}<extra></extra>",
         "legendgroup": "0.0",
         "marker": {
          "color": "#EF553B",
          "pattern": {
           "shape": ""
          }
         },
         "name": "0.0",
         "offsetgroup": "0.0",
         "orientation": "v",
         "showlegend": true,
         "type": "histogram",
         "x": [
          1,
          0,
          0,
          0,
          1
         ],
         "xaxis": "x",
         "yaxis": "y"
        },
        {
         "alignmentgroup": "True",
         "bingroup": "x",
         "hovertemplate": "months_since_last_donation=1.0<br>class=%{x}<br>count=%{y}<extra></extra>",
         "legendgroup": "1.0",
         "marker": {
          "color": "#00cc96",
          "pattern": {
           "shape": ""
          }
         },
         "name": "1.0",
         "offsetgroup": "1.0",
         "orientation": "v",
         "showlegend": true,
         "type": "histogram",
         "x": [
          1,
          0,
          0,
          0,
          0,
          0,
          0,
          1,
          0
         ],
         "xaxis": "x",
         "yaxis": "y"
        },
        {
         "alignmentgroup": "True",
         "bingroup": "x",
         "hovertemplate": "months_since_last_donation=4.0<br>class=%{x}<br>count=%{y}<extra></extra>",
         "legendgroup": "4.0",
         "marker": {
          "color": "#ab63fa",
          "pattern": {
           "shape": ""
          }
         },
         "name": "4.0",
         "offsetgroup": "4.0",
         "orientation": "v",
         "showlegend": true,
         "type": "histogram",
         "x": [
          0,
          0,
          0,
          0,
          0,
          1,
          1,
          0,
          1,
          1,
          1,
          1,
          1,
          1,
          1,
          1,
          1,
          1,
          1,
          0,
          1,
          1,
          0,
          0,
          0,
          1,
          0,
          0,
          0,
          0,
          1,
          1,
          1,
          0,
          1,
          0,
          0,
          1,
          0,
          1,
          1,
          1,
          0,
          0,
          0,
          0,
          1,
          1,
          0,
          0,
          1,
          1,
          1,
          0,
          0,
          0,
          1,
          0,
          0,
          0,
          0,
          0,
          0,
          0,
          0,
          0,
          0,
          0,
          1,
          0,
          0,
          0,
          0,
          0,
          1,
          1,
          0,
          1,
          1,
          0,
          0,
          0,
          0,
          0,
          1,
          0,
          0,
          1,
          0,
          0,
          0,
          0,
          1,
          0,
          0,
          0,
          0,
          0,
          0,
          0,
          0,
          0,
          0,
          1,
          0,
          0,
          1,
          1,
          0,
          1,
          1,
          1,
          0,
          1,
          0,
          1,
          1,
          1,
          1,
          1,
          0,
          1,
          0,
          0,
          1,
          0,
          1,
          0,
          0,
          0,
          1,
          0,
          1,
          0,
          0,
          0,
          0,
          0,
          0,
          0,
          0,
          1,
          0,
          0,
          0,
          0,
          0,
          1,
          0,
          0,
          0,
          1,
          0,
          0,
          0,
          0
         ],
         "xaxis": "x",
         "yaxis": "y"
        },
        {
         "alignmentgroup": "True",
         "bingroup": "x",
         "hovertemplate": "months_since_last_donation=5.0<br>class=%{x}<br>count=%{y}<extra></extra>",
         "legendgroup": "5.0",
         "marker": {
          "color": "#FFA15A",
          "pattern": {
           "shape": ""
          }
         },
         "name": "5.0",
         "offsetgroup": "5.0",
         "orientation": "v",
         "showlegend": true,
         "type": "histogram",
         "x": [
          1,
          1,
          0,
          0,
          0,
          0
         ],
         "xaxis": "x",
         "yaxis": "y"
        },
        {
         "alignmentgroup": "True",
         "bingroup": "x",
         "hovertemplate": "months_since_last_donation=9.0<br>class=%{x}<br>count=%{y}<extra></extra>",
         "legendgroup": "9.0",
         "marker": {
          "color": "#19d3f3",
          "pattern": {
           "shape": ""
          }
         },
         "name": "9.0",
         "offsetgroup": "9.0",
         "orientation": "v",
         "showlegend": true,
         "type": "histogram",
         "x": [
          0,
          0,
          1,
          0,
          0,
          1,
          0,
          0,
          1,
          0,
          0,
          0,
          0,
          0,
          0,
          0,
          1,
          0,
          0,
          0
         ],
         "xaxis": "x",
         "yaxis": "y"
        },
        {
         "alignmentgroup": "True",
         "bingroup": "x",
         "hovertemplate": "months_since_last_donation=3.0<br>class=%{x}<br>count=%{y}<extra></extra>",
         "legendgroup": "3.0",
         "marker": {
          "color": "#FF6692",
          "pattern": {
           "shape": ""
          }
         },
         "name": "3.0",
         "offsetgroup": "3.0",
         "orientation": "v",
         "showlegend": true,
         "type": "histogram",
         "x": [
          0,
          0,
          0,
          0,
          0,
          1,
          0,
          1,
          1,
          0,
          1,
          0,
          1
         ],
         "xaxis": "x",
         "yaxis": "y"
        },
        {
         "alignmentgroup": "True",
         "bingroup": "x",
         "hovertemplate": "months_since_last_donation=12.0<br>class=%{x}<br>count=%{y}<extra></extra>",
         "legendgroup": "12.0",
         "marker": {
          "color": "#B6E880",
          "pattern": {
           "shape": ""
          }
         },
         "name": "12.0",
         "offsetgroup": "12.0",
         "orientation": "v",
         "showlegend": true,
         "type": "histogram",
         "x": [
          0,
          0,
          0,
          0,
          0,
          0
         ],
         "xaxis": "x",
         "yaxis": "y"
        },
        {
         "alignmentgroup": "True",
         "bingroup": "x",
         "hovertemplate": "months_since_last_donation=6.0<br>class=%{x}<br>count=%{y}<extra></extra>",
         "legendgroup": "6.0",
         "marker": {
          "color": "#FF97FF",
          "pattern": {
           "shape": ""
          }
         },
         "name": "6.0",
         "offsetgroup": "6.0",
         "orientation": "v",
         "showlegend": true,
         "type": "histogram",
         "x": [
          0,
          0,
          1,
          1,
          0
         ],
         "xaxis": "x",
         "yaxis": "y"
        },
        {
         "alignmentgroup": "True",
         "bingroup": "x",
         "hovertemplate": "months_since_last_donation=11.0<br>class=%{x}<br>count=%{y}<extra></extra>",
         "legendgroup": "11.0",
         "marker": {
          "color": "#FECB52",
          "pattern": {
           "shape": ""
          }
         },
         "name": "11.0",
         "offsetgroup": "11.0",
         "orientation": "v",
         "showlegend": true,
         "type": "histogram",
         "x": [
          0,
          0,
          1,
          0,
          0,
          0,
          0,
          0,
          0,
          0,
          0,
          0,
          1,
          0,
          0,
          0,
          0,
          1,
          1,
          0,
          1,
          0,
          0,
          0,
          0,
          0,
          0,
          0,
          1,
          0,
          0,
          0,
          0,
          1,
          0,
          0,
          1,
          0,
          0,
          1,
          0,
          0,
          0,
          0,
          0,
          0,
          0,
          0,
          0,
          0,
          0,
          0,
          0,
          0,
          0,
          1,
          0,
          0,
          0,
          0,
          0,
          0,
          0,
          0,
          0,
          0,
          0,
          0,
          0,
          1,
          0,
          0,
          0,
          0,
          0,
          0,
          0,
          1,
          0,
          0,
          0,
          0,
          0,
          1
         ],
         "xaxis": "x",
         "yaxis": "y"
        },
        {
         "alignmentgroup": "True",
         "bingroup": "x",
         "hovertemplate": "months_since_last_donation=10.0<br>class=%{x}<br>count=%{y}<extra></extra>",
         "legendgroup": "10.0",
         "marker": {
          "color": "#636efa",
          "pattern": {
           "shape": ""
          }
         },
         "name": "10.0",
         "offsetgroup": "10.0",
         "orientation": "v",
         "showlegend": true,
         "type": "histogram",
         "x": [
          0,
          0,
          0
         ],
         "xaxis": "x",
         "yaxis": "y"
        },
        {
         "alignmentgroup": "True",
         "bingroup": "x",
         "hovertemplate": "months_since_last_donation=13.0<br>class=%{x}<br>count=%{y}<extra></extra>",
         "legendgroup": "13.0",
         "marker": {
          "color": "#EF553B",
          "pattern": {
           "shape": ""
          }
         },
         "name": "13.0",
         "offsetgroup": "13.0",
         "orientation": "v",
         "showlegend": true,
         "type": "histogram",
         "x": [
          0,
          0,
          1,
          0,
          0
         ],
         "xaxis": "x",
         "yaxis": "y"
        },
        {
         "alignmentgroup": "True",
         "bingroup": "x",
         "hovertemplate": "months_since_last_donation=8.0<br>class=%{x}<br>count=%{y}<extra></extra>",
         "legendgroup": "8.0",
         "marker": {
          "color": "#00cc96",
          "pattern": {
           "shape": ""
          }
         },
         "name": "8.0",
         "offsetgroup": "8.0",
         "orientation": "v",
         "showlegend": true,
         "type": "histogram",
         "x": [
          0,
          0,
          0,
          1,
          0,
          0
         ],
         "xaxis": "x",
         "yaxis": "y"
        },
        {
         "alignmentgroup": "True",
         "bingroup": "x",
         "hovertemplate": "months_since_last_donation=14.0<br>class=%{x}<br>count=%{y}<extra></extra>",
         "legendgroup": "14.0",
         "marker": {
          "color": "#ab63fa",
          "pattern": {
           "shape": ""
          }
         },
         "name": "14.0",
         "offsetgroup": "14.0",
         "orientation": "v",
         "showlegend": true,
         "type": "histogram",
         "x": [
          0,
          0,
          0,
          0,
          1,
          0,
          1,
          1,
          1,
          0,
          0,
          0,
          0,
          0,
          0,
          0,
          0,
          0,
          1,
          0,
          0,
          1,
          0,
          0,
          0,
          0,
          1,
          0,
          0,
          0,
          0,
          0,
          0,
          0,
          0,
          0,
          0,
          0,
          0,
          0,
          0,
          0,
          0,
          0,
          0,
          0,
          0,
          0,
          0,
          0,
          0,
          0,
          0,
          0,
          1,
          0,
          0,
          0,
          0,
          0,
          0,
          0,
          0,
          0,
          0,
          0,
          0,
          0,
          0,
          0,
          0,
          0,
          0,
          0,
          1,
          0
         ],
         "xaxis": "x",
         "yaxis": "y"
        },
        {
         "alignmentgroup": "True",
         "bingroup": "x",
         "hovertemplate": "months_since_last_donation=7.0<br>class=%{x}<br>count=%{y}<extra></extra>",
         "legendgroup": "7.0",
         "marker": {
          "color": "#FFA15A",
          "pattern": {
           "shape": ""
          }
         },
         "name": "7.0",
         "offsetgroup": "7.0",
         "orientation": "v",
         "showlegend": true,
         "type": "histogram",
         "x": [
          0,
          0,
          0,
          0,
          0,
          0,
          1,
          0
         ],
         "xaxis": "x",
         "yaxis": "y"
        },
        {
         "alignmentgroup": "True",
         "bingroup": "x",
         "hovertemplate": "months_since_last_donation=16.0<br>class=%{x}<br>count=%{y}<extra></extra>",
         "legendgroup": "16.0",
         "marker": {
          "color": "#19d3f3",
          "pattern": {
           "shape": ""
          }
         },
         "name": "16.0",
         "offsetgroup": "16.0",
         "orientation": "v",
         "showlegend": true,
         "type": "histogram",
         "x": [
          0,
          0,
          0,
          0,
          0,
          0,
          0,
          0,
          0,
          1,
          0,
          1,
          0,
          0,
          1,
          0,
          0,
          0,
          0,
          0,
          0,
          0,
          0,
          0,
          0,
          0,
          0,
          0,
          0,
          0,
          0,
          0,
          0,
          0,
          0,
          0,
          1,
          0,
          0,
          0,
          0,
          0,
          0,
          0,
          0,
          0,
          0,
          0,
          0,
          0,
          0,
          0,
          0,
          0,
          0,
          0,
          0,
          0,
          0,
          0,
          0,
          0,
          0
         ],
         "xaxis": "x",
         "yaxis": "y"
        },
        {
         "alignmentgroup": "True",
         "bingroup": "x",
         "hovertemplate": "months_since_last_donation=15.0<br>class=%{x}<br>count=%{y}<extra></extra>",
         "legendgroup": "15.0",
         "marker": {
          "color": "#FF6692",
          "pattern": {
           "shape": ""
          }
         },
         "name": "15.0",
         "offsetgroup": "15.0",
         "orientation": "v",
         "showlegend": true,
         "type": "histogram",
         "x": [
          0,
          0
         ],
         "xaxis": "x",
         "yaxis": "y"
        },
        {
         "alignmentgroup": "True",
         "bingroup": "x",
         "hovertemplate": "months_since_last_donation=23.0<br>class=%{x}<br>count=%{y}<extra></extra>",
         "legendgroup": "23.0",
         "marker": {
          "color": "#B6E880",
          "pattern": {
           "shape": ""
          }
         },
         "name": "23.0",
         "offsetgroup": "23.0",
         "orientation": "v",
         "showlegend": true,
         "type": "histogram",
         "x": [
          0,
          0,
          0,
          0,
          0,
          0,
          0,
          0,
          0,
          0,
          0,
          0,
          0,
          0,
          0,
          0,
          0,
          0,
          0,
          0,
          0,
          0,
          0,
          0,
          0,
          0,
          0,
          0,
          0,
          0,
          0,
          0,
          0,
          0,
          0,
          0,
          0,
          0,
          1,
          0,
          0,
          0,
          0,
          0,
          0,
          0,
          0,
          0,
          0,
          0
         ],
         "xaxis": "x",
         "yaxis": "y"
        },
        {
         "alignmentgroup": "True",
         "bingroup": "x",
         "hovertemplate": "months_since_last_donation=21.0<br>class=%{x}<br>count=%{y}<extra></extra>",
         "legendgroup": "21.0",
         "marker": {
          "color": "#FF97FF",
          "pattern": {
           "shape": ""
          }
         },
         "name": "21.0",
         "offsetgroup": "21.0",
         "orientation": "v",
         "showlegend": true,
         "type": "histogram",
         "x": [
          0,
          0,
          1,
          0,
          1,
          0,
          0,
          0,
          0,
          0,
          0,
          0,
          0,
          0,
          0,
          0,
          0,
          0,
          0,
          0,
          1,
          0,
          0,
          0,
          0,
          0,
          0,
          0,
          0,
          0,
          0,
          0,
          0,
          0,
          0,
          0,
          0,
          0,
          0,
          0,
          0,
          0,
          0,
          0
         ],
         "xaxis": "x",
         "yaxis": "y"
        },
        {
         "alignmentgroup": "True",
         "bingroup": "x",
         "hovertemplate": "months_since_last_donation=18.0<br>class=%{x}<br>count=%{y}<extra></extra>",
         "legendgroup": "18.0",
         "marker": {
          "color": "#FECB52",
          "pattern": {
           "shape": ""
          }
         },
         "name": "18.0",
         "offsetgroup": "18.0",
         "orientation": "v",
         "showlegend": true,
         "type": "histogram",
         "x": [
          0,
          0
         ],
         "xaxis": "x",
         "yaxis": "y"
        },
        {
         "alignmentgroup": "True",
         "bingroup": "x",
         "hovertemplate": "months_since_last_donation=22.0<br>class=%{x}<br>count=%{y}<extra></extra>",
         "legendgroup": "22.0",
         "marker": {
          "color": "#636efa",
          "pattern": {
           "shape": ""
          }
         },
         "name": "22.0",
         "offsetgroup": "22.0",
         "orientation": "v",
         "showlegend": true,
         "type": "histogram",
         "x": [
          1
         ],
         "xaxis": "x",
         "yaxis": "y"
        },
        {
         "alignmentgroup": "True",
         "bingroup": "x",
         "hovertemplate": "months_since_last_donation=26.0<br>class=%{x}<br>count=%{y}<extra></extra>",
         "legendgroup": "26.0",
         "marker": {
          "color": "#EF553B",
          "pattern": {
           "shape": ""
          }
         },
         "name": "26.0",
         "offsetgroup": "26.0",
         "orientation": "v",
         "showlegend": true,
         "type": "histogram",
         "x": [
          1
         ],
         "xaxis": "x",
         "yaxis": "y"
        },
        {
         "alignmentgroup": "True",
         "bingroup": "x",
         "hovertemplate": "months_since_last_donation=35.0<br>class=%{x}<br>count=%{y}<extra></extra>",
         "legendgroup": "35.0",
         "marker": {
          "color": "#00cc96",
          "pattern": {
           "shape": ""
          }
         },
         "name": "35.0",
         "offsetgroup": "35.0",
         "orientation": "v",
         "showlegend": true,
         "type": "histogram",
         "x": [
          0
         ],
         "xaxis": "x",
         "yaxis": "y"
        },
        {
         "alignmentgroup": "True",
         "bingroup": "x",
         "hovertemplate": "months_since_last_donation=38.0<br>class=%{x}<br>count=%{y}<extra></extra>",
         "legendgroup": "38.0",
         "marker": {
          "color": "#ab63fa",
          "pattern": {
           "shape": ""
          }
         },
         "name": "38.0",
         "offsetgroup": "38.0",
         "orientation": "v",
         "showlegend": true,
         "type": "histogram",
         "x": [
          0,
          0
         ],
         "xaxis": "x",
         "yaxis": "y"
        },
        {
         "alignmentgroup": "True",
         "bingroup": "x",
         "hovertemplate": "months_since_last_donation=40.0<br>class=%{x}<br>count=%{y}<extra></extra>",
         "legendgroup": "40.0",
         "marker": {
          "color": "#FFA15A",
          "pattern": {
           "shape": ""
          }
         },
         "name": "40.0",
         "offsetgroup": "40.0",
         "orientation": "v",
         "showlegend": true,
         "type": "histogram",
         "x": [
          0
         ],
         "xaxis": "x",
         "yaxis": "y"
        },
        {
         "alignmentgroup": "True",
         "bingroup": "x",
         "hovertemplate": "months_since_last_donation=74.0<br>class=%{x}<br>count=%{y}<extra></extra>",
         "legendgroup": "74.0",
         "marker": {
          "color": "#19d3f3",
          "pattern": {
           "shape": ""
          }
         },
         "name": "74.0",
         "offsetgroup": "74.0",
         "orientation": "v",
         "showlegend": true,
         "type": "histogram",
         "x": [
          0
         ],
         "xaxis": "x",
         "yaxis": "y"
        },
        {
         "alignmentgroup": "True",
         "bingroup": "x",
         "hovertemplate": "months_since_last_donation=20.0<br>class=%{x}<br>count=%{y}<extra></extra>",
         "legendgroup": "20.0",
         "marker": {
          "color": "#FF6692",
          "pattern": {
           "shape": ""
          }
         },
         "name": "20.0",
         "offsetgroup": "20.0",
         "orientation": "v",
         "showlegend": true,
         "type": "histogram",
         "x": [
          1
         ],
         "xaxis": "x",
         "yaxis": "y"
        },
        {
         "alignmentgroup": "True",
         "bingroup": "x",
         "hovertemplate": "months_since_last_donation=17.0<br>class=%{x}<br>count=%{y}<extra></extra>",
         "legendgroup": "17.0",
         "marker": {
          "color": "#B6E880",
          "pattern": {
           "shape": ""
          }
         },
         "name": "17.0",
         "offsetgroup": "17.0",
         "orientation": "v",
         "showlegend": true,
         "type": "histogram",
         "x": [
          1
         ],
         "xaxis": "x",
         "yaxis": "y"
        },
        {
         "alignmentgroup": "True",
         "bingroup": "x",
         "hovertemplate": "months_since_last_donation=25.0<br>class=%{x}<br>count=%{y}<extra></extra>",
         "legendgroup": "25.0",
         "marker": {
          "color": "#FF97FF",
          "pattern": {
           "shape": ""
          }
         },
         "name": "25.0",
         "offsetgroup": "25.0",
         "orientation": "v",
         "showlegend": true,
         "type": "histogram",
         "x": [
          0
         ],
         "xaxis": "x",
         "yaxis": "y"
        },
        {
         "alignmentgroup": "True",
         "bingroup": "x",
         "hovertemplate": "months_since_last_donation=39.0<br>class=%{x}<br>count=%{y}<extra></extra>",
         "legendgroup": "39.0",
         "marker": {
          "color": "#FECB52",
          "pattern": {
           "shape": ""
          }
         },
         "name": "39.0",
         "offsetgroup": "39.0",
         "orientation": "v",
         "showlegend": true,
         "type": "histogram",
         "x": [
          0
         ],
         "xaxis": "x",
         "yaxis": "y"
        },
        {
         "alignmentgroup": "True",
         "bingroup": "x",
         "hovertemplate": "months_since_last_donation=72.0<br>class=%{x}<br>count=%{y}<extra></extra>",
         "legendgroup": "72.0",
         "marker": {
          "color": "#636efa",
          "pattern": {
           "shape": ""
          }
         },
         "name": "72.0",
         "offsetgroup": "72.0",
         "orientation": "v",
         "showlegend": true,
         "type": "histogram",
         "x": [
          0
         ],
         "xaxis": "x",
         "yaxis": "y"
        }
       ],
       "layout": {
        "barmode": "relative",
        "legend": {
         "title": {
          "text": "months_since_last_donation"
         },
         "tracegroupgap": 0
        },
        "margin": {
         "t": 60
        },
        "template": {
         "data": {
          "bar": [
           {
            "error_x": {
             "color": "#2a3f5f"
            },
            "error_y": {
             "color": "#2a3f5f"
            },
            "marker": {
             "line": {
              "color": "#E5ECF6",
              "width": 0.5
             },
             "pattern": {
              "fillmode": "overlay",
              "size": 10,
              "solidity": 0.2
             }
            },
            "type": "bar"
           }
          ],
          "barpolar": [
           {
            "marker": {
             "line": {
              "color": "#E5ECF6",
              "width": 0.5
             },
             "pattern": {
              "fillmode": "overlay",
              "size": 10,
              "solidity": 0.2
             }
            },
            "type": "barpolar"
           }
          ],
          "carpet": [
           {
            "aaxis": {
             "endlinecolor": "#2a3f5f",
             "gridcolor": "white",
             "linecolor": "white",
             "minorgridcolor": "white",
             "startlinecolor": "#2a3f5f"
            },
            "baxis": {
             "endlinecolor": "#2a3f5f",
             "gridcolor": "white",
             "linecolor": "white",
             "minorgridcolor": "white",
             "startlinecolor": "#2a3f5f"
            },
            "type": "carpet"
           }
          ],
          "choropleth": [
           {
            "colorbar": {
             "outlinewidth": 0,
             "ticks": ""
            },
            "type": "choropleth"
           }
          ],
          "contour": [
           {
            "colorbar": {
             "outlinewidth": 0,
             "ticks": ""
            },
            "colorscale": [
             [
              0,
              "#0d0887"
             ],
             [
              0.1111111111111111,
              "#46039f"
             ],
             [
              0.2222222222222222,
              "#7201a8"
             ],
             [
              0.3333333333333333,
              "#9c179e"
             ],
             [
              0.4444444444444444,
              "#bd3786"
             ],
             [
              0.5555555555555556,
              "#d8576b"
             ],
             [
              0.6666666666666666,
              "#ed7953"
             ],
             [
              0.7777777777777778,
              "#fb9f3a"
             ],
             [
              0.8888888888888888,
              "#fdca26"
             ],
             [
              1,
              "#f0f921"
             ]
            ],
            "type": "contour"
           }
          ],
          "contourcarpet": [
           {
            "colorbar": {
             "outlinewidth": 0,
             "ticks": ""
            },
            "type": "contourcarpet"
           }
          ],
          "heatmap": [
           {
            "colorbar": {
             "outlinewidth": 0,
             "ticks": ""
            },
            "colorscale": [
             [
              0,
              "#0d0887"
             ],
             [
              0.1111111111111111,
              "#46039f"
             ],
             [
              0.2222222222222222,
              "#7201a8"
             ],
             [
              0.3333333333333333,
              "#9c179e"
             ],
             [
              0.4444444444444444,
              "#bd3786"
             ],
             [
              0.5555555555555556,
              "#d8576b"
             ],
             [
              0.6666666666666666,
              "#ed7953"
             ],
             [
              0.7777777777777778,
              "#fb9f3a"
             ],
             [
              0.8888888888888888,
              "#fdca26"
             ],
             [
              1,
              "#f0f921"
             ]
            ],
            "type": "heatmap"
           }
          ],
          "heatmapgl": [
           {
            "colorbar": {
             "outlinewidth": 0,
             "ticks": ""
            },
            "colorscale": [
             [
              0,
              "#0d0887"
             ],
             [
              0.1111111111111111,
              "#46039f"
             ],
             [
              0.2222222222222222,
              "#7201a8"
             ],
             [
              0.3333333333333333,
              "#9c179e"
             ],
             [
              0.4444444444444444,
              "#bd3786"
             ],
             [
              0.5555555555555556,
              "#d8576b"
             ],
             [
              0.6666666666666666,
              "#ed7953"
             ],
             [
              0.7777777777777778,
              "#fb9f3a"
             ],
             [
              0.8888888888888888,
              "#fdca26"
             ],
             [
              1,
              "#f0f921"
             ]
            ],
            "type": "heatmapgl"
           }
          ],
          "histogram": [
           {
            "marker": {
             "pattern": {
              "fillmode": "overlay",
              "size": 10,
              "solidity": 0.2
             }
            },
            "type": "histogram"
           }
          ],
          "histogram2d": [
           {
            "colorbar": {
             "outlinewidth": 0,
             "ticks": ""
            },
            "colorscale": [
             [
              0,
              "#0d0887"
             ],
             [
              0.1111111111111111,
              "#46039f"
             ],
             [
              0.2222222222222222,
              "#7201a8"
             ],
             [
              0.3333333333333333,
              "#9c179e"
             ],
             [
              0.4444444444444444,
              "#bd3786"
             ],
             [
              0.5555555555555556,
              "#d8576b"
             ],
             [
              0.6666666666666666,
              "#ed7953"
             ],
             [
              0.7777777777777778,
              "#fb9f3a"
             ],
             [
              0.8888888888888888,
              "#fdca26"
             ],
             [
              1,
              "#f0f921"
             ]
            ],
            "type": "histogram2d"
           }
          ],
          "histogram2dcontour": [
           {
            "colorbar": {
             "outlinewidth": 0,
             "ticks": ""
            },
            "colorscale": [
             [
              0,
              "#0d0887"
             ],
             [
              0.1111111111111111,
              "#46039f"
             ],
             [
              0.2222222222222222,
              "#7201a8"
             ],
             [
              0.3333333333333333,
              "#9c179e"
             ],
             [
              0.4444444444444444,
              "#bd3786"
             ],
             [
              0.5555555555555556,
              "#d8576b"
             ],
             [
              0.6666666666666666,
              "#ed7953"
             ],
             [
              0.7777777777777778,
              "#fb9f3a"
             ],
             [
              0.8888888888888888,
              "#fdca26"
             ],
             [
              1,
              "#f0f921"
             ]
            ],
            "type": "histogram2dcontour"
           }
          ],
          "mesh3d": [
           {
            "colorbar": {
             "outlinewidth": 0,
             "ticks": ""
            },
            "type": "mesh3d"
           }
          ],
          "parcoords": [
           {
            "line": {
             "colorbar": {
              "outlinewidth": 0,
              "ticks": ""
             }
            },
            "type": "parcoords"
           }
          ],
          "pie": [
           {
            "automargin": true,
            "type": "pie"
           }
          ],
          "scatter": [
           {
            "fillpattern": {
             "fillmode": "overlay",
             "size": 10,
             "solidity": 0.2
            },
            "type": "scatter"
           }
          ],
          "scatter3d": [
           {
            "line": {
             "colorbar": {
              "outlinewidth": 0,
              "ticks": ""
             }
            },
            "marker": {
             "colorbar": {
              "outlinewidth": 0,
              "ticks": ""
             }
            },
            "type": "scatter3d"
           }
          ],
          "scattercarpet": [
           {
            "marker": {
             "colorbar": {
              "outlinewidth": 0,
              "ticks": ""
             }
            },
            "type": "scattercarpet"
           }
          ],
          "scattergeo": [
           {
            "marker": {
             "colorbar": {
              "outlinewidth": 0,
              "ticks": ""
             }
            },
            "type": "scattergeo"
           }
          ],
          "scattergl": [
           {
            "marker": {
             "colorbar": {
              "outlinewidth": 0,
              "ticks": ""
             }
            },
            "type": "scattergl"
           }
          ],
          "scattermapbox": [
           {
            "marker": {
             "colorbar": {
              "outlinewidth": 0,
              "ticks": ""
             }
            },
            "type": "scattermapbox"
           }
          ],
          "scatterpolar": [
           {
            "marker": {
             "colorbar": {
              "outlinewidth": 0,
              "ticks": ""
             }
            },
            "type": "scatterpolar"
           }
          ],
          "scatterpolargl": [
           {
            "marker": {
             "colorbar": {
              "outlinewidth": 0,
              "ticks": ""
             }
            },
            "type": "scatterpolargl"
           }
          ],
          "scatterternary": [
           {
            "marker": {
             "colorbar": {
              "outlinewidth": 0,
              "ticks": ""
             }
            },
            "type": "scatterternary"
           }
          ],
          "surface": [
           {
            "colorbar": {
             "outlinewidth": 0,
             "ticks": ""
            },
            "colorscale": [
             [
              0,
              "#0d0887"
             ],
             [
              0.1111111111111111,
              "#46039f"
             ],
             [
              0.2222222222222222,
              "#7201a8"
             ],
             [
              0.3333333333333333,
              "#9c179e"
             ],
             [
              0.4444444444444444,
              "#bd3786"
             ],
             [
              0.5555555555555556,
              "#d8576b"
             ],
             [
              0.6666666666666666,
              "#ed7953"
             ],
             [
              0.7777777777777778,
              "#fb9f3a"
             ],
             [
              0.8888888888888888,
              "#fdca26"
             ],
             [
              1,
              "#f0f921"
             ]
            ],
            "type": "surface"
           }
          ],
          "table": [
           {
            "cells": {
             "fill": {
              "color": "#EBF0F8"
             },
             "line": {
              "color": "white"
             }
            },
            "header": {
             "fill": {
              "color": "#C8D4E3"
             },
             "line": {
              "color": "white"
             }
            },
            "type": "table"
           }
          ]
         },
         "layout": {
          "annotationdefaults": {
           "arrowcolor": "#2a3f5f",
           "arrowhead": 0,
           "arrowwidth": 1
          },
          "autotypenumbers": "strict",
          "coloraxis": {
           "colorbar": {
            "outlinewidth": 0,
            "ticks": ""
           }
          },
          "colorscale": {
           "diverging": [
            [
             0,
             "#8e0152"
            ],
            [
             0.1,
             "#c51b7d"
            ],
            [
             0.2,
             "#de77ae"
            ],
            [
             0.3,
             "#f1b6da"
            ],
            [
             0.4,
             "#fde0ef"
            ],
            [
             0.5,
             "#f7f7f7"
            ],
            [
             0.6,
             "#e6f5d0"
            ],
            [
             0.7,
             "#b8e186"
            ],
            [
             0.8,
             "#7fbc41"
            ],
            [
             0.9,
             "#4d9221"
            ],
            [
             1,
             "#276419"
            ]
           ],
           "sequential": [
            [
             0,
             "#0d0887"
            ],
            [
             0.1111111111111111,
             "#46039f"
            ],
            [
             0.2222222222222222,
             "#7201a8"
            ],
            [
             0.3333333333333333,
             "#9c179e"
            ],
            [
             0.4444444444444444,
             "#bd3786"
            ],
            [
             0.5555555555555556,
             "#d8576b"
            ],
            [
             0.6666666666666666,
             "#ed7953"
            ],
            [
             0.7777777777777778,
             "#fb9f3a"
            ],
            [
             0.8888888888888888,
             "#fdca26"
            ],
            [
             1,
             "#f0f921"
            ]
           ],
           "sequentialminus": [
            [
             0,
             "#0d0887"
            ],
            [
             0.1111111111111111,
             "#46039f"
            ],
            [
             0.2222222222222222,
             "#7201a8"
            ],
            [
             0.3333333333333333,
             "#9c179e"
            ],
            [
             0.4444444444444444,
             "#bd3786"
            ],
            [
             0.5555555555555556,
             "#d8576b"
            ],
            [
             0.6666666666666666,
             "#ed7953"
            ],
            [
             0.7777777777777778,
             "#fb9f3a"
            ],
            [
             0.8888888888888888,
             "#fdca26"
            ],
            [
             1,
             "#f0f921"
            ]
           ]
          },
          "colorway": [
           "#636efa",
           "#EF553B",
           "#00cc96",
           "#ab63fa",
           "#FFA15A",
           "#19d3f3",
           "#FF6692",
           "#B6E880",
           "#FF97FF",
           "#FECB52"
          ],
          "font": {
           "color": "#2a3f5f"
          },
          "geo": {
           "bgcolor": "white",
           "lakecolor": "white",
           "landcolor": "#E5ECF6",
           "showlakes": true,
           "showland": true,
           "subunitcolor": "white"
          },
          "hoverlabel": {
           "align": "left"
          },
          "hovermode": "closest",
          "mapbox": {
           "style": "light"
          },
          "paper_bgcolor": "white",
          "plot_bgcolor": "#E5ECF6",
          "polar": {
           "angularaxis": {
            "gridcolor": "white",
            "linecolor": "white",
            "ticks": ""
           },
           "bgcolor": "#E5ECF6",
           "radialaxis": {
            "gridcolor": "white",
            "linecolor": "white",
            "ticks": ""
           }
          },
          "scene": {
           "xaxis": {
            "backgroundcolor": "#E5ECF6",
            "gridcolor": "white",
            "gridwidth": 2,
            "linecolor": "white",
            "showbackground": true,
            "ticks": "",
            "zerolinecolor": "white"
           },
           "yaxis": {
            "backgroundcolor": "#E5ECF6",
            "gridcolor": "white",
            "gridwidth": 2,
            "linecolor": "white",
            "showbackground": true,
            "ticks": "",
            "zerolinecolor": "white"
           },
           "zaxis": {
            "backgroundcolor": "#E5ECF6",
            "gridcolor": "white",
            "gridwidth": 2,
            "linecolor": "white",
            "showbackground": true,
            "ticks": "",
            "zerolinecolor": "white"
           }
          },
          "shapedefaults": {
           "line": {
            "color": "#2a3f5f"
           }
          },
          "ternary": {
           "aaxis": {
            "gridcolor": "white",
            "linecolor": "white",
            "ticks": ""
           },
           "baxis": {
            "gridcolor": "white",
            "linecolor": "white",
            "ticks": ""
           },
           "bgcolor": "#E5ECF6",
           "caxis": {
            "gridcolor": "white",
            "linecolor": "white",
            "ticks": ""
           }
          },
          "title": {
           "x": 0.05
          },
          "xaxis": {
           "automargin": true,
           "gridcolor": "white",
           "linecolor": "white",
           "ticks": "",
           "title": {
            "standoff": 15
           },
           "zerolinecolor": "white",
           "zerolinewidth": 2
          },
          "yaxis": {
           "automargin": true,
           "gridcolor": "white",
           "linecolor": "white",
           "ticks": "",
           "title": {
            "standoff": 15
           },
           "zerolinecolor": "white",
           "zerolinewidth": 2
          }
         }
        },
        "xaxis": {
         "anchor": "y",
         "domain": [
          0,
          1
         ],
         "title": {
          "text": "class"
         }
        },
        "yaxis": {
         "anchor": "x",
         "domain": [
          0,
          1
         ],
         "title": {
          "text": "count"
         }
        }
       }
      }
     },
     "metadata": {},
     "output_type": "display_data"
    }
   ],
   "source": [
    "fig = pd.fig = px.histogram(data_frame=df, x='class', color='months_since_last_donation')\n",
    "fig.show()\n"
   ]
  },
  {
   "cell_type": "code",
   "execution_count": 218,
   "metadata": {},
   "outputs": [
    {
     "data": {
      "application/vnd.plotly.v1+json": {
       "config": {
        "plotlyServerURL": "https://plot.ly"
       },
       "data": [
        {
         "hovertemplate": "months_since_first_donation=%{x}<br>total_blood_donated=%{y}<br>class=%{marker.color}<extra></extra>",
         "legendgroup": "",
         "marker": {
          "color": [
           1,
           1,
           1,
           1,
           0,
           0,
           1,
           0,
           1,
           1,
           0,
           0,
           1,
           0,
           1,
           1,
           1,
           1,
           1,
           1,
           1,
           0,
           1,
           1,
           0,
           0,
           0,
           1,
           1,
           0,
           0,
           1,
           1,
           1,
           0,
           1,
           1,
           1,
           1,
           1,
           1,
           0,
           1,
           0,
           1,
           1,
           0,
           0,
           0,
           0,
           0,
           1,
           0,
           0,
           1,
           1,
           1,
           1,
           0,
           0,
           0,
           1,
           0,
           1,
           1,
           0,
           1,
           0,
           0,
           0,
           0,
           0,
           1,
           0,
           1,
           1,
           1,
           0,
           0,
           0,
           1,
           0,
           0,
           0,
           1,
           0,
           0,
           0,
           0,
           1,
           1,
           0,
           0,
           0,
           0,
           0,
           0,
           1,
           1,
           1,
           1,
           1,
           0,
           0,
           0,
           0,
           0,
           0,
           0,
           0,
           1,
           0,
           0,
           1,
           0,
           0,
           1,
           0,
           0,
           1,
           1,
           1,
           1,
           1,
           0,
           0,
           1,
           0,
           1,
           1,
           0,
           0,
           0,
           0,
           0,
           0,
           0,
           0,
           0,
           0,
           0,
           0,
           0,
           0,
           1,
           1,
           0,
           0,
           1,
           0,
           1,
           0,
           0,
           1,
           0,
           0,
           0,
           0,
           0,
           0,
           0,
           0,
           0,
           1,
           1,
           1,
           0,
           0,
           0,
           0,
           0,
           0,
           0,
           0,
           0,
           0,
           1,
           1,
           1,
           0,
           1,
           0,
           0,
           0,
           0,
           0,
           0,
           0,
           0,
           1,
           0,
           0,
           0,
           0,
           0,
           1,
           1,
           0,
           0,
           0,
           0,
           0,
           1,
           0,
           0,
           0,
           0,
           0,
           0,
           0,
           0,
           0,
           0,
           0,
           0,
           1,
           0,
           0,
           0,
           0,
           0,
           1,
           1,
           0,
           1,
           1,
           0,
           0,
           0,
           0,
           0,
           1,
           0,
           0,
           0,
           0,
           0,
           0,
           0,
           0,
           1,
           0,
           1,
           1,
           0,
           0,
           0,
           0,
           0,
           0,
           0,
           0,
           1,
           1,
           0,
           0,
           0,
           0,
           0,
           0,
           0,
           1,
           0,
           1,
           0,
           1,
           0,
           0,
           0,
           0,
           0,
           0,
           0,
           0,
           0,
           0,
           0,
           0,
           0,
           0,
           0,
           1,
           0,
           0,
           0,
           0,
           0,
           1,
           1,
           1,
           1,
           0,
           0,
           0,
           0,
           0,
           0,
           0,
           0,
           0,
           0,
           0,
           0,
           0,
           0,
           1,
           0,
           0,
           0,
           0,
           0,
           0,
           0,
           0,
           0,
           0,
           0,
           0,
           1,
           0,
           0,
           1,
           0,
           1,
           0,
           0,
           0,
           0,
           1,
           0,
           0,
           0,
           1,
           1,
           0,
           1,
           0,
           0,
           1,
           0,
           0,
           0,
           0,
           0,
           0,
           0,
           0,
           0,
           0,
           0,
           0,
           0,
           0,
           0,
           0,
           0,
           0,
           0,
           0,
           0,
           0,
           0,
           0,
           0,
           0,
           1,
           0,
           0,
           0,
           1,
           1,
           0,
           0,
           0,
           0,
           1,
           0,
           0,
           0,
           0,
           0,
           0,
           0,
           0,
           0,
           0,
           0,
           0,
           0,
           0,
           0,
           0,
           0,
           0,
           0,
           0,
           1,
           0,
           0,
           1,
           0,
           0,
           0,
           0,
           0,
           0,
           0,
           0,
           0,
           0,
           0,
           0,
           0,
           0,
           0,
           0,
           0,
           0,
           0,
           0,
           0,
           0,
           0,
           0,
           0,
           0,
           0,
           0,
           0,
           0,
           0,
           0,
           1,
           0,
           0,
           0,
           0,
           0,
           0,
           0,
           0,
           0,
           0,
           0,
           0,
           0,
           0,
           0,
           0,
           0,
           0,
           0,
           0,
           0,
           0,
           0,
           0,
           0,
           0,
           0,
           0,
           0,
           1,
           0,
           0,
           0,
           0,
           0,
           1,
           0,
           0,
           0,
           0,
           0,
           0,
           1,
           0,
           0,
           0,
           0,
           0,
           0,
           0,
           0,
           0,
           0,
           0,
           0,
           0,
           0,
           0,
           0,
           0,
           0,
           0,
           0,
           0,
           0,
           0,
           0,
           1,
           1,
           1,
           0,
           1,
           1,
           1,
           0,
           1,
           1,
           1,
           0,
           0,
           0,
           1,
           0,
           1,
           1,
           1,
           1,
           1,
           1,
           1,
           1,
           0,
           0,
           1,
           0,
           0,
           1,
           1,
           1,
           0,
           0,
           0,
           1,
           1,
           1,
           1,
           1,
           1,
           0,
           1,
           1,
           0,
           1,
           0,
           0,
           1,
           1,
           0,
           1,
           1,
           0,
           0,
           0,
           0,
           0,
           0,
           0,
           1,
           0,
           1,
           0,
           0,
           0,
           0,
           0,
           1,
           0,
           0,
           0,
           1,
           0,
           1,
           1,
           1,
           0,
           0,
           0,
           0,
           1,
           0,
           0,
           0,
           0,
           1,
           0,
           0,
           0,
           0,
           0,
           0,
           1,
           0,
           0,
           1,
           0,
           0,
           0,
           0,
           0,
           0,
           0,
           0,
           0,
           0,
           0,
           0,
           0,
           0,
           0,
           1,
           0,
           0,
           0,
           0,
           0,
           1,
           0,
           0,
           0,
           1,
           0,
           1,
           0,
           0,
           0,
           0,
           0,
           0,
           0,
           0,
           0,
           0,
           0,
           0,
           0,
           0,
           1,
           1,
           0,
           0,
           0,
           1,
           0,
           0,
           0,
           0,
           0,
           0,
           0,
           0,
           0,
           0,
           0,
           0,
           0,
           0,
           0,
           0,
           0,
           0,
           0,
           0,
           0,
           0,
           1,
           0,
           1,
           0,
           0,
           0,
           0,
           0,
           0,
           0,
           0,
           0,
           0,
           1,
           0,
           0,
           0,
           0,
           0,
           0,
           0,
           0,
           0,
           0,
           0,
           0,
           0,
           0,
           1,
           0,
           0,
           0,
           0,
           0,
           0,
           0,
           0,
           0,
           0,
           0,
           0,
           1,
           0,
           0,
           0,
           1,
           0,
           0,
           0,
           0,
           0,
           0,
           0,
           0,
           0,
           0,
           0,
           0,
           0,
           0,
           0,
           0,
           0,
           0,
           0,
           1,
           0,
           0,
           0,
           0,
           0,
           0,
           0,
           0,
           0,
           0,
           0,
           0,
           0,
           0,
           0
          ],
          "coloraxis": "coloraxis",
          "symbol": "circle"
         },
         "mode": "markers",
         "name": "",
         "orientation": "v",
         "showlegend": false,
         "type": "scatter",
         "x": [
          98,
          28,
          35,
          45,
          77,
          4,
          14,
          35,
          22,
          98,
          58,
          4,
          28,
          47,
          15,
          11,
          48,
          49,
          15,
          4,
          4,
          28,
          16,
          16,
          16,
          40,
          14,
          34,
          11,
          21,
          58,
          28,
          28,
          26,
          64,
          28,
          47,
          16,
          57,
          22,
          53,
          16,
          16,
          16,
          69,
          28,
          36,
          2,
          2,
          2,
          46,
          46,
          22,
          52,
          14,
          69,
          26,
          28,
          81,
          21,
          29,
          35,
          49,
          16,
          9,
          74,
          14,
          4,
          25,
          51,
          16,
          16,
          71,
          4,
          4,
          4,
          16,
          4,
          4,
          4,
          23,
          16,
          16,
          16,
          28,
          28,
          4,
          4,
          4,
          35,
          4,
          4,
          4,
          4,
          23,
          28,
          86,
          38,
          14,
          26,
          34,
          76,
          40,
          26,
          26,
          70,
          59,
          26,
          14,
          64,
          23,
          46,
          23,
          40,
          82,
          64,
          46,
          61,
          57,
          79,
          16,
          26,
          41,
          33,
          26,
          34,
          46,
          26,
          48,
          10,
          28,
          95,
          10,
          35,
          88,
          19,
          37,
          98,
          19,
          11,
          74,
          86,
          16,
          16,
          9,
          16,
          14,
          11,
          11,
          11,
          58,
          39,
          78,
          2,
          2,
          2,
          2,
          2,
          2,
          2,
          2,
          2,
          2,
          2,
          2,
          2,
          2,
          2,
          2,
          2,
          2,
          2,
          2,
          2,
          2,
          35,
          16,
          33,
          41,
          22,
          26,
          16,
          35,
          88,
          26,
          33,
          34,
          26,
          77,
          35,
          52,
          52,
          35,
          42,
          14,
          47,
          38,
          47,
          29,
          45,
          52,
          58,
          11,
          58,
          38,
          26,
          16,
          76,
          27,
          14,
          4,
          4,
          4,
          4,
          4,
          4,
          4,
          4,
          4,
          4,
          4,
          4,
          4,
          4,
          4,
          4,
          4,
          24,
          4,
          4,
          4,
          4,
          4,
          39,
          26,
          63,
          15,
          14,
          43,
          58,
          52,
          98,
          25,
          79,
          11,
          46,
          58,
          86,
          11,
          11,
          11,
          75,
          41,
          16,
          59,
          35,
          28,
          37,
          28,
          58,
          41,
          73,
          23,
          38,
          58,
          43,
          23,
          46,
          82,
          21,
          40,
          28,
          16,
          58,
          58,
          46,
          57,
          34,
          78,
          48,
          70,
          22,
          26,
          16,
          33,
          14,
          23,
          16,
          28,
          19,
          23,
          50,
          28,
          35,
          35,
          70,
          28,
          14,
          14,
          14,
          14,
          14,
          14,
          52,
          34,
          37,
          74,
          23,
          23,
          19,
          38,
          16,
          60,
          9,
          9,
          29,
          17,
          26,
          72,
          41,
          82,
          51,
          34,
          50,
          38,
          16,
          41,
          98,
          28,
          39,
          47,
          35,
          35,
          62,
          16,
          21,
          28,
          64,
          11,
          34,
          30,
          98,
          58,
          11,
          11,
          11,
          11,
          11,
          11,
          11,
          11,
          21,
          50,
          21,
          28,
          41,
          40,
          26,
          26,
          64,
          51,
          24,
          71,
          57,
          71,
          21,
          57,
          38,
          26,
          40,
          51,
          31,
          52,
          65,
          40,
          40,
          50,
          14,
          14,
          14,
          14,
          14,
          14,
          14,
          14,
          72,
          14,
          14,
          52,
          73,
          58,
          59,
          59,
          61,
          40,
          89,
          21,
          26,
          76,
          26,
          23,
          33,
          46,
          34,
          64,
          41,
          16,
          16,
          16,
          16,
          16,
          16,
          16,
          45,
          16,
          16,
          16,
          16,
          16,
          26,
          23,
          27,
          23,
          23,
          57,
          60,
          23,
          74,
          28,
          40,
          52,
          52,
          87,
          64,
          35,
          93,
          25,
          52,
          93,
          95,
          46,
          76,
          52,
          76,
          86,
          35,
          26,
          26,
          64,
          50,
          33,
          38,
          28,
          21,
          21,
          21,
          21,
          21,
          21,
          21,
          21,
          21,
          21,
          21,
          21,
          60,
          45,
          52,
          22,
          70,
          58,
          40,
          41,
          83,
          35,
          49,
          70,
          23,
          23,
          23,
          23,
          23,
          23,
          23,
          23,
          53,
          86,
          48,
          41,
          64,
          70,
          70,
          87,
          89,
          87,
          64,
          38,
          38,
          40,
          74,
          86,
          28,
          77,
          98,
          76,
          98,
          42,
          23,
          52,
          32,
          4,
          26,
          28,
          35,
          38,
          14,
          12,
          98,
          33,
          28,
          40,
          41,
          39,
          43,
          28,
          11,
          16,
          64,
          79,
          22,
          16,
          14,
          28,
          14,
          26,
          16,
          32,
          26,
          38,
          4,
          28,
          52,
          70,
          4,
          95,
          4,
          48,
          11,
          70,
          32,
          16,
          35,
          28,
          14,
          23,
          18,
          28,
          30,
          14,
          50,
          64,
          52,
          98,
          47,
          86,
          75,
          35,
          55,
          35,
          45,
          47,
          9,
          11,
          11,
          11,
          38,
          29,
          38,
          18,
          21,
          2,
          2,
          2,
          2,
          2,
          2,
          2,
          2,
          2,
          2,
          2,
          38,
          22,
          49,
          75,
          38,
          3,
          43,
          24,
          39,
          14,
          46,
          14,
          26,
          13,
          95,
          77,
          77,
          4,
          4,
          4,
          4,
          4,
          4,
          4,
          4,
          4,
          4,
          4,
          4,
          62,
          4,
          34,
          28,
          14,
          35,
          54,
          11,
          63,
          89,
          64,
          22,
          26,
          71,
          16,
          89,
          58,
          35,
          27,
          89,
          52,
          52,
          41,
          38,
          14,
          14,
          14,
          33,
          23,
          46,
          9,
          27,
          26,
          30,
          21,
          77,
          31,
          50,
          26,
          45,
          33,
          16,
          21,
          72,
          11,
          11,
          11,
          11,
          11,
          75,
          77,
          28,
          87,
          83,
          62,
          23,
          26,
          62,
          75,
          28,
          69,
          46,
          25,
          37,
          33,
          38,
          76,
          50,
          33,
          14,
          14,
          14,
          14,
          14,
          14,
          58,
          35,
          35,
          64,
          21,
          35,
          16,
          16,
          16,
          16,
          16,
          29,
          74,
          38,
          48,
          23,
          45,
          35,
          81,
          58,
          71,
          26,
          35,
          35,
          69,
          38,
          35,
          40,
          28,
          21,
          21,
          50,
          21,
          21,
          39,
          33,
          79,
          23,
          23,
          23,
          23,
          23,
          23,
          23,
          52,
          23,
          88,
          86,
          38,
          52,
          62,
          39,
          72
         ],
         "xaxis": "x",
         "y": [
          12500,
          3250,
          4000,
          5000,
          6000,
          1000,
          1750,
          3000,
          2250,
          11500,
          5750,
          750,
          2500,
          3250,
          1500,
          1250,
          3500,
          3750,
          1500,
          750,
          750,
          2750,
          1500,
          1500,
          2250,
          3500,
          1500,
          3000,
          1250,
          2000,
          3500,
          2500,
          2500,
          2250,
          4000,
          2000,
          3000,
          1500,
          3500,
          1750,
          3250,
          1250,
          1250,
          1250,
          5000,
          2250,
          2250,
          500,
          500,
          500,
          2750,
          2750,
          1500,
          3000,
          1250,
          4750,
          2000,
          1750,
          4000,
          1500,
          1750,
          2000,
          2500,
          1250,
          750,
          4000,
          1000,
          500,
          1750,
          2250,
          1000,
          1000,
          4250,
          500,
          500,
          500,
          1000,
          500,
          500,
          500,
          1500,
          1000,
          1000,
          1000,
          1500,
          1500,
          500,
          500,
          500,
          1750,
          500,
          500,
          500,
          500,
          2750,
          1750,
          4250,
          2250,
          1000,
          1750,
          2000,
          3250,
          2250,
          1250,
          1250,
          4250,
          2000,
          1250,
          750,
          2500,
          1250,
          2250,
          1250,
          2000,
          3000,
          6000,
          1750,
          2750,
          1750,
          2750,
          750,
          1250,
          1500,
          1250,
          1000,
          1250,
          2000,
          1000,
          2000,
          500,
          1250,
          3000,
          500,
          1500,
          2750,
          750,
          1250,
          3000,
          1250,
          500,
          2250,
          3500,
          750,
          750,
          500,
          750,
          750,
          500,
          500,
          500,
          1750,
          1500,
          2750,
          250,
          250,
          250,
          250,
          250,
          250,
          250,
          250,
          250,
          250,
          250,
          250,
          250,
          250,
          250,
          250,
          250,
          250,
          250,
          250,
          250,
          250,
          2500,
          1000,
          1250,
          1500,
          750,
          1000,
          1000,
          1000,
          3000,
          2000,
          2250,
          1250,
          1000,
          3750,
          1250,
          1750,
          1750,
          1000,
          2750,
          500,
          1250,
          2000,
          1500,
          1750,
          2250,
          1500,
          1750,
          500,
          1750,
          2250,
          1500,
          500,
          1750,
          1500,
          750,
          250,
          250,
          250,
          250,
          250,
          250,
          250,
          250,
          250,
          250,
          250,
          250,
          250,
          250,
          250,
          250,
          250,
          750,
          250,
          250,
          250,
          250,
          250,
          2000,
          1750,
          2500,
          750,
          500,
          1000,
          2250,
          2000,
          5500,
          750,
          4250,
          500,
          1250,
          3000,
          3000,
          500,
          500,
          500,
          1500,
          2000,
          750,
          3250,
          750,
          2000,
          1750,
          750,
          3000,
          1000,
          3500,
          500,
          750,
          1250,
          1000,
          500,
          2000,
          1750,
          1000,
          2750,
          1750,
          500,
          1250,
          1250,
          1000,
          3250,
          750,
          4500,
          2000,
          4000,
          1000,
          1250,
          500,
          1250,
          500,
          500,
          500,
          1250,
          750,
          1000,
          3000,
          1000,
          1250,
          1250,
          1000,
          1250,
          500,
          500,
          500,
          500,
          500,
          500,
          750,
          1500,
          1250,
          1250,
          750,
          1000,
          750,
          1250,
          500,
          2250,
          250,
          250,
          500,
          500,
          1000,
          2250,
          1250,
          4000,
          1250,
          1000,
          2000,
          1750,
          500,
          500,
          4000,
          1000,
          1750,
          1750,
          1500,
          1500,
          1750,
          500,
          750,
          750,
          1750,
          250,
          750,
          1000,
          9500,
          1500,
          250,
          250,
          250,
          250,
          250,
          250,
          250,
          250,
          500,
          1250,
          500,
          1000,
          500,
          1500,
          750,
          500,
          4000,
          1500,
          500,
          750,
          3250,
          1500,
          500,
          3750,
          1000,
          500,
          1250,
          500,
          750,
          500,
          1000,
          1000,
          750,
          1250,
          250,
          250,
          250,
          250,
          250,
          250,
          250,
          250,
          1750,
          250,
          250,
          750,
          1750,
          1000,
          1000,
          500,
          1000,
          1000,
          2500,
          500,
          750,
          2000,
          750,
          500,
          1250,
          2000,
          750,
          1250,
          750,
          250,
          250,
          250,
          250,
          250,
          250,
          250,
          1000,
          250,
          250,
          250,
          250,
          250,
          500,
          500,
          500,
          500,
          500,
          1000,
          1250,
          500,
          1250,
          750,
          750,
          500,
          500,
          1750,
          1000,
          500,
          1750,
          500,
          750,
          3500,
          2000,
          750,
          750,
          500,
          750,
          3000,
          750,
          500,
          500,
          2000,
          750,
          750,
          750,
          500,
          250,
          250,
          250,
          250,
          250,
          250,
          250,
          250,
          250,
          250,
          250,
          250,
          1250,
          1000,
          1000,
          250,
          500,
          1250,
          750,
          750,
          750,
          500,
          1250,
          1500,
          250,
          250,
          250,
          250,
          250,
          250,
          250,
          250,
          1000,
          1500,
          750,
          500,
          750,
          500,
          750,
          1000,
          750,
          500,
          750,
          250,
          250,
          250,
          250,
          10750,
          5500,
          8500,
          11000,
          6500,
          10250,
          5250,
          2750,
          5250,
          3250,
          1000,
          2750,
          2750,
          3500,
          4000,
          1500,
          1250,
          8250,
          2500,
          2500,
          2750,
          2750,
          3250,
          2500,
          2250,
          1000,
          1250,
          3750,
          6000,
          1500,
          1250,
          1000,
          2000,
          1000,
          1500,
          1250,
          1750,
          1500,
          2000,
          500,
          1500,
          2500,
          4000,
          500,
          3500,
          500,
          3500,
          750,
          3000,
          1750,
          1000,
          1500,
          1500,
          750,
          1000,
          1000,
          1500,
          1500,
          1250,
          2000,
          2750,
          2250,
          4000,
          2500,
          3500,
          2250,
          1500,
          2250,
          1500,
          1500,
          1500,
          500,
          500,
          500,
          500,
          1500,
          1000,
          2250,
          1250,
          750,
          250,
          250,
          250,
          250,
          250,
          250,
          250,
          250,
          250,
          250,
          250,
          2750,
          750,
          2750,
          2750,
          1250,
          250,
          1500,
          750,
          2750,
          500,
          1500,
          750,
          2000,
          500,
          2750,
          1750,
          1750,
          250,
          250,
          250,
          250,
          250,
          250,
          250,
          250,
          250,
          250,
          250,
          250,
          1750,
          250,
          1000,
          1500,
          750,
          1250,
          2250,
          500,
          1250,
          2750,
          2250,
          500,
          750,
          3750,
          750,
          4000,
          1250,
          1750,
          1000,
          2250,
          2000,
          1250,
          1500,
          1250,
          500,
          500,
          500,
          500,
          750,
          2000,
          250,
          1250,
          1000,
          500,
          750,
          4000,
          500,
          2000,
          750,
          1750,
          1250,
          500,
          750,
          2000,
          250,
          250,
          250,
          250,
          250,
          750,
          750,
          1000,
          3750,
          3500,
          2500,
          750,
          750,
          4750,
          1750,
          750,
          3500,
          500,
          500,
          750,
          1000,
          1750,
          1750,
          1500,
          750,
          250,
          250,
          250,
          250,
          250,
          250,
          1750,
          750,
          750,
          1750,
          500,
          750,
          250,
          250,
          250,
          250,
          250,
          500,
          1000,
          500,
          1500,
          500,
          1500,
          500,
          1500,
          1000,
          1250,
          500,
          750,
          750,
          2000,
          750,
          750,
          750,
          500,
          250,
          250,
          1500,
          250,
          250,
          750,
          500,
          750,
          250,
          250,
          250,
          250,
          250,
          250,
          250,
          1000,
          250,
          1750,
          750,
          500,
          500,
          750,
          250,
          250
         ],
         "yaxis": "y"
        }
       ],
       "layout": {
        "coloraxis": {
         "colorbar": {
          "title": {
           "text": "class"
          }
         },
         "colorscale": [
          [
           0,
           "#0d0887"
          ],
          [
           0.1111111111111111,
           "#46039f"
          ],
          [
           0.2222222222222222,
           "#7201a8"
          ],
          [
           0.3333333333333333,
           "#9c179e"
          ],
          [
           0.4444444444444444,
           "#bd3786"
          ],
          [
           0.5555555555555556,
           "#d8576b"
          ],
          [
           0.6666666666666666,
           "#ed7953"
          ],
          [
           0.7777777777777778,
           "#fb9f3a"
          ],
          [
           0.8888888888888888,
           "#fdca26"
          ],
          [
           1,
           "#f0f921"
          ]
         ]
        },
        "legend": {
         "tracegroupgap": 0
        },
        "margin": {
         "t": 60
        },
        "template": {
         "data": {
          "bar": [
           {
            "error_x": {
             "color": "#2a3f5f"
            },
            "error_y": {
             "color": "#2a3f5f"
            },
            "marker": {
             "line": {
              "color": "#E5ECF6",
              "width": 0.5
             },
             "pattern": {
              "fillmode": "overlay",
              "size": 10,
              "solidity": 0.2
             }
            },
            "type": "bar"
           }
          ],
          "barpolar": [
           {
            "marker": {
             "line": {
              "color": "#E5ECF6",
              "width": 0.5
             },
             "pattern": {
              "fillmode": "overlay",
              "size": 10,
              "solidity": 0.2
             }
            },
            "type": "barpolar"
           }
          ],
          "carpet": [
           {
            "aaxis": {
             "endlinecolor": "#2a3f5f",
             "gridcolor": "white",
             "linecolor": "white",
             "minorgridcolor": "white",
             "startlinecolor": "#2a3f5f"
            },
            "baxis": {
             "endlinecolor": "#2a3f5f",
             "gridcolor": "white",
             "linecolor": "white",
             "minorgridcolor": "white",
             "startlinecolor": "#2a3f5f"
            },
            "type": "carpet"
           }
          ],
          "choropleth": [
           {
            "colorbar": {
             "outlinewidth": 0,
             "ticks": ""
            },
            "type": "choropleth"
           }
          ],
          "contour": [
           {
            "colorbar": {
             "outlinewidth": 0,
             "ticks": ""
            },
            "colorscale": [
             [
              0,
              "#0d0887"
             ],
             [
              0.1111111111111111,
              "#46039f"
             ],
             [
              0.2222222222222222,
              "#7201a8"
             ],
             [
              0.3333333333333333,
              "#9c179e"
             ],
             [
              0.4444444444444444,
              "#bd3786"
             ],
             [
              0.5555555555555556,
              "#d8576b"
             ],
             [
              0.6666666666666666,
              "#ed7953"
             ],
             [
              0.7777777777777778,
              "#fb9f3a"
             ],
             [
              0.8888888888888888,
              "#fdca26"
             ],
             [
              1,
              "#f0f921"
             ]
            ],
            "type": "contour"
           }
          ],
          "contourcarpet": [
           {
            "colorbar": {
             "outlinewidth": 0,
             "ticks": ""
            },
            "type": "contourcarpet"
           }
          ],
          "heatmap": [
           {
            "colorbar": {
             "outlinewidth": 0,
             "ticks": ""
            },
            "colorscale": [
             [
              0,
              "#0d0887"
             ],
             [
              0.1111111111111111,
              "#46039f"
             ],
             [
              0.2222222222222222,
              "#7201a8"
             ],
             [
              0.3333333333333333,
              "#9c179e"
             ],
             [
              0.4444444444444444,
              "#bd3786"
             ],
             [
              0.5555555555555556,
              "#d8576b"
             ],
             [
              0.6666666666666666,
              "#ed7953"
             ],
             [
              0.7777777777777778,
              "#fb9f3a"
             ],
             [
              0.8888888888888888,
              "#fdca26"
             ],
             [
              1,
              "#f0f921"
             ]
            ],
            "type": "heatmap"
           }
          ],
          "heatmapgl": [
           {
            "colorbar": {
             "outlinewidth": 0,
             "ticks": ""
            },
            "colorscale": [
             [
              0,
              "#0d0887"
             ],
             [
              0.1111111111111111,
              "#46039f"
             ],
             [
              0.2222222222222222,
              "#7201a8"
             ],
             [
              0.3333333333333333,
              "#9c179e"
             ],
             [
              0.4444444444444444,
              "#bd3786"
             ],
             [
              0.5555555555555556,
              "#d8576b"
             ],
             [
              0.6666666666666666,
              "#ed7953"
             ],
             [
              0.7777777777777778,
              "#fb9f3a"
             ],
             [
              0.8888888888888888,
              "#fdca26"
             ],
             [
              1,
              "#f0f921"
             ]
            ],
            "type": "heatmapgl"
           }
          ],
          "histogram": [
           {
            "marker": {
             "pattern": {
              "fillmode": "overlay",
              "size": 10,
              "solidity": 0.2
             }
            },
            "type": "histogram"
           }
          ],
          "histogram2d": [
           {
            "colorbar": {
             "outlinewidth": 0,
             "ticks": ""
            },
            "colorscale": [
             [
              0,
              "#0d0887"
             ],
             [
              0.1111111111111111,
              "#46039f"
             ],
             [
              0.2222222222222222,
              "#7201a8"
             ],
             [
              0.3333333333333333,
              "#9c179e"
             ],
             [
              0.4444444444444444,
              "#bd3786"
             ],
             [
              0.5555555555555556,
              "#d8576b"
             ],
             [
              0.6666666666666666,
              "#ed7953"
             ],
             [
              0.7777777777777778,
              "#fb9f3a"
             ],
             [
              0.8888888888888888,
              "#fdca26"
             ],
             [
              1,
              "#f0f921"
             ]
            ],
            "type": "histogram2d"
           }
          ],
          "histogram2dcontour": [
           {
            "colorbar": {
             "outlinewidth": 0,
             "ticks": ""
            },
            "colorscale": [
             [
              0,
              "#0d0887"
             ],
             [
              0.1111111111111111,
              "#46039f"
             ],
             [
              0.2222222222222222,
              "#7201a8"
             ],
             [
              0.3333333333333333,
              "#9c179e"
             ],
             [
              0.4444444444444444,
              "#bd3786"
             ],
             [
              0.5555555555555556,
              "#d8576b"
             ],
             [
              0.6666666666666666,
              "#ed7953"
             ],
             [
              0.7777777777777778,
              "#fb9f3a"
             ],
             [
              0.8888888888888888,
              "#fdca26"
             ],
             [
              1,
              "#f0f921"
             ]
            ],
            "type": "histogram2dcontour"
           }
          ],
          "mesh3d": [
           {
            "colorbar": {
             "outlinewidth": 0,
             "ticks": ""
            },
            "type": "mesh3d"
           }
          ],
          "parcoords": [
           {
            "line": {
             "colorbar": {
              "outlinewidth": 0,
              "ticks": ""
             }
            },
            "type": "parcoords"
           }
          ],
          "pie": [
           {
            "automargin": true,
            "type": "pie"
           }
          ],
          "scatter": [
           {
            "fillpattern": {
             "fillmode": "overlay",
             "size": 10,
             "solidity": 0.2
            },
            "type": "scatter"
           }
          ],
          "scatter3d": [
           {
            "line": {
             "colorbar": {
              "outlinewidth": 0,
              "ticks": ""
             }
            },
            "marker": {
             "colorbar": {
              "outlinewidth": 0,
              "ticks": ""
             }
            },
            "type": "scatter3d"
           }
          ],
          "scattercarpet": [
           {
            "marker": {
             "colorbar": {
              "outlinewidth": 0,
              "ticks": ""
             }
            },
            "type": "scattercarpet"
           }
          ],
          "scattergeo": [
           {
            "marker": {
             "colorbar": {
              "outlinewidth": 0,
              "ticks": ""
             }
            },
            "type": "scattergeo"
           }
          ],
          "scattergl": [
           {
            "marker": {
             "colorbar": {
              "outlinewidth": 0,
              "ticks": ""
             }
            },
            "type": "scattergl"
           }
          ],
          "scattermapbox": [
           {
            "marker": {
             "colorbar": {
              "outlinewidth": 0,
              "ticks": ""
             }
            },
            "type": "scattermapbox"
           }
          ],
          "scatterpolar": [
           {
            "marker": {
             "colorbar": {
              "outlinewidth": 0,
              "ticks": ""
             }
            },
            "type": "scatterpolar"
           }
          ],
          "scatterpolargl": [
           {
            "marker": {
             "colorbar": {
              "outlinewidth": 0,
              "ticks": ""
             }
            },
            "type": "scatterpolargl"
           }
          ],
          "scatterternary": [
           {
            "marker": {
             "colorbar": {
              "outlinewidth": 0,
              "ticks": ""
             }
            },
            "type": "scatterternary"
           }
          ],
          "surface": [
           {
            "colorbar": {
             "outlinewidth": 0,
             "ticks": ""
            },
            "colorscale": [
             [
              0,
              "#0d0887"
             ],
             [
              0.1111111111111111,
              "#46039f"
             ],
             [
              0.2222222222222222,
              "#7201a8"
             ],
             [
              0.3333333333333333,
              "#9c179e"
             ],
             [
              0.4444444444444444,
              "#bd3786"
             ],
             [
              0.5555555555555556,
              "#d8576b"
             ],
             [
              0.6666666666666666,
              "#ed7953"
             ],
             [
              0.7777777777777778,
              "#fb9f3a"
             ],
             [
              0.8888888888888888,
              "#fdca26"
             ],
             [
              1,
              "#f0f921"
             ]
            ],
            "type": "surface"
           }
          ],
          "table": [
           {
            "cells": {
             "fill": {
              "color": "#EBF0F8"
             },
             "line": {
              "color": "white"
             }
            },
            "header": {
             "fill": {
              "color": "#C8D4E3"
             },
             "line": {
              "color": "white"
             }
            },
            "type": "table"
           }
          ]
         },
         "layout": {
          "annotationdefaults": {
           "arrowcolor": "#2a3f5f",
           "arrowhead": 0,
           "arrowwidth": 1
          },
          "autotypenumbers": "strict",
          "coloraxis": {
           "colorbar": {
            "outlinewidth": 0,
            "ticks": ""
           }
          },
          "colorscale": {
           "diverging": [
            [
             0,
             "#8e0152"
            ],
            [
             0.1,
             "#c51b7d"
            ],
            [
             0.2,
             "#de77ae"
            ],
            [
             0.3,
             "#f1b6da"
            ],
            [
             0.4,
             "#fde0ef"
            ],
            [
             0.5,
             "#f7f7f7"
            ],
            [
             0.6,
             "#e6f5d0"
            ],
            [
             0.7,
             "#b8e186"
            ],
            [
             0.8,
             "#7fbc41"
            ],
            [
             0.9,
             "#4d9221"
            ],
            [
             1,
             "#276419"
            ]
           ],
           "sequential": [
            [
             0,
             "#0d0887"
            ],
            [
             0.1111111111111111,
             "#46039f"
            ],
            [
             0.2222222222222222,
             "#7201a8"
            ],
            [
             0.3333333333333333,
             "#9c179e"
            ],
            [
             0.4444444444444444,
             "#bd3786"
            ],
            [
             0.5555555555555556,
             "#d8576b"
            ],
            [
             0.6666666666666666,
             "#ed7953"
            ],
            [
             0.7777777777777778,
             "#fb9f3a"
            ],
            [
             0.8888888888888888,
             "#fdca26"
            ],
            [
             1,
             "#f0f921"
            ]
           ],
           "sequentialminus": [
            [
             0,
             "#0d0887"
            ],
            [
             0.1111111111111111,
             "#46039f"
            ],
            [
             0.2222222222222222,
             "#7201a8"
            ],
            [
             0.3333333333333333,
             "#9c179e"
            ],
            [
             0.4444444444444444,
             "#bd3786"
            ],
            [
             0.5555555555555556,
             "#d8576b"
            ],
            [
             0.6666666666666666,
             "#ed7953"
            ],
            [
             0.7777777777777778,
             "#fb9f3a"
            ],
            [
             0.8888888888888888,
             "#fdca26"
            ],
            [
             1,
             "#f0f921"
            ]
           ]
          },
          "colorway": [
           "#636efa",
           "#EF553B",
           "#00cc96",
           "#ab63fa",
           "#FFA15A",
           "#19d3f3",
           "#FF6692",
           "#B6E880",
           "#FF97FF",
           "#FECB52"
          ],
          "font": {
           "color": "#2a3f5f"
          },
          "geo": {
           "bgcolor": "white",
           "lakecolor": "white",
           "landcolor": "#E5ECF6",
           "showlakes": true,
           "showland": true,
           "subunitcolor": "white"
          },
          "hoverlabel": {
           "align": "left"
          },
          "hovermode": "closest",
          "mapbox": {
           "style": "light"
          },
          "paper_bgcolor": "white",
          "plot_bgcolor": "#E5ECF6",
          "polar": {
           "angularaxis": {
            "gridcolor": "white",
            "linecolor": "white",
            "ticks": ""
           },
           "bgcolor": "#E5ECF6",
           "radialaxis": {
            "gridcolor": "white",
            "linecolor": "white",
            "ticks": ""
           }
          },
          "scene": {
           "xaxis": {
            "backgroundcolor": "#E5ECF6",
            "gridcolor": "white",
            "gridwidth": 2,
            "linecolor": "white",
            "showbackground": true,
            "ticks": "",
            "zerolinecolor": "white"
           },
           "yaxis": {
            "backgroundcolor": "#E5ECF6",
            "gridcolor": "white",
            "gridwidth": 2,
            "linecolor": "white",
            "showbackground": true,
            "ticks": "",
            "zerolinecolor": "white"
           },
           "zaxis": {
            "backgroundcolor": "#E5ECF6",
            "gridcolor": "white",
            "gridwidth": 2,
            "linecolor": "white",
            "showbackground": true,
            "ticks": "",
            "zerolinecolor": "white"
           }
          },
          "shapedefaults": {
           "line": {
            "color": "#2a3f5f"
           }
          },
          "ternary": {
           "aaxis": {
            "gridcolor": "white",
            "linecolor": "white",
            "ticks": ""
           },
           "baxis": {
            "gridcolor": "white",
            "linecolor": "white",
            "ticks": ""
           },
           "bgcolor": "#E5ECF6",
           "caxis": {
            "gridcolor": "white",
            "linecolor": "white",
            "ticks": ""
           }
          },
          "title": {
           "x": 0.05
          },
          "xaxis": {
           "automargin": true,
           "gridcolor": "white",
           "linecolor": "white",
           "ticks": "",
           "title": {
            "standoff": 15
           },
           "zerolinecolor": "white",
           "zerolinewidth": 2
          },
          "yaxis": {
           "automargin": true,
           "gridcolor": "white",
           "linecolor": "white",
           "ticks": "",
           "title": {
            "standoff": 15
           },
           "zerolinecolor": "white",
           "zerolinewidth": 2
          }
         }
        },
        "xaxis": {
         "anchor": "y",
         "domain": [
          0,
          1
         ],
         "title": {
          "text": "months_since_first_donation"
         }
        },
        "yaxis": {
         "anchor": "x",
         "domain": [
          0,
          1
         ],
         "title": {
          "text": "total_blood_donated"
         }
        }
       }
      }
     },
     "metadata": {},
     "output_type": "display_data"
    }
   ],
   "source": [
    "fig = pd.fig = px.scatter(data_frame=df, x='months_since_first_donation', y='total_blood_donated', color='class')\n",
    "fig.show()"
   ]
  },
  {
   "cell_type": "code",
   "execution_count": 239,
   "metadata": {},
   "outputs": [
    {
     "data": {
      "application/vnd.plotly.v1+json": {
       "config": {
        "plotlyServerURL": "https://plot.ly"
       },
       "data": [
        {
         "dimensions": [
          {
           "axis": {
            "matches": true
           },
           "label": "months_since_last_donation",
           "values": [
            2,
            0,
            1,
            2,
            1,
            4,
            2,
            1,
            2,
            5,
            4,
            0,
            2,
            1,
            2,
            2,
            2,
            2,
            2,
            2,
            2,
            4,
            2,
            2,
            9,
            4,
            4,
            4,
            4,
            4,
            1,
            4,
            4,
            4,
            2,
            2,
            2,
            4,
            2,
            4,
            2,
            2,
            2,
            2,
            4,
            4,
            2,
            2,
            2,
            2,
            2,
            2,
            2,
            2,
            4,
            4,
            4,
            2,
            2,
            3,
            2,
            2,
            2,
            4,
            2,
            3,
            2,
            0,
            4,
            1,
            2,
            2,
            4,
            2,
            2,
            2,
            2,
            2,
            2,
            2,
            4,
            2,
            2,
            2,
            2,
            2,
            4,
            4,
            4,
            2,
            4,
            4,
            4,
            4,
            12,
            4,
            3,
            4,
            4,
            5,
            4,
            2,
            4,
            2,
            2,
            6,
            0,
            3,
            2,
            2,
            4,
            4,
            4,
            4,
            2,
            11,
            2,
            4,
            1,
            2,
            2,
            4,
            2,
            2,
            2,
            2,
            4,
            2,
            4,
            2,
            4,
            2,
            2,
            4,
            2,
            2,
            2,
            2,
            9,
            2,
            2,
            5,
            4,
            4,
            4,
            4,
            6,
            2,
            2,
            2,
            2,
            4,
            4,
            2,
            2,
            2,
            2,
            2,
            2,
            2,
            2,
            2,
            2,
            2,
            2,
            2,
            2,
            2,
            2,
            2,
            2,
            2,
            2,
            2,
            2,
            11,
            11,
            4,
            4,
            2,
            4,
            10,
            2,
            4,
            13,
            11,
            4,
            4,
            8,
            4,
            4,
            4,
            2,
            11,
            2,
            2,
            9,
            4,
            11,
            9,
            4,
            4,
            6,
            4,
            11,
            11,
            2,
            2,
            11,
            11,
            4,
            4,
            4,
            4,
            4,
            4,
            4,
            4,
            4,
            4,
            4,
            4,
            4,
            4,
            4,
            4,
            4,
            4,
            4,
            4,
            4,
            4,
            4,
            10,
            14,
            8,
            11,
            4,
            2,
            8,
            8,
            11,
            4,
            11,
            9,
            4,
            11,
            7,
            11,
            11,
            11,
            2,
            11,
            11,
            12,
            2,
            16,
            11,
            4,
            12,
            4,
            11,
            2,
            2,
            4,
            4,
            3,
            11,
            4,
            13,
            16,
            16,
            7,
            4,
            4,
            4,
            14,
            4,
            14,
            11,
            14,
            14,
            14,
            8,
            11,
            11,
            4,
            9,
            14,
            14,
            14,
            16,
            11,
            11,
            11,
            2,
            14,
            14,
            14,
            14,
            14,
            14,
            14,
            2,
            14,
            11,
            4,
            11,
            16,
            16,
            11,
            11,
            12,
            9,
            9,
            4,
            11,
            14,
            11,
            11,
            15,
            9,
            11,
            14,
            16,
            14,
            2,
            14,
            14,
            16,
            14,
            16,
            16,
            11,
            16,
            16,
            11,
            11,
            11,
            9,
            14,
            23,
            11,
            11,
            11,
            11,
            11,
            11,
            11,
            11,
            11,
            11,
            11,
            11,
            16,
            4,
            16,
            14,
            9,
            21,
            14,
            11,
            4,
            21,
            11,
            14,
            23,
            14,
            11,
            16,
            4,
            14,
            4,
            9,
            14,
            11,
            14,
            14,
            14,
            14,
            14,
            14,
            14,
            14,
            14,
            14,
            14,
            14,
            9,
            14,
            11,
            11,
            4,
            11,
            16,
            16,
            21,
            21,
            16,
            21,
            18,
            23,
            23,
            16,
            14,
            14,
            16,
            16,
            16,
            16,
            16,
            16,
            16,
            16,
            16,
            16,
            16,
            16,
            16,
            16,
            21,
            16,
            21,
            21,
            14,
            16,
            23,
            14,
            23,
            16,
            9,
            9,
            16,
            14,
            14,
            16,
            21,
            14,
            23,
            18,
            16,
            11,
            11,
            11,
            23,
            21,
            23,
            23,
            23,
            16,
            23,
            21,
            23,
            21,
            21,
            21,
            21,
            21,
            21,
            21,
            21,
            21,
            21,
            21,
            21,
            21,
            23,
            21,
            22,
            11,
            23,
            23,
            23,
            14,
            21,
            26,
            23,
            23,
            23,
            23,
            23,
            23,
            23,
            23,
            23,
            23,
            21,
            23,
            21,
            21,
            16,
            21,
            23,
            23,
            23,
            35,
            38,
            38,
            40,
            74,
            2,
            6,
            2,
            2,
            0,
            2,
            3,
            2,
            2,
            2,
            4,
            2,
            2,
            3,
            4,
            4,
            3,
            4,
            3,
            4,
            2,
            2,
            4,
            1,
            4,
            2,
            2,
            2,
            5,
            2,
            4,
            2,
            4,
            2,
            2,
            4,
            2,
            2,
            2,
            2,
            2,
            2,
            4,
            4,
            1,
            4,
            7,
            2,
            2,
            4,
            4,
            2,
            4,
            2,
            2,
            4,
            5,
            4,
            14,
            3,
            4,
            4,
            4,
            7,
            4,
            2,
            4,
            4,
            4,
            2,
            2,
            4,
            2,
            2,
            2,
            4,
            3,
            9,
            11,
            2,
            2,
            2,
            2,
            2,
            2,
            2,
            2,
            2,
            2,
            2,
            2,
            11,
            2,
            9,
            5,
            3,
            3,
            4,
            2,
            12,
            2,
            4,
            9,
            14,
            4,
            4,
            2,
            2,
            4,
            4,
            4,
            4,
            4,
            4,
            4,
            4,
            4,
            4,
            4,
            4,
            4,
            4,
            4,
            11,
            13,
            7,
            9,
            11,
            2,
            7,
            8,
            2,
            6,
            12,
            13,
            11,
            4,
            14,
            11,
            7,
            11,
            7,
            11,
            10,
            14,
            14,
            14,
            2,
            11,
            14,
            9,
            16,
            14,
            4,
            14,
            16,
            4,
            14,
            11,
            14,
            15,
            16,
            16,
            11,
            11,
            11,
            11,
            11,
            11,
            2,
            2,
            16,
            16,
            16,
            16,
            16,
            14,
            23,
            11,
            14,
            20,
            4,
            11,
            11,
            16,
            21,
            13,
            16,
            14,
            14,
            14,
            14,
            14,
            14,
            14,
            17,
            14,
            14,
            16,
            21,
            16,
            16,
            16,
            16,
            16,
            16,
            14,
            11,
            11,
            21,
            23,
            23,
            14,
            16,
            16,
            16,
            21,
            21,
            21,
            23,
            21,
            23,
            21,
            23,
            21,
            21,
            25,
            21,
            21,
            23,
            21,
            14,
            23,
            23,
            23,
            23,
            23,
            23,
            23,
            23,
            23,
            23,
            16,
            23,
            21,
            23,
            39,
            72
           ]
          },
          {
           "axis": {
            "matches": true
           },
           "label": "total_number_of_donations",
           "values": [
            50,
            13,
            16,
            20,
            24,
            4,
            7,
            12,
            9,
            46,
            23,
            3,
            10,
            13,
            6,
            5,
            14,
            15,
            6,
            3,
            3,
            11,
            6,
            6,
            9,
            14,
            6,
            12,
            5,
            8,
            14,
            10,
            10,
            9,
            16,
            8,
            12,
            6,
            14,
            7,
            13,
            5,
            5,
            5,
            20,
            9,
            9,
            2,
            2,
            2,
            11,
            11,
            6,
            12,
            5,
            19,
            8,
            7,
            16,
            6,
            7,
            8,
            10,
            5,
            3,
            16,
            4,
            2,
            7,
            9,
            4,
            4,
            17,
            2,
            2,
            2,
            4,
            2,
            2,
            2,
            6,
            4,
            4,
            4,
            6,
            6,
            2,
            2,
            2,
            7,
            2,
            2,
            2,
            2,
            11,
            7,
            17,
            9,
            4,
            7,
            8,
            13,
            9,
            5,
            5,
            17,
            8,
            5,
            3,
            10,
            5,
            9,
            5,
            8,
            12,
            24,
            7,
            11,
            7,
            11,
            3,
            5,
            6,
            5,
            4,
            5,
            8,
            4,
            8,
            2,
            5,
            12,
            2,
            6,
            11,
            3,
            5,
            12,
            5,
            2,
            9,
            14,
            3,
            3,
            2,
            3,
            3,
            2,
            2,
            2,
            7,
            6,
            11,
            1,
            1,
            1,
            1,
            1,
            1,
            1,
            1,
            1,
            1,
            1,
            1,
            1,
            1,
            1,
            1,
            1,
            1,
            1,
            1,
            1,
            1,
            10,
            4,
            5,
            6,
            3,
            4,
            4,
            4,
            12,
            8,
            9,
            5,
            4,
            15,
            5,
            7,
            7,
            4,
            11,
            2,
            5,
            8,
            6,
            7,
            9,
            6,
            7,
            2,
            7,
            9,
            6,
            2,
            7,
            6,
            3,
            1,
            1,
            1,
            1,
            1,
            1,
            1,
            1,
            1,
            1,
            1,
            1,
            1,
            1,
            1,
            1,
            1,
            3,
            1,
            1,
            1,
            1,
            1,
            8,
            7,
            10,
            3,
            2,
            4,
            9,
            8,
            22,
            3,
            17,
            2,
            5,
            12,
            12,
            2,
            2,
            2,
            6,
            8,
            3,
            13,
            3,
            8,
            7,
            3,
            12,
            4,
            14,
            2,
            3,
            5,
            4,
            2,
            8,
            7,
            4,
            11,
            7,
            2,
            5,
            5,
            4,
            13,
            3,
            18,
            8,
            16,
            4,
            5,
            2,
            5,
            2,
            2,
            2,
            5,
            3,
            4,
            12,
            4,
            5,
            5,
            4,
            5,
            2,
            2,
            2,
            2,
            2,
            2,
            3,
            6,
            5,
            5,
            3,
            4,
            3,
            5,
            2,
            9,
            1,
            1,
            2,
            2,
            4,
            9,
            5,
            16,
            5,
            4,
            8,
            7,
            2,
            2,
            16,
            4,
            7,
            7,
            6,
            6,
            7,
            2,
            3,
            3,
            7,
            1,
            3,
            4,
            38,
            6,
            1,
            1,
            1,
            1,
            1,
            1,
            1,
            1,
            2,
            5,
            2,
            4,
            2,
            6,
            3,
            2,
            16,
            6,
            2,
            3,
            13,
            6,
            2,
            15,
            4,
            2,
            5,
            2,
            3,
            2,
            4,
            4,
            3,
            5,
            1,
            1,
            1,
            1,
            1,
            1,
            1,
            1,
            7,
            1,
            1,
            3,
            7,
            4,
            4,
            2,
            4,
            4,
            10,
            2,
            3,
            8,
            3,
            2,
            5,
            8,
            3,
            5,
            3,
            1,
            1,
            1,
            1,
            1,
            1,
            1,
            4,
            1,
            1,
            1,
            1,
            1,
            2,
            2,
            2,
            2,
            2,
            4,
            5,
            2,
            5,
            3,
            3,
            2,
            2,
            7,
            4,
            2,
            7,
            2,
            3,
            14,
            8,
            3,
            3,
            2,
            3,
            12,
            3,
            2,
            2,
            8,
            3,
            3,
            3,
            2,
            1,
            1,
            1,
            1,
            1,
            1,
            1,
            1,
            1,
            1,
            1,
            1,
            5,
            4,
            4,
            1,
            2,
            5,
            3,
            3,
            3,
            2,
            5,
            6,
            1,
            1,
            1,
            1,
            1,
            1,
            1,
            1,
            4,
            6,
            3,
            2,
            3,
            2,
            3,
            4,
            3,
            2,
            3,
            1,
            1,
            1,
            1,
            43,
            22,
            34,
            44,
            26,
            41,
            21,
            11,
            21,
            13,
            4,
            11,
            11,
            14,
            16,
            6,
            5,
            33,
            10,
            10,
            11,
            11,
            13,
            10,
            9,
            4,
            5,
            15,
            24,
            6,
            5,
            4,
            8,
            4,
            6,
            5,
            7,
            6,
            8,
            2,
            6,
            10,
            16,
            2,
            14,
            2,
            14,
            3,
            12,
            7,
            4,
            6,
            6,
            3,
            4,
            4,
            6,
            6,
            5,
            8,
            11,
            9,
            16,
            10,
            14,
            9,
            6,
            9,
            6,
            6,
            6,
            2,
            2,
            2,
            2,
            6,
            4,
            9,
            5,
            3,
            1,
            1,
            1,
            1,
            1,
            1,
            1,
            1,
            1,
            1,
            1,
            11,
            3,
            11,
            11,
            5,
            1,
            6,
            3,
            11,
            2,
            6,
            3,
            8,
            2,
            11,
            7,
            7,
            1,
            1,
            1,
            1,
            1,
            1,
            1,
            1,
            1,
            1,
            1,
            1,
            7,
            1,
            4,
            6,
            3,
            5,
            9,
            2,
            5,
            11,
            9,
            2,
            3,
            15,
            3,
            16,
            5,
            7,
            4,
            9,
            8,
            5,
            6,
            5,
            2,
            2,
            2,
            2,
            3,
            8,
            1,
            5,
            4,
            2,
            3,
            16,
            2,
            8,
            3,
            7,
            5,
            2,
            3,
            8,
            1,
            1,
            1,
            1,
            1,
            3,
            3,
            4,
            15,
            14,
            10,
            3,
            3,
            19,
            7,
            3,
            14,
            2,
            2,
            3,
            4,
            7,
            7,
            6,
            3,
            1,
            1,
            1,
            1,
            1,
            1,
            7,
            3,
            3,
            7,
            2,
            3,
            1,
            1,
            1,
            1,
            1,
            2,
            4,
            2,
            6,
            2,
            6,
            2,
            6,
            4,
            5,
            2,
            3,
            3,
            8,
            3,
            3,
            3,
            2,
            1,
            1,
            6,
            1,
            1,
            3,
            2,
            3,
            1,
            1,
            1,
            1,
            1,
            1,
            1,
            4,
            1,
            7,
            3,
            2,
            2,
            3,
            1,
            1
           ]
          },
          {
           "axis": {
            "matches": true
           },
           "label": "total_blood_donated",
           "values": [
            12500,
            3250,
            4000,
            5000,
            6000,
            1000,
            1750,
            3000,
            2250,
            11500,
            5750,
            750,
            2500,
            3250,
            1500,
            1250,
            3500,
            3750,
            1500,
            750,
            750,
            2750,
            1500,
            1500,
            2250,
            3500,
            1500,
            3000,
            1250,
            2000,
            3500,
            2500,
            2500,
            2250,
            4000,
            2000,
            3000,
            1500,
            3500,
            1750,
            3250,
            1250,
            1250,
            1250,
            5000,
            2250,
            2250,
            500,
            500,
            500,
            2750,
            2750,
            1500,
            3000,
            1250,
            4750,
            2000,
            1750,
            4000,
            1500,
            1750,
            2000,
            2500,
            1250,
            750,
            4000,
            1000,
            500,
            1750,
            2250,
            1000,
            1000,
            4250,
            500,
            500,
            500,
            1000,
            500,
            500,
            500,
            1500,
            1000,
            1000,
            1000,
            1500,
            1500,
            500,
            500,
            500,
            1750,
            500,
            500,
            500,
            500,
            2750,
            1750,
            4250,
            2250,
            1000,
            1750,
            2000,
            3250,
            2250,
            1250,
            1250,
            4250,
            2000,
            1250,
            750,
            2500,
            1250,
            2250,
            1250,
            2000,
            3000,
            6000,
            1750,
            2750,
            1750,
            2750,
            750,
            1250,
            1500,
            1250,
            1000,
            1250,
            2000,
            1000,
            2000,
            500,
            1250,
            3000,
            500,
            1500,
            2750,
            750,
            1250,
            3000,
            1250,
            500,
            2250,
            3500,
            750,
            750,
            500,
            750,
            750,
            500,
            500,
            500,
            1750,
            1500,
            2750,
            250,
            250,
            250,
            250,
            250,
            250,
            250,
            250,
            250,
            250,
            250,
            250,
            250,
            250,
            250,
            250,
            250,
            250,
            250,
            250,
            250,
            250,
            2500,
            1000,
            1250,
            1500,
            750,
            1000,
            1000,
            1000,
            3000,
            2000,
            2250,
            1250,
            1000,
            3750,
            1250,
            1750,
            1750,
            1000,
            2750,
            500,
            1250,
            2000,
            1500,
            1750,
            2250,
            1500,
            1750,
            500,
            1750,
            2250,
            1500,
            500,
            1750,
            1500,
            750,
            250,
            250,
            250,
            250,
            250,
            250,
            250,
            250,
            250,
            250,
            250,
            250,
            250,
            250,
            250,
            250,
            250,
            750,
            250,
            250,
            250,
            250,
            250,
            2000,
            1750,
            2500,
            750,
            500,
            1000,
            2250,
            2000,
            5500,
            750,
            4250,
            500,
            1250,
            3000,
            3000,
            500,
            500,
            500,
            1500,
            2000,
            750,
            3250,
            750,
            2000,
            1750,
            750,
            3000,
            1000,
            3500,
            500,
            750,
            1250,
            1000,
            500,
            2000,
            1750,
            1000,
            2750,
            1750,
            500,
            1250,
            1250,
            1000,
            3250,
            750,
            4500,
            2000,
            4000,
            1000,
            1250,
            500,
            1250,
            500,
            500,
            500,
            1250,
            750,
            1000,
            3000,
            1000,
            1250,
            1250,
            1000,
            1250,
            500,
            500,
            500,
            500,
            500,
            500,
            750,
            1500,
            1250,
            1250,
            750,
            1000,
            750,
            1250,
            500,
            2250,
            250,
            250,
            500,
            500,
            1000,
            2250,
            1250,
            4000,
            1250,
            1000,
            2000,
            1750,
            500,
            500,
            4000,
            1000,
            1750,
            1750,
            1500,
            1500,
            1750,
            500,
            750,
            750,
            1750,
            250,
            750,
            1000,
            9500,
            1500,
            250,
            250,
            250,
            250,
            250,
            250,
            250,
            250,
            500,
            1250,
            500,
            1000,
            500,
            1500,
            750,
            500,
            4000,
            1500,
            500,
            750,
            3250,
            1500,
            500,
            3750,
            1000,
            500,
            1250,
            500,
            750,
            500,
            1000,
            1000,
            750,
            1250,
            250,
            250,
            250,
            250,
            250,
            250,
            250,
            250,
            1750,
            250,
            250,
            750,
            1750,
            1000,
            1000,
            500,
            1000,
            1000,
            2500,
            500,
            750,
            2000,
            750,
            500,
            1250,
            2000,
            750,
            1250,
            750,
            250,
            250,
            250,
            250,
            250,
            250,
            250,
            1000,
            250,
            250,
            250,
            250,
            250,
            500,
            500,
            500,
            500,
            500,
            1000,
            1250,
            500,
            1250,
            750,
            750,
            500,
            500,
            1750,
            1000,
            500,
            1750,
            500,
            750,
            3500,
            2000,
            750,
            750,
            500,
            750,
            3000,
            750,
            500,
            500,
            2000,
            750,
            750,
            750,
            500,
            250,
            250,
            250,
            250,
            250,
            250,
            250,
            250,
            250,
            250,
            250,
            250,
            1250,
            1000,
            1000,
            250,
            500,
            1250,
            750,
            750,
            750,
            500,
            1250,
            1500,
            250,
            250,
            250,
            250,
            250,
            250,
            250,
            250,
            1000,
            1500,
            750,
            500,
            750,
            500,
            750,
            1000,
            750,
            500,
            750,
            250,
            250,
            250,
            250,
            10750,
            5500,
            8500,
            11000,
            6500,
            10250,
            5250,
            2750,
            5250,
            3250,
            1000,
            2750,
            2750,
            3500,
            4000,
            1500,
            1250,
            8250,
            2500,
            2500,
            2750,
            2750,
            3250,
            2500,
            2250,
            1000,
            1250,
            3750,
            6000,
            1500,
            1250,
            1000,
            2000,
            1000,
            1500,
            1250,
            1750,
            1500,
            2000,
            500,
            1500,
            2500,
            4000,
            500,
            3500,
            500,
            3500,
            750,
            3000,
            1750,
            1000,
            1500,
            1500,
            750,
            1000,
            1000,
            1500,
            1500,
            1250,
            2000,
            2750,
            2250,
            4000,
            2500,
            3500,
            2250,
            1500,
            2250,
            1500,
            1500,
            1500,
            500,
            500,
            500,
            500,
            1500,
            1000,
            2250,
            1250,
            750,
            250,
            250,
            250,
            250,
            250,
            250,
            250,
            250,
            250,
            250,
            250,
            2750,
            750,
            2750,
            2750,
            1250,
            250,
            1500,
            750,
            2750,
            500,
            1500,
            750,
            2000,
            500,
            2750,
            1750,
            1750,
            250,
            250,
            250,
            250,
            250,
            250,
            250,
            250,
            250,
            250,
            250,
            250,
            1750,
            250,
            1000,
            1500,
            750,
            1250,
            2250,
            500,
            1250,
            2750,
            2250,
            500,
            750,
            3750,
            750,
            4000,
            1250,
            1750,
            1000,
            2250,
            2000,
            1250,
            1500,
            1250,
            500,
            500,
            500,
            500,
            750,
            2000,
            250,
            1250,
            1000,
            500,
            750,
            4000,
            500,
            2000,
            750,
            1750,
            1250,
            500,
            750,
            2000,
            250,
            250,
            250,
            250,
            250,
            750,
            750,
            1000,
            3750,
            3500,
            2500,
            750,
            750,
            4750,
            1750,
            750,
            3500,
            500,
            500,
            750,
            1000,
            1750,
            1750,
            1500,
            750,
            250,
            250,
            250,
            250,
            250,
            250,
            1750,
            750,
            750,
            1750,
            500,
            750,
            250,
            250,
            250,
            250,
            250,
            500,
            1000,
            500,
            1500,
            500,
            1500,
            500,
            1500,
            1000,
            1250,
            500,
            750,
            750,
            2000,
            750,
            750,
            750,
            500,
            250,
            250,
            1500,
            250,
            250,
            750,
            500,
            750,
            250,
            250,
            250,
            250,
            250,
            250,
            250,
            1000,
            250,
            1750,
            750,
            500,
            500,
            750,
            250,
            250
           ]
          },
          {
           "axis": {
            "matches": true
           },
           "label": "months_since_first_donation",
           "values": [
            98,
            28,
            35,
            45,
            77,
            4,
            14,
            35,
            22,
            98,
            58,
            4,
            28,
            47,
            15,
            11,
            48,
            49,
            15,
            4,
            4,
            28,
            16,
            16,
            16,
            40,
            14,
            34,
            11,
            21,
            58,
            28,
            28,
            26,
            64,
            28,
            47,
            16,
            57,
            22,
            53,
            16,
            16,
            16,
            69,
            28,
            36,
            2,
            2,
            2,
            46,
            46,
            22,
            52,
            14,
            69,
            26,
            28,
            81,
            21,
            29,
            35,
            49,
            16,
            9,
            74,
            14,
            4,
            25,
            51,
            16,
            16,
            71,
            4,
            4,
            4,
            16,
            4,
            4,
            4,
            23,
            16,
            16,
            16,
            28,
            28,
            4,
            4,
            4,
            35,
            4,
            4,
            4,
            4,
            23,
            28,
            86,
            38,
            14,
            26,
            34,
            76,
            40,
            26,
            26,
            70,
            59,
            26,
            14,
            64,
            23,
            46,
            23,
            40,
            82,
            64,
            46,
            61,
            57,
            79,
            16,
            26,
            41,
            33,
            26,
            34,
            46,
            26,
            48,
            10,
            28,
            95,
            10,
            35,
            88,
            19,
            37,
            98,
            19,
            11,
            74,
            86,
            16,
            16,
            9,
            16,
            14,
            11,
            11,
            11,
            58,
            39,
            78,
            2,
            2,
            2,
            2,
            2,
            2,
            2,
            2,
            2,
            2,
            2,
            2,
            2,
            2,
            2,
            2,
            2,
            2,
            2,
            2,
            2,
            2,
            35,
            16,
            33,
            41,
            22,
            26,
            16,
            35,
            88,
            26,
            33,
            34,
            26,
            77,
            35,
            52,
            52,
            35,
            42,
            14,
            47,
            38,
            47,
            29,
            45,
            52,
            58,
            11,
            58,
            38,
            26,
            16,
            76,
            27,
            14,
            4,
            4,
            4,
            4,
            4,
            4,
            4,
            4,
            4,
            4,
            4,
            4,
            4,
            4,
            4,
            4,
            4,
            24,
            4,
            4,
            4,
            4,
            4,
            39,
            26,
            63,
            15,
            14,
            43,
            58,
            52,
            98,
            25,
            79,
            11,
            46,
            58,
            86,
            11,
            11,
            11,
            75,
            41,
            16,
            59,
            35,
            28,
            37,
            28,
            58,
            41,
            73,
            23,
            38,
            58,
            43,
            23,
            46,
            82,
            21,
            40,
            28,
            16,
            58,
            58,
            46,
            57,
            34,
            78,
            48,
            70,
            22,
            26,
            16,
            33,
            14,
            23,
            16,
            28,
            19,
            23,
            50,
            28,
            35,
            35,
            70,
            28,
            14,
            14,
            14,
            14,
            14,
            14,
            52,
            34,
            37,
            74,
            23,
            23,
            19,
            38,
            16,
            60,
            9,
            9,
            29,
            17,
            26,
            72,
            41,
            82,
            51,
            34,
            50,
            38,
            16,
            41,
            98,
            28,
            39,
            47,
            35,
            35,
            62,
            16,
            21,
            28,
            64,
            11,
            34,
            30,
            98,
            58,
            11,
            11,
            11,
            11,
            11,
            11,
            11,
            11,
            21,
            50,
            21,
            28,
            41,
            40,
            26,
            26,
            64,
            51,
            24,
            71,
            57,
            71,
            21,
            57,
            38,
            26,
            40,
            51,
            31,
            52,
            65,
            40,
            40,
            50,
            14,
            14,
            14,
            14,
            14,
            14,
            14,
            14,
            72,
            14,
            14,
            52,
            73,
            58,
            59,
            59,
            61,
            40,
            89,
            21,
            26,
            76,
            26,
            23,
            33,
            46,
            34,
            64,
            41,
            16,
            16,
            16,
            16,
            16,
            16,
            16,
            45,
            16,
            16,
            16,
            16,
            16,
            26,
            23,
            27,
            23,
            23,
            57,
            60,
            23,
            74,
            28,
            40,
            52,
            52,
            87,
            64,
            35,
            93,
            25,
            52,
            93,
            95,
            46,
            76,
            52,
            76,
            86,
            35,
            26,
            26,
            64,
            50,
            33,
            38,
            28,
            21,
            21,
            21,
            21,
            21,
            21,
            21,
            21,
            21,
            21,
            21,
            21,
            60,
            45,
            52,
            22,
            70,
            58,
            40,
            41,
            83,
            35,
            49,
            70,
            23,
            23,
            23,
            23,
            23,
            23,
            23,
            23,
            53,
            86,
            48,
            41,
            64,
            70,
            70,
            87,
            89,
            87,
            64,
            38,
            38,
            40,
            74,
            86,
            28,
            77,
            98,
            76,
            98,
            42,
            23,
            52,
            32,
            4,
            26,
            28,
            35,
            38,
            14,
            12,
            98,
            33,
            28,
            40,
            41,
            39,
            43,
            28,
            11,
            16,
            64,
            79,
            22,
            16,
            14,
            28,
            14,
            26,
            16,
            32,
            26,
            38,
            4,
            28,
            52,
            70,
            4,
            95,
            4,
            48,
            11,
            70,
            32,
            16,
            35,
            28,
            14,
            23,
            18,
            28,
            30,
            14,
            50,
            64,
            52,
            98,
            47,
            86,
            75,
            35,
            55,
            35,
            45,
            47,
            9,
            11,
            11,
            11,
            38,
            29,
            38,
            18,
            21,
            2,
            2,
            2,
            2,
            2,
            2,
            2,
            2,
            2,
            2,
            2,
            38,
            22,
            49,
            75,
            38,
            3,
            43,
            24,
            39,
            14,
            46,
            14,
            26,
            13,
            95,
            77,
            77,
            4,
            4,
            4,
            4,
            4,
            4,
            4,
            4,
            4,
            4,
            4,
            4,
            62,
            4,
            34,
            28,
            14,
            35,
            54,
            11,
            63,
            89,
            64,
            22,
            26,
            71,
            16,
            89,
            58,
            35,
            27,
            89,
            52,
            52,
            41,
            38,
            14,
            14,
            14,
            33,
            23,
            46,
            9,
            27,
            26,
            30,
            21,
            77,
            31,
            50,
            26,
            45,
            33,
            16,
            21,
            72,
            11,
            11,
            11,
            11,
            11,
            75,
            77,
            28,
            87,
            83,
            62,
            23,
            26,
            62,
            75,
            28,
            69,
            46,
            25,
            37,
            33,
            38,
            76,
            50,
            33,
            14,
            14,
            14,
            14,
            14,
            14,
            58,
            35,
            35,
            64,
            21,
            35,
            16,
            16,
            16,
            16,
            16,
            29,
            74,
            38,
            48,
            23,
            45,
            35,
            81,
            58,
            71,
            26,
            35,
            35,
            69,
            38,
            35,
            40,
            28,
            21,
            21,
            50,
            21,
            21,
            39,
            33,
            79,
            23,
            23,
            23,
            23,
            23,
            23,
            23,
            52,
            23,
            88,
            86,
            38,
            52,
            62,
            39,
            72
           ]
          }
         ],
         "hovertemplate": "%{xaxis.title.text}=%{x}<br>%{yaxis.title.text}=%{y}<br>class=%{marker.color}<extra></extra>",
         "legendgroup": "",
         "marker": {
          "color": [
           1,
           1,
           1,
           1,
           0,
           0,
           1,
           0,
           1,
           1,
           0,
           0,
           1,
           0,
           1,
           1,
           1,
           1,
           1,
           1,
           1,
           0,
           1,
           1,
           0,
           0,
           0,
           1,
           1,
           0,
           0,
           1,
           1,
           1,
           0,
           1,
           1,
           1,
           1,
           1,
           1,
           0,
           1,
           0,
           1,
           1,
           0,
           0,
           0,
           0,
           0,
           1,
           0,
           0,
           1,
           1,
           1,
           1,
           0,
           0,
           0,
           1,
           0,
           1,
           1,
           0,
           1,
           0,
           0,
           0,
           0,
           0,
           1,
           0,
           1,
           1,
           1,
           0,
           0,
           0,
           1,
           0,
           0,
           0,
           1,
           0,
           0,
           0,
           0,
           1,
           1,
           0,
           0,
           0,
           0,
           0,
           0,
           1,
           1,
           1,
           1,
           1,
           0,
           0,
           0,
           0,
           0,
           0,
           0,
           0,
           1,
           0,
           0,
           1,
           0,
           0,
           1,
           0,
           0,
           1,
           1,
           1,
           1,
           1,
           0,
           0,
           1,
           0,
           1,
           1,
           0,
           0,
           0,
           0,
           0,
           0,
           0,
           0,
           0,
           0,
           0,
           0,
           0,
           0,
           1,
           1,
           0,
           0,
           1,
           0,
           1,
           0,
           0,
           1,
           0,
           0,
           0,
           0,
           0,
           0,
           0,
           0,
           0,
           1,
           1,
           1,
           0,
           0,
           0,
           0,
           0,
           0,
           0,
           0,
           0,
           0,
           1,
           1,
           1,
           0,
           1,
           0,
           0,
           0,
           0,
           0,
           0,
           0,
           0,
           1,
           0,
           0,
           0,
           0,
           0,
           1,
           1,
           0,
           0,
           0,
           0,
           0,
           1,
           0,
           0,
           0,
           0,
           0,
           0,
           0,
           0,
           0,
           0,
           0,
           0,
           1,
           0,
           0,
           0,
           0,
           0,
           1,
           1,
           0,
           1,
           1,
           0,
           0,
           0,
           0,
           0,
           1,
           0,
           0,
           0,
           0,
           0,
           0,
           0,
           0,
           1,
           0,
           1,
           1,
           0,
           0,
           0,
           0,
           0,
           0,
           0,
           0,
           1,
           1,
           0,
           0,
           0,
           0,
           0,
           0,
           0,
           1,
           0,
           1,
           0,
           1,
           0,
           0,
           0,
           0,
           0,
           0,
           0,
           0,
           0,
           0,
           0,
           0,
           0,
           0,
           0,
           1,
           0,
           0,
           0,
           0,
           0,
           1,
           1,
           1,
           1,
           0,
           0,
           0,
           0,
           0,
           0,
           0,
           0,
           0,
           0,
           0,
           0,
           0,
           0,
           1,
           0,
           0,
           0,
           0,
           0,
           0,
           0,
           0,
           0,
           0,
           0,
           0,
           1,
           0,
           0,
           1,
           0,
           1,
           0,
           0,
           0,
           0,
           1,
           0,
           0,
           0,
           1,
           1,
           0,
           1,
           0,
           0,
           1,
           0,
           0,
           0,
           0,
           0,
           0,
           0,
           0,
           0,
           0,
           0,
           0,
           0,
           0,
           0,
           0,
           0,
           0,
           0,
           0,
           0,
           0,
           0,
           0,
           0,
           0,
           1,
           0,
           0,
           0,
           1,
           1,
           0,
           0,
           0,
           0,
           1,
           0,
           0,
           0,
           0,
           0,
           0,
           0,
           0,
           0,
           0,
           0,
           0,
           0,
           0,
           0,
           0,
           0,
           0,
           0,
           0,
           1,
           0,
           0,
           1,
           0,
           0,
           0,
           0,
           0,
           0,
           0,
           0,
           0,
           0,
           0,
           0,
           0,
           0,
           0,
           0,
           0,
           0,
           0,
           0,
           0,
           0,
           0,
           0,
           0,
           0,
           0,
           0,
           0,
           0,
           0,
           0,
           1,
           0,
           0,
           0,
           0,
           0,
           0,
           0,
           0,
           0,
           0,
           0,
           0,
           0,
           0,
           0,
           0,
           0,
           0,
           0,
           0,
           0,
           0,
           0,
           0,
           0,
           0,
           0,
           0,
           0,
           1,
           0,
           0,
           0,
           0,
           0,
           1,
           0,
           0,
           0,
           0,
           0,
           0,
           1,
           0,
           0,
           0,
           0,
           0,
           0,
           0,
           0,
           0,
           0,
           0,
           0,
           0,
           0,
           0,
           0,
           0,
           0,
           0,
           0,
           0,
           0,
           0,
           0,
           1,
           1,
           1,
           0,
           1,
           1,
           1,
           0,
           1,
           1,
           1,
           0,
           0,
           0,
           1,
           0,
           1,
           1,
           1,
           1,
           1,
           1,
           1,
           1,
           0,
           0,
           1,
           0,
           0,
           1,
           1,
           1,
           0,
           0,
           0,
           1,
           1,
           1,
           1,
           1,
           1,
           0,
           1,
           1,
           0,
           1,
           0,
           0,
           1,
           1,
           0,
           1,
           1,
           0,
           0,
           0,
           0,
           0,
           0,
           0,
           1,
           0,
           1,
           0,
           0,
           0,
           0,
           0,
           1,
           0,
           0,
           0,
           1,
           0,
           1,
           1,
           1,
           0,
           0,
           0,
           0,
           1,
           0,
           0,
           0,
           0,
           1,
           0,
           0,
           0,
           0,
           0,
           0,
           1,
           0,
           0,
           1,
           0,
           0,
           0,
           0,
           0,
           0,
           0,
           0,
           0,
           0,
           0,
           0,
           0,
           0,
           0,
           1,
           0,
           0,
           0,
           0,
           0,
           1,
           0,
           0,
           0,
           1,
           0,
           1,
           0,
           0,
           0,
           0,
           0,
           0,
           0,
           0,
           0,
           0,
           0,
           0,
           0,
           0,
           1,
           1,
           0,
           0,
           0,
           1,
           0,
           0,
           0,
           0,
           0,
           0,
           0,
           0,
           0,
           0,
           0,
           0,
           0,
           0,
           0,
           0,
           0,
           0,
           0,
           0,
           0,
           0,
           1,
           0,
           1,
           0,
           0,
           0,
           0,
           0,
           0,
           0,
           0,
           0,
           0,
           1,
           0,
           0,
           0,
           0,
           0,
           0,
           0,
           0,
           0,
           0,
           0,
           0,
           0,
           0,
           1,
           0,
           0,
           0,
           0,
           0,
           0,
           0,
           0,
           0,
           0,
           0,
           0,
           1,
           0,
           0,
           0,
           1,
           0,
           0,
           0,
           0,
           0,
           0,
           0,
           0,
           0,
           0,
           0,
           0,
           0,
           0,
           0,
           0,
           0,
           0,
           0,
           1,
           0,
           0,
           0,
           0,
           0,
           0,
           0,
           0,
           0,
           0,
           0,
           0,
           0,
           0,
           0
          ],
          "coloraxis": "coloraxis",
          "symbol": "circle"
         },
         "name": "",
         "showlegend": false,
         "type": "splom"
        }
       ],
       "layout": {
        "coloraxis": {
         "colorbar": {
          "title": {
           "text": "class"
          }
         },
         "colorscale": [
          [
           0,
           "#0d0887"
          ],
          [
           0.1111111111111111,
           "#46039f"
          ],
          [
           0.2222222222222222,
           "#7201a8"
          ],
          [
           0.3333333333333333,
           "#9c179e"
          ],
          [
           0.4444444444444444,
           "#bd3786"
          ],
          [
           0.5555555555555556,
           "#d8576b"
          ],
          [
           0.6666666666666666,
           "#ed7953"
          ],
          [
           0.7777777777777778,
           "#fb9f3a"
          ],
          [
           0.8888888888888888,
           "#fdca26"
          ],
          [
           1,
           "#f0f921"
          ]
         ]
        },
        "dragmode": "select",
        "legend": {
         "tracegroupgap": 0
        },
        "margin": {
         "t": 60
        },
        "template": {
         "data": {
          "bar": [
           {
            "error_x": {
             "color": "#2a3f5f"
            },
            "error_y": {
             "color": "#2a3f5f"
            },
            "marker": {
             "line": {
              "color": "#E5ECF6",
              "width": 0.5
             },
             "pattern": {
              "fillmode": "overlay",
              "size": 10,
              "solidity": 0.2
             }
            },
            "type": "bar"
           }
          ],
          "barpolar": [
           {
            "marker": {
             "line": {
              "color": "#E5ECF6",
              "width": 0.5
             },
             "pattern": {
              "fillmode": "overlay",
              "size": 10,
              "solidity": 0.2
             }
            },
            "type": "barpolar"
           }
          ],
          "carpet": [
           {
            "aaxis": {
             "endlinecolor": "#2a3f5f",
             "gridcolor": "white",
             "linecolor": "white",
             "minorgridcolor": "white",
             "startlinecolor": "#2a3f5f"
            },
            "baxis": {
             "endlinecolor": "#2a3f5f",
             "gridcolor": "white",
             "linecolor": "white",
             "minorgridcolor": "white",
             "startlinecolor": "#2a3f5f"
            },
            "type": "carpet"
           }
          ],
          "choropleth": [
           {
            "colorbar": {
             "outlinewidth": 0,
             "ticks": ""
            },
            "type": "choropleth"
           }
          ],
          "contour": [
           {
            "colorbar": {
             "outlinewidth": 0,
             "ticks": ""
            },
            "colorscale": [
             [
              0,
              "#0d0887"
             ],
             [
              0.1111111111111111,
              "#46039f"
             ],
             [
              0.2222222222222222,
              "#7201a8"
             ],
             [
              0.3333333333333333,
              "#9c179e"
             ],
             [
              0.4444444444444444,
              "#bd3786"
             ],
             [
              0.5555555555555556,
              "#d8576b"
             ],
             [
              0.6666666666666666,
              "#ed7953"
             ],
             [
              0.7777777777777778,
              "#fb9f3a"
             ],
             [
              0.8888888888888888,
              "#fdca26"
             ],
             [
              1,
              "#f0f921"
             ]
            ],
            "type": "contour"
           }
          ],
          "contourcarpet": [
           {
            "colorbar": {
             "outlinewidth": 0,
             "ticks": ""
            },
            "type": "contourcarpet"
           }
          ],
          "heatmap": [
           {
            "colorbar": {
             "outlinewidth": 0,
             "ticks": ""
            },
            "colorscale": [
             [
              0,
              "#0d0887"
             ],
             [
              0.1111111111111111,
              "#46039f"
             ],
             [
              0.2222222222222222,
              "#7201a8"
             ],
             [
              0.3333333333333333,
              "#9c179e"
             ],
             [
              0.4444444444444444,
              "#bd3786"
             ],
             [
              0.5555555555555556,
              "#d8576b"
             ],
             [
              0.6666666666666666,
              "#ed7953"
             ],
             [
              0.7777777777777778,
              "#fb9f3a"
             ],
             [
              0.8888888888888888,
              "#fdca26"
             ],
             [
              1,
              "#f0f921"
             ]
            ],
            "type": "heatmap"
           }
          ],
          "heatmapgl": [
           {
            "colorbar": {
             "outlinewidth": 0,
             "ticks": ""
            },
            "colorscale": [
             [
              0,
              "#0d0887"
             ],
             [
              0.1111111111111111,
              "#46039f"
             ],
             [
              0.2222222222222222,
              "#7201a8"
             ],
             [
              0.3333333333333333,
              "#9c179e"
             ],
             [
              0.4444444444444444,
              "#bd3786"
             ],
             [
              0.5555555555555556,
              "#d8576b"
             ],
             [
              0.6666666666666666,
              "#ed7953"
             ],
             [
              0.7777777777777778,
              "#fb9f3a"
             ],
             [
              0.8888888888888888,
              "#fdca26"
             ],
             [
              1,
              "#f0f921"
             ]
            ],
            "type": "heatmapgl"
           }
          ],
          "histogram": [
           {
            "marker": {
             "pattern": {
              "fillmode": "overlay",
              "size": 10,
              "solidity": 0.2
             }
            },
            "type": "histogram"
           }
          ],
          "histogram2d": [
           {
            "colorbar": {
             "outlinewidth": 0,
             "ticks": ""
            },
            "colorscale": [
             [
              0,
              "#0d0887"
             ],
             [
              0.1111111111111111,
              "#46039f"
             ],
             [
              0.2222222222222222,
              "#7201a8"
             ],
             [
              0.3333333333333333,
              "#9c179e"
             ],
             [
              0.4444444444444444,
              "#bd3786"
             ],
             [
              0.5555555555555556,
              "#d8576b"
             ],
             [
              0.6666666666666666,
              "#ed7953"
             ],
             [
              0.7777777777777778,
              "#fb9f3a"
             ],
             [
              0.8888888888888888,
              "#fdca26"
             ],
             [
              1,
              "#f0f921"
             ]
            ],
            "type": "histogram2d"
           }
          ],
          "histogram2dcontour": [
           {
            "colorbar": {
             "outlinewidth": 0,
             "ticks": ""
            },
            "colorscale": [
             [
              0,
              "#0d0887"
             ],
             [
              0.1111111111111111,
              "#46039f"
             ],
             [
              0.2222222222222222,
              "#7201a8"
             ],
             [
              0.3333333333333333,
              "#9c179e"
             ],
             [
              0.4444444444444444,
              "#bd3786"
             ],
             [
              0.5555555555555556,
              "#d8576b"
             ],
             [
              0.6666666666666666,
              "#ed7953"
             ],
             [
              0.7777777777777778,
              "#fb9f3a"
             ],
             [
              0.8888888888888888,
              "#fdca26"
             ],
             [
              1,
              "#f0f921"
             ]
            ],
            "type": "histogram2dcontour"
           }
          ],
          "mesh3d": [
           {
            "colorbar": {
             "outlinewidth": 0,
             "ticks": ""
            },
            "type": "mesh3d"
           }
          ],
          "parcoords": [
           {
            "line": {
             "colorbar": {
              "outlinewidth": 0,
              "ticks": ""
             }
            },
            "type": "parcoords"
           }
          ],
          "pie": [
           {
            "automargin": true,
            "type": "pie"
           }
          ],
          "scatter": [
           {
            "fillpattern": {
             "fillmode": "overlay",
             "size": 10,
             "solidity": 0.2
            },
            "type": "scatter"
           }
          ],
          "scatter3d": [
           {
            "line": {
             "colorbar": {
              "outlinewidth": 0,
              "ticks": ""
             }
            },
            "marker": {
             "colorbar": {
              "outlinewidth": 0,
              "ticks": ""
             }
            },
            "type": "scatter3d"
           }
          ],
          "scattercarpet": [
           {
            "marker": {
             "colorbar": {
              "outlinewidth": 0,
              "ticks": ""
             }
            },
            "type": "scattercarpet"
           }
          ],
          "scattergeo": [
           {
            "marker": {
             "colorbar": {
              "outlinewidth": 0,
              "ticks": ""
             }
            },
            "type": "scattergeo"
           }
          ],
          "scattergl": [
           {
            "marker": {
             "colorbar": {
              "outlinewidth": 0,
              "ticks": ""
             }
            },
            "type": "scattergl"
           }
          ],
          "scattermapbox": [
           {
            "marker": {
             "colorbar": {
              "outlinewidth": 0,
              "ticks": ""
             }
            },
            "type": "scattermapbox"
           }
          ],
          "scatterpolar": [
           {
            "marker": {
             "colorbar": {
              "outlinewidth": 0,
              "ticks": ""
             }
            },
            "type": "scatterpolar"
           }
          ],
          "scatterpolargl": [
           {
            "marker": {
             "colorbar": {
              "outlinewidth": 0,
              "ticks": ""
             }
            },
            "type": "scatterpolargl"
           }
          ],
          "scatterternary": [
           {
            "marker": {
             "colorbar": {
              "outlinewidth": 0,
              "ticks": ""
             }
            },
            "type": "scatterternary"
           }
          ],
          "surface": [
           {
            "colorbar": {
             "outlinewidth": 0,
             "ticks": ""
            },
            "colorscale": [
             [
              0,
              "#0d0887"
             ],
             [
              0.1111111111111111,
              "#46039f"
             ],
             [
              0.2222222222222222,
              "#7201a8"
             ],
             [
              0.3333333333333333,
              "#9c179e"
             ],
             [
              0.4444444444444444,
              "#bd3786"
             ],
             [
              0.5555555555555556,
              "#d8576b"
             ],
             [
              0.6666666666666666,
              "#ed7953"
             ],
             [
              0.7777777777777778,
              "#fb9f3a"
             ],
             [
              0.8888888888888888,
              "#fdca26"
             ],
             [
              1,
              "#f0f921"
             ]
            ],
            "type": "surface"
           }
          ],
          "table": [
           {
            "cells": {
             "fill": {
              "color": "#EBF0F8"
             },
             "line": {
              "color": "white"
             }
            },
            "header": {
             "fill": {
              "color": "#C8D4E3"
             },
             "line": {
              "color": "white"
             }
            },
            "type": "table"
           }
          ]
         },
         "layout": {
          "annotationdefaults": {
           "arrowcolor": "#2a3f5f",
           "arrowhead": 0,
           "arrowwidth": 1
          },
          "autotypenumbers": "strict",
          "coloraxis": {
           "colorbar": {
            "outlinewidth": 0,
            "ticks": ""
           }
          },
          "colorscale": {
           "diverging": [
            [
             0,
             "#8e0152"
            ],
            [
             0.1,
             "#c51b7d"
            ],
            [
             0.2,
             "#de77ae"
            ],
            [
             0.3,
             "#f1b6da"
            ],
            [
             0.4,
             "#fde0ef"
            ],
            [
             0.5,
             "#f7f7f7"
            ],
            [
             0.6,
             "#e6f5d0"
            ],
            [
             0.7,
             "#b8e186"
            ],
            [
             0.8,
             "#7fbc41"
            ],
            [
             0.9,
             "#4d9221"
            ],
            [
             1,
             "#276419"
            ]
           ],
           "sequential": [
            [
             0,
             "#0d0887"
            ],
            [
             0.1111111111111111,
             "#46039f"
            ],
            [
             0.2222222222222222,
             "#7201a8"
            ],
            [
             0.3333333333333333,
             "#9c179e"
            ],
            [
             0.4444444444444444,
             "#bd3786"
            ],
            [
             0.5555555555555556,
             "#d8576b"
            ],
            [
             0.6666666666666666,
             "#ed7953"
            ],
            [
             0.7777777777777778,
             "#fb9f3a"
            ],
            [
             0.8888888888888888,
             "#fdca26"
            ],
            [
             1,
             "#f0f921"
            ]
           ],
           "sequentialminus": [
            [
             0,
             "#0d0887"
            ],
            [
             0.1111111111111111,
             "#46039f"
            ],
            [
             0.2222222222222222,
             "#7201a8"
            ],
            [
             0.3333333333333333,
             "#9c179e"
            ],
            [
             0.4444444444444444,
             "#bd3786"
            ],
            [
             0.5555555555555556,
             "#d8576b"
            ],
            [
             0.6666666666666666,
             "#ed7953"
            ],
            [
             0.7777777777777778,
             "#fb9f3a"
            ],
            [
             0.8888888888888888,
             "#fdca26"
            ],
            [
             1,
             "#f0f921"
            ]
           ]
          },
          "colorway": [
           "#636efa",
           "#EF553B",
           "#00cc96",
           "#ab63fa",
           "#FFA15A",
           "#19d3f3",
           "#FF6692",
           "#B6E880",
           "#FF97FF",
           "#FECB52"
          ],
          "font": {
           "color": "#2a3f5f"
          },
          "geo": {
           "bgcolor": "white",
           "lakecolor": "white",
           "landcolor": "#E5ECF6",
           "showlakes": true,
           "showland": true,
           "subunitcolor": "white"
          },
          "hoverlabel": {
           "align": "left"
          },
          "hovermode": "closest",
          "mapbox": {
           "style": "light"
          },
          "paper_bgcolor": "white",
          "plot_bgcolor": "#E5ECF6",
          "polar": {
           "angularaxis": {
            "gridcolor": "white",
            "linecolor": "white",
            "ticks": ""
           },
           "bgcolor": "#E5ECF6",
           "radialaxis": {
            "gridcolor": "white",
            "linecolor": "white",
            "ticks": ""
           }
          },
          "scene": {
           "xaxis": {
            "backgroundcolor": "#E5ECF6",
            "gridcolor": "white",
            "gridwidth": 2,
            "linecolor": "white",
            "showbackground": true,
            "ticks": "",
            "zerolinecolor": "white"
           },
           "yaxis": {
            "backgroundcolor": "#E5ECF6",
            "gridcolor": "white",
            "gridwidth": 2,
            "linecolor": "white",
            "showbackground": true,
            "ticks": "",
            "zerolinecolor": "white"
           },
           "zaxis": {
            "backgroundcolor": "#E5ECF6",
            "gridcolor": "white",
            "gridwidth": 2,
            "linecolor": "white",
            "showbackground": true,
            "ticks": "",
            "zerolinecolor": "white"
           }
          },
          "shapedefaults": {
           "line": {
            "color": "#2a3f5f"
           }
          },
          "ternary": {
           "aaxis": {
            "gridcolor": "white",
            "linecolor": "white",
            "ticks": ""
           },
           "baxis": {
            "gridcolor": "white",
            "linecolor": "white",
            "ticks": ""
           },
           "bgcolor": "#E5ECF6",
           "caxis": {
            "gridcolor": "white",
            "linecolor": "white",
            "ticks": ""
           }
          },
          "title": {
           "x": 0.05
          },
          "xaxis": {
           "automargin": true,
           "gridcolor": "white",
           "linecolor": "white",
           "ticks": "",
           "title": {
            "standoff": 15
           },
           "zerolinecolor": "white",
           "zerolinewidth": 2
          },
          "yaxis": {
           "automargin": true,
           "gridcolor": "white",
           "linecolor": "white",
           "ticks": "",
           "title": {
            "standoff": 15
           },
           "zerolinecolor": "white",
           "zerolinewidth": 2
          }
         }
        }
       }
      }
     },
     "metadata": {},
     "output_type": "display_data"
    }
   ],
   "source": [
    "fig = px.scatter_matrix(df,dimensions=['months_since_last_donation', 'total_number_of_donations', 'total_blood_donated','months_since_first_donation'], color= 'class')\n",
    "fig.show() "
   ]
  },
  {
   "cell_type": "code",
   "execution_count": 202,
   "metadata": {},
   "outputs": [
    {
     "name": "stdout",
     "output_type": "stream",
     "text": [
      "                             months_since_last_donation  \\\n",
      "months_since_last_donation                     1.000000   \n",
      "total_number_of_donations                     -0.182745   \n",
      "total_blood_donated                           -0.182745   \n",
      "months_since_first_donation                    0.160618   \n",
      "class                                         -0.279869   \n",
      "\n",
      "                             total_number_of_donations  total_blood_donated  \\\n",
      "months_since_last_donation                   -0.182745            -0.182745   \n",
      "total_number_of_donations                     1.000000             1.000000   \n",
      "total_blood_donated                           1.000000             1.000000   \n",
      "months_since_first_donation                   0.634940             0.634940   \n",
      "class                                         0.218633             0.218633   \n",
      "\n",
      "                             months_since_first_donation     class  \n",
      "months_since_last_donation                      0.160618 -0.279869  \n",
      "total_number_of_donations                       0.634940  0.218633  \n",
      "total_blood_donated                             0.634940  0.218633  \n",
      "months_since_first_donation                     1.000000 -0.035854  \n",
      "class                                          -0.035854  1.000000  \n"
     ]
    }
   ],
   "source": [
    "print(df.corr()) "
   ]
  },
  {
   "cell_type": "code",
   "execution_count": 203,
   "metadata": {},
   "outputs": [
    {
     "data": {
      "image/png": "[encoded data removed]",
      "text/plain": [
       "<Figure size 640x480 with 2 Axes>"
      ]
     },
     "metadata": {},
     "output_type": "display_data"
    }
   ],
   "source": [
    "dataplot = sb.heatmap(df.corr(), cmap=\"YlGnBu\", annot=True) \n"
   ]
  },
  {
   "cell_type": "code",
   "execution_count": 236,
   "metadata": {},
   "outputs": [
    {
     "data": {
      "image/png": "[encoded data removed]",
      "text/plain": [
       "<Figure size 1200x1000 with 6 Axes>"
      ]
     },
     "metadata": {},
     "output_type": "display_data"
    }
   ],
   "source": [
    "_ = df.hist(figsize=(12, 10), bins=30, edgecolor=\"black\")\n"
   ]
  },
  {
   "cell_type": "code",
   "execution_count": 139,
   "metadata": {},
   "outputs": [
    {
     "data": {
      "image/png": "[encoded data removed]",
      "text/plain": [
       "<Figure size 640x480 with 1 Axes>"
      ]
     },
     "metadata": {},
     "output_type": "display_data"
    }
   ],
   "source": [
    "df_mean = np.mean(df[\"months_since_last_donation\"])\n",
    "df_std = np.std(df[\"months_since_last_donation\"])\n",
    " \n",
    "# Calculating probability density function (PDF)\n",
    "pdf = stats.norm.pdf(df[\"months_since_last_donation\"].sort_values(), df_mean, df_std)\n",
    "\n",
    "# Drawing a graph\n",
    "plt.plot(df[\"months_since_last_donation\"].sort_values(), pdf)\n",
    "plt.show()"
   ]
  },
  {
   "cell_type": "code",
   "execution_count": 140,
   "metadata": {},
   "outputs": [
    {
     "data": {
      "image/png": "[encoded data removed]",
      "text/plain": [
       "<Figure size 640x480 with 1 Axes>"
      ]
     },
     "metadata": {},
     "output_type": "display_data"
    }
   ],
   "source": [
    "df_mean = np.mean(df[\"total_number_of_donations\"])\n",
    "df_std = np.std(df[\"total_number_of_donations\"])\n",
    " \n",
    "# Calculating probability density function (PDF)\n",
    "pdf = stats.norm.pdf(df[\"total_number_of_donations\"].sort_values(), df_mean, df_std)\n",
    "\n",
    "# Drawing a graph\n",
    "plt.plot(df[\"total_number_of_donations\"].sort_values(), pdf)\n",
    "plt.show()"
   ]
  },
  {
   "cell_type": "code",
   "execution_count": 141,
   "metadata": {},
   "outputs": [
    {
     "data": {
      "image/png": "[encoded data removed]",
      "text/plain": [
       "<Figure size 640x480 with 1 Axes>"
      ]
     },
     "metadata": {},
     "output_type": "display_data"
    }
   ],
   "source": [
    "df_mean = np.mean(df[\"total_blood_donated\"])\n",
    "df_std = np.std(df[\"total_blood_donated\"])\n",
    " \n",
    "# Calculating probability density function (PDF)\n",
    "pdf = stats.norm.pdf(df[\"total_blood_donated\"].sort_values(), df_mean, df_std)\n",
    "\n",
    "# Drawing a graph\n",
    "plt.plot(df[\"total_blood_donated\"].sort_values(), pdf)\n",
    "plt.show()"
   ]
  },
  {
   "cell_type": "code",
   "execution_count": 142,
   "metadata": {},
   "outputs": [
    {
     "data": {
      "image/png": "[encoded data removed]",
      "text/plain": [
       "<Figure size 640x480 with 1 Axes>"
      ]
     },
     "metadata": {},
     "output_type": "display_data"
    }
   ],
   "source": [
    "df_mean = np.mean(df[\"months_since_first_donation\"])\n",
    "df_std = np.std(df[\"months_since_first_donation\"])\n",
    " \n",
    "# Calculating probability density function (PDF)\n",
    "pdf = stats.norm.pdf(df[\"months_since_first_donation\"].sort_values(), df_mean, df_std)\n",
    "\n",
    "# Drawing a graph\n",
    "plt.plot(df[\"months_since_first_donation\"].sort_values(), pdf)\n",
    "plt.show()"
   ]
  },
  {
   "cell_type": "code",
   "execution_count": 250,
   "metadata": {},
   "outputs": [],
   "source": [
    "#Task 2 Normalization"
   ]
  },
  {
   "cell_type": "code",
   "execution_count": 251,
   "metadata": {},
   "outputs": [],
   "source": [
    "def normalize(row, min, max):\n",
    "    return (row - min ) / (max - min)"
   ]
  },
  {
   "cell_type": "code",
   "execution_count": 252,
   "metadata": {},
   "outputs": [
    {
     "data": {
      "text/html": [
       "<div>\n",
       "<style scoped>\n",
       "    .dataframe tbody tr th:only-of-type {\n",
       "        vertical-align: middle;\n",
       "    }\n",
       "\n",
       "    .dataframe tbody tr th {\n",
       "        vertical-align: top;\n",
       "    }\n",
       "\n",
       "    .dataframe thead th {\n",
       "        text-align: right;\n",
       "    }\n",
       "</style>\n",
       "<table border=\"1\" class=\"dataframe\">\n",
       "  <thead>\n",
       "    <tr style=\"text-align: right;\">\n",
       "      <th></th>\n",
       "      <th>months_since_last_donation</th>\n",
       "      <th>total_number_of_donations</th>\n",
       "      <th>total_blood_donated</th>\n",
       "      <th>months_since_first_donation</th>\n",
       "      <th>class</th>\n",
       "    </tr>\n",
       "  </thead>\n",
       "  <tbody>\n",
       "    <tr>\n",
       "      <th>0</th>\n",
       "      <td>2.0</td>\n",
       "      <td>50.0</td>\n",
       "      <td>12500.0</td>\n",
       "      <td>98.0</td>\n",
       "      <td>1</td>\n",
       "    </tr>\n",
       "    <tr>\n",
       "      <th>1</th>\n",
       "      <td>0.0</td>\n",
       "      <td>13.0</td>\n",
       "      <td>3250.0</td>\n",
       "      <td>28.0</td>\n",
       "      <td>1</td>\n",
       "    </tr>\n",
       "    <tr>\n",
       "      <th>2</th>\n",
       "      <td>1.0</td>\n",
       "      <td>16.0</td>\n",
       "      <td>4000.0</td>\n",
       "      <td>35.0</td>\n",
       "      <td>1</td>\n",
       "    </tr>\n",
       "    <tr>\n",
       "      <th>3</th>\n",
       "      <td>2.0</td>\n",
       "      <td>20.0</td>\n",
       "      <td>5000.0</td>\n",
       "      <td>45.0</td>\n",
       "      <td>1</td>\n",
       "    </tr>\n",
       "    <tr>\n",
       "      <th>4</th>\n",
       "      <td>1.0</td>\n",
       "      <td>24.0</td>\n",
       "      <td>6000.0</td>\n",
       "      <td>77.0</td>\n",
       "      <td>0</td>\n",
       "    </tr>\n",
       "    <tr>\n",
       "      <th>...</th>\n",
       "      <td>...</td>\n",
       "      <td>...</td>\n",
       "      <td>...</td>\n",
       "      <td>...</td>\n",
       "      <td>...</td>\n",
       "    </tr>\n",
       "    <tr>\n",
       "      <th>743</th>\n",
       "      <td>23.0</td>\n",
       "      <td>2.0</td>\n",
       "      <td>500.0</td>\n",
       "      <td>38.0</td>\n",
       "      <td>0</td>\n",
       "    </tr>\n",
       "    <tr>\n",
       "      <th>744</th>\n",
       "      <td>21.0</td>\n",
       "      <td>2.0</td>\n",
       "      <td>500.0</td>\n",
       "      <td>52.0</td>\n",
       "      <td>0</td>\n",
       "    </tr>\n",
       "    <tr>\n",
       "      <th>745</th>\n",
       "      <td>23.0</td>\n",
       "      <td>3.0</td>\n",
       "      <td>750.0</td>\n",
       "      <td>62.0</td>\n",
       "      <td>0</td>\n",
       "    </tr>\n",
       "    <tr>\n",
       "      <th>746</th>\n",
       "      <td>39.0</td>\n",
       "      <td>1.0</td>\n",
       "      <td>250.0</td>\n",
       "      <td>39.0</td>\n",
       "      <td>0</td>\n",
       "    </tr>\n",
       "    <tr>\n",
       "      <th>747</th>\n",
       "      <td>72.0</td>\n",
       "      <td>1.0</td>\n",
       "      <td>250.0</td>\n",
       "      <td>72.0</td>\n",
       "      <td>0</td>\n",
       "    </tr>\n",
       "  </tbody>\n",
       "</table>\n",
       "<p>748 rows × 5 columns</p>\n",
       "</div>"
      ],
      "text/plain": [
       "     months_since_last_donation  total_number_of_donations  \\\n",
       "0                           2.0                       50.0   \n",
       "1                           0.0                       13.0   \n",
       "2                           1.0                       16.0   \n",
       "3                           2.0                       20.0   \n",
       "4                           1.0                       24.0   \n",
       "..                          ...                        ...   \n",
       "743                        23.0                        2.0   \n",
       "744                        21.0                        2.0   \n",
       "745                        23.0                        3.0   \n",
       "746                        39.0                        1.0   \n",
       "747                        72.0                        1.0   \n",
       "\n",
       "     total_blood_donated  months_since_first_donation  class  \n",
       "0                12500.0                         98.0      1  \n",
       "1                 3250.0                         28.0      1  \n",
       "2                 4000.0                         35.0      1  \n",
       "3                 5000.0                         45.0      1  \n",
       "4                 6000.0                         77.0      0  \n",
       "..                   ...                          ...    ...  \n",
       "743                500.0                         38.0      0  \n",
       "744                500.0                         52.0      0  \n",
       "745                750.0                         62.0      0  \n",
       "746                250.0                         39.0      0  \n",
       "747                250.0                         72.0      0  \n",
       "\n",
       "[748 rows x 5 columns]"
      ]
     },
     "execution_count": 252,
     "metadata": {},
     "output_type": "execute_result"
    }
   ],
   "source": [
    "df"
   ]
  },
  {
   "cell_type": "code",
   "execution_count": 253,
   "metadata": {},
   "outputs": [],
   "source": [
    "normalized = df.copy()"
   ]
  },
  {
   "cell_type": "code",
   "execution_count": 254,
   "metadata": {},
   "outputs": [
    {
     "data": {
      "text/html": [
       "<div>\n",
       "<style scoped>\n",
       "    .dataframe tbody tr th:only-of-type {\n",
       "        vertical-align: middle;\n",
       "    }\n",
       "\n",
       "    .dataframe tbody tr th {\n",
       "        vertical-align: top;\n",
       "    }\n",
       "\n",
       "    .dataframe thead th {\n",
       "        text-align: right;\n",
       "    }\n",
       "</style>\n",
       "<table border=\"1\" class=\"dataframe\">\n",
       "  <thead>\n",
       "    <tr style=\"text-align: right;\">\n",
       "      <th></th>\n",
       "      <th>months_since_last_donation</th>\n",
       "      <th>total_number_of_donations</th>\n",
       "      <th>total_blood_donated</th>\n",
       "      <th>months_since_first_donation</th>\n",
       "      <th>class</th>\n",
       "    </tr>\n",
       "  </thead>\n",
       "  <tbody>\n",
       "    <tr>\n",
       "      <th>0</th>\n",
       "      <td>2.0</td>\n",
       "      <td>50.0</td>\n",
       "      <td>12500.0</td>\n",
       "      <td>1.000000</td>\n",
       "      <td>1</td>\n",
       "    </tr>\n",
       "    <tr>\n",
       "      <th>1</th>\n",
       "      <td>0.0</td>\n",
       "      <td>13.0</td>\n",
       "      <td>3250.0</td>\n",
       "      <td>0.270833</td>\n",
       "      <td>1</td>\n",
       "    </tr>\n",
       "    <tr>\n",
       "      <th>2</th>\n",
       "      <td>1.0</td>\n",
       "      <td>16.0</td>\n",
       "      <td>4000.0</td>\n",
       "      <td>0.343750</td>\n",
       "      <td>1</td>\n",
       "    </tr>\n",
       "    <tr>\n",
       "      <th>3</th>\n",
       "      <td>2.0</td>\n",
       "      <td>20.0</td>\n",
       "      <td>5000.0</td>\n",
       "      <td>0.447917</td>\n",
       "      <td>1</td>\n",
       "    </tr>\n",
       "    <tr>\n",
       "      <th>4</th>\n",
       "      <td>1.0</td>\n",
       "      <td>24.0</td>\n",
       "      <td>6000.0</td>\n",
       "      <td>0.781250</td>\n",
       "      <td>0</td>\n",
       "    </tr>\n",
       "    <tr>\n",
       "      <th>...</th>\n",
       "      <td>...</td>\n",
       "      <td>...</td>\n",
       "      <td>...</td>\n",
       "      <td>...</td>\n",
       "      <td>...</td>\n",
       "    </tr>\n",
       "    <tr>\n",
       "      <th>743</th>\n",
       "      <td>23.0</td>\n",
       "      <td>2.0</td>\n",
       "      <td>500.0</td>\n",
       "      <td>0.375000</td>\n",
       "      <td>0</td>\n",
       "    </tr>\n",
       "    <tr>\n",
       "      <th>744</th>\n",
       "      <td>21.0</td>\n",
       "      <td>2.0</td>\n",
       "      <td>500.0</td>\n",
       "      <td>0.520833</td>\n",
       "      <td>0</td>\n",
       "    </tr>\n",
       "    <tr>\n",
       "      <th>745</th>\n",
       "      <td>23.0</td>\n",
       "      <td>3.0</td>\n",
       "      <td>750.0</td>\n",
       "      <td>0.625000</td>\n",
       "      <td>0</td>\n",
       "    </tr>\n",
       "    <tr>\n",
       "      <th>746</th>\n",
       "      <td>39.0</td>\n",
       "      <td>1.0</td>\n",
       "      <td>250.0</td>\n",
       "      <td>0.385417</td>\n",
       "      <td>0</td>\n",
       "    </tr>\n",
       "    <tr>\n",
       "      <th>747</th>\n",
       "      <td>72.0</td>\n",
       "      <td>1.0</td>\n",
       "      <td>250.0</td>\n",
       "      <td>0.729167</td>\n",
       "      <td>0</td>\n",
       "    </tr>\n",
       "  </tbody>\n",
       "</table>\n",
       "<p>748 rows × 5 columns</p>\n",
       "</div>"
      ],
      "text/plain": [
       "     months_since_last_donation  total_number_of_donations  \\\n",
       "0                           2.0                       50.0   \n",
       "1                           0.0                       13.0   \n",
       "2                           1.0                       16.0   \n",
       "3                           2.0                       20.0   \n",
       "4                           1.0                       24.0   \n",
       "..                          ...                        ...   \n",
       "743                        23.0                        2.0   \n",
       "744                        21.0                        2.0   \n",
       "745                        23.0                        3.0   \n",
       "746                        39.0                        1.0   \n",
       "747                        72.0                        1.0   \n",
       "\n",
       "     total_blood_donated  months_since_first_donation  class  \n",
       "0                12500.0                     1.000000      1  \n",
       "1                 3250.0                     0.270833      1  \n",
       "2                 4000.0                     0.343750      1  \n",
       "3                 5000.0                     0.447917      1  \n",
       "4                 6000.0                     0.781250      0  \n",
       "..                   ...                          ...    ...  \n",
       "743                500.0                     0.375000      0  \n",
       "744                500.0                     0.520833      0  \n",
       "745                750.0                     0.625000      0  \n",
       "746                250.0                     0.385417      0  \n",
       "747                250.0                     0.729167      0  \n",
       "\n",
       "[748 rows x 5 columns]"
      ]
     },
     "execution_count": 254,
     "metadata": {},
     "output_type": "execute_result"
    }
   ],
   "source": [
    "normalized[\"months_since_first_donation\"] = normalized[\"months_since_first_donation\"].apply(normalize, args=(normalized[\"months_since_first_donation\"].min(), normalized[\"months_since_first_donation\"].max(), ))\n",
    "normalized"
   ]
  },
  {
   "cell_type": "code",
   "execution_count": 255,
   "metadata": {},
   "outputs": [
    {
     "data": {
      "text/html": [
       "<div>\n",
       "<style scoped>\n",
       "    .dataframe tbody tr th:only-of-type {\n",
       "        vertical-align: middle;\n",
       "    }\n",
       "\n",
       "    .dataframe tbody tr th {\n",
       "        vertical-align: top;\n",
       "    }\n",
       "\n",
       "    .dataframe thead th {\n",
       "        text-align: right;\n",
       "    }\n",
       "</style>\n",
       "<table border=\"1\" class=\"dataframe\">\n",
       "  <thead>\n",
       "    <tr style=\"text-align: right;\">\n",
       "      <th></th>\n",
       "      <th>months_since_last_donation</th>\n",
       "      <th>total_number_of_donations</th>\n",
       "      <th>total_blood_donated</th>\n",
       "      <th>months_since_first_donation</th>\n",
       "      <th>class</th>\n",
       "    </tr>\n",
       "  </thead>\n",
       "  <tbody>\n",
       "    <tr>\n",
       "      <th>228</th>\n",
       "      <td>4.0</td>\n",
       "      <td>1.0</td>\n",
       "      <td>250.0</td>\n",
       "      <td>0.020833</td>\n",
       "      <td>0</td>\n",
       "    </tr>\n",
       "    <tr>\n",
       "      <th>322</th>\n",
       "      <td>11.0</td>\n",
       "      <td>4.0</td>\n",
       "      <td>1000.0</td>\n",
       "      <td>0.333333</td>\n",
       "      <td>0</td>\n",
       "    </tr>\n",
       "    <tr>\n",
       "      <th>197</th>\n",
       "      <td>4.0</td>\n",
       "      <td>6.0</td>\n",
       "      <td>1500.0</td>\n",
       "      <td>0.468750</td>\n",
       "      <td>0</td>\n",
       "    </tr>\n",
       "    <tr>\n",
       "      <th>650</th>\n",
       "      <td>9.0</td>\n",
       "      <td>1.0</td>\n",
       "      <td>250.0</td>\n",
       "      <td>0.072917</td>\n",
       "      <td>0</td>\n",
       "    </tr>\n",
       "    <tr>\n",
       "      <th>68</th>\n",
       "      <td>4.0</td>\n",
       "      <td>7.0</td>\n",
       "      <td>1750.0</td>\n",
       "      <td>0.239583</td>\n",
       "      <td>0</td>\n",
       "    </tr>\n",
       "    <tr>\n",
       "      <th>...</th>\n",
       "      <td>...</td>\n",
       "      <td>...</td>\n",
       "      <td>...</td>\n",
       "      <td>...</td>\n",
       "      <td>...</td>\n",
       "    </tr>\n",
       "    <tr>\n",
       "      <th>73</th>\n",
       "      <td>2.0</td>\n",
       "      <td>2.0</td>\n",
       "      <td>500.0</td>\n",
       "      <td>0.020833</td>\n",
       "      <td>0</td>\n",
       "    </tr>\n",
       "    <tr>\n",
       "      <th>400</th>\n",
       "      <td>18.0</td>\n",
       "      <td>2.0</td>\n",
       "      <td>500.0</td>\n",
       "      <td>0.218750</td>\n",
       "      <td>0</td>\n",
       "    </tr>\n",
       "    <tr>\n",
       "      <th>118</th>\n",
       "      <td>1.0</td>\n",
       "      <td>7.0</td>\n",
       "      <td>1750.0</td>\n",
       "      <td>0.572917</td>\n",
       "      <td>0</td>\n",
       "    </tr>\n",
       "    <tr>\n",
       "      <th>701</th>\n",
       "      <td>16.0</td>\n",
       "      <td>1.0</td>\n",
       "      <td>250.0</td>\n",
       "      <td>0.145833</td>\n",
       "      <td>0</td>\n",
       "    </tr>\n",
       "    <tr>\n",
       "      <th>206</th>\n",
       "      <td>2.0</td>\n",
       "      <td>2.0</td>\n",
       "      <td>500.0</td>\n",
       "      <td>0.145833</td>\n",
       "      <td>0</td>\n",
       "    </tr>\n",
       "  </tbody>\n",
       "</table>\n",
       "<p>523 rows × 5 columns</p>\n",
       "</div>"
      ],
      "text/plain": [
       "     months_since_last_donation  total_number_of_donations  \\\n",
       "228                         4.0                        1.0   \n",
       "322                        11.0                        4.0   \n",
       "197                         4.0                        6.0   \n",
       "650                         9.0                        1.0   \n",
       "68                          4.0                        7.0   \n",
       "..                          ...                        ...   \n",
       "73                          2.0                        2.0   \n",
       "400                        18.0                        2.0   \n",
       "118                         1.0                        7.0   \n",
       "701                        16.0                        1.0   \n",
       "206                         2.0                        2.0   \n",
       "\n",
       "     total_blood_donated  months_since_first_donation  class  \n",
       "228                250.0                     0.020833      0  \n",
       "322               1000.0                     0.333333      0  \n",
       "197               1500.0                     0.468750      0  \n",
       "650                250.0                     0.072917      0  \n",
       "68                1750.0                     0.239583      0  \n",
       "..                   ...                          ...    ...  \n",
       "73                 500.0                     0.020833      0  \n",
       "400                500.0                     0.218750      0  \n",
       "118               1750.0                     0.572917      0  \n",
       "701                250.0                     0.145833      0  \n",
       "206                500.0                     0.145833      0  \n",
       "\n",
       "[523 rows x 5 columns]"
      ]
     },
     "execution_count": 255,
     "metadata": {},
     "output_type": "execute_result"
    }
   ],
   "source": [
    "#TASK 3 \n",
    "\n",
    "train70, test30 = train_test_split(normalized, test_size=0.30, random_state=5, shuffle=True, stratify=None)\n",
    "train70"
   ]
  },
  {
   "cell_type": "code",
   "execution_count": 256,
   "metadata": {},
   "outputs": [
    {
     "data": {
      "text/html": [
       "<div>\n",
       "<style scoped>\n",
       "    .dataframe tbody tr th:only-of-type {\n",
       "        vertical-align: middle;\n",
       "    }\n",
       "\n",
       "    .dataframe tbody tr th {\n",
       "        vertical-align: top;\n",
       "    }\n",
       "\n",
       "    .dataframe thead th {\n",
       "        text-align: right;\n",
       "    }\n",
       "</style>\n",
       "<table border=\"1\" class=\"dataframe\">\n",
       "  <thead>\n",
       "    <tr style=\"text-align: right;\">\n",
       "      <th></th>\n",
       "      <th>months_since_last_donation</th>\n",
       "      <th>total_number_of_donations</th>\n",
       "      <th>total_blood_donated</th>\n",
       "      <th>months_since_first_donation</th>\n",
       "      <th>class</th>\n",
       "    </tr>\n",
       "  </thead>\n",
       "  <tbody>\n",
       "    <tr>\n",
       "      <th>709</th>\n",
       "      <td>21.0</td>\n",
       "      <td>6.0</td>\n",
       "      <td>1500.0</td>\n",
       "      <td>0.479167</td>\n",
       "      <td>0</td>\n",
       "    </tr>\n",
       "    <tr>\n",
       "      <th>704</th>\n",
       "      <td>16.0</td>\n",
       "      <td>1.0</td>\n",
       "      <td>250.0</td>\n",
       "      <td>0.145833</td>\n",
       "      <td>0</td>\n",
       "    </tr>\n",
       "    <tr>\n",
       "      <th>12</th>\n",
       "      <td>2.0</td>\n",
       "      <td>10.0</td>\n",
       "      <td>2500.0</td>\n",
       "      <td>0.270833</td>\n",
       "      <td>1</td>\n",
       "    </tr>\n",
       "    <tr>\n",
       "      <th>541</th>\n",
       "      <td>2.0</td>\n",
       "      <td>10.0</td>\n",
       "      <td>2500.0</td>\n",
       "      <td>0.520833</td>\n",
       "      <td>0</td>\n",
       "    </tr>\n",
       "    <tr>\n",
       "      <th>163</th>\n",
       "      <td>2.0</td>\n",
       "      <td>1.0</td>\n",
       "      <td>250.0</td>\n",
       "      <td>0.000000</td>\n",
       "      <td>1</td>\n",
       "    </tr>\n",
       "    <tr>\n",
       "      <th>...</th>\n",
       "      <td>...</td>\n",
       "      <td>...</td>\n",
       "      <td>...</td>\n",
       "      <td>...</td>\n",
       "      <td>...</td>\n",
       "    </tr>\n",
       "    <tr>\n",
       "      <th>630</th>\n",
       "      <td>8.0</td>\n",
       "      <td>9.0</td>\n",
       "      <td>2250.0</td>\n",
       "      <td>0.645833</td>\n",
       "      <td>0</td>\n",
       "    </tr>\n",
       "    <tr>\n",
       "      <th>596</th>\n",
       "      <td>3.0</td>\n",
       "      <td>1.0</td>\n",
       "      <td>250.0</td>\n",
       "      <td>0.010417</td>\n",
       "      <td>1</td>\n",
       "    </tr>\n",
       "    <tr>\n",
       "      <th>300</th>\n",
       "      <td>14.0</td>\n",
       "      <td>2.0</td>\n",
       "      <td>500.0</td>\n",
       "      <td>0.125000</td>\n",
       "      <td>0</td>\n",
       "    </tr>\n",
       "    <tr>\n",
       "      <th>326</th>\n",
       "      <td>2.0</td>\n",
       "      <td>2.0</td>\n",
       "      <td>500.0</td>\n",
       "      <td>0.406250</td>\n",
       "      <td>0</td>\n",
       "    </tr>\n",
       "    <tr>\n",
       "      <th>586</th>\n",
       "      <td>2.0</td>\n",
       "      <td>1.0</td>\n",
       "      <td>250.0</td>\n",
       "      <td>0.000000</td>\n",
       "      <td>1</td>\n",
       "    </tr>\n",
       "  </tbody>\n",
       "</table>\n",
       "<p>225 rows × 5 columns</p>\n",
       "</div>"
      ],
      "text/plain": [
       "     months_since_last_donation  total_number_of_donations  \\\n",
       "709                        21.0                        6.0   \n",
       "704                        16.0                        1.0   \n",
       "12                          2.0                       10.0   \n",
       "541                         2.0                       10.0   \n",
       "163                         2.0                        1.0   \n",
       "..                          ...                        ...   \n",
       "630                         8.0                        9.0   \n",
       "596                         3.0                        1.0   \n",
       "300                        14.0                        2.0   \n",
       "326                         2.0                        2.0   \n",
       "586                         2.0                        1.0   \n",
       "\n",
       "     total_blood_donated  months_since_first_donation  class  \n",
       "709               1500.0                     0.479167      0  \n",
       "704                250.0                     0.145833      0  \n",
       "12                2500.0                     0.270833      1  \n",
       "541               2500.0                     0.520833      0  \n",
       "163                250.0                     0.000000      1  \n",
       "..                   ...                          ...    ...  \n",
       "630               2250.0                     0.645833      0  \n",
       "596                250.0                     0.010417      1  \n",
       "300                500.0                     0.125000      0  \n",
       "326                500.0                     0.406250      0  \n",
       "586                250.0                     0.000000      1  \n",
       "\n",
       "[225 rows x 5 columns]"
      ]
     },
     "execution_count": 256,
     "metadata": {},
     "output_type": "execute_result"
    }
   ],
   "source": [
    "test30"
   ]
  },
  {
   "cell_type": "code",
   "execution_count": 257,
   "metadata": {},
   "outputs": [
    {
     "data": {
      "text/html": [
       "<div>\n",
       "<style scoped>\n",
       "    .dataframe tbody tr th:only-of-type {\n",
       "        vertical-align: middle;\n",
       "    }\n",
       "\n",
       "    .dataframe tbody tr th {\n",
       "        vertical-align: top;\n",
       "    }\n",
       "\n",
       "    .dataframe thead th {\n",
       "        text-align: right;\n",
       "    }\n",
       "</style>\n",
       "<table border=\"1\" class=\"dataframe\">\n",
       "  <thead>\n",
       "    <tr style=\"text-align: right;\">\n",
       "      <th></th>\n",
       "      <th>months_since_last_donation</th>\n",
       "      <th>total_number_of_donations</th>\n",
       "      <th>total_blood_donated</th>\n",
       "      <th>months_since_first_donation</th>\n",
       "      <th>class</th>\n",
       "    </tr>\n",
       "  </thead>\n",
       "  <tbody>\n",
       "    <tr>\n",
       "      <th>325</th>\n",
       "      <td>14.0</td>\n",
       "      <td>2.0</td>\n",
       "      <td>500.0</td>\n",
       "      <td>0.145833</td>\n",
       "      <td>0</td>\n",
       "    </tr>\n",
       "    <tr>\n",
       "      <th>709</th>\n",
       "      <td>21.0</td>\n",
       "      <td>6.0</td>\n",
       "      <td>1500.0</td>\n",
       "      <td>0.479167</td>\n",
       "      <td>0</td>\n",
       "    </tr>\n",
       "    <tr>\n",
       "      <th>613</th>\n",
       "      <td>4.0</td>\n",
       "      <td>1.0</td>\n",
       "      <td>250.0</td>\n",
       "      <td>0.020833</td>\n",
       "      <td>0</td>\n",
       "    </tr>\n",
       "    <tr>\n",
       "      <th>158</th>\n",
       "      <td>2.0</td>\n",
       "      <td>1.0</td>\n",
       "      <td>250.0</td>\n",
       "      <td>0.000000</td>\n",
       "      <td>0</td>\n",
       "    </tr>\n",
       "    <tr>\n",
       "      <th>43</th>\n",
       "      <td>2.0</td>\n",
       "      <td>5.0</td>\n",
       "      <td>1250.0</td>\n",
       "      <td>0.145833</td>\n",
       "      <td>0</td>\n",
       "    </tr>\n",
       "    <tr>\n",
       "      <th>...</th>\n",
       "      <td>...</td>\n",
       "      <td>...</td>\n",
       "      <td>...</td>\n",
       "      <td>...</td>\n",
       "      <td>...</td>\n",
       "    </tr>\n",
       "    <tr>\n",
       "      <th>335</th>\n",
       "      <td>16.0</td>\n",
       "      <td>3.0</td>\n",
       "      <td>750.0</td>\n",
       "      <td>0.197917</td>\n",
       "      <td>1</td>\n",
       "    </tr>\n",
       "    <tr>\n",
       "      <th>365</th>\n",
       "      <td>14.0</td>\n",
       "      <td>2.0</td>\n",
       "      <td>500.0</td>\n",
       "      <td>0.197917</td>\n",
       "      <td>1</td>\n",
       "    </tr>\n",
       "    <tr>\n",
       "      <th>618</th>\n",
       "      <td>4.0</td>\n",
       "      <td>1.0</td>\n",
       "      <td>250.0</td>\n",
       "      <td>0.020833</td>\n",
       "      <td>1</td>\n",
       "    </tr>\n",
       "    <tr>\n",
       "      <th>227</th>\n",
       "      <td>4.0</td>\n",
       "      <td>3.0</td>\n",
       "      <td>750.0</td>\n",
       "      <td>0.229167</td>\n",
       "      <td>0</td>\n",
       "    </tr>\n",
       "    <tr>\n",
       "      <th>713</th>\n",
       "      <td>16.0</td>\n",
       "      <td>6.0</td>\n",
       "      <td>1500.0</td>\n",
       "      <td>0.822917</td>\n",
       "      <td>0</td>\n",
       "    </tr>\n",
       "  </tbody>\n",
       "</table>\n",
       "<p>673 rows × 5 columns</p>\n",
       "</div>"
      ],
      "text/plain": [
       "     months_since_last_donation  total_number_of_donations  \\\n",
       "325                        14.0                        2.0   \n",
       "709                        21.0                        6.0   \n",
       "613                         4.0                        1.0   \n",
       "158                         2.0                        1.0   \n",
       "43                          2.0                        5.0   \n",
       "..                          ...                        ...   \n",
       "335                        16.0                        3.0   \n",
       "365                        14.0                        2.0   \n",
       "618                         4.0                        1.0   \n",
       "227                         4.0                        3.0   \n",
       "713                        16.0                        6.0   \n",
       "\n",
       "     total_blood_donated  months_since_first_donation  class  \n",
       "325                500.0                     0.145833      0  \n",
       "709               1500.0                     0.479167      0  \n",
       "613                250.0                     0.020833      0  \n",
       "158                250.0                     0.000000      0  \n",
       "43                1250.0                     0.145833      0  \n",
       "..                   ...                          ...    ...  \n",
       "335                750.0                     0.197917      1  \n",
       "365                500.0                     0.197917      1  \n",
       "618                250.0                     0.020833      1  \n",
       "227                750.0                     0.229167      0  \n",
       "713               1500.0                     0.822917      0  \n",
       "\n",
       "[673 rows x 5 columns]"
      ]
     },
     "execution_count": 257,
     "metadata": {},
     "output_type": "execute_result"
    }
   ],
   "source": [
    "# TASK 3\n",
    "train90, test10 = train_test_split(normalized, test_size=0.10, random_state=6, shuffle=True, stratify=None)\n",
    "train90"
   ]
  },
  {
   "cell_type": "code",
   "execution_count": 258,
   "metadata": {},
   "outputs": [
    {
     "data": {
      "text/html": [
       "<div>\n",
       "<style scoped>\n",
       "    .dataframe tbody tr th:only-of-type {\n",
       "        vertical-align: middle;\n",
       "    }\n",
       "\n",
       "    .dataframe tbody tr th {\n",
       "        vertical-align: top;\n",
       "    }\n",
       "\n",
       "    .dataframe thead th {\n",
       "        text-align: right;\n",
       "    }\n",
       "</style>\n",
       "<table border=\"1\" class=\"dataframe\">\n",
       "  <thead>\n",
       "    <tr style=\"text-align: right;\">\n",
       "      <th></th>\n",
       "      <th>months_since_last_donation</th>\n",
       "      <th>total_number_of_donations</th>\n",
       "      <th>total_blood_donated</th>\n",
       "      <th>months_since_first_donation</th>\n",
       "      <th>class</th>\n",
       "    </tr>\n",
       "  </thead>\n",
       "  <tbody>\n",
       "    <tr>\n",
       "      <th>648</th>\n",
       "      <td>11.0</td>\n",
       "      <td>3.0</td>\n",
       "      <td>750.0</td>\n",
       "      <td>0.218750</td>\n",
       "      <td>0</td>\n",
       "    </tr>\n",
       "    <tr>\n",
       "      <th>375</th>\n",
       "      <td>11.0</td>\n",
       "      <td>3.0</td>\n",
       "      <td>750.0</td>\n",
       "      <td>0.395833</td>\n",
       "      <td>1</td>\n",
       "    </tr>\n",
       "    <tr>\n",
       "      <th>390</th>\n",
       "      <td>11.0</td>\n",
       "      <td>4.0</td>\n",
       "      <td>1000.0</td>\n",
       "      <td>0.583333</td>\n",
       "      <td>0</td>\n",
       "    </tr>\n",
       "    <tr>\n",
       "      <th>199</th>\n",
       "      <td>9.0</td>\n",
       "      <td>9.0</td>\n",
       "      <td>2250.0</td>\n",
       "      <td>0.447917</td>\n",
       "      <td>0</td>\n",
       "    </tr>\n",
       "    <tr>\n",
       "      <th>507</th>\n",
       "      <td>2.0</td>\n",
       "      <td>11.0</td>\n",
       "      <td>2750.0</td>\n",
       "      <td>0.218750</td>\n",
       "      <td>0</td>\n",
       "    </tr>\n",
       "    <tr>\n",
       "      <th>...</th>\n",
       "      <td>...</td>\n",
       "      <td>...</td>\n",
       "      <td>...</td>\n",
       "      <td>...</td>\n",
       "      <td>...</td>\n",
       "    </tr>\n",
       "    <tr>\n",
       "      <th>59</th>\n",
       "      <td>3.0</td>\n",
       "      <td>6.0</td>\n",
       "      <td>1500.0</td>\n",
       "      <td>0.197917</td>\n",
       "      <td>0</td>\n",
       "    </tr>\n",
       "    <tr>\n",
       "      <th>640</th>\n",
       "      <td>11.0</td>\n",
       "      <td>8.0</td>\n",
       "      <td>2000.0</td>\n",
       "      <td>0.520833</td>\n",
       "      <td>1</td>\n",
       "    </tr>\n",
       "    <tr>\n",
       "      <th>677</th>\n",
       "      <td>23.0</td>\n",
       "      <td>19.0</td>\n",
       "      <td>4750.0</td>\n",
       "      <td>0.625000</td>\n",
       "      <td>0</td>\n",
       "    </tr>\n",
       "    <tr>\n",
       "      <th>696</th>\n",
       "      <td>14.0</td>\n",
       "      <td>3.0</td>\n",
       "      <td>750.0</td>\n",
       "      <td>0.343750</td>\n",
       "      <td>0</td>\n",
       "    </tr>\n",
       "    <tr>\n",
       "      <th>511</th>\n",
       "      <td>2.0</td>\n",
       "      <td>11.0</td>\n",
       "      <td>2750.0</td>\n",
       "      <td>0.250000</td>\n",
       "      <td>0</td>\n",
       "    </tr>\n",
       "  </tbody>\n",
       "</table>\n",
       "<p>75 rows × 5 columns</p>\n",
       "</div>"
      ],
      "text/plain": [
       "     months_since_last_donation  total_number_of_donations  \\\n",
       "648                        11.0                        3.0   \n",
       "375                        11.0                        3.0   \n",
       "390                        11.0                        4.0   \n",
       "199                         9.0                        9.0   \n",
       "507                         2.0                       11.0   \n",
       "..                          ...                        ...   \n",
       "59                          3.0                        6.0   \n",
       "640                        11.0                        8.0   \n",
       "677                        23.0                       19.0   \n",
       "696                        14.0                        3.0   \n",
       "511                         2.0                       11.0   \n",
       "\n",
       "     total_blood_donated  months_since_first_donation  class  \n",
       "648                750.0                     0.218750      0  \n",
       "375                750.0                     0.395833      1  \n",
       "390               1000.0                     0.583333      0  \n",
       "199               2250.0                     0.447917      0  \n",
       "507               2750.0                     0.218750      0  \n",
       "..                   ...                          ...    ...  \n",
       "59                1500.0                     0.197917      0  \n",
       "640               2000.0                     0.520833      1  \n",
       "677               4750.0                     0.625000      0  \n",
       "696                750.0                     0.343750      0  \n",
       "511               2750.0                     0.250000      0  \n",
       "\n",
       "[75 rows x 5 columns]"
      ]
     },
     "execution_count": 258,
     "metadata": {},
     "output_type": "execute_result"
    }
   ],
   "source": [
    "test10"
   ]
  },
  {
   "cell_type": "code",
   "execution_count": 267,
   "metadata": {},
   "outputs": [],
   "source": [
    "# The cleaning prcoess for the 90 | 10 split. \n",
    "\n",
    "y_train90 = train90['class']\n",
    "X_train90 = train90.drop(['class'], axis=1)\n",
    "\n",
    "y_test10 = test10['class']\n",
    "X_test10 = test10.drop(['class'], axis=1)\n"
   ]
  },
  {
   "cell_type": "code",
   "execution_count": 268,
   "metadata": {},
   "outputs": [],
   "source": [
    "# The cleaning prcoess for the 70 | 30 split. \n",
    "\n",
    "y_train70 = train70['class']\n",
    "X_train70 = train70.drop(['class'], axis=1)\n",
    "# X_train70.head()\n",
    "\n",
    "y_test30 = test30['class']\n",
    "X_test30 = test30.drop(['class'], axis=1)\n",
    "# X_test30.head()"
   ]
  },
  {
   "cell_type": "code",
   "execution_count": 269,
   "metadata": {},
   "outputs": [],
   "source": [
    "# Task 4\n",
    "# 4.1 KNN Classifier"
   ]
  },
  {
   "cell_type": "code",
   "execution_count": 270,
   "metadata": {},
   "outputs": [],
   "source": [
    "def knndistance(newpoint, neighbor, wholeset):\n",
    "    temp = pow(wholeset.loc[neighbor][0] - wholeset.loc[newpoint][0], 2) + pow(wholeset.loc[neighbor][1] - wholeset.loc[newpoint][1],2) + pow(wholeset.loc[neighbor][2] - wholeset.loc[newpoint][2],2) + pow(wholeset.loc[neighbor][3] - wholeset.loc[newpoint][3],2)\n",
    "    distance = pow(temp, 0.5)\n",
    "    return distance"
   ]
  },
  {
   "cell_type": "code",
   "execution_count": 271,
   "metadata": {},
   "outputs": [],
   "source": [
    "def mostcommonlabel(labels):\n",
    "    mostcommon = labels[0]\n",
    "    mostcommoncount = labels.count(mostcommon)\n",
    "    for i in labels:\n",
    "        label_i = labels[i]\n",
    "        count_i = labels.count(label_i)\n",
    "        if count_i > mostcommoncount:\n",
    "            mostcommon = label_i\n",
    "            mostcommoncount = count_i\n",
    "    return mostcommon"
   ]
  },
  {
   "cell_type": "code",
   "execution_count": 273,
   "metadata": {},
   "outputs": [],
   "source": [
    "def KNN_singlepoint(o, k, trainset, testset, wholeset):\n",
    "    knndataset = trainset.copy()\n",
    "    distances = [] \n",
    "    for neighbor in knndataset.index:\n",
    "        distance = knndistance(o, neighbor, wholeset)\n",
    "        distances.append(distance)\n",
    "    # add distances column to dataset\n",
    "    knndataset['Distance'] = distances\n",
    "    # sort dataset on distances from low to high\n",
    "    newdf = knndataset.sort_values(by=['Distance'])\n",
    "    # take the k datapoints with the lowest distances\n",
    "    knearest = newdf.head(k)\n",
    "    # from the k datapoints get the most common label\n",
    "    #prediction = mostcommonlabel(knearest[\"class\"].to_list())\n",
    "    prediction = statistics.mode(knearest[\"class\"].to_list())\n",
    "    # return that label\n",
    "    return prediction"
   ]
  },
  {
   "cell_type": "code",
   "execution_count": 274,
   "metadata": {},
   "outputs": [],
   "source": [
    "def KNN(k, trainset, testset, wholeset):\n",
    "    predictions = []\n",
    "    for o in testset.index:\n",
    "        pred = KNN_singlepoint(o, k, trainset, testset, wholeset)\n",
    "        #pred = o\n",
    "        #print(pred)\n",
    "        predictions.append(pred)\n",
    "    return predictions"
   ]
  },
  {
   "cell_type": "code",
   "execution_count": 275,
   "metadata": {},
   "outputs": [],
   "source": [
    "wholedf = df.drop(['class'], axis=1)"
   ]
  },
  {
   "cell_type": "code",
   "execution_count": 277,
   "metadata": {},
   "outputs": [
    {
     "data": {
      "text/plain": [
       "0.6933333333333334"
      ]
     },
     "execution_count": 277,
     "metadata": {},
     "output_type": "execute_result"
    }
   ],
   "source": [
    "predKNN90 = KNN(5, train90, test10, wholedf)\n",
    "accuracy_score(y_test10, predKNN90)"
   ]
  },
  {
   "cell_type": "code",
   "execution_count": 278,
   "metadata": {},
   "outputs": [
    {
     "data": {
      "text/plain": [
       "0.7644444444444445"
      ]
     },
     "execution_count": 278,
     "metadata": {},
     "output_type": "execute_result"
    }
   ],
   "source": [
    "predKNN70 = KNN(5, train70, test30, wholedf)\n",
    "accuracy_score(y_test30, predKNN70)"
   ]
  },
  {
   "cell_type": "code",
   "execution_count": 279,
   "metadata": {},
   "outputs": [
    {
     "name": "stdout",
     "output_type": "stream",
     "text": [
      "GaussianNB()\n"
     ]
    },
    {
     "data": {
      "text/plain": [
       "0.7333333333333333"
      ]
     },
     "execution_count": 279,
     "metadata": {},
     "output_type": "execute_result"
    }
   ],
   "source": [
    "# TASK 4\n",
    "# 4.2\n",
    "GausNB = GaussianNB()\n",
    "GausNB.fit(X_train90, y_train90)\n",
    "print(GausNB)\n",
    "\n",
    "predGNB90 = GausNB.predict(X_test10)\n",
    "accuracy_score(y_test10, predGNB90)"
   ]
  },
  {
   "cell_type": "code",
   "execution_count": 280,
   "metadata": {},
   "outputs": [
    {
     "name": "stdout",
     "output_type": "stream",
     "text": [
      "GaussianNB()\n"
     ]
    },
    {
     "data": {
      "text/plain": [
       "0.7688888888888888"
      ]
     },
     "execution_count": 280,
     "metadata": {},
     "output_type": "execute_result"
    }
   ],
   "source": [
    "# TASK 4\n",
    "# 4.2\n",
    "GausNB = GaussianNB()\n",
    "GausNB.fit(X_train70, y_train70)\n",
    "print(GausNB)\n",
    "\n",
    "predGNB70 = GausNB.predict(X_test30)\n",
    "accuracy_score(y_test30, predGNB70)"
   ]
  },
  {
   "cell_type": "code",
   "execution_count": 281,
   "metadata": {},
   "outputs": [
    {
     "data": {
      "text/plain": [
       "0.7466666666666667"
      ]
     },
     "execution_count": 281,
     "metadata": {},
     "output_type": "execute_result"
    }
   ],
   "source": [
    "# TASK 4\n",
    "# 4.3\n",
    "SVM_Model = SVC(gamma='auto')\n",
    "SVM_Model.fit(X_train90,y_train90)\n",
    "\n",
    "predSVM90 = SVM_Model.predict(X_test10)\n",
    "accuracy_score(y_test10, predSVM90)"
   ]
  },
  {
   "cell_type": "code",
   "execution_count": 282,
   "metadata": {},
   "outputs": [
    {
     "data": {
      "text/plain": [
       "0.7688888888888888"
      ]
     },
     "execution_count": 282,
     "metadata": {},
     "output_type": "execute_result"
    }
   ],
   "source": [
    "# TASK 4\n",
    "# 4.3\n",
    "SVM_Model = SVC(gamma='auto')\n",
    "SVM_Model.fit(X_train70,y_train70)\n",
    "\n",
    "predSVM70 = SVM_Model.predict(X_test30)\n",
    "accuracy_score(y_test30, predSVM70)"
   ]
  },
  {
   "cell_type": "code",
   "execution_count": 283,
   "metadata": {},
   "outputs": [
    {
     "data": {
      "text/plain": [
       "0.76"
      ]
     },
     "execution_count": 283,
     "metadata": {},
     "output_type": "execute_result"
    }
   ],
   "source": [
    "# TASK 4\n",
    "# 4.4\n",
    "MLP = neural_network.MLPClassifier(max_iter=5000)\n",
    "MLP.fit(X_train90, y_train90)\n",
    "\n",
    "predMLP90 = MLP.predict(X_test10)\n",
    "accuracy_score(y_test10, predMLP90)"
   ]
  },
  {
   "cell_type": "code",
   "execution_count": 284,
   "metadata": {},
   "outputs": [
    {
     "data": {
      "text/plain": [
       "0.7688888888888888"
      ]
     },
     "execution_count": 284,
     "metadata": {},
     "output_type": "execute_result"
    }
   ],
   "source": [
    "# TASK 4\n",
    "# 4.4\n",
    "MLP = neural_network.MLPClassifier(max_iter=5000)\n",
    "MLP.fit(X_train70, y_train70)\n",
    "\n",
    "predMLP70 = MLP.predict(X_test30)\n",
    "accuracy_score(y_test30, predMLP70)"
   ]
  },
  {
   "cell_type": "code",
   "execution_count": 286,
   "metadata": {},
   "outputs": [],
   "source": [
    "#Task 5\n",
    "#5.1 Confusion Matrix\n",
    "def confusion_matrix(actual, predicted):\n",
    "    TP = 0\n",
    "    FN = 0\n",
    "    FP = 0\n",
    "    TN = 0\n",
    "    for i in range(len(actual)):\n",
    "        if actual[i] == 1 and predicted[i] == 1:\n",
    "            TP += 1\n",
    "        elif actual[i] == 1 and predicted[i] == 0:\n",
    "            FN += 1\n",
    "        elif actual[i] == 0 and predicted[i] == 1:\n",
    "            FP += 1\n",
    "        elif actual[i] == 0 and predicted[i] == 0:\n",
    "            TN += 1\n",
    "    matrix = [[\"TP: \" + str(TP), \"FN: \" + str(FN)],[\"FP: \" + str(FP), \"TN: \" + str(TN)]]\n",
    "    return matrix"
   ]
  },
  {
   "cell_type": "code",
   "execution_count": 287,
   "metadata": {},
   "outputs": [
    {
     "name": "stdout",
     "output_type": "stream",
     "text": [
      "[['TP: 5' 'FN: 13']\n",
      " ['FP: 10' 'TN: 47']]\n"
     ]
    }
   ],
   "source": [
    "#90/10 KNN Confusion Matrix\n",
    "print(np.matrix(confusion_matrix(y_test10.to_list(), predKNN90)))"
   ]
  },
  {
   "cell_type": "code",
   "execution_count": 288,
   "metadata": {},
   "outputs": [
    {
     "name": "stdout",
     "output_type": "stream",
     "text": [
      "[['TP: 15' 'FN: 37']\n",
      " ['FP: 16' 'TN: 157']]\n"
     ]
    }
   ],
   "source": [
    "#70/30 KNN Confusion Matrix\n",
    "print(np.matrix(confusion_matrix(y_test30.to_list(), predKNN70)))"
   ]
  },
  {
   "cell_type": "code",
   "execution_count": 289,
   "metadata": {},
   "outputs": [
    {
     "name": "stdout",
     "output_type": "stream",
     "text": [
      "[['TP: 7' 'FN: 11']\n",
      " ['FP: 9' 'TN: 48']]\n"
     ]
    }
   ],
   "source": [
    "#90/10 GaussianNB Confusion Matrix\n",
    "print(np.matrix(confusion_matrix(y_test10.to_list(), predGNB90)))"
   ]
  },
  {
   "cell_type": "code",
   "execution_count": 290,
   "metadata": {},
   "outputs": [
    {
     "name": "stdout",
     "output_type": "stream",
     "text": [
      "[['TP: 12' 'FN: 40']\n",
      " ['FP: 12' 'TN: 161']]\n"
     ]
    }
   ],
   "source": [
    "#70/30 GaussianNB Confusion Matrix\n",
    "print(np.matrix(confusion_matrix(y_test30.to_list(), predGNB70)))"
   ]
  },
  {
   "cell_type": "code",
   "execution_count": 291,
   "metadata": {},
   "outputs": [
    {
     "name": "stdout",
     "output_type": "stream",
     "text": [
      "[['TP: 3' 'FN: 15']\n",
      " ['FP: 4' 'TN: 53']]\n"
     ]
    }
   ],
   "source": [
    "#90/10 SVM Confusion Matrix\n",
    "print(np.matrix(confusion_matrix(y_test10.to_list(), predSVM90)))"
   ]
  },
  {
   "cell_type": "code",
   "execution_count": 292,
   "metadata": {},
   "outputs": [
    {
     "name": "stdout",
     "output_type": "stream",
     "text": [
      "[['TP: 8' 'FN: 44']\n",
      " ['FP: 8' 'TN: 165']]\n"
     ]
    }
   ],
   "source": [
    "#70/30 SVM Confusion Matrix\n",
    "print(np.matrix(confusion_matrix(y_test30.to_list(), predSVM70)))"
   ]
  },
  {
   "cell_type": "code",
   "execution_count": 293,
   "metadata": {},
   "outputs": [
    {
     "name": "stdout",
     "output_type": "stream",
     "text": [
      "[['TP: 0' 'FN: 18']\n",
      " ['FP: 0' 'TN: 57']]\n"
     ]
    }
   ],
   "source": [
    "#90/10 MLP Confusion Matrix\n",
    "print(np.matrix(confusion_matrix(y_test10.to_list(), predMLP90)))"
   ]
  },
  {
   "cell_type": "code",
   "execution_count": 294,
   "metadata": {},
   "outputs": [
    {
     "name": "stdout",
     "output_type": "stream",
     "text": [
      "[['TP: 0' 'FN: 52']\n",
      " ['FP: 0' 'TN: 173']]\n"
     ]
    }
   ],
   "source": [
    "#70/30 MLP Confusion Matrix\n",
    "print(np.matrix(confusion_matrix(y_test30.to_list(), predMLP70)))"
   ]
  },
  {
   "cell_type": "code",
   "execution_count": 295,
   "metadata": {},
   "outputs": [],
   "source": [
    "# TASK 5\n",
    "# 5.2"
   ]
  },
  {
   "cell_type": "code",
   "execution_count": 296,
   "metadata": {},
   "outputs": [
    {
     "name": "stdout",
     "output_type": "stream",
     "text": [
      "              precision    recall  f1-score   support\n",
      "\n",
      "           0       0.78      0.82      0.80        57\n",
      "           1       0.33      0.28      0.30        18\n",
      "\n",
      "    accuracy                           0.69        75\n",
      "   macro avg       0.56      0.55      0.55        75\n",
      "weighted avg       0.68      0.69      0.68        75\n",
      "\n"
     ]
    }
   ],
   "source": [
    "print(classification_report(y_test10.to_list(), predKNN90))"
   ]
  },
  {
   "cell_type": "code",
   "execution_count": 297,
   "metadata": {},
   "outputs": [
    {
     "name": "stdout",
     "output_type": "stream",
     "text": [
      "              precision    recall  f1-score   support\n",
      "\n",
      "           0       0.81      0.91      0.86       173\n",
      "           1       0.48      0.29      0.36        52\n",
      "\n",
      "    accuracy                           0.76       225\n",
      "   macro avg       0.65      0.60      0.61       225\n",
      "weighted avg       0.73      0.76      0.74       225\n",
      "\n"
     ]
    }
   ],
   "source": [
    "print(classification_report(y_test30.to_list(), predKNN70))"
   ]
  },
  {
   "cell_type": "code",
   "execution_count": 298,
   "metadata": {},
   "outputs": [
    {
     "name": "stdout",
     "output_type": "stream",
     "text": [
      "              precision    recall  f1-score   support\n",
      "\n",
      "           0       0.81      0.84      0.83        57\n",
      "           1       0.44      0.39      0.41        18\n",
      "\n",
      "    accuracy                           0.73        75\n",
      "   macro avg       0.63      0.62      0.62        75\n",
      "weighted avg       0.72      0.73      0.73        75\n",
      "\n"
     ]
    }
   ],
   "source": [
    "print(classification_report(y_test10, predGNB90))"
   ]
  },
  {
   "cell_type": "code",
   "execution_count": 299,
   "metadata": {},
   "outputs": [
    {
     "name": "stdout",
     "output_type": "stream",
     "text": [
      "              precision    recall  f1-score   support\n",
      "\n",
      "           0       0.80      0.93      0.86       173\n",
      "           1       0.50      0.23      0.32        52\n",
      "\n",
      "    accuracy                           0.77       225\n",
      "   macro avg       0.65      0.58      0.59       225\n",
      "weighted avg       0.73      0.77      0.73       225\n",
      "\n"
     ]
    }
   ],
   "source": [
    "print(classification_report(y_test30, predGNB70))"
   ]
  },
  {
   "cell_type": "code",
   "execution_count": 300,
   "metadata": {},
   "outputs": [
    {
     "name": "stdout",
     "output_type": "stream",
     "text": [
      "              precision    recall  f1-score   support\n",
      "\n",
      "           0       0.78      0.93      0.85        57\n",
      "           1       0.43      0.17      0.24        18\n",
      "\n",
      "    accuracy                           0.75        75\n",
      "   macro avg       0.60      0.55      0.54        75\n",
      "weighted avg       0.70      0.75      0.70        75\n",
      "\n"
     ]
    }
   ],
   "source": [
    "print(classification_report(y_test10, predSVM90))"
   ]
  },
  {
   "cell_type": "code",
   "execution_count": 301,
   "metadata": {},
   "outputs": [
    {
     "name": "stdout",
     "output_type": "stream",
     "text": [
      "              precision    recall  f1-score   support\n",
      "\n",
      "           0       0.79      0.95      0.86       173\n",
      "           1       0.50      0.15      0.24        52\n",
      "\n",
      "    accuracy                           0.77       225\n",
      "   macro avg       0.64      0.55      0.55       225\n",
      "weighted avg       0.72      0.77      0.72       225\n",
      "\n"
     ]
    }
   ],
   "source": [
    "print(classification_report(y_test30, predSVM70))"
   ]
  },
  {
   "cell_type": "code",
   "execution_count": 302,
   "metadata": {},
   "outputs": [
    {
     "name": "stdout",
     "output_type": "stream",
     "text": [
      "              precision    recall  f1-score   support\n",
      "\n",
      "           0       0.76      1.00      0.86        57\n",
      "           1       0.00      0.00      0.00        18\n",
      "\n",
      "    accuracy                           0.76        75\n",
      "   macro avg       0.38      0.50      0.43        75\n",
      "weighted avg       0.58      0.76      0.66        75\n",
      "\n"
     ]
    },
    {
     "name": "stderr",
     "output_type": "stream",
     "text": [
      "c:\\Users\\Wietse Heijkers\\anaconda3\\Lib\\site-packages\\sklearn\\metrics\\_classification.py:1469: UndefinedMetricWarning:\n",
      "\n",
      "Precision and F-score are ill-defined and being set to 0.0 in labels with no predicted samples. Use `zero_division` parameter to control this behavior.\n",
      "\n",
      "c:\\Users\\Wietse Heijkers\\anaconda3\\Lib\\site-packages\\sklearn\\metrics\\_classification.py:1469: UndefinedMetricWarning:\n",
      "\n",
      "Precision and F-score are ill-defined and being set to 0.0 in labels with no predicted samples. Use `zero_division` parameter to control this behavior.\n",
      "\n",
      "c:\\Users\\Wietse Heijkers\\anaconda3\\Lib\\site-packages\\sklearn\\metrics\\_classification.py:1469: UndefinedMetricWarning:\n",
      "\n",
      "Precision and F-score are ill-defined and being set to 0.0 in labels with no predicted samples. Use `zero_division` parameter to control this behavior.\n",
      "\n"
     ]
    }
   ],
   "source": [
    "print(classification_report(y_test10,predMLP90))"
   ]
  },
  {
   "cell_type": "code",
   "execution_count": 303,
   "metadata": {},
   "outputs": [
    {
     "name": "stdout",
     "output_type": "stream",
     "text": [
      "              precision    recall  f1-score   support\n",
      "\n",
      "           0       0.77      1.00      0.87       173\n",
      "           1       0.00      0.00      0.00        52\n",
      "\n",
      "    accuracy                           0.77       225\n",
      "   macro avg       0.38      0.50      0.43       225\n",
      "weighted avg       0.59      0.77      0.67       225\n",
      "\n"
     ]
    },
    {
     "name": "stderr",
     "output_type": "stream",
     "text": [
      "c:\\Users\\Wietse Heijkers\\anaconda3\\Lib\\site-packages\\sklearn\\metrics\\_classification.py:1469: UndefinedMetricWarning:\n",
      "\n",
      "Precision and F-score are ill-defined and being set to 0.0 in labels with no predicted samples. Use `zero_division` parameter to control this behavior.\n",
      "\n",
      "c:\\Users\\Wietse Heijkers\\anaconda3\\Lib\\site-packages\\sklearn\\metrics\\_classification.py:1469: UndefinedMetricWarning:\n",
      "\n",
      "Precision and F-score are ill-defined and being set to 0.0 in labels with no predicted samples. Use `zero_division` parameter to control this behavior.\n",
      "\n",
      "c:\\Users\\Wietse Heijkers\\anaconda3\\Lib\\site-packages\\sklearn\\metrics\\_classification.py:1469: UndefinedMetricWarning:\n",
      "\n",
      "Precision and F-score are ill-defined and being set to 0.0 in labels with no predicted samples. Use `zero_division` parameter to control this behavior.\n",
      "\n"
     ]
    }
   ],
   "source": [
    "print(classification_report(y_test30,predMLP70))"
   ]
  },
  {
   "cell_type": "code",
   "execution_count": 304,
   "metadata": {},
   "outputs": [],
   "source": [
    "# TASK 5\n",
    "# 5.3"
   ]
  },
  {
   "cell_type": "code",
   "execution_count": 305,
   "metadata": {},
   "outputs": [],
   "source": [
    "#KNN"
   ]
  },
  {
   "cell_type": "code",
   "execution_count": 306,
   "metadata": {},
   "outputs": [
    {
     "data": {
      "text/plain": [
       "0.28735632183908044"
      ]
     },
     "execution_count": 306,
     "metadata": {},
     "output_type": "execute_result"
    }
   ],
   "source": [
    "fbeta_score(y_test10.to_list(), predKNN90, beta=2)"
   ]
  },
  {
   "cell_type": "code",
   "execution_count": 307,
   "metadata": {},
   "outputs": [
    {
     "data": {
      "text/plain": [
       "0.3138075313807531"
      ]
     },
     "execution_count": 307,
     "metadata": {},
     "output_type": "execute_result"
    }
   ],
   "source": [
    "fbeta_score(y_test30.to_list(), predKNN70, beta=2)"
   ]
  },
  {
   "cell_type": "code",
   "execution_count": 308,
   "metadata": {},
   "outputs": [],
   "source": [
    "#GaussianNB"
   ]
  },
  {
   "cell_type": "code",
   "execution_count": 309,
   "metadata": {},
   "outputs": [
    {
     "data": {
      "text/plain": [
       "0.3977272727272727"
      ]
     },
     "execution_count": 309,
     "metadata": {},
     "output_type": "execute_result"
    }
   ],
   "source": [
    "fbeta_score(y_test10, predGNB90, beta=2)"
   ]
  },
  {
   "cell_type": "code",
   "execution_count": 310,
   "metadata": {},
   "outputs": [
    {
     "data": {
      "text/plain": [
       "0.25862068965517243"
      ]
     },
     "execution_count": 310,
     "metadata": {},
     "output_type": "execute_result"
    }
   ],
   "source": [
    "fbeta_score(y_test30, predGNB70, beta=2)"
   ]
  },
  {
   "cell_type": "code",
   "execution_count": 311,
   "metadata": {},
   "outputs": [],
   "source": [
    "#MLP"
   ]
  },
  {
   "cell_type": "code",
   "execution_count": 312,
   "metadata": {},
   "outputs": [
    {
     "data": {
      "text/plain": [
       "0.0"
      ]
     },
     "execution_count": 312,
     "metadata": {},
     "output_type": "execute_result"
    }
   ],
   "source": [
    "fbeta_score(y_test10, predMLP90, beta=2)"
   ]
  },
  {
   "cell_type": "code",
   "execution_count": 313,
   "metadata": {},
   "outputs": [
    {
     "data": {
      "text/plain": [
       "0.0"
      ]
     },
     "execution_count": 313,
     "metadata": {},
     "output_type": "execute_result"
    }
   ],
   "source": [
    "fbeta_score(y_test30, predMLP70, beta=2)"
   ]
  },
  {
   "cell_type": "code",
   "execution_count": 314,
   "metadata": {},
   "outputs": [],
   "source": [
    "#SVM"
   ]
  },
  {
   "cell_type": "code",
   "execution_count": 315,
   "metadata": {},
   "outputs": [
    {
     "data": {
      "text/plain": [
       "0.18987341772151897"
      ]
     },
     "execution_count": 315,
     "metadata": {},
     "output_type": "execute_result"
    }
   ],
   "source": [
    "fbeta_score(y_test10, predSVM90, beta=2)"
   ]
  },
  {
   "cell_type": "code",
   "execution_count": 316,
   "metadata": {},
   "outputs": [
    {
     "data": {
      "text/plain": [
       "0.1785714285714286"
      ]
     },
     "execution_count": 316,
     "metadata": {},
     "output_type": "execute_result"
    }
   ],
   "source": [
    "fbeta_score(y_test30, predSVM70, beta=2)"
   ]
  },
  {
   "cell_type": "code",
   "execution_count": 317,
   "metadata": {},
   "outputs": [],
   "source": [
    "#Task 6 Cross Validation"
   ]
  },
  {
   "cell_type": "code",
   "execution_count": 319,
   "metadata": {},
   "outputs": [],
   "source": [
    "#We using KNN for Cross Validation and optimizing the K value from KNN.\n",
    "kparameters = [1,3,5,7,9]"
   ]
  },
  {
   "cell_type": "code",
   "execution_count": 320,
   "metadata": {},
   "outputs": [],
   "source": [
    "def CrossValidation(X_train, y_train):\n",
    "    kf = KFold(n_splits=5)\n",
    "    splitted = kf.split(X_train)\n",
    "    for i, (train_index, test_index) in enumerate(splitted):\n",
    "        print(f\"Fold {i}:\")\n",
    "        print(f\"K used in KNN: {kparameters[i]}\")\n",
    "        pred = KNN(kparameters[i], X_train.iloc[train_index.tolist()], X_train.iloc[test_index.tolist()], X_train)\n",
    "        actual = y_train.iloc[test_index].to_list()\n",
    "        score = fbeta_score(actual, pred, beta=2)\n",
    "        print(f\"Fbeta score: {score}\")\n",
    "        "
   ]
  },
  {
   "cell_type": "code",
   "execution_count": 321,
   "metadata": {},
   "outputs": [
    {
     "name": "stdout",
     "output_type": "stream",
     "text": [
      "Fold 0:\n",
      "K used in KNN: 1\n",
      "Fbeta score: 0.3208556149732621\n",
      "Fold 1:\n",
      "K used in KNN: 3\n",
      "Fbeta score: 0.4128440366972477\n",
      "Fold 2:\n",
      "K used in KNN: 5\n",
      "Fbeta score: 0.3823529411764706\n",
      "Fold 3:\n",
      "K used in KNN: 7\n",
      "Fbeta score: 0.3284671532846715\n",
      "Fold 4:\n",
      "K used in KNN: 9\n",
      "Fbeta score: 0.1408450704225352\n"
     ]
    }
   ],
   "source": [
    "#Cross Validation on 90/10 split\n",
    "CrossValidation(train90, y_train90)"
   ]
  },
  {
   "cell_type": "code",
   "execution_count": 322,
   "metadata": {},
   "outputs": [
    {
     "name": "stdout",
     "output_type": "stream",
     "text": [
      "Fold 0:\n",
      "K used in KNN: 1\n",
      "Fbeta score: 0.40540540540540543\n",
      "Fold 1:\n",
      "K used in KNN: 3\n",
      "Fbeta score: 0.31496062992125984\n",
      "Fold 2:\n",
      "K used in KNN: 5\n",
      "Fbeta score: 0.371900826446281\n",
      "Fold 3:\n",
      "K used in KNN: 7\n",
      "Fbeta score: 0.19607843137254902\n",
      "Fold 4:\n",
      "K used in KNN: 9\n",
      "Fbeta score: 0.2717391304347826\n"
     ]
    }
   ],
   "source": [
    "#Cross Validation on 70/30 split\n",
    "CrossValidation(train70, y_train70)"
   ]
  },
  {
   "cell_type": "code",
   "execution_count": null,
   "metadata": {},
   "outputs": [],
   "source": [
    "#The optimized parameter k for the 90/10 split is k=3"
   ]
  },
  {
   "cell_type": "code",
   "execution_count": 323,
   "metadata": {},
   "outputs": [],
   "source": [
    "#Refitted KNN Classifier for 90/10 split\n",
    "refitted90 = KNN(3, train90, test10, wholedf)"
   ]
  },
  {
   "cell_type": "code",
   "execution_count": null,
   "metadata": {},
   "outputs": [],
   "source": [
    "#The optimized parameter k for the 70/30 split is k=1"
   ]
  },
  {
   "cell_type": "code",
   "execution_count": 324,
   "metadata": {},
   "outputs": [],
   "source": [
    "#Refitted KNN Classifier for 70/30 split\n",
    "refitted70 = KNN(1, train70, test30, wholedf)"
   ]
  }
 ],
 "metadata": {
  "kernelspec": {
   "display_name": "Python 3",
   "language": "python",
   "name": "python3"
  },
  "language_info": {
   "codemirror_mode": {
    "name": "ipython",
    "version": 3
   },
   "file_extension": ".py",
   "mimetype": "text/x-python",
   "name": "python",
   "nbconvert_exporter": "python",
   "pygments_lexer": "ipython3",
   "version": "3.11.6"
  }
 },
 "nbformat": 4,
 "nbformat_minor": 2
}
