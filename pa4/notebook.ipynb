{
 "cells": [
  {
   "cell_type": "code",
   "execution_count": 301,
   "metadata": {},
   "outputs": [],
   "source": [
    "import numpy as np\n",
    "import pandas as pd\n",
    "import plotly.express as px\n",
    "import plotly.io as pio\n",
    "import matplotlib.pyplot as plt\n",
    "import plotly.graph_objects as go\n",
    "import numpy as np\n",
    "import scipy.stats as stats\n",
    "from sklearn import preprocessing\n",
    "from sklearn.model_selection import train_test_split\n",
    "from sklearn import metrics\n",
    "from sklearn.metrics import accuracy_score\n",
    "from sklearn.naive_bayes import GaussianNB\n",
    "\n",
    "from sklearn.svm import SVC\n",
    "from sklearn.preprocessing import StandardScaler\n",
    "\n",
    "from sklearn import neural_network\n",
    "from sklearn.metrics import classification_report\n",
    "from sklearn.metrics import fbeta_score\n",
    "\n",
    "\n",
    "\n",
    "pio.renderers.default = 'vscode'\n",
    "pio.templates.default = 'plotly'\n"
   ]
  },
  {
   "cell_type": "code",
   "execution_count": 302,
   "metadata": {},
   "outputs": [
    {
     "name": "stdout",
     "output_type": "stream",
     "text": [
      "Requirement already satisfied: seaborn in c:\\users\\aksel\\appdata\\local\\packages\\pythonsoftwarefoundation.python.3.11_qbz5n2kfra8p0\\localcache\\local-packages\\python311\\site-packages (0.13.0)\n",
      "Requirement already satisfied: numpy!=1.24.0,>=1.20 in c:\\users\\aksel\\appdata\\local\\packages\\pythonsoftwarefoundation.python.3.11_qbz5n2kfra8p0\\localcache\\local-packages\\python311\\site-packages (from seaborn) (1.25.2)\n",
      "Requirement already satisfied: pandas>=1.2 in c:\\users\\aksel\\appdata\\local\\packages\\pythonsoftwarefoundation.python.3.11_qbz5n2kfra8p0\\localcache\\local-packages\\python311\\site-packages (from seaborn) (2.1.0)\n",
      "Requirement already satisfied: matplotlib!=3.6.1,>=3.3 in c:\\users\\aksel\\appdata\\local\\packages\\pythonsoftwarefoundation.python.3.11_qbz5n2kfra8p0\\localcache\\local-packages\\python311\\site-packages (from seaborn) (3.8.0)\n",
      "Requirement already satisfied: contourpy>=1.0.1 in c:\\users\\aksel\\appdata\\local\\packages\\pythonsoftwarefoundation.python.3.11_qbz5n2kfra8p0\\localcache\\local-packages\\python311\\site-packages (from matplotlib!=3.6.1,>=3.3->seaborn) (1.1.1)\n",
      "Requirement already satisfied: cycler>=0.10 in c:\\users\\aksel\\appdata\\local\\packages\\pythonsoftwarefoundation.python.3.11_qbz5n2kfra8p0\\localcache\\local-packages\\python311\\site-packages (from matplotlib!=3.6.1,>=3.3->seaborn) (0.11.0)\n",
      "Requirement already satisfied: fonttools>=4.22.0 in c:\\users\\aksel\\appdata\\local\\packages\\pythonsoftwarefoundation.python.3.11_qbz5n2kfra8p0\\localcache\\local-packages\\python311\\site-packages (from matplotlib!=3.6.1,>=3.3->seaborn) (4.42.1)\n",
      "Requirement already satisfied: kiwisolver>=1.0.1 in c:\\users\\aksel\\appdata\\local\\packages\\pythonsoftwarefoundation.python.3.11_qbz5n2kfra8p0\\localcache\\local-packages\\python311\\site-packages (from matplotlib!=3.6.1,>=3.3->seaborn) (1.4.5)\n",
      "Requirement already satisfied: packaging>=20.0 in c:\\users\\aksel\\appdata\\local\\packages\\pythonsoftwarefoundation.python.3.11_qbz5n2kfra8p0\\localcache\\local-packages\\python311\\site-packages (from matplotlib!=3.6.1,>=3.3->seaborn) (23.1)\n",
      "Requirement already satisfied: pillow>=6.2.0 in c:\\users\\aksel\\appdata\\local\\packages\\pythonsoftwarefoundation.python.3.11_qbz5n2kfra8p0\\localcache\\local-packages\\python311\\site-packages (from matplotlib!=3.6.1,>=3.3->seaborn) (10.0.1)\n",
      "Requirement already satisfied: pyparsing>=2.3.1 in c:\\users\\aksel\\appdata\\local\\packages\\pythonsoftwarefoundation.python.3.11_qbz5n2kfra8p0\\localcache\\local-packages\\python311\\site-packages (from matplotlib!=3.6.1,>=3.3->seaborn) (3.1.1)\n",
      "Requirement already satisfied: python-dateutil>=2.7 in c:\\users\\aksel\\appdata\\local\\packages\\pythonsoftwarefoundation.python.3.11_qbz5n2kfra8p0\\localcache\\local-packages\\python311\\site-packages (from matplotlib!=3.6.1,>=3.3->seaborn) (2.8.2)\n",
      "Requirement already satisfied: pytz>=2020.1 in c:\\users\\aksel\\appdata\\local\\packages\\pythonsoftwarefoundation.python.3.11_qbz5n2kfra8p0\\localcache\\local-packages\\python311\\site-packages (from pandas>=1.2->seaborn) (2023.3.post1)\n",
      "Requirement already satisfied: tzdata>=2022.1 in c:\\users\\aksel\\appdata\\local\\packages\\pythonsoftwarefoundation.python.3.11_qbz5n2kfra8p0\\localcache\\local-packages\\python311\\site-packages (from pandas>=1.2->seaborn) (2023.3)\n",
      "Requirement already satisfied: six>=1.5 in c:\\users\\aksel\\appdata\\local\\packages\\pythonsoftwarefoundation.python.3.11_qbz5n2kfra8p0\\localcache\\local-packages\\python311\\site-packages (from python-dateutil>=2.7->matplotlib!=3.6.1,>=3.3->seaborn) (1.16.0)\n",
      "Note: you may need to restart the kernel to use updated packages.\n"
     ]
    },
    {
     "name": "stderr",
     "output_type": "stream",
     "text": [
      "\n",
      "[notice] A new release of pip is available: 23.2.1 -> 23.3.1\n",
      "[notice] To update, run: C:\\Users\\aksel\\AppData\\Local\\Microsoft\\WindowsApps\\PythonSoftwareFoundation.Python.3.11_qbz5n2kfra8p0\\python.exe -m pip install --upgrade pip\n"
     ]
    }
   ],
   "source": [
    "pip install seaborn\n"
   ]
  },
  {
   "cell_type": "code",
   "execution_count": 303,
   "metadata": {},
   "outputs": [],
   "source": [
    "import seaborn as sb"
   ]
  },
  {
   "cell_type": "code",
   "execution_count": 304,
   "metadata": {},
   "outputs": [
    {
     "name": "stdout",
     "output_type": "stream",
     "text": [
      "<class 'pandas.core.frame.DataFrame'>\n",
      "RangeIndex: 748 entries, 0 to 747\n",
      "Data columns (total 5 columns):\n",
      " #   Column                       Non-Null Count  Dtype  \n",
      "---  ------                       --------------  -----  \n",
      " 0   months_since_last_donation   748 non-null    float64\n",
      " 1   total_number_of_donations    748 non-null    float64\n",
      " 2   total_blood_donated          748 non-null    float64\n",
      " 3   months_since_first_donation  748 non-null    float64\n",
      " 4   class                        748 non-null    int64  \n",
      "dtypes: float64(4), int64(1)\n",
      "memory usage: 29.3 KB\n"
     ]
    }
   ],
   "source": [
    "# TASK 0\n",
    "\n",
    "df = df = pd.read_csv('blood_transfusion.csv')\n",
    "df.info()\n"
   ]
  },
  {
   "cell_type": "code",
   "execution_count": 305,
   "metadata": {},
   "outputs": [
    {
     "data": {
      "text/plain": [
       "months_since_last_donation     0\n",
       "total_number_of_donations      0\n",
       "total_blood_donated            0\n",
       "months_since_first_donation    0\n",
       "class                          0\n",
       "dtype: int64"
      ]
     },
     "execution_count": 305,
     "metadata": {},
     "output_type": "execute_result"
    }
   ],
   "source": [
    "df.isnull().sum()"
   ]
  },
  {
   "cell_type": "code",
   "execution_count": 306,
   "metadata": {},
   "outputs": [
    {
     "data": {
      "text/html": [
       "<div>\n",
       "<style scoped>\n",
       "    .dataframe tbody tr th:only-of-type {\n",
       "        vertical-align: middle;\n",
       "    }\n",
       "\n",
       "    .dataframe tbody tr th {\n",
       "        vertical-align: top;\n",
       "    }\n",
       "\n",
       "    .dataframe thead th {\n",
       "        text-align: right;\n",
       "    }\n",
       "</style>\n",
       "<table border=\"1\" class=\"dataframe\">\n",
       "  <thead>\n",
       "    <tr style=\"text-align: right;\">\n",
       "      <th></th>\n",
       "      <th>months_since_last_donation</th>\n",
       "      <th>total_number_of_donations</th>\n",
       "      <th>total_blood_donated</th>\n",
       "      <th>months_since_first_donation</th>\n",
       "      <th>class</th>\n",
       "    </tr>\n",
       "  </thead>\n",
       "  <tbody>\n",
       "    <tr>\n",
       "      <th>count</th>\n",
       "      <td>748.000000</td>\n",
       "      <td>748.000000</td>\n",
       "      <td>748.000000</td>\n",
       "      <td>748.000000</td>\n",
       "      <td>748.000000</td>\n",
       "    </tr>\n",
       "    <tr>\n",
       "      <th>mean</th>\n",
       "      <td>9.506684</td>\n",
       "      <td>5.514706</td>\n",
       "      <td>1378.676471</td>\n",
       "      <td>34.282086</td>\n",
       "      <td>0.237968</td>\n",
       "    </tr>\n",
       "    <tr>\n",
       "      <th>std</th>\n",
       "      <td>8.095396</td>\n",
       "      <td>5.839307</td>\n",
       "      <td>1459.826781</td>\n",
       "      <td>24.376714</td>\n",
       "      <td>0.426124</td>\n",
       "    </tr>\n",
       "    <tr>\n",
       "      <th>min</th>\n",
       "      <td>0.000000</td>\n",
       "      <td>1.000000</td>\n",
       "      <td>250.000000</td>\n",
       "      <td>2.000000</td>\n",
       "      <td>0.000000</td>\n",
       "    </tr>\n",
       "    <tr>\n",
       "      <th>25%</th>\n",
       "      <td>2.750000</td>\n",
       "      <td>2.000000</td>\n",
       "      <td>500.000000</td>\n",
       "      <td>16.000000</td>\n",
       "      <td>0.000000</td>\n",
       "    </tr>\n",
       "    <tr>\n",
       "      <th>50%</th>\n",
       "      <td>7.000000</td>\n",
       "      <td>4.000000</td>\n",
       "      <td>1000.000000</td>\n",
       "      <td>28.000000</td>\n",
       "      <td>0.000000</td>\n",
       "    </tr>\n",
       "    <tr>\n",
       "      <th>75%</th>\n",
       "      <td>14.000000</td>\n",
       "      <td>7.000000</td>\n",
       "      <td>1750.000000</td>\n",
       "      <td>50.000000</td>\n",
       "      <td>0.000000</td>\n",
       "    </tr>\n",
       "    <tr>\n",
       "      <th>max</th>\n",
       "      <td>74.000000</td>\n",
       "      <td>50.000000</td>\n",
       "      <td>12500.000000</td>\n",
       "      <td>98.000000</td>\n",
       "      <td>1.000000</td>\n",
       "    </tr>\n",
       "  </tbody>\n",
       "</table>\n",
       "</div>"
      ],
      "text/plain": [
       "       months_since_last_donation  total_number_of_donations  \\\n",
       "count                  748.000000                 748.000000   \n",
       "mean                     9.506684                   5.514706   \n",
       "std                      8.095396                   5.839307   \n",
       "min                      0.000000                   1.000000   \n",
       "25%                      2.750000                   2.000000   \n",
       "50%                      7.000000                   4.000000   \n",
       "75%                     14.000000                   7.000000   \n",
       "max                     74.000000                  50.000000   \n",
       "\n",
       "       total_blood_donated  months_since_first_donation       class  \n",
       "count           748.000000                   748.000000  748.000000  \n",
       "mean           1378.676471                    34.282086    0.237968  \n",
       "std            1459.826781                    24.376714    0.426124  \n",
       "min             250.000000                     2.000000    0.000000  \n",
       "25%             500.000000                    16.000000    0.000000  \n",
       "50%            1000.000000                    28.000000    0.000000  \n",
       "75%            1750.000000                    50.000000    0.000000  \n",
       "max           12500.000000                    98.000000    1.000000  "
      ]
     },
     "execution_count": 306,
     "metadata": {},
     "output_type": "execute_result"
    }
   ],
   "source": [
    "df.describe()"
   ]
  },
  {
   "cell_type": "code",
   "execution_count": 307,
   "metadata": {},
   "outputs": [],
   "source": [
    "#TASK 1"
   ]
  },
  {
   "cell_type": "code",
   "execution_count": 308,
   "metadata": {},
   "outputs": [
    {
     "data": {
      "text/plain": [
       "months_since_first_donation\n",
       "4.0     0.221519\n",
       "2.0     0.208861\n",
       "16.0    0.107595\n",
       "14.0    0.101266\n",
       "21.0    0.101266\n",
       "23.0    0.101266\n",
       "11.0    0.088608\n",
       "9.0     0.018987\n",
       "38.0    0.012658\n",
       "22.0    0.006329\n",
       "40.0    0.006329\n",
       "74.0    0.006329\n",
       "3.0     0.006329\n",
       "39.0    0.006329\n",
       "72.0    0.006329\n",
       "Name: proportion, dtype: float64"
      ]
     },
     "execution_count": 308,
     "metadata": {},
     "output_type": "execute_result"
    }
   ],
   "source": [
    "df[df['total_blood_donated'] == 250.0]['months_since_first_donation'].value_counts(normalize=True)"
   ]
  },
  {
   "cell_type": "code",
   "execution_count": 309,
   "metadata": {},
   "outputs": [
    {
     "data": {
      "text/plain": [
       "total_number_of_donations\n",
       "12.0    0.138889\n",
       "14.0    0.111111\n",
       "11.0    0.083333\n",
       "16.0    0.083333\n",
       "7.0     0.083333\n",
       "3.0     0.055556\n",
       "50.0    0.027778\n",
       "9.0     0.027778\n",
       "33.0    0.027778\n",
       "41.0    0.027778\n",
       "44.0    0.027778\n",
       "43.0    0.027778\n",
       "2.0     0.027778\n",
       "8.0     0.027778\n",
       "4.0     0.027778\n",
       "6.0     0.027778\n",
       "46.0    0.027778\n",
       "10.0    0.027778\n",
       "38.0    0.027778\n",
       "22.0    0.027778\n",
       "17.0    0.027778\n",
       "15.0    0.027778\n",
       "Name: proportion, dtype: float64"
      ]
     },
     "execution_count": 309,
     "metadata": {},
     "output_type": "execute_result"
    }
   ],
   "source": [
    "df[df['months_since_first_donation'] >= 84]['total_number_of_donations'].value_counts(normalize=True)"
   ]
  },
  {
   "cell_type": "code",
   "execution_count": 310,
   "metadata": {},
   "outputs": [
    {
     "data": {
      "text/plain": [
       "months_since_first_donation\n",
       "4.0     57\n",
       "16.0    51\n",
       "14.0    44\n",
       "23.0    36\n",
       "2.0     36\n",
       "        ..\n",
       "12.0     1\n",
       "55.0     1\n",
       "3.0      1\n",
       "13.0     1\n",
       "54.0     1\n",
       "Name: count, Length: 78, dtype: int64"
      ]
     },
     "execution_count": 310,
     "metadata": {},
     "output_type": "execute_result"
    }
   ],
   "source": [
    "df['months_since_first_donation'].value_counts()"
   ]
  },
  {
   "cell_type": "code",
   "execution_count": 311,
   "metadata": {},
   "outputs": [
    {
     "data": {
      "text/plain": [
       "months_since_last_donation\n",
       "2.0     173\n",
       "4.0     156\n",
       "11.0     84\n",
       "14.0     76\n",
       "16.0     63\n",
       "23.0     50\n",
       "21.0     44\n",
       "9.0      20\n",
       "3.0      13\n",
       "1.0       9\n",
       "7.0       8\n",
       "5.0       6\n",
       "8.0       6\n",
       "12.0      6\n",
       "6.0       5\n",
       "13.0      5\n",
       "0.0       5\n",
       "10.0      3\n",
       "38.0      2\n",
       "18.0      2\n",
       "15.0      2\n",
       "22.0      1\n",
       "26.0      1\n",
       "35.0      1\n",
       "40.0      1\n",
       "74.0      1\n",
       "20.0      1\n",
       "17.0      1\n",
       "25.0      1\n",
       "39.0      1\n",
       "72.0      1\n",
       "Name: count, dtype: int64"
      ]
     },
     "execution_count": 311,
     "metadata": {},
     "output_type": "execute_result"
    }
   ],
   "source": [
    "df['months_since_last_donation'].value_counts()"
   ]
  },
  {
   "cell_type": "code",
   "execution_count": 312,
   "metadata": {},
   "outputs": [
    {
     "data": {
      "text/plain": [
       "total_number_of_donations\n",
       "1.0     158\n",
       "2.0     112\n",
       "3.0      87\n",
       "4.0      62\n",
       "5.0      62\n",
       "6.0      52\n",
       "7.0      43\n",
       "8.0      31\n",
       "9.0      24\n",
       "11.0     22\n",
       "12.0     14\n",
       "10.0     14\n",
       "14.0     13\n",
       "16.0     13\n",
       "13.0      9\n",
       "15.0      6\n",
       "17.0      4\n",
       "24.0      3\n",
       "21.0      2\n",
       "19.0      2\n",
       "20.0      2\n",
       "22.0      2\n",
       "34.0      1\n",
       "41.0      1\n",
       "26.0      1\n",
       "44.0      1\n",
       "50.0      1\n",
       "43.0      1\n",
       "38.0      1\n",
       "18.0      1\n",
       "23.0      1\n",
       "46.0      1\n",
       "33.0      1\n",
       "Name: count, dtype: int64"
      ]
     },
     "execution_count": 312,
     "metadata": {},
     "output_type": "execute_result"
    }
   ],
   "source": [
    "df['total_number_of_donations'].value_counts()"
   ]
  },
  {
   "cell_type": "code",
   "execution_count": 313,
   "metadata": {},
   "outputs": [
    {
     "data": {
      "text/plain": [
       "total_blood_donated\n",
       "250.0      158\n",
       "500.0      112\n",
       "750.0       87\n",
       "1000.0      62\n",
       "1250.0      62\n",
       "1500.0      52\n",
       "1750.0      43\n",
       "2000.0      31\n",
       "2250.0      24\n",
       "2750.0      22\n",
       "3000.0      14\n",
       "2500.0      14\n",
       "3500.0      13\n",
       "4000.0      13\n",
       "3250.0       9\n",
       "3750.0       6\n",
       "4250.0       4\n",
       "6000.0       3\n",
       "5250.0       2\n",
       "4750.0       2\n",
       "5000.0       2\n",
       "5500.0       2\n",
       "8500.0       1\n",
       "10250.0      1\n",
       "6500.0       1\n",
       "11000.0      1\n",
       "12500.0      1\n",
       "10750.0      1\n",
       "9500.0       1\n",
       "4500.0       1\n",
       "5750.0       1\n",
       "11500.0      1\n",
       "8250.0       1\n",
       "Name: count, dtype: int64"
      ]
     },
     "execution_count": 313,
     "metadata": {},
     "output_type": "execute_result"
    }
   ],
   "source": [
    "df['total_blood_donated'].value_counts()            "
   ]
  },
  {
   "cell_type": "code",
   "execution_count": 314,
   "metadata": {},
   "outputs": [
    {
     "data": {
      "text/plain": [
       "months_since_last_donation  total_number_of_donations  total_blood_donated  months_since_first_donation  class\n",
       "2.0                         50.0                       12500.0              98.0                         1        1\n",
       "Name: count, dtype: int64"
      ]
     },
     "execution_count": 314,
     "metadata": {},
     "output_type": "execute_result"
    }
   ],
   "source": [
    "df[df['total_blood_donated'] == 12500].value_counts()"
   ]
  },
  {
   "cell_type": "code",
   "execution_count": 315,
   "metadata": {},
   "outputs": [],
   "source": [
    "def normalize(row, min, max):\n",
    "    return (row - min ) / (max - min)"
   ]
  },
  {
   "cell_type": "code",
   "execution_count": 316,
   "metadata": {},
   "outputs": [
    {
     "data": {
      "text/html": [
       "<div>\n",
       "<style scoped>\n",
       "    .dataframe tbody tr th:only-of-type {\n",
       "        vertical-align: middle;\n",
       "    }\n",
       "\n",
       "    .dataframe tbody tr th {\n",
       "        vertical-align: top;\n",
       "    }\n",
       "\n",
       "    .dataframe thead th {\n",
       "        text-align: right;\n",
       "    }\n",
       "</style>\n",
       "<table border=\"1\" class=\"dataframe\">\n",
       "  <thead>\n",
       "    <tr style=\"text-align: right;\">\n",
       "      <th></th>\n",
       "      <th>months_since_last_donation</th>\n",
       "      <th>total_number_of_donations</th>\n",
       "      <th>total_blood_donated</th>\n",
       "      <th>months_since_first_donation</th>\n",
       "      <th>class</th>\n",
       "    </tr>\n",
       "  </thead>\n",
       "  <tbody>\n",
       "    <tr>\n",
       "      <th>0</th>\n",
       "      <td>2.0</td>\n",
       "      <td>50.0</td>\n",
       "      <td>12500.0</td>\n",
       "      <td>1.000000</td>\n",
       "      <td>1</td>\n",
       "    </tr>\n",
       "    <tr>\n",
       "      <th>1</th>\n",
       "      <td>0.0</td>\n",
       "      <td>13.0</td>\n",
       "      <td>3250.0</td>\n",
       "      <td>0.270833</td>\n",
       "      <td>1</td>\n",
       "    </tr>\n",
       "    <tr>\n",
       "      <th>2</th>\n",
       "      <td>1.0</td>\n",
       "      <td>16.0</td>\n",
       "      <td>4000.0</td>\n",
       "      <td>0.343750</td>\n",
       "      <td>1</td>\n",
       "    </tr>\n",
       "    <tr>\n",
       "      <th>3</th>\n",
       "      <td>2.0</td>\n",
       "      <td>20.0</td>\n",
       "      <td>5000.0</td>\n",
       "      <td>0.447917</td>\n",
       "      <td>1</td>\n",
       "    </tr>\n",
       "    <tr>\n",
       "      <th>4</th>\n",
       "      <td>1.0</td>\n",
       "      <td>24.0</td>\n",
       "      <td>6000.0</td>\n",
       "      <td>0.781250</td>\n",
       "      <td>0</td>\n",
       "    </tr>\n",
       "    <tr>\n",
       "      <th>...</th>\n",
       "      <td>...</td>\n",
       "      <td>...</td>\n",
       "      <td>...</td>\n",
       "      <td>...</td>\n",
       "      <td>...</td>\n",
       "    </tr>\n",
       "    <tr>\n",
       "      <th>743</th>\n",
       "      <td>23.0</td>\n",
       "      <td>2.0</td>\n",
       "      <td>500.0</td>\n",
       "      <td>0.375000</td>\n",
       "      <td>0</td>\n",
       "    </tr>\n",
       "    <tr>\n",
       "      <th>744</th>\n",
       "      <td>21.0</td>\n",
       "      <td>2.0</td>\n",
       "      <td>500.0</td>\n",
       "      <td>0.520833</td>\n",
       "      <td>0</td>\n",
       "    </tr>\n",
       "    <tr>\n",
       "      <th>745</th>\n",
       "      <td>23.0</td>\n",
       "      <td>3.0</td>\n",
       "      <td>750.0</td>\n",
       "      <td>0.625000</td>\n",
       "      <td>0</td>\n",
       "    </tr>\n",
       "    <tr>\n",
       "      <th>746</th>\n",
       "      <td>39.0</td>\n",
       "      <td>1.0</td>\n",
       "      <td>250.0</td>\n",
       "      <td>0.385417</td>\n",
       "      <td>0</td>\n",
       "    </tr>\n",
       "    <tr>\n",
       "      <th>747</th>\n",
       "      <td>72.0</td>\n",
       "      <td>1.0</td>\n",
       "      <td>250.0</td>\n",
       "      <td>0.729167</td>\n",
       "      <td>0</td>\n",
       "    </tr>\n",
       "  </tbody>\n",
       "</table>\n",
       "<p>748 rows × 5 columns</p>\n",
       "</div>"
      ],
      "text/plain": [
       "     months_since_last_donation  total_number_of_donations  \\\n",
       "0                           2.0                       50.0   \n",
       "1                           0.0                       13.0   \n",
       "2                           1.0                       16.0   \n",
       "3                           2.0                       20.0   \n",
       "4                           1.0                       24.0   \n",
       "..                          ...                        ...   \n",
       "743                        23.0                        2.0   \n",
       "744                        21.0                        2.0   \n",
       "745                        23.0                        3.0   \n",
       "746                        39.0                        1.0   \n",
       "747                        72.0                        1.0   \n",
       "\n",
       "     total_blood_donated  months_since_first_donation  class  \n",
       "0                12500.0                     1.000000      1  \n",
       "1                 3250.0                     0.270833      1  \n",
       "2                 4000.0                     0.343750      1  \n",
       "3                 5000.0                     0.447917      1  \n",
       "4                 6000.0                     0.781250      0  \n",
       "..                   ...                          ...    ...  \n",
       "743                500.0                     0.375000      0  \n",
       "744                500.0                     0.520833      0  \n",
       "745                750.0                     0.625000      0  \n",
       "746                250.0                     0.385417      0  \n",
       "747                250.0                     0.729167      0  \n",
       "\n",
       "[748 rows x 5 columns]"
      ]
     },
     "execution_count": 316,
     "metadata": {},
     "output_type": "execute_result"
    }
   ],
   "source": [
    "# TASK 2\n",
    "# NORMALIZATION\n",
    "\n",
    "df[\"months_since_first_donation\"] = df[\"months_since_first_donation\"].apply(normalize, args=(df[\"months_since_first_donation\"].min(), df[\"months_since_first_donation\"].max(), ))\n",
    "df"
   ]
  },
  {
   "cell_type": "code",
   "execution_count": 317,
   "metadata": {},
   "outputs": [
    {
     "data": {
      "application/vnd.plotly.v1+json": {
       "config": {
        "plotlyServerURL": "https://plot.ly"
       },
       "data": [
        {
         "alignmentgroup": "True",
         "bingroup": "x",
         "hovertemplate": "months_since_last_donation=2.0<br>class=%{x}<br>count=%{y}<extra></extra>",
         "legendgroup": "2.0",
         "marker": {
          "color": "#636efa",
          "pattern": {
           "shape": ""
          }
         },
         "name": "2.0",
         "offsetgroup": "2.0",
         "orientation": "v",
         "showlegend": true,
         "type": "histogram",
         "x": [
          1,
          1,
          1,
          1,
          1,
          1,
          1,
          1,
          1,
          1,
          1,
          1,
          1,
          1,
          0,
          1,
          1,
          1,
          1,
          0,
          1,
          0,
          0,
          0,
          0,
          0,
          0,
          1,
          0,
          0,
          1,
          0,
          0,
          1,
          0,
          1,
          1,
          0,
          0,
          0,
          1,
          1,
          1,
          0,
          0,
          0,
          0,
          0,
          0,
          1,
          0,
          1,
          1,
          0,
          0,
          0,
          0,
          0,
          1,
          1,
          1,
          1,
          1,
          0,
          0,
          0,
          1,
          0,
          0,
          0,
          0,
          0,
          0,
          0,
          0,
          0,
          1,
          0,
          1,
          1,
          0,
          0,
          0,
          0,
          0,
          0,
          0,
          0,
          0,
          1,
          1,
          1,
          0,
          0,
          0,
          0,
          0,
          0,
          0,
          0,
          0,
          0,
          0,
          0,
          0,
          1,
          0,
          0,
          0,
          0,
          0,
          0,
          1,
          0,
          0,
          0,
          1,
          1,
          0,
          1,
          0,
          1,
          1,
          0,
          0,
          1,
          1,
          0,
          1,
          0,
          1,
          1,
          0,
          0,
          1,
          1,
          1,
          1,
          1,
          0,
          0,
          1,
          1,
          0,
          0,
          0,
          0,
          0,
          1,
          0,
          1,
          0,
          0,
          1,
          0,
          0,
          0,
          0,
          1,
          0,
          0,
          0,
          0,
          0,
          0,
          0,
          0,
          0,
          0,
          0,
          0,
          1,
          0
         ],
         "xaxis": "x",
         "yaxis": "y"
        },
        {
         "alignmentgroup": "True",
         "bingroup": "x",
         "hovertemplate": "months_since_last_donation=0.0<br>class=%{x}<br>count=%{y}<extra></extra>",
         "legendgroup": "0.0",
         "marker": {
          "color": "#EF553B",
          "pattern": {
           "shape": ""
          }
         },
         "name": "0.0",
         "offsetgroup": "0.0",
         "orientation": "v",
         "showlegend": true,
         "type": "histogram",
         "x": [
          1,
          0,
          0,
          0,
          1
         ],
         "xaxis": "x",
         "yaxis": "y"
        },
        {
         "alignmentgroup": "True",
         "bingroup": "x",
         "hovertemplate": "months_since_last_donation=1.0<br>class=%{x}<br>count=%{y}<extra></extra>",
         "legendgroup": "1.0",
         "marker": {
          "color": "#00cc96",
          "pattern": {
           "shape": ""
          }
         },
         "name": "1.0",
         "offsetgroup": "1.0",
         "orientation": "v",
         "showlegend": true,
         "type": "histogram",
         "x": [
          1,
          0,
          0,
          0,
          0,
          0,
          0,
          1,
          0
         ],
         "xaxis": "x",
         "yaxis": "y"
        },
        {
         "alignmentgroup": "True",
         "bingroup": "x",
         "hovertemplate": "months_since_last_donation=4.0<br>class=%{x}<br>count=%{y}<extra></extra>",
         "legendgroup": "4.0",
         "marker": {
          "color": "#ab63fa",
          "pattern": {
           "shape": ""
          }
         },
         "name": "4.0",
         "offsetgroup": "4.0",
         "orientation": "v",
         "showlegend": true,
         "type": "histogram",
         "x": [
          0,
          0,
          0,
          0,
          0,
          1,
          1,
          0,
          1,
          1,
          1,
          1,
          1,
          1,
          1,
          1,
          1,
          1,
          1,
          0,
          1,
          1,
          0,
          0,
          0,
          1,
          0,
          0,
          0,
          0,
          1,
          1,
          1,
          0,
          1,
          0,
          0,
          1,
          0,
          1,
          1,
          1,
          0,
          0,
          0,
          0,
          1,
          1,
          0,
          0,
          1,
          1,
          1,
          0,
          0,
          0,
          1,
          0,
          0,
          0,
          0,
          0,
          0,
          0,
          0,
          0,
          0,
          0,
          1,
          0,
          0,
          0,
          0,
          0,
          1,
          1,
          0,
          1,
          1,
          0,
          0,
          0,
          0,
          0,
          1,
          0,
          0,
          1,
          0,
          0,
          0,
          0,
          1,
          0,
          0,
          0,
          0,
          0,
          0,
          0,
          0,
          0,
          0,
          1,
          0,
          0,
          1,
          1,
          0,
          1,
          1,
          1,
          0,
          1,
          0,
          1,
          1,
          1,
          1,
          1,
          0,
          1,
          0,
          0,
          1,
          0,
          1,
          0,
          0,
          0,
          1,
          0,
          1,
          0,
          0,
          0,
          0,
          0,
          0,
          0,
          0,
          1,
          0,
          0,
          0,
          0,
          0,
          1,
          0,
          0,
          0,
          1,
          0,
          0,
          0,
          0
         ],
         "xaxis": "x",
         "yaxis": "y"
        },
        {
         "alignmentgroup": "True",
         "bingroup": "x",
         "hovertemplate": "months_since_last_donation=5.0<br>class=%{x}<br>count=%{y}<extra></extra>",
         "legendgroup": "5.0",
         "marker": {
          "color": "#FFA15A",
          "pattern": {
           "shape": ""
          }
         },
         "name": "5.0",
         "offsetgroup": "5.0",
         "orientation": "v",
         "showlegend": true,
         "type": "histogram",
         "x": [
          1,
          1,
          0,
          0,
          0,
          0
         ],
         "xaxis": "x",
         "yaxis": "y"
        },
        {
         "alignmentgroup": "True",
         "bingroup": "x",
         "hovertemplate": "months_since_last_donation=9.0<br>class=%{x}<br>count=%{y}<extra></extra>",
         "legendgroup": "9.0",
         "marker": {
          "color": "#19d3f3",
          "pattern": {
           "shape": ""
          }
         },
         "name": "9.0",
         "offsetgroup": "9.0",
         "orientation": "v",
         "showlegend": true,
         "type": "histogram",
         "x": [
          0,
          0,
          1,
          0,
          0,
          1,
          0,
          0,
          1,
          0,
          0,
          0,
          0,
          0,
          0,
          0,
          1,
          0,
          0,
          0
         ],
         "xaxis": "x",
         "yaxis": "y"
        },
        {
         "alignmentgroup": "True",
         "bingroup": "x",
         "hovertemplate": "months_since_last_donation=3.0<br>class=%{x}<br>count=%{y}<extra></extra>",
         "legendgroup": "3.0",
         "marker": {
          "color": "#FF6692",
          "pattern": {
           "shape": ""
          }
         },
         "name": "3.0",
         "offsetgroup": "3.0",
         "orientation": "v",
         "showlegend": true,
         "type": "histogram",
         "x": [
          0,
          0,
          0,
          0,
          0,
          1,
          0,
          1,
          1,
          0,
          1,
          0,
          1
         ],
         "xaxis": "x",
         "yaxis": "y"
        },
        {
         "alignmentgroup": "True",
         "bingroup": "x",
         "hovertemplate": "months_since_last_donation=12.0<br>class=%{x}<br>count=%{y}<extra></extra>",
         "legendgroup": "12.0",
         "marker": {
          "color": "#B6E880",
          "pattern": {
           "shape": ""
          }
         },
         "name": "12.0",
         "offsetgroup": "12.0",
         "orientation": "v",
         "showlegend": true,
         "type": "histogram",
         "x": [
          0,
          0,
          0,
          0,
          0,
          0
         ],
         "xaxis": "x",
         "yaxis": "y"
        },
        {
         "alignmentgroup": "True",
         "bingroup": "x",
         "hovertemplate": "months_since_last_donation=6.0<br>class=%{x}<br>count=%{y}<extra></extra>",
         "legendgroup": "6.0",
         "marker": {
          "color": "#FF97FF",
          "pattern": {
           "shape": ""
          }
         },
         "name": "6.0",
         "offsetgroup": "6.0",
         "orientation": "v",
         "showlegend": true,
         "type": "histogram",
         "x": [
          0,
          0,
          1,
          1,
          0
         ],
         "xaxis": "x",
         "yaxis": "y"
        },
        {
         "alignmentgroup": "True",
         "bingroup": "x",
         "hovertemplate": "months_since_last_donation=11.0<br>class=%{x}<br>count=%{y}<extra></extra>",
         "legendgroup": "11.0",
         "marker": {
          "color": "#FECB52",
          "pattern": {
           "shape": ""
          }
         },
         "name": "11.0",
         "offsetgroup": "11.0",
         "orientation": "v",
         "showlegend": true,
         "type": "histogram",
         "x": [
          0,
          0,
          1,
          0,
          0,
          0,
          0,
          0,
          0,
          0,
          0,
          0,
          1,
          0,
          0,
          0,
          0,
          1,
          1,
          0,
          1,
          0,
          0,
          0,
          0,
          0,
          0,
          0,
          1,
          0,
          0,
          0,
          0,
          1,
          0,
          0,
          1,
          0,
          0,
          1,
          0,
          0,
          0,
          0,
          0,
          0,
          0,
          0,
          0,
          0,
          0,
          0,
          0,
          0,
          0,
          1,
          0,
          0,
          0,
          0,
          0,
          0,
          0,
          0,
          0,
          0,
          0,
          0,
          0,
          1,
          0,
          0,
          0,
          0,
          0,
          0,
          0,
          1,
          0,
          0,
          0,
          0,
          0,
          1
         ],
         "xaxis": "x",
         "yaxis": "y"
        },
        {
         "alignmentgroup": "True",
         "bingroup": "x",
         "hovertemplate": "months_since_last_donation=10.0<br>class=%{x}<br>count=%{y}<extra></extra>",
         "legendgroup": "10.0",
         "marker": {
          "color": "#636efa",
          "pattern": {
           "shape": ""
          }
         },
         "name": "10.0",
         "offsetgroup": "10.0",
         "orientation": "v",
         "showlegend": true,
         "type": "histogram",
         "x": [
          0,
          0,
          0
         ],
         "xaxis": "x",
         "yaxis": "y"
        },
        {
         "alignmentgroup": "True",
         "bingroup": "x",
         "hovertemplate": "months_since_last_donation=13.0<br>class=%{x}<br>count=%{y}<extra></extra>",
         "legendgroup": "13.0",
         "marker": {
          "color": "#EF553B",
          "pattern": {
           "shape": ""
          }
         },
         "name": "13.0",
         "offsetgroup": "13.0",
         "orientation": "v",
         "showlegend": true,
         "type": "histogram",
         "x": [
          0,
          0,
          1,
          0,
          0
         ],
         "xaxis": "x",
         "yaxis": "y"
        },
        {
         "alignmentgroup": "True",
         "bingroup": "x",
         "hovertemplate": "months_since_last_donation=8.0<br>class=%{x}<br>count=%{y}<extra></extra>",
         "legendgroup": "8.0",
         "marker": {
          "color": "#00cc96",
          "pattern": {
           "shape": ""
          }
         },
         "name": "8.0",
         "offsetgroup": "8.0",
         "orientation": "v",
         "showlegend": true,
         "type": "histogram",
         "x": [
          0,
          0,
          0,
          1,
          0,
          0
         ],
         "xaxis": "x",
         "yaxis": "y"
        },
        {
         "alignmentgroup": "True",
         "bingroup": "x",
         "hovertemplate": "months_since_last_donation=14.0<br>class=%{x}<br>count=%{y}<extra></extra>",
         "legendgroup": "14.0",
         "marker": {
          "color": "#ab63fa",
          "pattern": {
           "shape": ""
          }
         },
         "name": "14.0",
         "offsetgroup": "14.0",
         "orientation": "v",
         "showlegend": true,
         "type": "histogram",
         "x": [
          0,
          0,
          0,
          0,
          1,
          0,
          1,
          1,
          1,
          0,
          0,
          0,
          0,
          0,
          0,
          0,
          0,
          0,
          1,
          0,
          0,
          1,
          0,
          0,
          0,
          0,
          1,
          0,
          0,
          0,
          0,
          0,
          0,
          0,
          0,
          0,
          0,
          0,
          0,
          0,
          0,
          0,
          0,
          0,
          0,
          0,
          0,
          0,
          0,
          0,
          0,
          0,
          0,
          0,
          1,
          0,
          0,
          0,
          0,
          0,
          0,
          0,
          0,
          0,
          0,
          0,
          0,
          0,
          0,
          0,
          0,
          0,
          0,
          0,
          1,
          0
         ],
         "xaxis": "x",
         "yaxis": "y"
        },
        {
         "alignmentgroup": "True",
         "bingroup": "x",
         "hovertemplate": "months_since_last_donation=7.0<br>class=%{x}<br>count=%{y}<extra></extra>",
         "legendgroup": "7.0",
         "marker": {
          "color": "#FFA15A",
          "pattern": {
           "shape": ""
          }
         },
         "name": "7.0",
         "offsetgroup": "7.0",
         "orientation": "v",
         "showlegend": true,
         "type": "histogram",
         "x": [
          0,
          0,
          0,
          0,
          0,
          0,
          1,
          0
         ],
         "xaxis": "x",
         "yaxis": "y"
        },
        {
         "alignmentgroup": "True",
         "bingroup": "x",
         "hovertemplate": "months_since_last_donation=16.0<br>class=%{x}<br>count=%{y}<extra></extra>",
         "legendgroup": "16.0",
         "marker": {
          "color": "#19d3f3",
          "pattern": {
           "shape": ""
          }
         },
         "name": "16.0",
         "offsetgroup": "16.0",
         "orientation": "v",
         "showlegend": true,
         "type": "histogram",
         "x": [
          0,
          0,
          0,
          0,
          0,
          0,
          0,
          0,
          0,
          1,
          0,
          1,
          0,
          0,
          1,
          0,
          0,
          0,
          0,
          0,
          0,
          0,
          0,
          0,
          0,
          0,
          0,
          0,
          0,
          0,
          0,
          0,
          0,
          0,
          0,
          0,
          1,
          0,
          0,
          0,
          0,
          0,
          0,
          0,
          0,
          0,
          0,
          0,
          0,
          0,
          0,
          0,
          0,
          0,
          0,
          0,
          0,
          0,
          0,
          0,
          0,
          0,
          0
         ],
         "xaxis": "x",
         "yaxis": "y"
        },
        {
         "alignmentgroup": "True",
         "bingroup": "x",
         "hovertemplate": "months_since_last_donation=15.0<br>class=%{x}<br>count=%{y}<extra></extra>",
         "legendgroup": "15.0",
         "marker": {
          "color": "#FF6692",
          "pattern": {
           "shape": ""
          }
         },
         "name": "15.0",
         "offsetgroup": "15.0",
         "orientation": "v",
         "showlegend": true,
         "type": "histogram",
         "x": [
          0,
          0
         ],
         "xaxis": "x",
         "yaxis": "y"
        },
        {
         "alignmentgroup": "True",
         "bingroup": "x",
         "hovertemplate": "months_since_last_donation=23.0<br>class=%{x}<br>count=%{y}<extra></extra>",
         "legendgroup": "23.0",
         "marker": {
          "color": "#B6E880",
          "pattern": {
           "shape": ""
          }
         },
         "name": "23.0",
         "offsetgroup": "23.0",
         "orientation": "v",
         "showlegend": true,
         "type": "histogram",
         "x": [
          0,
          0,
          0,
          0,
          0,
          0,
          0,
          0,
          0,
          0,
          0,
          0,
          0,
          0,
          0,
          0,
          0,
          0,
          0,
          0,
          0,
          0,
          0,
          0,
          0,
          0,
          0,
          0,
          0,
          0,
          0,
          0,
          0,
          0,
          0,
          0,
          0,
          0,
          1,
          0,
          0,
          0,
          0,
          0,
          0,
          0,
          0,
          0,
          0,
          0
         ],
         "xaxis": "x",
         "yaxis": "y"
        },
        {
         "alignmentgroup": "True",
         "bingroup": "x",
         "hovertemplate": "months_since_last_donation=21.0<br>class=%{x}<br>count=%{y}<extra></extra>",
         "legendgroup": "21.0",
         "marker": {
          "color": "#FF97FF",
          "pattern": {
           "shape": ""
          }
         },
         "name": "21.0",
         "offsetgroup": "21.0",
         "orientation": "v",
         "showlegend": true,
         "type": "histogram",
         "x": [
          0,
          0,
          1,
          0,
          1,
          0,
          0,
          0,
          0,
          0,
          0,
          0,
          0,
          0,
          0,
          0,
          0,
          0,
          0,
          0,
          1,
          0,
          0,
          0,
          0,
          0,
          0,
          0,
          0,
          0,
          0,
          0,
          0,
          0,
          0,
          0,
          0,
          0,
          0,
          0,
          0,
          0,
          0,
          0
         ],
         "xaxis": "x",
         "yaxis": "y"
        },
        {
         "alignmentgroup": "True",
         "bingroup": "x",
         "hovertemplate": "months_since_last_donation=18.0<br>class=%{x}<br>count=%{y}<extra></extra>",
         "legendgroup": "18.0",
         "marker": {
          "color": "#FECB52",
          "pattern": {
           "shape": ""
          }
         },
         "name": "18.0",
         "offsetgroup": "18.0",
         "orientation": "v",
         "showlegend": true,
         "type": "histogram",
         "x": [
          0,
          0
         ],
         "xaxis": "x",
         "yaxis": "y"
        },
        {
         "alignmentgroup": "True",
         "bingroup": "x",
         "hovertemplate": "months_since_last_donation=22.0<br>class=%{x}<br>count=%{y}<extra></extra>",
         "legendgroup": "22.0",
         "marker": {
          "color": "#636efa",
          "pattern": {
           "shape": ""
          }
         },
         "name": "22.0",
         "offsetgroup": "22.0",
         "orientation": "v",
         "showlegend": true,
         "type": "histogram",
         "x": [
          1
         ],
         "xaxis": "x",
         "yaxis": "y"
        },
        {
         "alignmentgroup": "True",
         "bingroup": "x",
         "hovertemplate": "months_since_last_donation=26.0<br>class=%{x}<br>count=%{y}<extra></extra>",
         "legendgroup": "26.0",
         "marker": {
          "color": "#EF553B",
          "pattern": {
           "shape": ""
          }
         },
         "name": "26.0",
         "offsetgroup": "26.0",
         "orientation": "v",
         "showlegend": true,
         "type": "histogram",
         "x": [
          1
         ],
         "xaxis": "x",
         "yaxis": "y"
        },
        {
         "alignmentgroup": "True",
         "bingroup": "x",
         "hovertemplate": "months_since_last_donation=35.0<br>class=%{x}<br>count=%{y}<extra></extra>",
         "legendgroup": "35.0",
         "marker": {
          "color": "#00cc96",
          "pattern": {
           "shape": ""
          }
         },
         "name": "35.0",
         "offsetgroup": "35.0",
         "orientation": "v",
         "showlegend": true,
         "type": "histogram",
         "x": [
          0
         ],
         "xaxis": "x",
         "yaxis": "y"
        },
        {
         "alignmentgroup": "True",
         "bingroup": "x",
         "hovertemplate": "months_since_last_donation=38.0<br>class=%{x}<br>count=%{y}<extra></extra>",
         "legendgroup": "38.0",
         "marker": {
          "color": "#ab63fa",
          "pattern": {
           "shape": ""
          }
         },
         "name": "38.0",
         "offsetgroup": "38.0",
         "orientation": "v",
         "showlegend": true,
         "type": "histogram",
         "x": [
          0,
          0
         ],
         "xaxis": "x",
         "yaxis": "y"
        },
        {
         "alignmentgroup": "True",
         "bingroup": "x",
         "hovertemplate": "months_since_last_donation=40.0<br>class=%{x}<br>count=%{y}<extra></extra>",
         "legendgroup": "40.0",
         "marker": {
          "color": "#FFA15A",
          "pattern": {
           "shape": ""
          }
         },
         "name": "40.0",
         "offsetgroup": "40.0",
         "orientation": "v",
         "showlegend": true,
         "type": "histogram",
         "x": [
          0
         ],
         "xaxis": "x",
         "yaxis": "y"
        },
        {
         "alignmentgroup": "True",
         "bingroup": "x",
         "hovertemplate": "months_since_last_donation=74.0<br>class=%{x}<br>count=%{y}<extra></extra>",
         "legendgroup": "74.0",
         "marker": {
          "color": "#19d3f3",
          "pattern": {
           "shape": ""
          }
         },
         "name": "74.0",
         "offsetgroup": "74.0",
         "orientation": "v",
         "showlegend": true,
         "type": "histogram",
         "x": [
          0
         ],
         "xaxis": "x",
         "yaxis": "y"
        },
        {
         "alignmentgroup": "True",
         "bingroup": "x",
         "hovertemplate": "months_since_last_donation=20.0<br>class=%{x}<br>count=%{y}<extra></extra>",
         "legendgroup": "20.0",
         "marker": {
          "color": "#FF6692",
          "pattern": {
           "shape": ""
          }
         },
         "name": "20.0",
         "offsetgroup": "20.0",
         "orientation": "v",
         "showlegend": true,
         "type": "histogram",
         "x": [
          1
         ],
         "xaxis": "x",
         "yaxis": "y"
        },
        {
         "alignmentgroup": "True",
         "bingroup": "x",
         "hovertemplate": "months_since_last_donation=17.0<br>class=%{x}<br>count=%{y}<extra></extra>",
         "legendgroup": "17.0",
         "marker": {
          "color": "#B6E880",
          "pattern": {
           "shape": ""
          }
         },
         "name": "17.0",
         "offsetgroup": "17.0",
         "orientation": "v",
         "showlegend": true,
         "type": "histogram",
         "x": [
          1
         ],
         "xaxis": "x",
         "yaxis": "y"
        },
        {
         "alignmentgroup": "True",
         "bingroup": "x",
         "hovertemplate": "months_since_last_donation=25.0<br>class=%{x}<br>count=%{y}<extra></extra>",
         "legendgroup": "25.0",
         "marker": {
          "color": "#FF97FF",
          "pattern": {
           "shape": ""
          }
         },
         "name": "25.0",
         "offsetgroup": "25.0",
         "orientation": "v",
         "showlegend": true,
         "type": "histogram",
         "x": [
          0
         ],
         "xaxis": "x",
         "yaxis": "y"
        },
        {
         "alignmentgroup": "True",
         "bingroup": "x",
         "hovertemplate": "months_since_last_donation=39.0<br>class=%{x}<br>count=%{y}<extra></extra>",
         "legendgroup": "39.0",
         "marker": {
          "color": "#FECB52",
          "pattern": {
           "shape": ""
          }
         },
         "name": "39.0",
         "offsetgroup": "39.0",
         "orientation": "v",
         "showlegend": true,
         "type": "histogram",
         "x": [
          0
         ],
         "xaxis": "x",
         "yaxis": "y"
        },
        {
         "alignmentgroup": "True",
         "bingroup": "x",
         "hovertemplate": "months_since_last_donation=72.0<br>class=%{x}<br>count=%{y}<extra></extra>",
         "legendgroup": "72.0",
         "marker": {
          "color": "#636efa",
          "pattern": {
           "shape": ""
          }
         },
         "name": "72.0",
         "offsetgroup": "72.0",
         "orientation": "v",
         "showlegend": true,
         "type": "histogram",
         "x": [
          0
         ],
         "xaxis": "x",
         "yaxis": "y"
        }
       ],
       "layout": {
        "barmode": "relative",
        "legend": {
         "title": {
          "text": "months_since_last_donation"
         },
         "tracegroupgap": 0
        },
        "margin": {
         "t": 60
        },
        "template": {
         "data": {
          "bar": [
           {
            "error_x": {
             "color": "#2a3f5f"
            },
            "error_y": {
             "color": "#2a3f5f"
            },
            "marker": {
             "line": {
              "color": "#E5ECF6",
              "width": 0.5
             },
             "pattern": {
              "fillmode": "overlay",
              "size": 10,
              "solidity": 0.2
             }
            },
            "type": "bar"
           }
          ],
          "barpolar": [
           {
            "marker": {
             "line": {
              "color": "#E5ECF6",
              "width": 0.5
             },
             "pattern": {
              "fillmode": "overlay",
              "size": 10,
              "solidity": 0.2
             }
            },
            "type": "barpolar"
           }
          ],
          "carpet": [
           {
            "aaxis": {
             "endlinecolor": "#2a3f5f",
             "gridcolor": "white",
             "linecolor": "white",
             "minorgridcolor": "white",
             "startlinecolor": "#2a3f5f"
            },
            "baxis": {
             "endlinecolor": "#2a3f5f",
             "gridcolor": "white",
             "linecolor": "white",
             "minorgridcolor": "white",
             "startlinecolor": "#2a3f5f"
            },
            "type": "carpet"
           }
          ],
          "choropleth": [
           {
            "colorbar": {
             "outlinewidth": 0,
             "ticks": ""
            },
            "type": "choropleth"
           }
          ],
          "contour": [
           {
            "colorbar": {
             "outlinewidth": 0,
             "ticks": ""
            },
            "colorscale": [
             [
              0,
              "#0d0887"
             ],
             [
              0.1111111111111111,
              "#46039f"
             ],
             [
              0.2222222222222222,
              "#7201a8"
             ],
             [
              0.3333333333333333,
              "#9c179e"
             ],
             [
              0.4444444444444444,
              "#bd3786"
             ],
             [
              0.5555555555555556,
              "#d8576b"
             ],
             [
              0.6666666666666666,
              "#ed7953"
             ],
             [
              0.7777777777777778,
              "#fb9f3a"
             ],
             [
              0.8888888888888888,
              "#fdca26"
             ],
             [
              1,
              "#f0f921"
             ]
            ],
            "type": "contour"
           }
          ],
          "contourcarpet": [
           {
            "colorbar": {
             "outlinewidth": 0,
             "ticks": ""
            },
            "type": "contourcarpet"
           }
          ],
          "heatmap": [
           {
            "colorbar": {
             "outlinewidth": 0,
             "ticks": ""
            },
            "colorscale": [
             [
              0,
              "#0d0887"
             ],
             [
              0.1111111111111111,
              "#46039f"
             ],
             [
              0.2222222222222222,
              "#7201a8"
             ],
             [
              0.3333333333333333,
              "#9c179e"
             ],
             [
              0.4444444444444444,
              "#bd3786"
             ],
             [
              0.5555555555555556,
              "#d8576b"
             ],
             [
              0.6666666666666666,
              "#ed7953"
             ],
             [
              0.7777777777777778,
              "#fb9f3a"
             ],
             [
              0.8888888888888888,
              "#fdca26"
             ],
             [
              1,
              "#f0f921"
             ]
            ],
            "type": "heatmap"
           }
          ],
          "heatmapgl": [
           {
            "colorbar": {
             "outlinewidth": 0,
             "ticks": ""
            },
            "colorscale": [
             [
              0,
              "#0d0887"
             ],
             [
              0.1111111111111111,
              "#46039f"
             ],
             [
              0.2222222222222222,
              "#7201a8"
             ],
             [
              0.3333333333333333,
              "#9c179e"
             ],
             [
              0.4444444444444444,
              "#bd3786"
             ],
             [
              0.5555555555555556,
              "#d8576b"
             ],
             [
              0.6666666666666666,
              "#ed7953"
             ],
             [
              0.7777777777777778,
              "#fb9f3a"
             ],
             [
              0.8888888888888888,
              "#fdca26"
             ],
             [
              1,
              "#f0f921"
             ]
            ],
            "type": "heatmapgl"
           }
          ],
          "histogram": [
           {
            "marker": {
             "pattern": {
              "fillmode": "overlay",
              "size": 10,
              "solidity": 0.2
             }
            },
            "type": "histogram"
           }
          ],
          "histogram2d": [
           {
            "colorbar": {
             "outlinewidth": 0,
             "ticks": ""
            },
            "colorscale": [
             [
              0,
              "#0d0887"
             ],
             [
              0.1111111111111111,
              "#46039f"
             ],
             [
              0.2222222222222222,
              "#7201a8"
             ],
             [
              0.3333333333333333,
              "#9c179e"
             ],
             [
              0.4444444444444444,
              "#bd3786"
             ],
             [
              0.5555555555555556,
              "#d8576b"
             ],
             [
              0.6666666666666666,
              "#ed7953"
             ],
             [
              0.7777777777777778,
              "#fb9f3a"
             ],
             [
              0.8888888888888888,
              "#fdca26"
             ],
             [
              1,
              "#f0f921"
             ]
            ],
            "type": "histogram2d"
           }
          ],
          "histogram2dcontour": [
           {
            "colorbar": {
             "outlinewidth": 0,
             "ticks": ""
            },
            "colorscale": [
             [
              0,
              "#0d0887"
             ],
             [
              0.1111111111111111,
              "#46039f"
             ],
             [
              0.2222222222222222,
              "#7201a8"
             ],
             [
              0.3333333333333333,
              "#9c179e"
             ],
             [
              0.4444444444444444,
              "#bd3786"
             ],
             [
              0.5555555555555556,
              "#d8576b"
             ],
             [
              0.6666666666666666,
              "#ed7953"
             ],
             [
              0.7777777777777778,
              "#fb9f3a"
             ],
             [
              0.8888888888888888,
              "#fdca26"
             ],
             [
              1,
              "#f0f921"
             ]
            ],
            "type": "histogram2dcontour"
           }
          ],
          "mesh3d": [
           {
            "colorbar": {
             "outlinewidth": 0,
             "ticks": ""
            },
            "type": "mesh3d"
           }
          ],
          "parcoords": [
           {
            "line": {
             "colorbar": {
              "outlinewidth": 0,
              "ticks": ""
             }
            },
            "type": "parcoords"
           }
          ],
          "pie": [
           {
            "automargin": true,
            "type": "pie"
           }
          ],
          "scatter": [
           {
            "fillpattern": {
             "fillmode": "overlay",
             "size": 10,
             "solidity": 0.2
            },
            "type": "scatter"
           }
          ],
          "scatter3d": [
           {
            "line": {
             "colorbar": {
              "outlinewidth": 0,
              "ticks": ""
             }
            },
            "marker": {
             "colorbar": {
              "outlinewidth": 0,
              "ticks": ""
             }
            },
            "type": "scatter3d"
           }
          ],
          "scattercarpet": [
           {
            "marker": {
             "colorbar": {
              "outlinewidth": 0,
              "ticks": ""
             }
            },
            "type": "scattercarpet"
           }
          ],
          "scattergeo": [
           {
            "marker": {
             "colorbar": {
              "outlinewidth": 0,
              "ticks": ""
             }
            },
            "type": "scattergeo"
           }
          ],
          "scattergl": [
           {
            "marker": {
             "colorbar": {
              "outlinewidth": 0,
              "ticks": ""
             }
            },
            "type": "scattergl"
           }
          ],
          "scattermapbox": [
           {
            "marker": {
             "colorbar": {
              "outlinewidth": 0,
              "ticks": ""
             }
            },
            "type": "scattermapbox"
           }
          ],
          "scatterpolar": [
           {
            "marker": {
             "colorbar": {
              "outlinewidth": 0,
              "ticks": ""
             }
            },
            "type": "scatterpolar"
           }
          ],
          "scatterpolargl": [
           {
            "marker": {
             "colorbar": {
              "outlinewidth": 0,
              "ticks": ""
             }
            },
            "type": "scatterpolargl"
           }
          ],
          "scatterternary": [
           {
            "marker": {
             "colorbar": {
              "outlinewidth": 0,
              "ticks": ""
             }
            },
            "type": "scatterternary"
           }
          ],
          "surface": [
           {
            "colorbar": {
             "outlinewidth": 0,
             "ticks": ""
            },
            "colorscale": [
             [
              0,
              "#0d0887"
             ],
             [
              0.1111111111111111,
              "#46039f"
             ],
             [
              0.2222222222222222,
              "#7201a8"
             ],
             [
              0.3333333333333333,
              "#9c179e"
             ],
             [
              0.4444444444444444,
              "#bd3786"
             ],
             [
              0.5555555555555556,
              "#d8576b"
             ],
             [
              0.6666666666666666,
              "#ed7953"
             ],
             [
              0.7777777777777778,
              "#fb9f3a"
             ],
             [
              0.8888888888888888,
              "#fdca26"
             ],
             [
              1,
              "#f0f921"
             ]
            ],
            "type": "surface"
           }
          ],
          "table": [
           {
            "cells": {
             "fill": {
              "color": "#EBF0F8"
             },
             "line": {
              "color": "white"
             }
            },
            "header": {
             "fill": {
              "color": "#C8D4E3"
             },
             "line": {
              "color": "white"
             }
            },
            "type": "table"
           }
          ]
         },
         "layout": {
          "annotationdefaults": {
           "arrowcolor": "#2a3f5f",
           "arrowhead": 0,
           "arrowwidth": 1
          },
          "autotypenumbers": "strict",
          "coloraxis": {
           "colorbar": {
            "outlinewidth": 0,
            "ticks": ""
           }
          },
          "colorscale": {
           "diverging": [
            [
             0,
             "#8e0152"
            ],
            [
             0.1,
             "#c51b7d"
            ],
            [
             0.2,
             "#de77ae"
            ],
            [
             0.3,
             "#f1b6da"
            ],
            [
             0.4,
             "#fde0ef"
            ],
            [
             0.5,
             "#f7f7f7"
            ],
            [
             0.6,
             "#e6f5d0"
            ],
            [
             0.7,
             "#b8e186"
            ],
            [
             0.8,
             "#7fbc41"
            ],
            [
             0.9,
             "#4d9221"
            ],
            [
             1,
             "#276419"
            ]
           ],
           "sequential": [
            [
             0,
             "#0d0887"
            ],
            [
             0.1111111111111111,
             "#46039f"
            ],
            [
             0.2222222222222222,
             "#7201a8"
            ],
            [
             0.3333333333333333,
             "#9c179e"
            ],
            [
             0.4444444444444444,
             "#bd3786"
            ],
            [
             0.5555555555555556,
             "#d8576b"
            ],
            [
             0.6666666666666666,
             "#ed7953"
            ],
            [
             0.7777777777777778,
             "#fb9f3a"
            ],
            [
             0.8888888888888888,
             "#fdca26"
            ],
            [
             1,
             "#f0f921"
            ]
           ],
           "sequentialminus": [
            [
             0,
             "#0d0887"
            ],
            [
             0.1111111111111111,
             "#46039f"
            ],
            [
             0.2222222222222222,
             "#7201a8"
            ],
            [
             0.3333333333333333,
             "#9c179e"
            ],
            [
             0.4444444444444444,
             "#bd3786"
            ],
            [
             0.5555555555555556,
             "#d8576b"
            ],
            [
             0.6666666666666666,
             "#ed7953"
            ],
            [
             0.7777777777777778,
             "#fb9f3a"
            ],
            [
             0.8888888888888888,
             "#fdca26"
            ],
            [
             1,
             "#f0f921"
            ]
           ]
          },
          "colorway": [
           "#636efa",
           "#EF553B",
           "#00cc96",
           "#ab63fa",
           "#FFA15A",
           "#19d3f3",
           "#FF6692",
           "#B6E880",
           "#FF97FF",
           "#FECB52"
          ],
          "font": {
           "color": "#2a3f5f"
          },
          "geo": {
           "bgcolor": "white",
           "lakecolor": "white",
           "landcolor": "#E5ECF6",
           "showlakes": true,
           "showland": true,
           "subunitcolor": "white"
          },
          "hoverlabel": {
           "align": "left"
          },
          "hovermode": "closest",
          "mapbox": {
           "style": "light"
          },
          "paper_bgcolor": "white",
          "plot_bgcolor": "#E5ECF6",
          "polar": {
           "angularaxis": {
            "gridcolor": "white",
            "linecolor": "white",
            "ticks": ""
           },
           "bgcolor": "#E5ECF6",
           "radialaxis": {
            "gridcolor": "white",
            "linecolor": "white",
            "ticks": ""
           }
          },
          "scene": {
           "xaxis": {
            "backgroundcolor": "#E5ECF6",
            "gridcolor": "white",
            "gridwidth": 2,
            "linecolor": "white",
            "showbackground": true,
            "ticks": "",
            "zerolinecolor": "white"
           },
           "yaxis": {
            "backgroundcolor": "#E5ECF6",
            "gridcolor": "white",
            "gridwidth": 2,
            "linecolor": "white",
            "showbackground": true,
            "ticks": "",
            "zerolinecolor": "white"
           },
           "zaxis": {
            "backgroundcolor": "#E5ECF6",
            "gridcolor": "white",
            "gridwidth": 2,
            "linecolor": "white",
            "showbackground": true,
            "ticks": "",
            "zerolinecolor": "white"
           }
          },
          "shapedefaults": {
           "line": {
            "color": "#2a3f5f"
           }
          },
          "ternary": {
           "aaxis": {
            "gridcolor": "white",
            "linecolor": "white",
            "ticks": ""
           },
           "baxis": {
            "gridcolor": "white",
            "linecolor": "white",
            "ticks": ""
           },
           "bgcolor": "#E5ECF6",
           "caxis": {
            "gridcolor": "white",
            "linecolor": "white",
            "ticks": ""
           }
          },
          "title": {
           "x": 0.05
          },
          "xaxis": {
           "automargin": true,
           "gridcolor": "white",
           "linecolor": "white",
           "ticks": "",
           "title": {
            "standoff": 15
           },
           "zerolinecolor": "white",
           "zerolinewidth": 2
          },
          "yaxis": {
           "automargin": true,
           "gridcolor": "white",
           "linecolor": "white",
           "ticks": "",
           "title": {
            "standoff": 15
           },
           "zerolinecolor": "white",
           "zerolinewidth": 2
          }
         }
        },
        "xaxis": {
         "anchor": "y",
         "domain": [
          0,
          1
         ],
         "title": {
          "text": "class"
         }
        },
        "yaxis": {
         "anchor": "x",
         "domain": [
          0,
          1
         ],
         "title": {
          "text": "count"
         }
        }
       }
      }
     },
     "metadata": {},
     "output_type": "display_data"
    }
   ],
   "source": [
    "fig = pd.fig = px.histogram(data_frame=df, x='class', color='months_since_last_donation')\n",
    "fig.show()\n"
   ]
  },
  {
   "cell_type": "code",
   "execution_count": 361,
   "metadata": {},
   "outputs": [
    {
     "data": {
      "application/vnd.plotly.v1+json": {
       "config": {
        "plotlyServerURL": "https://plot.ly"
       },
       "data": [
        {
         "hovertemplate": "class=1<br>months_since_first_donation=%{x}<br>total_blood_donated=%{y}<extra></extra>",
         "legendgroup": "1",
         "marker": {
          "color": "#636efa",
          "symbol": "circle"
         },
         "mode": "markers",
         "name": "1",
         "orientation": "v",
         "showlegend": true,
         "type": "scatter",
         "x": [
          1,
          0.2708333333333333,
          0.34375,
          0.4479166666666667,
          0.125,
          0.20833333333333334,
          1,
          0.2708333333333333,
          0.13541666666666666,
          0.09375,
          0.4791666666666667,
          0.4895833333333333,
          0.13541666666666666,
          0.020833333333333332,
          0.020833333333333332,
          0.14583333333333334,
          0.14583333333333334,
          0.3333333333333333,
          0.09375,
          0.2708333333333333,
          0.2708333333333333,
          0.25,
          0.2708333333333333,
          0.46875,
          0.14583333333333334,
          0.5729166666666666,
          0.20833333333333334,
          0.53125,
          0.14583333333333334,
          0.6979166666666666,
          0.2708333333333333,
          0.4583333333333333,
          0.125,
          0.6979166666666666,
          0.25,
          0.2708333333333333,
          0.34375,
          0.14583333333333334,
          0.07291666666666667,
          0.125,
          0.71875,
          0.020833333333333332,
          0.020833333333333332,
          0.14583333333333334,
          0.21875,
          0.2708333333333333,
          0.34375,
          0.020833333333333332,
          0.375,
          0.125,
          0.25,
          0.3333333333333333,
          0.7708333333333334,
          0.21875,
          0.3958333333333333,
          0.4583333333333333,
          0.8020833333333334,
          0.14583333333333334,
          0.25,
          0.40625,
          0.3229166666666667,
          0.4583333333333333,
          0.4791666666666667,
          0.08333333333333333,
          0.07291666666666667,
          0.14583333333333334,
          0.09375,
          0.5833333333333334,
          0,
          0,
          0,
          0,
          0.14583333333333334,
          0.3229166666666667,
          0.40625,
          0.25,
          0.34375,
          0.46875,
          0.375,
          0.09375,
          0.020833333333333332,
          0.020833333333333332,
          0.020833333333333332,
          0.020833333333333332,
          0.020833333333333332,
          0.020833333333333332,
          0.5208333333333334,
          0.23958333333333334,
          0.8020833333333334,
          0.40625,
          0.14583333333333334,
          0.7395833333333334,
          0.375,
          0.4270833333333333,
          0.20833333333333334,
          0.14583333333333334,
          0.2708333333333333,
          0.17708333333333334,
          0.21875,
          0.3645833333333333,
          0.7291666666666666,
          0.5104166666666666,
          0.5,
          0.2708333333333333,
          0.34375,
          0.625,
          0.19791666666666666,
          0.09375,
          0.19791666666666666,
          0.3958333333333333,
          0.5104166666666666,
          0.3958333333333333,
          0.19791666666666666,
          0.25,
          0.8854166666666666,
          0.19791666666666666,
          0.20833333333333334,
          0.4895833333333333,
          0.875,
          0.2708333333333333,
          0.78125,
          0.7708333333333334,
          1,
          0.4166666666666667,
          0.5208333333333334,
          0.3125,
          0.020833333333333332,
          0.375,
          0.10416666666666667,
          1,
          0.3229166666666667,
          0.2708333333333333,
          0.3958333333333333,
          0.40625,
          0.3854166666666667,
          0.4270833333333333,
          0.14583333333333334,
          0.20833333333333334,
          0.14583333333333334,
          0.125,
          0.14583333333333334,
          0.3125,
          0.25,
          0.375,
          0.020833333333333332,
          0.2708333333333333,
          0.7083333333333334,
          0.020833333333333332,
          0.020833333333333332,
          0.7083333333333334,
          0.3125,
          0.34375,
          0.2708333333333333,
          0.6458333333333334,
          1,
          0.34375,
          0.09375,
          0.09375,
          0.375,
          0.28125,
          0,
          0,
          0.4895833333333333,
          0.010416666666666666,
          0.020833333333333332,
          0.020833333333333332,
          0.3333333333333333,
          0.125,
          0.90625,
          0.5208333333333334,
          0.125,
          0.09375,
          0.7604166666666666,
          0.6979166666666666,
          0.5833333333333334,
          0.375,
          0.34375,
          0.21875
         ],
         "xaxis": "x",
         "y": [
          12500,
          3250,
          4000,
          5000,
          1750,
          2250,
          11500,
          2500,
          1500,
          1250,
          3500,
          3750,
          1500,
          750,
          750,
          1500,
          1500,
          3000,
          1250,
          2500,
          2500,
          2250,
          2000,
          3000,
          1500,
          3500,
          1750,
          3250,
          1250,
          5000,
          2250,
          2750,
          1250,
          4750,
          2000,
          1750,
          2000,
          1250,
          750,
          1000,
          4250,
          500,
          500,
          1000,
          1500,
          1500,
          1750,
          500,
          2250,
          1000,
          1750,
          2000,
          3250,
          1250,
          2000,
          1750,
          2750,
          750,
          1250,
          1500,
          1250,
          2000,
          2000,
          500,
          500,
          750,
          500,
          1750,
          250,
          250,
          250,
          250,
          1000,
          1250,
          1500,
          1000,
          1250,
          1250,
          2000,
          500,
          250,
          250,
          250,
          250,
          250,
          250,
          2000,
          750,
          4250,
          2000,
          750,
          3500,
          750,
          1000,
          1000,
          500,
          1250,
          750,
          1000,
          1250,
          2250,
          1250,
          2000,
          1000,
          1500,
          1750,
          750,
          250,
          500,
          1250,
          500,
          750,
          500,
          750,
          1750,
          250,
          250,
          1250,
          10750,
          5500,
          8500,
          6500,
          10250,
          5250,
          5250,
          3250,
          1000,
          4000,
          1250,
          8250,
          2500,
          2500,
          2750,
          2750,
          3250,
          2500,
          1250,
          1500,
          1250,
          1000,
          1250,
          1750,
          1500,
          2000,
          500,
          1500,
          4000,
          500,
          500,
          3000,
          1750,
          1500,
          1500,
          2750,
          4000,
          1500,
          500,
          500,
          1500,
          1000,
          250,
          250,
          2750,
          250,
          250,
          250,
          1000,
          750,
          2250,
          2000,
          500,
          250,
          750,
          3500,
          1750,
          500,
          500,
          250
         ],
         "yaxis": "y"
        },
        {
         "hovertemplate": "class=0<br>months_since_first_donation=%{x}<br>total_blood_donated=%{y}<extra></extra>",
         "legendgroup": "0",
         "marker": {
          "color": "#EF553B",
          "symbol": "circle"
         },
         "mode": "markers",
         "name": "0",
         "orientation": "v",
         "showlegend": true,
         "type": "scatter",
         "x": [
          0.78125,
          0.020833333333333332,
          0.34375,
          0.5833333333333334,
          0.020833333333333332,
          0.46875,
          0.2708333333333333,
          0.14583333333333334,
          0.3958333333333333,
          0.125,
          0.19791666666666666,
          0.5833333333333334,
          0.6458333333333334,
          0.14583333333333334,
          0.14583333333333334,
          0.3541666666666667,
          0,
          0,
          0,
          0.4583333333333333,
          0.20833333333333334,
          0.5208333333333334,
          0.8229166666666666,
          0.19791666666666666,
          0.28125,
          0.4895833333333333,
          0.75,
          0.020833333333333332,
          0.23958333333333334,
          0.5104166666666666,
          0.14583333333333334,
          0.14583333333333334,
          0.020833333333333332,
          0.020833333333333332,
          0.020833333333333332,
          0.020833333333333332,
          0.14583333333333334,
          0.14583333333333334,
          0.14583333333333334,
          0.2708333333333333,
          0.020833333333333332,
          0.020833333333333332,
          0.020833333333333332,
          0.020833333333333332,
          0.020833333333333332,
          0.020833333333333332,
          0.21875,
          0.2708333333333333,
          0.875,
          0.3958333333333333,
          0.25,
          0.25,
          0.7083333333333334,
          0.59375,
          0.25,
          0.125,
          0.6458333333333334,
          0.4583333333333333,
          0.21875,
          0.8333333333333334,
          0.6458333333333334,
          0.6145833333333334,
          0.5729166666666666,
          0.25,
          0.3333333333333333,
          0.25,
          0.2708333333333333,
          0.96875,
          0.08333333333333333,
          0.34375,
          0.8958333333333334,
          0.17708333333333334,
          0.3645833333333333,
          1,
          0.17708333333333334,
          0.09375,
          0.75,
          0.875,
          0.14583333333333334,
          0.14583333333333334,
          0.125,
          0.09375,
          0.09375,
          0.3854166666666667,
          0.7916666666666666,
          0,
          0,
          0,
          0,
          0,
          0,
          0,
          0,
          0,
          0,
          0,
          0,
          0,
          0,
          0,
          0,
          0,
          0,
          0.34375,
          0.20833333333333334,
          0.14583333333333334,
          0.34375,
          0.8958333333333334,
          0.25,
          0.3229166666666667,
          0.3333333333333333,
          0.25,
          0.78125,
          0.5208333333333334,
          0.5208333333333334,
          0.34375,
          0.4166666666666667,
          0.125,
          0.46875,
          0.28125,
          0.4479166666666667,
          0.5208333333333334,
          0.5833333333333334,
          0.5833333333333334,
          0.375,
          0.25,
          0.14583333333333334,
          0.7708333333333334,
          0.2604166666666667,
          0.125,
          0.020833333333333332,
          0.020833333333333332,
          0.020833333333333332,
          0.020833333333333332,
          0.020833333333333332,
          0.020833333333333332,
          0.020833333333333332,
          0.020833333333333332,
          0.020833333333333332,
          0.020833333333333332,
          0.020833333333333332,
          0.020833333333333332,
          0.22916666666666666,
          0.020833333333333332,
          0.020833333333333332,
          0.020833333333333332,
          0.020833333333333332,
          0.3854166666666667,
          0.25,
          0.6354166666666666,
          0.13541666666666666,
          0.125,
          0.4270833333333333,
          0.5833333333333334,
          1,
          0.09375,
          0.4583333333333333,
          0.5833333333333334,
          0.875,
          0.09375,
          0.09375,
          0.09375,
          0.7604166666666666,
          0.59375,
          0.34375,
          0.2708333333333333,
          0.3645833333333333,
          0.2708333333333333,
          0.5833333333333334,
          0.40625,
          0.21875,
          0.5833333333333334,
          0.21875,
          0.4583333333333333,
          0.8333333333333334,
          0.19791666666666666,
          0.3958333333333333,
          0.2708333333333333,
          0.14583333333333334,
          0.5833333333333334,
          0.5833333333333334,
          0.4583333333333333,
          0.5729166666666666,
          0.3333333333333333,
          0.7916666666666666,
          0.4791666666666667,
          0.7083333333333334,
          0.25,
          0.14583333333333334,
          0.3229166666666667,
          0.125,
          0.21875,
          0.5,
          0.2708333333333333,
          0.34375,
          0.34375,
          0.7083333333333334,
          0.2708333333333333,
          0.125,
          0.125,
          0.125,
          0.125,
          0.125,
          0.125,
          0.5208333333333334,
          0.3333333333333333,
          0.75,
          0.21875,
          0.21875,
          0.17708333333333334,
          0.375,
          0.14583333333333334,
          0.6041666666666666,
          0.07291666666666667,
          0.07291666666666667,
          0.28125,
          0.15625,
          0.25,
          0.40625,
          0.8333333333333334,
          0.3333333333333333,
          0.375,
          0.14583333333333334,
          0.40625,
          1,
          0.3854166666666667,
          0.46875,
          0.34375,
          0.14583333333333334,
          0.2708333333333333,
          0.6458333333333334,
          0.3333333333333333,
          0.2916666666666667,
          1,
          0.5833333333333334,
          0.09375,
          0.09375,
          0.09375,
          0.09375,
          0.09375,
          0.09375,
          0.09375,
          0.09375,
          0.19791666666666666,
          0.5,
          0.19791666666666666,
          0.2708333333333333,
          0.40625,
          0.3958333333333333,
          0.25,
          0.25,
          0.6458333333333334,
          0.5104166666666666,
          0.22916666666666666,
          0.71875,
          0.5729166666666666,
          0.71875,
          0.5729166666666666,
          0.375,
          0.25,
          0.3020833333333333,
          0.5208333333333334,
          0.65625,
          0.3958333333333333,
          0.5,
          0.125,
          0.125,
          0.125,
          0.125,
          0.125,
          0.125,
          0.125,
          0.125,
          0.7291666666666666,
          0.125,
          0.125,
          0.5208333333333334,
          0.7395833333333334,
          0.5833333333333334,
          0.59375,
          0.59375,
          0.6145833333333334,
          0.3958333333333333,
          0.90625,
          0.25,
          0.7708333333333334,
          0.21875,
          0.3229166666666667,
          0.4583333333333333,
          0.3333333333333333,
          0.6458333333333334,
          0.40625,
          0.14583333333333334,
          0.14583333333333334,
          0.14583333333333334,
          0.14583333333333334,
          0.14583333333333334,
          0.14583333333333334,
          0.14583333333333334,
          0.4479166666666667,
          0.14583333333333334,
          0.14583333333333334,
          0.14583333333333334,
          0.14583333333333334,
          0.14583333333333334,
          0.25,
          0.21875,
          0.2604166666666667,
          0.21875,
          0.21875,
          0.5729166666666666,
          0.6041666666666666,
          0.21875,
          0.75,
          0.2708333333333333,
          0.3958333333333333,
          0.5208333333333334,
          0.5208333333333334,
          0.6458333333333334,
          0.34375,
          0.9479166666666666,
          0.23958333333333334,
          0.5208333333333334,
          0.9479166666666666,
          0.96875,
          0.4583333333333333,
          0.7708333333333334,
          0.5208333333333334,
          0.7708333333333334,
          0.875,
          0.34375,
          0.25,
          0.25,
          0.6458333333333334,
          0.5,
          0.3229166666666667,
          0.375,
          0.2708333333333333,
          0.19791666666666666,
          0.19791666666666666,
          0.19791666666666666,
          0.19791666666666666,
          0.19791666666666666,
          0.19791666666666666,
          0.19791666666666666,
          0.19791666666666666,
          0.19791666666666666,
          0.19791666666666666,
          0.19791666666666666,
          0.6041666666666666,
          0.4479166666666667,
          0.5208333333333334,
          0.7083333333333334,
          0.5833333333333334,
          0.3958333333333333,
          0.40625,
          0.84375,
          0.34375,
          0.7083333333333334,
          0.21875,
          0.21875,
          0.21875,
          0.21875,
          0.21875,
          0.21875,
          0.21875,
          0.21875,
          0.53125,
          0.875,
          0.4791666666666667,
          0.40625,
          0.6458333333333334,
          0.7083333333333334,
          0.7083333333333334,
          0.8854166666666666,
          0.90625,
          0.8854166666666666,
          0.6458333333333334,
          0.375,
          0.375,
          0.3958333333333333,
          0.75,
          1,
          0.21875,
          0.25,
          0.2708333333333333,
          0.34375,
          0.125,
          0.2708333333333333,
          0.09375,
          0.6458333333333334,
          0.8020833333333334,
          0.2708333333333333,
          0.125,
          0.25,
          0.5208333333333334,
          0.96875,
          0.4791666666666667,
          0.09375,
          0.14583333333333334,
          0.125,
          0.21875,
          0.16666666666666666,
          0.2708333333333333,
          0.2916666666666667,
          0.125,
          0.5,
          0.5208333333333334,
          0.46875,
          0.875,
          0.7604166666666666,
          0.34375,
          0.5520833333333334,
          0.4479166666666667,
          0.46875,
          0.07291666666666667,
          0.09375,
          0.375,
          0.16666666666666666,
          0.19791666666666666,
          0,
          0,
          0,
          0,
          0,
          0,
          0,
          0,
          0,
          0.375,
          0.20833333333333334,
          0.7604166666666666,
          0.375,
          0.4270833333333333,
          0.22916666666666666,
          0.3854166666666667,
          0.125,
          0.4583333333333333,
          0.125,
          0.25,
          0.11458333333333333,
          0.96875,
          0.78125,
          0.78125,
          0.020833333333333332,
          0.020833333333333332,
          0.020833333333333332,
          0.020833333333333332,
          0.020833333333333332,
          0.020833333333333332,
          0.020833333333333332,
          0.020833333333333332,
          0.020833333333333332,
          0.020833333333333332,
          0.625,
          0.020833333333333332,
          0.2708333333333333,
          0.34375,
          0.5416666666666666,
          0.09375,
          0.6354166666666666,
          0.90625,
          0.6458333333333334,
          0.20833333333333334,
          0.25,
          0.71875,
          0.14583333333333334,
          0.90625,
          0.5833333333333334,
          0.34375,
          0.2604166666666667,
          0.5208333333333334,
          0.40625,
          0.375,
          0.125,
          0.125,
          0.3229166666666667,
          0.21875,
          0.4583333333333333,
          0.07291666666666667,
          0.2604166666666667,
          0.25,
          0.2916666666666667,
          0.19791666666666666,
          0.78125,
          0.3020833333333333,
          0.5,
          0.25,
          0.4479166666666667,
          0.3229166666666667,
          0.14583333333333334,
          0.19791666666666666,
          0.7291666666666666,
          0.09375,
          0.09375,
          0.09375,
          0.09375,
          0.78125,
          0.2708333333333333,
          0.8854166666666666,
          0.84375,
          0.625,
          0.21875,
          0.25,
          0.625,
          0.7604166666666666,
          0.2708333333333333,
          0.4583333333333333,
          0.23958333333333334,
          0.3645833333333333,
          0.3229166666666667,
          0.375,
          0.7708333333333334,
          0.5,
          0.3229166666666667,
          0.125,
          0.125,
          0.125,
          0.125,
          0.125,
          0.125,
          0.34375,
          0.34375,
          0.6458333333333334,
          0.19791666666666666,
          0.34375,
          0.14583333333333334,
          0.14583333333333334,
          0.14583333333333334,
          0.14583333333333334,
          0.14583333333333334,
          0.28125,
          0.75,
          0.4791666666666667,
          0.21875,
          0.4479166666666667,
          0.8229166666666666,
          0.5833333333333334,
          0.71875,
          0.25,
          0.34375,
          0.34375,
          0.6979166666666666,
          0.375,
          0.34375,
          0.3958333333333333,
          0.2708333333333333,
          0.19791666666666666,
          0.19791666666666666,
          0.5,
          0.19791666666666666,
          0.19791666666666666,
          0.3854166666666667,
          0.3229166666666667,
          0.8020833333333334,
          0.21875,
          0.21875,
          0.21875,
          0.21875,
          0.21875,
          0.21875,
          0.5208333333333334,
          0.21875,
          0.8958333333333334,
          0.875,
          0.375,
          0.5208333333333334,
          0.625,
          0.3854166666666667,
          0.7291666666666666
         ],
         "xaxis": "x",
         "y": [
          6000,
          1000,
          3000,
          5750,
          750,
          3250,
          2750,
          2250,
          3500,
          1500,
          2000,
          3500,
          4000,
          1250,
          1250,
          2250,
          500,
          500,
          500,
          2750,
          1500,
          3000,
          4000,
          1500,
          1750,
          2500,
          4000,
          500,
          1750,
          2250,
          1000,
          1000,
          500,
          500,
          500,
          500,
          1000,
          1000,
          1000,
          1500,
          500,
          500,
          500,
          500,
          500,
          500,
          2750,
          1750,
          4250,
          2250,
          1250,
          1250,
          4250,
          2000,
          1250,
          750,
          2500,
          2250,
          1250,
          3000,
          6000,
          2750,
          1750,
          1000,
          1250,
          1000,
          1250,
          3000,
          500,
          1500,
          2750,
          750,
          1250,
          3000,
          1250,
          500,
          2250,
          3500,
          750,
          750,
          750,
          500,
          500,
          1500,
          2750,
          250,
          250,
          250,
          250,
          250,
          250,
          250,
          250,
          250,
          250,
          250,
          250,
          250,
          250,
          250,
          250,
          250,
          250,
          2500,
          750,
          1000,
          1000,
          3000,
          2000,
          2250,
          1250,
          1000,
          3750,
          1750,
          1750,
          1000,
          2750,
          500,
          1500,
          1750,
          2250,
          1500,
          1750,
          1750,
          2250,
          1500,
          500,
          1750,
          1500,
          750,
          250,
          250,
          250,
          250,
          250,
          250,
          250,
          250,
          250,
          250,
          250,
          250,
          750,
          250,
          250,
          250,
          250,
          2000,
          1750,
          2500,
          750,
          500,
          1000,
          2250,
          5500,
          500,
          1250,
          3000,
          3000,
          500,
          500,
          500,
          1500,
          3250,
          750,
          2000,
          1750,
          750,
          3000,
          1000,
          500,
          1250,
          500,
          2000,
          1750,
          1000,
          2750,
          1750,
          500,
          1250,
          1250,
          1000,
          3250,
          750,
          4500,
          2000,
          4000,
          1250,
          500,
          1250,
          500,
          500,
          3000,
          1000,
          1250,
          1250,
          1000,
          1250,
          500,
          500,
          500,
          500,
          500,
          500,
          750,
          1500,
          1250,
          750,
          1000,
          750,
          1250,
          500,
          2250,
          250,
          250,
          500,
          500,
          1000,
          1250,
          4000,
          1000,
          1750,
          500,
          500,
          4000,
          1750,
          1750,
          1500,
          500,
          750,
          1750,
          750,
          1000,
          9500,
          1500,
          250,
          250,
          250,
          250,
          250,
          250,
          250,
          250,
          500,
          1250,
          500,
          1000,
          500,
          1500,
          750,
          500,
          4000,
          1500,
          500,
          750,
          3250,
          1500,
          3750,
          1000,
          500,
          750,
          500,
          1000,
          1000,
          1250,
          250,
          250,
          250,
          250,
          250,
          250,
          250,
          250,
          1750,
          250,
          250,
          750,
          1750,
          1000,
          1000,
          500,
          1000,
          1000,
          2500,
          750,
          2000,
          500,
          1250,
          2000,
          750,
          1250,
          750,
          250,
          250,
          250,
          250,
          250,
          250,
          250,
          1000,
          250,
          250,
          250,
          250,
          250,
          500,
          500,
          500,
          500,
          500,
          1000,
          1250,
          500,
          1250,
          750,
          750,
          500,
          500,
          1000,
          500,
          1750,
          500,
          750,
          3500,
          2000,
          750,
          750,
          500,
          750,
          3000,
          750,
          500,
          500,
          2000,
          750,
          750,
          750,
          500,
          250,
          250,
          250,
          250,
          250,
          250,
          250,
          250,
          250,
          250,
          250,
          1250,
          1000,
          1000,
          500,
          1250,
          750,
          750,
          750,
          500,
          1500,
          250,
          250,
          250,
          250,
          250,
          250,
          250,
          250,
          1000,
          1500,
          750,
          500,
          750,
          500,
          750,
          1000,
          750,
          500,
          750,
          250,
          250,
          250,
          250,
          11000,
          2750,
          2750,
          2750,
          3500,
          1500,
          2250,
          1000,
          3750,
          6000,
          2000,
          1000,
          1500,
          2500,
          3500,
          3500,
          750,
          1000,
          750,
          1000,
          1000,
          1500,
          1500,
          1250,
          2000,
          2250,
          2500,
          3500,
          2250,
          1500,
          2250,
          1500,
          1500,
          500,
          500,
          2250,
          1250,
          750,
          250,
          250,
          250,
          250,
          250,
          250,
          250,
          250,
          250,
          2750,
          750,
          2750,
          1250,
          1500,
          750,
          2750,
          500,
          1500,
          750,
          2000,
          500,
          2750,
          1750,
          1750,
          250,
          250,
          250,
          250,
          250,
          250,
          250,
          250,
          250,
          250,
          1750,
          250,
          1500,
          1250,
          2250,
          500,
          1250,
          2750,
          2250,
          500,
          750,
          3750,
          750,
          4000,
          1250,
          1750,
          1000,
          1250,
          1500,
          1250,
          500,
          500,
          500,
          750,
          2000,
          250,
          1250,
          1000,
          500,
          750,
          4000,
          500,
          2000,
          750,
          1750,
          1250,
          500,
          750,
          2000,
          250,
          250,
          250,
          250,
          750,
          1000,
          3750,
          3500,
          2500,
          750,
          750,
          4750,
          1750,
          750,
          500,
          500,
          750,
          1000,
          1750,
          1750,
          1500,
          750,
          250,
          250,
          250,
          250,
          250,
          250,
          750,
          750,
          1750,
          500,
          750,
          250,
          250,
          250,
          250,
          250,
          500,
          1000,
          1500,
          500,
          1500,
          1500,
          1000,
          1250,
          500,
          750,
          750,
          2000,
          750,
          750,
          750,
          500,
          250,
          250,
          1500,
          250,
          250,
          750,
          500,
          750,
          250,
          250,
          250,
          250,
          250,
          250,
          1000,
          250,
          1750,
          750,
          500,
          500,
          750,
          250,
          250
         ],
         "yaxis": "y"
        }
       ],
       "layout": {
        "legend": {
         "title": {
          "text": "class"
         },
         "tracegroupgap": 0
        },
        "margin": {
         "t": 60
        },
        "template": {
         "data": {
          "bar": [
           {
            "error_x": {
             "color": "#2a3f5f"
            },
            "error_y": {
             "color": "#2a3f5f"
            },
            "marker": {
             "line": {
              "color": "#E5ECF6",
              "width": 0.5
             },
             "pattern": {
              "fillmode": "overlay",
              "size": 10,
              "solidity": 0.2
             }
            },
            "type": "bar"
           }
          ],
          "barpolar": [
           {
            "marker": {
             "line": {
              "color": "#E5ECF6",
              "width": 0.5
             },
             "pattern": {
              "fillmode": "overlay",
              "size": 10,
              "solidity": 0.2
             }
            },
            "type": "barpolar"
           }
          ],
          "carpet": [
           {
            "aaxis": {
             "endlinecolor": "#2a3f5f",
             "gridcolor": "white",
             "linecolor": "white",
             "minorgridcolor": "white",
             "startlinecolor": "#2a3f5f"
            },
            "baxis": {
             "endlinecolor": "#2a3f5f",
             "gridcolor": "white",
             "linecolor": "white",
             "minorgridcolor": "white",
             "startlinecolor": "#2a3f5f"
            },
            "type": "carpet"
           }
          ],
          "choropleth": [
           {
            "colorbar": {
             "outlinewidth": 0,
             "ticks": ""
            },
            "type": "choropleth"
           }
          ],
          "contour": [
           {
            "colorbar": {
             "outlinewidth": 0,
             "ticks": ""
            },
            "colorscale": [
             [
              0,
              "#0d0887"
             ],
             [
              0.1111111111111111,
              "#46039f"
             ],
             [
              0.2222222222222222,
              "#7201a8"
             ],
             [
              0.3333333333333333,
              "#9c179e"
             ],
             [
              0.4444444444444444,
              "#bd3786"
             ],
             [
              0.5555555555555556,
              "#d8576b"
             ],
             [
              0.6666666666666666,
              "#ed7953"
             ],
             [
              0.7777777777777778,
              "#fb9f3a"
             ],
             [
              0.8888888888888888,
              "#fdca26"
             ],
             [
              1,
              "#f0f921"
             ]
            ],
            "type": "contour"
           }
          ],
          "contourcarpet": [
           {
            "colorbar": {
             "outlinewidth": 0,
             "ticks": ""
            },
            "type": "contourcarpet"
           }
          ],
          "heatmap": [
           {
            "colorbar": {
             "outlinewidth": 0,
             "ticks": ""
            },
            "colorscale": [
             [
              0,
              "#0d0887"
             ],
             [
              0.1111111111111111,
              "#46039f"
             ],
             [
              0.2222222222222222,
              "#7201a8"
             ],
             [
              0.3333333333333333,
              "#9c179e"
             ],
             [
              0.4444444444444444,
              "#bd3786"
             ],
             [
              0.5555555555555556,
              "#d8576b"
             ],
             [
              0.6666666666666666,
              "#ed7953"
             ],
             [
              0.7777777777777778,
              "#fb9f3a"
             ],
             [
              0.8888888888888888,
              "#fdca26"
             ],
             [
              1,
              "#f0f921"
             ]
            ],
            "type": "heatmap"
           }
          ],
          "heatmapgl": [
           {
            "colorbar": {
             "outlinewidth": 0,
             "ticks": ""
            },
            "colorscale": [
             [
              0,
              "#0d0887"
             ],
             [
              0.1111111111111111,
              "#46039f"
             ],
             [
              0.2222222222222222,
              "#7201a8"
             ],
             [
              0.3333333333333333,
              "#9c179e"
             ],
             [
              0.4444444444444444,
              "#bd3786"
             ],
             [
              0.5555555555555556,
              "#d8576b"
             ],
             [
              0.6666666666666666,
              "#ed7953"
             ],
             [
              0.7777777777777778,
              "#fb9f3a"
             ],
             [
              0.8888888888888888,
              "#fdca26"
             ],
             [
              1,
              "#f0f921"
             ]
            ],
            "type": "heatmapgl"
           }
          ],
          "histogram": [
           {
            "marker": {
             "pattern": {
              "fillmode": "overlay",
              "size": 10,
              "solidity": 0.2
             }
            },
            "type": "histogram"
           }
          ],
          "histogram2d": [
           {
            "colorbar": {
             "outlinewidth": 0,
             "ticks": ""
            },
            "colorscale": [
             [
              0,
              "#0d0887"
             ],
             [
              0.1111111111111111,
              "#46039f"
             ],
             [
              0.2222222222222222,
              "#7201a8"
             ],
             [
              0.3333333333333333,
              "#9c179e"
             ],
             [
              0.4444444444444444,
              "#bd3786"
             ],
             [
              0.5555555555555556,
              "#d8576b"
             ],
             [
              0.6666666666666666,
              "#ed7953"
             ],
             [
              0.7777777777777778,
              "#fb9f3a"
             ],
             [
              0.8888888888888888,
              "#fdca26"
             ],
             [
              1,
              "#f0f921"
             ]
            ],
            "type": "histogram2d"
           }
          ],
          "histogram2dcontour": [
           {
            "colorbar": {
             "outlinewidth": 0,
             "ticks": ""
            },
            "colorscale": [
             [
              0,
              "#0d0887"
             ],
             [
              0.1111111111111111,
              "#46039f"
             ],
             [
              0.2222222222222222,
              "#7201a8"
             ],
             [
              0.3333333333333333,
              "#9c179e"
             ],
             [
              0.4444444444444444,
              "#bd3786"
             ],
             [
              0.5555555555555556,
              "#d8576b"
             ],
             [
              0.6666666666666666,
              "#ed7953"
             ],
             [
              0.7777777777777778,
              "#fb9f3a"
             ],
             [
              0.8888888888888888,
              "#fdca26"
             ],
             [
              1,
              "#f0f921"
             ]
            ],
            "type": "histogram2dcontour"
           }
          ],
          "mesh3d": [
           {
            "colorbar": {
             "outlinewidth": 0,
             "ticks": ""
            },
            "type": "mesh3d"
           }
          ],
          "parcoords": [
           {
            "line": {
             "colorbar": {
              "outlinewidth": 0,
              "ticks": ""
             }
            },
            "type": "parcoords"
           }
          ],
          "pie": [
           {
            "automargin": true,
            "type": "pie"
           }
          ],
          "scatter": [
           {
            "fillpattern": {
             "fillmode": "overlay",
             "size": 10,
             "solidity": 0.2
            },
            "type": "scatter"
           }
          ],
          "scatter3d": [
           {
            "line": {
             "colorbar": {
              "outlinewidth": 0,
              "ticks": ""
             }
            },
            "marker": {
             "colorbar": {
              "outlinewidth": 0,
              "ticks": ""
             }
            },
            "type": "scatter3d"
           }
          ],
          "scattercarpet": [
           {
            "marker": {
             "colorbar": {
              "outlinewidth": 0,
              "ticks": ""
             }
            },
            "type": "scattercarpet"
           }
          ],
          "scattergeo": [
           {
            "marker": {
             "colorbar": {
              "outlinewidth": 0,
              "ticks": ""
             }
            },
            "type": "scattergeo"
           }
          ],
          "scattergl": [
           {
            "marker": {
             "colorbar": {
              "outlinewidth": 0,
              "ticks": ""
             }
            },
            "type": "scattergl"
           }
          ],
          "scattermapbox": [
           {
            "marker": {
             "colorbar": {
              "outlinewidth": 0,
              "ticks": ""
             }
            },
            "type": "scattermapbox"
           }
          ],
          "scatterpolar": [
           {
            "marker": {
             "colorbar": {
              "outlinewidth": 0,
              "ticks": ""
             }
            },
            "type": "scatterpolar"
           }
          ],
          "scatterpolargl": [
           {
            "marker": {
             "colorbar": {
              "outlinewidth": 0,
              "ticks": ""
             }
            },
            "type": "scatterpolargl"
           }
          ],
          "scatterternary": [
           {
            "marker": {
             "colorbar": {
              "outlinewidth": 0,
              "ticks": ""
             }
            },
            "type": "scatterternary"
           }
          ],
          "surface": [
           {
            "colorbar": {
             "outlinewidth": 0,
             "ticks": ""
            },
            "colorscale": [
             [
              0,
              "#0d0887"
             ],
             [
              0.1111111111111111,
              "#46039f"
             ],
             [
              0.2222222222222222,
              "#7201a8"
             ],
             [
              0.3333333333333333,
              "#9c179e"
             ],
             [
              0.4444444444444444,
              "#bd3786"
             ],
             [
              0.5555555555555556,
              "#d8576b"
             ],
             [
              0.6666666666666666,
              "#ed7953"
             ],
             [
              0.7777777777777778,
              "#fb9f3a"
             ],
             [
              0.8888888888888888,
              "#fdca26"
             ],
             [
              1,
              "#f0f921"
             ]
            ],
            "type": "surface"
           }
          ],
          "table": [
           {
            "cells": {
             "fill": {
              "color": "#EBF0F8"
             },
             "line": {
              "color": "white"
             }
            },
            "header": {
             "fill": {
              "color": "#C8D4E3"
             },
             "line": {
              "color": "white"
             }
            },
            "type": "table"
           }
          ]
         },
         "layout": {
          "annotationdefaults": {
           "arrowcolor": "#2a3f5f",
           "arrowhead": 0,
           "arrowwidth": 1
          },
          "autotypenumbers": "strict",
          "coloraxis": {
           "colorbar": {
            "outlinewidth": 0,
            "ticks": ""
           }
          },
          "colorscale": {
           "diverging": [
            [
             0,
             "#8e0152"
            ],
            [
             0.1,
             "#c51b7d"
            ],
            [
             0.2,
             "#de77ae"
            ],
            [
             0.3,
             "#f1b6da"
            ],
            [
             0.4,
             "#fde0ef"
            ],
            [
             0.5,
             "#f7f7f7"
            ],
            [
             0.6,
             "#e6f5d0"
            ],
            [
             0.7,
             "#b8e186"
            ],
            [
             0.8,
             "#7fbc41"
            ],
            [
             0.9,
             "#4d9221"
            ],
            [
             1,
             "#276419"
            ]
           ],
           "sequential": [
            [
             0,
             "#0d0887"
            ],
            [
             0.1111111111111111,
             "#46039f"
            ],
            [
             0.2222222222222222,
             "#7201a8"
            ],
            [
             0.3333333333333333,
             "#9c179e"
            ],
            [
             0.4444444444444444,
             "#bd3786"
            ],
            [
             0.5555555555555556,
             "#d8576b"
            ],
            [
             0.6666666666666666,
             "#ed7953"
            ],
            [
             0.7777777777777778,
             "#fb9f3a"
            ],
            [
             0.8888888888888888,
             "#fdca26"
            ],
            [
             1,
             "#f0f921"
            ]
           ],
           "sequentialminus": [
            [
             0,
             "#0d0887"
            ],
            [
             0.1111111111111111,
             "#46039f"
            ],
            [
             0.2222222222222222,
             "#7201a8"
            ],
            [
             0.3333333333333333,
             "#9c179e"
            ],
            [
             0.4444444444444444,
             "#bd3786"
            ],
            [
             0.5555555555555556,
             "#d8576b"
            ],
            [
             0.6666666666666666,
             "#ed7953"
            ],
            [
             0.7777777777777778,
             "#fb9f3a"
            ],
            [
             0.8888888888888888,
             "#fdca26"
            ],
            [
             1,
             "#f0f921"
            ]
           ]
          },
          "colorway": [
           "#636efa",
           "#EF553B",
           "#00cc96",
           "#ab63fa",
           "#FFA15A",
           "#19d3f3",
           "#FF6692",
           "#B6E880",
           "#FF97FF",
           "#FECB52"
          ],
          "font": {
           "color": "#2a3f5f"
          },
          "geo": {
           "bgcolor": "white",
           "lakecolor": "white",
           "landcolor": "#E5ECF6",
           "showlakes": true,
           "showland": true,
           "subunitcolor": "white"
          },
          "hoverlabel": {
           "align": "left"
          },
          "hovermode": "closest",
          "mapbox": {
           "style": "light"
          },
          "paper_bgcolor": "white",
          "plot_bgcolor": "#E5ECF6",
          "polar": {
           "angularaxis": {
            "gridcolor": "white",
            "linecolor": "white",
            "ticks": ""
           },
           "bgcolor": "#E5ECF6",
           "radialaxis": {
            "gridcolor": "white",
            "linecolor": "white",
            "ticks": ""
           }
          },
          "scene": {
           "xaxis": {
            "backgroundcolor": "#E5ECF6",
            "gridcolor": "white",
            "gridwidth": 2,
            "linecolor": "white",
            "showbackground": true,
            "ticks": "",
            "zerolinecolor": "white"
           },
           "yaxis": {
            "backgroundcolor": "#E5ECF6",
            "gridcolor": "white",
            "gridwidth": 2,
            "linecolor": "white",
            "showbackground": true,
            "ticks": "",
            "zerolinecolor": "white"
           },
           "zaxis": {
            "backgroundcolor": "#E5ECF6",
            "gridcolor": "white",
            "gridwidth": 2,
            "linecolor": "white",
            "showbackground": true,
            "ticks": "",
            "zerolinecolor": "white"
           }
          },
          "shapedefaults": {
           "line": {
            "color": "#2a3f5f"
           }
          },
          "ternary": {
           "aaxis": {
            "gridcolor": "white",
            "linecolor": "white",
            "ticks": ""
           },
           "baxis": {
            "gridcolor": "white",
            "linecolor": "white",
            "ticks": ""
           },
           "bgcolor": "#E5ECF6",
           "caxis": {
            "gridcolor": "white",
            "linecolor": "white",
            "ticks": ""
           }
          },
          "title": {
           "x": 0.05
          },
          "xaxis": {
           "automargin": true,
           "gridcolor": "white",
           "linecolor": "white",
           "ticks": "",
           "title": {
            "standoff": 15
           },
           "zerolinecolor": "white",
           "zerolinewidth": 2
          },
          "yaxis": {
           "automargin": true,
           "gridcolor": "white",
           "linecolor": "white",
           "ticks": "",
           "title": {
            "standoff": 15
           },
           "zerolinecolor": "white",
           "zerolinewidth": 2
          }
         }
        },
        "xaxis": {
         "anchor": "y",
         "domain": [
          0,
          1
         ],
         "title": {
          "text": "months_since_first_donation"
         }
        },
        "yaxis": {
         "anchor": "x",
         "domain": [
          0,
          1
         ],
         "title": {
          "text": "total_blood_donated"
         }
        }
       }
      }
     },
     "metadata": {},
     "output_type": "display_data"
    }
   ],
   "source": [
    "df[\"class\"] = df[\"class\"].astype(str) #convert to string\n",
    "\n",
    "fig = pd.fig = px.scatter(data_frame=df, x='months_since_first_donation', y='total_blood_donated', color='class')\n",
    "fig.show()"
   ]
  },
  {
   "cell_type": "code",
   "execution_count": 319,
   "metadata": {},
   "outputs": [
    {
     "data": {
      "application/vnd.plotly.v1+json": {
       "config": {
        "plotlyServerURL": "https://plot.ly"
       },
       "data": [
        {
         "dimensions": [
          {
           "axis": {
            "matches": true
           },
           "label": "months_since_last_donation",
           "values": [
            2,
            0,
            1,
            2,
            2,
            2,
            5,
            2,
            2,
            2,
            2,
            2,
            2,
            2,
            2,
            2,
            2,
            4,
            4,
            4,
            4,
            4,
            2,
            2,
            4,
            2,
            4,
            2,
            2,
            4,
            4,
            2,
            4,
            4,
            4,
            2,
            2,
            4,
            2,
            2,
            4,
            2,
            2,
            2,
            4,
            2,
            2,
            4,
            4,
            4,
            5,
            4,
            2,
            4,
            4,
            2,
            2,
            2,
            4,
            2,
            2,
            4,
            4,
            2,
            4,
            4,
            2,
            2,
            2,
            2,
            2,
            2,
            11,
            4,
            4,
            4,
            4,
            2,
            9,
            6,
            4,
            4,
            4,
            4,
            4,
            4,
            8,
            4,
            11,
            11,
            11,
            11,
            2,
            4,
            14,
            9,
            14,
            14,
            14,
            11,
            11,
            9,
            14,
            14,
            16,
            11,
            16,
            11,
            14,
            16,
            4,
            11,
            21,
            21,
            16,
            21,
            22,
            26,
            2,
            6,
            2,
            0,
            2,
            3,
            2,
            2,
            4,
            4,
            3,
            4,
            3,
            4,
            2,
            2,
            4,
            1,
            2,
            2,
            4,
            2,
            4,
            2,
            2,
            2,
            2,
            2,
            4,
            4,
            4,
            2,
            4,
            2,
            4,
            4,
            4,
            4,
            2,
            2,
            4,
            3,
            2,
            2,
            9,
            3,
            4,
            4,
            4,
            13,
            7,
            11,
            14,
            11,
            2,
            20,
            17,
            11,
            14,
            23
           ]
          },
          {
           "axis": {
            "matches": true
           },
           "label": "total_number_of_donations",
           "values": [
            50,
            13,
            16,
            20,
            7,
            9,
            46,
            10,
            6,
            5,
            14,
            15,
            6,
            3,
            3,
            6,
            6,
            12,
            5,
            10,
            10,
            9,
            8,
            12,
            6,
            14,
            7,
            13,
            5,
            20,
            9,
            11,
            5,
            19,
            8,
            7,
            8,
            5,
            3,
            4,
            17,
            2,
            2,
            4,
            6,
            6,
            7,
            2,
            9,
            4,
            7,
            8,
            13,
            5,
            8,
            7,
            11,
            3,
            5,
            6,
            5,
            8,
            8,
            2,
            2,
            3,
            2,
            7,
            1,
            1,
            1,
            1,
            4,
            5,
            6,
            4,
            5,
            5,
            8,
            2,
            1,
            1,
            1,
            1,
            1,
            1,
            8,
            3,
            17,
            8,
            3,
            14,
            3,
            4,
            4,
            2,
            5,
            3,
            4,
            5,
            9,
            5,
            8,
            4,
            6,
            7,
            3,
            1,
            2,
            5,
            2,
            3,
            2,
            3,
            7,
            1,
            1,
            5,
            43,
            22,
            34,
            26,
            41,
            21,
            21,
            13,
            4,
            16,
            5,
            33,
            10,
            10,
            11,
            11,
            13,
            10,
            5,
            6,
            5,
            4,
            5,
            7,
            6,
            8,
            2,
            6,
            16,
            2,
            2,
            12,
            7,
            6,
            6,
            11,
            16,
            6,
            2,
            2,
            6,
            4,
            1,
            1,
            11,
            1,
            1,
            1,
            4,
            3,
            9,
            8,
            2,
            1,
            3,
            14,
            7,
            2,
            2,
            1
           ]
          },
          {
           "axis": {
            "matches": true
           },
           "label": "total_blood_donated",
           "values": [
            12500,
            3250,
            4000,
            5000,
            1750,
            2250,
            11500,
            2500,
            1500,
            1250,
            3500,
            3750,
            1500,
            750,
            750,
            1500,
            1500,
            3000,
            1250,
            2500,
            2500,
            2250,
            2000,
            3000,
            1500,
            3500,
            1750,
            3250,
            1250,
            5000,
            2250,
            2750,
            1250,
            4750,
            2000,
            1750,
            2000,
            1250,
            750,
            1000,
            4250,
            500,
            500,
            1000,
            1500,
            1500,
            1750,
            500,
            2250,
            1000,
            1750,
            2000,
            3250,
            1250,
            2000,
            1750,
            2750,
            750,
            1250,
            1500,
            1250,
            2000,
            2000,
            500,
            500,
            750,
            500,
            1750,
            250,
            250,
            250,
            250,
            1000,
            1250,
            1500,
            1000,
            1250,
            1250,
            2000,
            500,
            250,
            250,
            250,
            250,
            250,
            250,
            2000,
            750,
            4250,
            2000,
            750,
            3500,
            750,
            1000,
            1000,
            500,
            1250,
            750,
            1000,
            1250,
            2250,
            1250,
            2000,
            1000,
            1500,
            1750,
            750,
            250,
            500,
            1250,
            500,
            750,
            500,
            750,
            1750,
            250,
            250,
            1250,
            10750,
            5500,
            8500,
            6500,
            10250,
            5250,
            5250,
            3250,
            1000,
            4000,
            1250,
            8250,
            2500,
            2500,
            2750,
            2750,
            3250,
            2500,
            1250,
            1500,
            1250,
            1000,
            1250,
            1750,
            1500,
            2000,
            500,
            1500,
            4000,
            500,
            500,
            3000,
            1750,
            1500,
            1500,
            2750,
            4000,
            1500,
            500,
            500,
            1500,
            1000,
            250,
            250,
            2750,
            250,
            250,
            250,
            1000,
            750,
            2250,
            2000,
            500,
            250,
            750,
            3500,
            1750,
            500,
            500,
            250
           ]
          },
          {
           "axis": {
            "matches": true
           },
           "label": "months_since_first_donation",
           "values": [
            1,
            0.2708333333333333,
            0.34375,
            0.4479166666666667,
            0.125,
            0.20833333333333334,
            1,
            0.2708333333333333,
            0.13541666666666666,
            0.09375,
            0.4791666666666667,
            0.4895833333333333,
            0.13541666666666666,
            0.020833333333333332,
            0.020833333333333332,
            0.14583333333333334,
            0.14583333333333334,
            0.3333333333333333,
            0.09375,
            0.2708333333333333,
            0.2708333333333333,
            0.25,
            0.2708333333333333,
            0.46875,
            0.14583333333333334,
            0.5729166666666666,
            0.20833333333333334,
            0.53125,
            0.14583333333333334,
            0.6979166666666666,
            0.2708333333333333,
            0.4583333333333333,
            0.125,
            0.6979166666666666,
            0.25,
            0.2708333333333333,
            0.34375,
            0.14583333333333334,
            0.07291666666666667,
            0.125,
            0.71875,
            0.020833333333333332,
            0.020833333333333332,
            0.14583333333333334,
            0.21875,
            0.2708333333333333,
            0.34375,
            0.020833333333333332,
            0.375,
            0.125,
            0.25,
            0.3333333333333333,
            0.7708333333333334,
            0.21875,
            0.3958333333333333,
            0.4583333333333333,
            0.8020833333333334,
            0.14583333333333334,
            0.25,
            0.40625,
            0.3229166666666667,
            0.4583333333333333,
            0.4791666666666667,
            0.08333333333333333,
            0.07291666666666667,
            0.14583333333333334,
            0.09375,
            0.5833333333333334,
            0,
            0,
            0,
            0,
            0.14583333333333334,
            0.3229166666666667,
            0.40625,
            0.25,
            0.34375,
            0.46875,
            0.375,
            0.09375,
            0.020833333333333332,
            0.020833333333333332,
            0.020833333333333332,
            0.020833333333333332,
            0.020833333333333332,
            0.020833333333333332,
            0.5208333333333334,
            0.23958333333333334,
            0.8020833333333334,
            0.40625,
            0.14583333333333334,
            0.7395833333333334,
            0.375,
            0.4270833333333333,
            0.20833333333333334,
            0.14583333333333334,
            0.2708333333333333,
            0.17708333333333334,
            0.21875,
            0.3645833333333333,
            0.7291666666666666,
            0.5104166666666666,
            0.5,
            0.2708333333333333,
            0.34375,
            0.625,
            0.19791666666666666,
            0.09375,
            0.19791666666666666,
            0.3958333333333333,
            0.5104166666666666,
            0.3958333333333333,
            0.19791666666666666,
            0.25,
            0.8854166666666666,
            0.19791666666666666,
            0.20833333333333334,
            0.4895833333333333,
            0.875,
            0.2708333333333333,
            0.78125,
            0.7708333333333334,
            1,
            0.4166666666666667,
            0.5208333333333334,
            0.3125,
            0.020833333333333332,
            0.375,
            0.10416666666666667,
            1,
            0.3229166666666667,
            0.2708333333333333,
            0.3958333333333333,
            0.40625,
            0.3854166666666667,
            0.4270833333333333,
            0.14583333333333334,
            0.20833333333333334,
            0.14583333333333334,
            0.125,
            0.14583333333333334,
            0.3125,
            0.25,
            0.375,
            0.020833333333333332,
            0.2708333333333333,
            0.7083333333333334,
            0.020833333333333332,
            0.020833333333333332,
            0.7083333333333334,
            0.3125,
            0.34375,
            0.2708333333333333,
            0.6458333333333334,
            1,
            0.34375,
            0.09375,
            0.09375,
            0.375,
            0.28125,
            0,
            0,
            0.4895833333333333,
            0.010416666666666666,
            0.020833333333333332,
            0.020833333333333332,
            0.3333333333333333,
            0.125,
            0.90625,
            0.5208333333333334,
            0.125,
            0.09375,
            0.7604166666666666,
            0.6979166666666666,
            0.5833333333333334,
            0.375,
            0.34375,
            0.21875
           ]
          }
         ],
         "hovertemplate": "class=1<br>%{xaxis.title.text}=%{x}<br>%{yaxis.title.text}=%{y}<extra></extra>",
         "legendgroup": "1",
         "marker": {
          "color": "#F8766D",
          "symbol": "circle"
         },
         "name": "1",
         "showlegend": true,
         "type": "splom"
        },
        {
         "dimensions": [
          {
           "axis": {
            "matches": true
           },
           "label": "months_since_last_donation",
           "values": [
            1,
            4,
            1,
            4,
            0,
            1,
            4,
            9,
            4,
            4,
            4,
            1,
            2,
            2,
            2,
            2,
            2,
            2,
            2,
            2,
            2,
            2,
            2,
            3,
            2,
            2,
            3,
            0,
            4,
            1,
            2,
            2,
            2,
            2,
            2,
            2,
            2,
            2,
            2,
            2,
            4,
            4,
            4,
            4,
            4,
            4,
            12,
            4,
            3,
            4,
            2,
            2,
            6,
            0,
            3,
            2,
            2,
            4,
            4,
            2,
            11,
            4,
            1,
            2,
            2,
            2,
            4,
            2,
            2,
            4,
            2,
            2,
            2,
            2,
            9,
            2,
            2,
            5,
            4,
            4,
            6,
            2,
            2,
            4,
            4,
            2,
            2,
            2,
            2,
            2,
            2,
            2,
            2,
            2,
            2,
            2,
            2,
            2,
            2,
            2,
            2,
            2,
            2,
            11,
            2,
            10,
            2,
            4,
            13,
            11,
            4,
            4,
            8,
            4,
            4,
            2,
            11,
            2,
            4,
            11,
            9,
            4,
            4,
            4,
            11,
            11,
            2,
            2,
            11,
            11,
            4,
            4,
            4,
            4,
            4,
            4,
            4,
            4,
            4,
            4,
            4,
            4,
            4,
            4,
            4,
            4,
            4,
            10,
            14,
            8,
            11,
            4,
            2,
            8,
            11,
            9,
            4,
            11,
            7,
            11,
            11,
            11,
            2,
            12,
            2,
            16,
            11,
            4,
            12,
            4,
            2,
            4,
            3,
            11,
            4,
            13,
            16,
            16,
            7,
            4,
            4,
            4,
            14,
            4,
            14,
            11,
            14,
            14,
            8,
            11,
            11,
            4,
            16,
            11,
            11,
            11,
            2,
            14,
            14,
            14,
            14,
            14,
            14,
            14,
            2,
            14,
            4,
            11,
            16,
            16,
            11,
            11,
            12,
            9,
            9,
            4,
            11,
            14,
            11,
            15,
            11,
            16,
            14,
            2,
            14,
            16,
            14,
            16,
            16,
            11,
            11,
            9,
            14,
            23,
            11,
            11,
            11,
            11,
            11,
            11,
            11,
            11,
            11,
            11,
            11,
            11,
            16,
            4,
            16,
            14,
            9,
            21,
            14,
            11,
            4,
            21,
            11,
            23,
            14,
            11,
            14,
            4,
            9,
            14,
            14,
            14,
            14,
            14,
            14,
            14,
            14,
            14,
            14,
            14,
            14,
            14,
            9,
            14,
            11,
            11,
            4,
            11,
            16,
            16,
            21,
            16,
            18,
            23,
            23,
            16,
            14,
            14,
            16,
            16,
            16,
            16,
            16,
            16,
            16,
            16,
            16,
            16,
            16,
            16,
            16,
            16,
            21,
            16,
            21,
            21,
            14,
            16,
            23,
            14,
            23,
            16,
            9,
            9,
            14,
            14,
            16,
            21,
            14,
            23,
            18,
            16,
            11,
            11,
            11,
            23,
            21,
            23,
            23,
            23,
            16,
            23,
            21,
            23,
            21,
            21,
            21,
            21,
            21,
            21,
            21,
            21,
            21,
            21,
            21,
            21,
            23,
            21,
            11,
            23,
            23,
            23,
            14,
            21,
            23,
            23,
            23,
            23,
            23,
            23,
            23,
            23,
            23,
            23,
            21,
            23,
            21,
            21,
            16,
            21,
            23,
            23,
            23,
            35,
            38,
            38,
            40,
            74,
            2,
            2,
            2,
            2,
            3,
            4,
            4,
            2,
            2,
            5,
            4,
            2,
            2,
            2,
            1,
            7,
            2,
            4,
            2,
            2,
            4,
            5,
            4,
            14,
            3,
            4,
            7,
            4,
            2,
            4,
            4,
            2,
            2,
            4,
            2,
            9,
            11,
            2,
            2,
            2,
            2,
            2,
            2,
            2,
            2,
            2,
            2,
            11,
            2,
            5,
            3,
            4,
            2,
            12,
            2,
            4,
            9,
            14,
            4,
            4,
            2,
            2,
            4,
            4,
            4,
            4,
            4,
            4,
            4,
            4,
            4,
            4,
            4,
            4,
            11,
            7,
            9,
            11,
            2,
            7,
            8,
            2,
            6,
            12,
            13,
            11,
            4,
            14,
            11,
            7,
            11,
            10,
            14,
            14,
            2,
            11,
            14,
            9,
            16,
            14,
            4,
            14,
            16,
            4,
            14,
            11,
            14,
            15,
            16,
            16,
            11,
            11,
            11,
            11,
            11,
            2,
            16,
            16,
            16,
            16,
            16,
            14,
            23,
            11,
            14,
            4,
            11,
            11,
            16,
            21,
            13,
            16,
            14,
            14,
            14,
            14,
            14,
            14,
            14,
            14,
            14,
            16,
            21,
            16,
            16,
            16,
            16,
            16,
            16,
            14,
            11,
            21,
            23,
            23,
            16,
            16,
            16,
            21,
            21,
            21,
            23,
            21,
            23,
            21,
            23,
            21,
            21,
            25,
            21,
            21,
            23,
            21,
            14,
            23,
            23,
            23,
            23,
            23,
            23,
            23,
            23,
            23,
            16,
            23,
            21,
            23,
            39,
            72
           ]
          },
          {
           "axis": {
            "matches": true
           },
           "label": "total_number_of_donations",
           "values": [
            24,
            4,
            12,
            23,
            3,
            13,
            11,
            9,
            14,
            6,
            8,
            14,
            16,
            5,
            5,
            9,
            2,
            2,
            2,
            11,
            6,
            12,
            16,
            6,
            7,
            10,
            16,
            2,
            7,
            9,
            4,
            4,
            2,
            2,
            2,
            2,
            4,
            4,
            4,
            6,
            2,
            2,
            2,
            2,
            2,
            2,
            11,
            7,
            17,
            9,
            5,
            5,
            17,
            8,
            5,
            3,
            10,
            9,
            5,
            12,
            24,
            11,
            7,
            4,
            5,
            4,
            5,
            12,
            2,
            6,
            11,
            3,
            5,
            12,
            5,
            2,
            9,
            14,
            3,
            3,
            3,
            2,
            2,
            6,
            11,
            1,
            1,
            1,
            1,
            1,
            1,
            1,
            1,
            1,
            1,
            1,
            1,
            1,
            1,
            1,
            1,
            1,
            1,
            10,
            3,
            4,
            4,
            12,
            8,
            9,
            5,
            4,
            15,
            7,
            7,
            4,
            11,
            2,
            6,
            7,
            9,
            6,
            7,
            7,
            9,
            6,
            2,
            7,
            6,
            3,
            1,
            1,
            1,
            1,
            1,
            1,
            1,
            1,
            1,
            1,
            1,
            1,
            3,
            1,
            1,
            1,
            1,
            8,
            7,
            10,
            3,
            2,
            4,
            9,
            22,
            2,
            5,
            12,
            12,
            2,
            2,
            2,
            6,
            13,
            3,
            8,
            7,
            3,
            12,
            4,
            2,
            5,
            2,
            8,
            7,
            4,
            11,
            7,
            2,
            5,
            5,
            4,
            13,
            3,
            18,
            8,
            16,
            5,
            2,
            5,
            2,
            2,
            12,
            4,
            5,
            5,
            4,
            5,
            2,
            2,
            2,
            2,
            2,
            2,
            3,
            6,
            5,
            3,
            4,
            3,
            5,
            2,
            9,
            1,
            1,
            2,
            2,
            4,
            5,
            16,
            4,
            7,
            2,
            2,
            16,
            7,
            7,
            6,
            2,
            3,
            7,
            3,
            4,
            38,
            6,
            1,
            1,
            1,
            1,
            1,
            1,
            1,
            1,
            2,
            5,
            2,
            4,
            2,
            6,
            3,
            2,
            16,
            6,
            2,
            3,
            13,
            6,
            15,
            4,
            2,
            3,
            2,
            4,
            4,
            5,
            1,
            1,
            1,
            1,
            1,
            1,
            1,
            1,
            7,
            1,
            1,
            3,
            7,
            4,
            4,
            2,
            4,
            4,
            10,
            3,
            8,
            2,
            5,
            8,
            3,
            5,
            3,
            1,
            1,
            1,
            1,
            1,
            1,
            1,
            4,
            1,
            1,
            1,
            1,
            1,
            2,
            2,
            2,
            2,
            2,
            4,
            5,
            2,
            5,
            3,
            3,
            2,
            2,
            4,
            2,
            7,
            2,
            3,
            14,
            8,
            3,
            3,
            2,
            3,
            12,
            3,
            2,
            2,
            8,
            3,
            3,
            3,
            2,
            1,
            1,
            1,
            1,
            1,
            1,
            1,
            1,
            1,
            1,
            1,
            5,
            4,
            4,
            2,
            5,
            3,
            3,
            3,
            2,
            6,
            1,
            1,
            1,
            1,
            1,
            1,
            1,
            1,
            4,
            6,
            3,
            2,
            3,
            2,
            3,
            4,
            3,
            2,
            3,
            1,
            1,
            1,
            1,
            44,
            11,
            11,
            11,
            14,
            6,
            9,
            4,
            15,
            24,
            8,
            4,
            6,
            10,
            14,
            14,
            3,
            4,
            3,
            4,
            4,
            6,
            6,
            5,
            8,
            9,
            10,
            14,
            9,
            6,
            9,
            6,
            6,
            2,
            2,
            9,
            5,
            3,
            1,
            1,
            1,
            1,
            1,
            1,
            1,
            1,
            1,
            11,
            3,
            11,
            5,
            6,
            3,
            11,
            2,
            6,
            3,
            8,
            2,
            11,
            7,
            7,
            1,
            1,
            1,
            1,
            1,
            1,
            1,
            1,
            1,
            1,
            7,
            1,
            6,
            5,
            9,
            2,
            5,
            11,
            9,
            2,
            3,
            15,
            3,
            16,
            5,
            7,
            4,
            5,
            6,
            5,
            2,
            2,
            2,
            3,
            8,
            1,
            5,
            4,
            2,
            3,
            16,
            2,
            8,
            3,
            7,
            5,
            2,
            3,
            8,
            1,
            1,
            1,
            1,
            3,
            4,
            15,
            14,
            10,
            3,
            3,
            19,
            7,
            3,
            2,
            2,
            3,
            4,
            7,
            7,
            6,
            3,
            1,
            1,
            1,
            1,
            1,
            1,
            3,
            3,
            7,
            2,
            3,
            1,
            1,
            1,
            1,
            1,
            2,
            4,
            6,
            2,
            6,
            6,
            4,
            5,
            2,
            3,
            3,
            8,
            3,
            3,
            3,
            2,
            1,
            1,
            6,
            1,
            1,
            3,
            2,
            3,
            1,
            1,
            1,
            1,
            1,
            1,
            4,
            1,
            7,
            3,
            2,
            2,
            3,
            1,
            1
           ]
          },
          {
           "axis": {
            "matches": true
           },
           "label": "total_blood_donated",
           "values": [
            6000,
            1000,
            3000,
            5750,
            750,
            3250,
            2750,
            2250,
            3500,
            1500,
            2000,
            3500,
            4000,
            1250,
            1250,
            2250,
            500,
            500,
            500,
            2750,
            1500,
            3000,
            4000,
            1500,
            1750,
            2500,
            4000,
            500,
            1750,
            2250,
            1000,
            1000,
            500,
            500,
            500,
            500,
            1000,
            1000,
            1000,
            1500,
            500,
            500,
            500,
            500,
            500,
            500,
            2750,
            1750,
            4250,
            2250,
            1250,
            1250,
            4250,
            2000,
            1250,
            750,
            2500,
            2250,
            1250,
            3000,
            6000,
            2750,
            1750,
            1000,
            1250,
            1000,
            1250,
            3000,
            500,
            1500,
            2750,
            750,
            1250,
            3000,
            1250,
            500,
            2250,
            3500,
            750,
            750,
            750,
            500,
            500,
            1500,
            2750,
            250,
            250,
            250,
            250,
            250,
            250,
            250,
            250,
            250,
            250,
            250,
            250,
            250,
            250,
            250,
            250,
            250,
            250,
            2500,
            750,
            1000,
            1000,
            3000,
            2000,
            2250,
            1250,
            1000,
            3750,
            1750,
            1750,
            1000,
            2750,
            500,
            1500,
            1750,
            2250,
            1500,
            1750,
            1750,
            2250,
            1500,
            500,
            1750,
            1500,
            750,
            250,
            250,
            250,
            250,
            250,
            250,
            250,
            250,
            250,
            250,
            250,
            250,
            750,
            250,
            250,
            250,
            250,
            2000,
            1750,
            2500,
            750,
            500,
            1000,
            2250,
            5500,
            500,
            1250,
            3000,
            3000,
            500,
            500,
            500,
            1500,
            3250,
            750,
            2000,
            1750,
            750,
            3000,
            1000,
            500,
            1250,
            500,
            2000,
            1750,
            1000,
            2750,
            1750,
            500,
            1250,
            1250,
            1000,
            3250,
            750,
            4500,
            2000,
            4000,
            1250,
            500,
            1250,
            500,
            500,
            3000,
            1000,
            1250,
            1250,
            1000,
            1250,
            500,
            500,
            500,
            500,
            500,
            500,
            750,
            1500,
            1250,
            750,
            1000,
            750,
            1250,
            500,
            2250,
            250,
            250,
            500,
            500,
            1000,
            1250,
            4000,
            1000,
            1750,
            500,
            500,
            4000,
            1750,
            1750,
            1500,
            500,
            750,
            1750,
            750,
            1000,
            9500,
            1500,
            250,
            250,
            250,
            250,
            250,
            250,
            250,
            250,
            500,
            1250,
            500,
            1000,
            500,
            1500,
            750,
            500,
            4000,
            1500,
            500,
            750,
            3250,
            1500,
            3750,
            1000,
            500,
            750,
            500,
            1000,
            1000,
            1250,
            250,
            250,
            250,
            250,
            250,
            250,
            250,
            250,
            1750,
            250,
            250,
            750,
            1750,
            1000,
            1000,
            500,
            1000,
            1000,
            2500,
            750,
            2000,
            500,
            1250,
            2000,
            750,
            1250,
            750,
            250,
            250,
            250,
            250,
            250,
            250,
            250,
            1000,
            250,
            250,
            250,
            250,
            250,
            500,
            500,
            500,
            500,
            500,
            1000,
            1250,
            500,
            1250,
            750,
            750,
            500,
            500,
            1000,
            500,
            1750,
            500,
            750,
            3500,
            2000,
            750,
            750,
            500,
            750,
            3000,
            750,
            500,
            500,
            2000,
            750,
            750,
            750,
            500,
            250,
            250,
            250,
            250,
            250,
            250,
            250,
            250,
            250,
            250,
            250,
            1250,
            1000,
            1000,
            500,
            1250,
            750,
            750,
            750,
            500,
            1500,
            250,
            250,
            250,
            250,
            250,
            250,
            250,
            250,
            1000,
            1500,
            750,
            500,
            750,
            500,
            750,
            1000,
            750,
            500,
            750,
            250,
            250,
            250,
            250,
            11000,
            2750,
            2750,
            2750,
            3500,
            1500,
            2250,
            1000,
            3750,
            6000,
            2000,
            1000,
            1500,
            2500,
            3500,
            3500,
            750,
            1000,
            750,
            1000,
            1000,
            1500,
            1500,
            1250,
            2000,
            2250,
            2500,
            3500,
            2250,
            1500,
            2250,
            1500,
            1500,
            500,
            500,
            2250,
            1250,
            750,
            250,
            250,
            250,
            250,
            250,
            250,
            250,
            250,
            250,
            2750,
            750,
            2750,
            1250,
            1500,
            750,
            2750,
            500,
            1500,
            750,
            2000,
            500,
            2750,
            1750,
            1750,
            250,
            250,
            250,
            250,
            250,
            250,
            250,
            250,
            250,
            250,
            1750,
            250,
            1500,
            1250,
            2250,
            500,
            1250,
            2750,
            2250,
            500,
            750,
            3750,
            750,
            4000,
            1250,
            1750,
            1000,
            1250,
            1500,
            1250,
            500,
            500,
            500,
            750,
            2000,
            250,
            1250,
            1000,
            500,
            750,
            4000,
            500,
            2000,
            750,
            1750,
            1250,
            500,
            750,
            2000,
            250,
            250,
            250,
            250,
            750,
            1000,
            3750,
            3500,
            2500,
            750,
            750,
            4750,
            1750,
            750,
            500,
            500,
            750,
            1000,
            1750,
            1750,
            1500,
            750,
            250,
            250,
            250,
            250,
            250,
            250,
            750,
            750,
            1750,
            500,
            750,
            250,
            250,
            250,
            250,
            250,
            500,
            1000,
            1500,
            500,
            1500,
            1500,
            1000,
            1250,
            500,
            750,
            750,
            2000,
            750,
            750,
            750,
            500,
            250,
            250,
            1500,
            250,
            250,
            750,
            500,
            750,
            250,
            250,
            250,
            250,
            250,
            250,
            1000,
            250,
            1750,
            750,
            500,
            500,
            750,
            250,
            250
           ]
          },
          {
           "axis": {
            "matches": true
           },
           "label": "months_since_first_donation",
           "values": [
            0.78125,
            0.020833333333333332,
            0.34375,
            0.5833333333333334,
            0.020833333333333332,
            0.46875,
            0.2708333333333333,
            0.14583333333333334,
            0.3958333333333333,
            0.125,
            0.19791666666666666,
            0.5833333333333334,
            0.6458333333333334,
            0.14583333333333334,
            0.14583333333333334,
            0.3541666666666667,
            0,
            0,
            0,
            0.4583333333333333,
            0.20833333333333334,
            0.5208333333333334,
            0.8229166666666666,
            0.19791666666666666,
            0.28125,
            0.4895833333333333,
            0.75,
            0.020833333333333332,
            0.23958333333333334,
            0.5104166666666666,
            0.14583333333333334,
            0.14583333333333334,
            0.020833333333333332,
            0.020833333333333332,
            0.020833333333333332,
            0.020833333333333332,
            0.14583333333333334,
            0.14583333333333334,
            0.14583333333333334,
            0.2708333333333333,
            0.020833333333333332,
            0.020833333333333332,
            0.020833333333333332,
            0.020833333333333332,
            0.020833333333333332,
            0.020833333333333332,
            0.21875,
            0.2708333333333333,
            0.875,
            0.3958333333333333,
            0.25,
            0.25,
            0.7083333333333334,
            0.59375,
            0.25,
            0.125,
            0.6458333333333334,
            0.4583333333333333,
            0.21875,
            0.8333333333333334,
            0.6458333333333334,
            0.6145833333333334,
            0.5729166666666666,
            0.25,
            0.3333333333333333,
            0.25,
            0.2708333333333333,
            0.96875,
            0.08333333333333333,
            0.34375,
            0.8958333333333334,
            0.17708333333333334,
            0.3645833333333333,
            1,
            0.17708333333333334,
            0.09375,
            0.75,
            0.875,
            0.14583333333333334,
            0.14583333333333334,
            0.125,
            0.09375,
            0.09375,
            0.3854166666666667,
            0.7916666666666666,
            0,
            0,
            0,
            0,
            0,
            0,
            0,
            0,
            0,
            0,
            0,
            0,
            0,
            0,
            0,
            0,
            0,
            0,
            0.34375,
            0.20833333333333334,
            0.14583333333333334,
            0.34375,
            0.8958333333333334,
            0.25,
            0.3229166666666667,
            0.3333333333333333,
            0.25,
            0.78125,
            0.5208333333333334,
            0.5208333333333334,
            0.34375,
            0.4166666666666667,
            0.125,
            0.46875,
            0.28125,
            0.4479166666666667,
            0.5208333333333334,
            0.5833333333333334,
            0.5833333333333334,
            0.375,
            0.25,
            0.14583333333333334,
            0.7708333333333334,
            0.2604166666666667,
            0.125,
            0.020833333333333332,
            0.020833333333333332,
            0.020833333333333332,
            0.020833333333333332,
            0.020833333333333332,
            0.020833333333333332,
            0.020833333333333332,
            0.020833333333333332,
            0.020833333333333332,
            0.020833333333333332,
            0.020833333333333332,
            0.020833333333333332,
            0.22916666666666666,
            0.020833333333333332,
            0.020833333333333332,
            0.020833333333333332,
            0.020833333333333332,
            0.3854166666666667,
            0.25,
            0.6354166666666666,
            0.13541666666666666,
            0.125,
            0.4270833333333333,
            0.5833333333333334,
            1,
            0.09375,
            0.4583333333333333,
            0.5833333333333334,
            0.875,
            0.09375,
            0.09375,
            0.09375,
            0.7604166666666666,
            0.59375,
            0.34375,
            0.2708333333333333,
            0.3645833333333333,
            0.2708333333333333,
            0.5833333333333334,
            0.40625,
            0.21875,
            0.5833333333333334,
            0.21875,
            0.4583333333333333,
            0.8333333333333334,
            0.19791666666666666,
            0.3958333333333333,
            0.2708333333333333,
            0.14583333333333334,
            0.5833333333333334,
            0.5833333333333334,
            0.4583333333333333,
            0.5729166666666666,
            0.3333333333333333,
            0.7916666666666666,
            0.4791666666666667,
            0.7083333333333334,
            0.25,
            0.14583333333333334,
            0.3229166666666667,
            0.125,
            0.21875,
            0.5,
            0.2708333333333333,
            0.34375,
            0.34375,
            0.7083333333333334,
            0.2708333333333333,
            0.125,
            0.125,
            0.125,
            0.125,
            0.125,
            0.125,
            0.5208333333333334,
            0.3333333333333333,
            0.75,
            0.21875,
            0.21875,
            0.17708333333333334,
            0.375,
            0.14583333333333334,
            0.6041666666666666,
            0.07291666666666667,
            0.07291666666666667,
            0.28125,
            0.15625,
            0.25,
            0.40625,
            0.8333333333333334,
            0.3333333333333333,
            0.375,
            0.14583333333333334,
            0.40625,
            1,
            0.3854166666666667,
            0.46875,
            0.34375,
            0.14583333333333334,
            0.2708333333333333,
            0.6458333333333334,
            0.3333333333333333,
            0.2916666666666667,
            1,
            0.5833333333333334,
            0.09375,
            0.09375,
            0.09375,
            0.09375,
            0.09375,
            0.09375,
            0.09375,
            0.09375,
            0.19791666666666666,
            0.5,
            0.19791666666666666,
            0.2708333333333333,
            0.40625,
            0.3958333333333333,
            0.25,
            0.25,
            0.6458333333333334,
            0.5104166666666666,
            0.22916666666666666,
            0.71875,
            0.5729166666666666,
            0.71875,
            0.5729166666666666,
            0.375,
            0.25,
            0.3020833333333333,
            0.5208333333333334,
            0.65625,
            0.3958333333333333,
            0.5,
            0.125,
            0.125,
            0.125,
            0.125,
            0.125,
            0.125,
            0.125,
            0.125,
            0.7291666666666666,
            0.125,
            0.125,
            0.5208333333333334,
            0.7395833333333334,
            0.5833333333333334,
            0.59375,
            0.59375,
            0.6145833333333334,
            0.3958333333333333,
            0.90625,
            0.25,
            0.7708333333333334,
            0.21875,
            0.3229166666666667,
            0.4583333333333333,
            0.3333333333333333,
            0.6458333333333334,
            0.40625,
            0.14583333333333334,
            0.14583333333333334,
            0.14583333333333334,
            0.14583333333333334,
            0.14583333333333334,
            0.14583333333333334,
            0.14583333333333334,
            0.4479166666666667,
            0.14583333333333334,
            0.14583333333333334,
            0.14583333333333334,
            0.14583333333333334,
            0.14583333333333334,
            0.25,
            0.21875,
            0.2604166666666667,
            0.21875,
            0.21875,
            0.5729166666666666,
            0.6041666666666666,
            0.21875,
            0.75,
            0.2708333333333333,
            0.3958333333333333,
            0.5208333333333334,
            0.5208333333333334,
            0.6458333333333334,
            0.34375,
            0.9479166666666666,
            0.23958333333333334,
            0.5208333333333334,
            0.9479166666666666,
            0.96875,
            0.4583333333333333,
            0.7708333333333334,
            0.5208333333333334,
            0.7708333333333334,
            0.875,
            0.34375,
            0.25,
            0.25,
            0.6458333333333334,
            0.5,
            0.3229166666666667,
            0.375,
            0.2708333333333333,
            0.19791666666666666,
            0.19791666666666666,
            0.19791666666666666,
            0.19791666666666666,
            0.19791666666666666,
            0.19791666666666666,
            0.19791666666666666,
            0.19791666666666666,
            0.19791666666666666,
            0.19791666666666666,
            0.19791666666666666,
            0.6041666666666666,
            0.4479166666666667,
            0.5208333333333334,
            0.7083333333333334,
            0.5833333333333334,
            0.3958333333333333,
            0.40625,
            0.84375,
            0.34375,
            0.7083333333333334,
            0.21875,
            0.21875,
            0.21875,
            0.21875,
            0.21875,
            0.21875,
            0.21875,
            0.21875,
            0.53125,
            0.875,
            0.4791666666666667,
            0.40625,
            0.6458333333333334,
            0.7083333333333334,
            0.7083333333333334,
            0.8854166666666666,
            0.90625,
            0.8854166666666666,
            0.6458333333333334,
            0.375,
            0.375,
            0.3958333333333333,
            0.75,
            1,
            0.21875,
            0.25,
            0.2708333333333333,
            0.34375,
            0.125,
            0.2708333333333333,
            0.09375,
            0.6458333333333334,
            0.8020833333333334,
            0.2708333333333333,
            0.125,
            0.25,
            0.5208333333333334,
            0.96875,
            0.4791666666666667,
            0.09375,
            0.14583333333333334,
            0.125,
            0.21875,
            0.16666666666666666,
            0.2708333333333333,
            0.2916666666666667,
            0.125,
            0.5,
            0.5208333333333334,
            0.46875,
            0.875,
            0.7604166666666666,
            0.34375,
            0.5520833333333334,
            0.4479166666666667,
            0.46875,
            0.07291666666666667,
            0.09375,
            0.375,
            0.16666666666666666,
            0.19791666666666666,
            0,
            0,
            0,
            0,
            0,
            0,
            0,
            0,
            0,
            0.375,
            0.20833333333333334,
            0.7604166666666666,
            0.375,
            0.4270833333333333,
            0.22916666666666666,
            0.3854166666666667,
            0.125,
            0.4583333333333333,
            0.125,
            0.25,
            0.11458333333333333,
            0.96875,
            0.78125,
            0.78125,
            0.020833333333333332,
            0.020833333333333332,
            0.020833333333333332,
            0.020833333333333332,
            0.020833333333333332,
            0.020833333333333332,
            0.020833333333333332,
            0.020833333333333332,
            0.020833333333333332,
            0.020833333333333332,
            0.625,
            0.020833333333333332,
            0.2708333333333333,
            0.34375,
            0.5416666666666666,
            0.09375,
            0.6354166666666666,
            0.90625,
            0.6458333333333334,
            0.20833333333333334,
            0.25,
            0.71875,
            0.14583333333333334,
            0.90625,
            0.5833333333333334,
            0.34375,
            0.2604166666666667,
            0.5208333333333334,
            0.40625,
            0.375,
            0.125,
            0.125,
            0.3229166666666667,
            0.21875,
            0.4583333333333333,
            0.07291666666666667,
            0.2604166666666667,
            0.25,
            0.2916666666666667,
            0.19791666666666666,
            0.78125,
            0.3020833333333333,
            0.5,
            0.25,
            0.4479166666666667,
            0.3229166666666667,
            0.14583333333333334,
            0.19791666666666666,
            0.7291666666666666,
            0.09375,
            0.09375,
            0.09375,
            0.09375,
            0.78125,
            0.2708333333333333,
            0.8854166666666666,
            0.84375,
            0.625,
            0.21875,
            0.25,
            0.625,
            0.7604166666666666,
            0.2708333333333333,
            0.4583333333333333,
            0.23958333333333334,
            0.3645833333333333,
            0.3229166666666667,
            0.375,
            0.7708333333333334,
            0.5,
            0.3229166666666667,
            0.125,
            0.125,
            0.125,
            0.125,
            0.125,
            0.125,
            0.34375,
            0.34375,
            0.6458333333333334,
            0.19791666666666666,
            0.34375,
            0.14583333333333334,
            0.14583333333333334,
            0.14583333333333334,
            0.14583333333333334,
            0.14583333333333334,
            0.28125,
            0.75,
            0.4791666666666667,
            0.21875,
            0.4479166666666667,
            0.8229166666666666,
            0.5833333333333334,
            0.71875,
            0.25,
            0.34375,
            0.34375,
            0.6979166666666666,
            0.375,
            0.34375,
            0.3958333333333333,
            0.2708333333333333,
            0.19791666666666666,
            0.19791666666666666,
            0.5,
            0.19791666666666666,
            0.19791666666666666,
            0.3854166666666667,
            0.3229166666666667,
            0.8020833333333334,
            0.21875,
            0.21875,
            0.21875,
            0.21875,
            0.21875,
            0.21875,
            0.5208333333333334,
            0.21875,
            0.8958333333333334,
            0.875,
            0.375,
            0.5208333333333334,
            0.625,
            0.3854166666666667,
            0.7291666666666666
           ]
          }
         ],
         "hovertemplate": "class=0<br>%{xaxis.title.text}=%{x}<br>%{yaxis.title.text}=%{y}<extra></extra>",
         "legendgroup": "0",
         "marker": {
          "color": "#A3A500",
          "symbol": "circle"
         },
         "name": "0",
         "showlegend": true,
         "type": "splom"
        }
       ],
       "layout": {
        "dragmode": "select",
        "legend": {
         "title": {
          "text": "class"
         },
         "tracegroupgap": 0
        },
        "margin": {
         "t": 60
        },
        "template": {
         "data": {
          "bar": [
           {
            "error_x": {
             "color": "rgb(51,51,51)"
            },
            "error_y": {
             "color": "rgb(51,51,51)"
            },
            "marker": {
             "line": {
              "color": "rgb(237,237,237)",
              "width": 0.5
             },
             "pattern": {
              "fillmode": "overlay",
              "size": 10,
              "solidity": 0.2
             }
            },
            "type": "bar"
           }
          ],
          "barpolar": [
           {
            "marker": {
             "line": {
              "color": "rgb(237,237,237)",
              "width": 0.5
             },
             "pattern": {
              "fillmode": "overlay",
              "size": 10,
              "solidity": 0.2
             }
            },
            "type": "barpolar"
           }
          ],
          "carpet": [
           {
            "aaxis": {
             "endlinecolor": "rgb(51,51,51)",
             "gridcolor": "white",
             "linecolor": "white",
             "minorgridcolor": "white",
             "startlinecolor": "rgb(51,51,51)"
            },
            "baxis": {
             "endlinecolor": "rgb(51,51,51)",
             "gridcolor": "white",
             "linecolor": "white",
             "minorgridcolor": "white",
             "startlinecolor": "rgb(51,51,51)"
            },
            "type": "carpet"
           }
          ],
          "choropleth": [
           {
            "colorbar": {
             "outlinewidth": 0,
             "tickcolor": "rgb(237,237,237)",
             "ticklen": 6,
             "ticks": "inside"
            },
            "type": "choropleth"
           }
          ],
          "contour": [
           {
            "colorbar": {
             "outlinewidth": 0,
             "tickcolor": "rgb(237,237,237)",
             "ticklen": 6,
             "ticks": "inside"
            },
            "colorscale": [
             [
              0,
              "rgb(20,44,66)"
             ],
             [
              1,
              "rgb(90,179,244)"
             ]
            ],
            "type": "contour"
           }
          ],
          "contourcarpet": [
           {
            "colorbar": {
             "outlinewidth": 0,
             "tickcolor": "rgb(237,237,237)",
             "ticklen": 6,
             "ticks": "inside"
            },
            "type": "contourcarpet"
           }
          ],
          "heatmap": [
           {
            "colorbar": {
             "outlinewidth": 0,
             "tickcolor": "rgb(237,237,237)",
             "ticklen": 6,
             "ticks": "inside"
            },
            "colorscale": [
             [
              0,
              "rgb(20,44,66)"
             ],
             [
              1,
              "rgb(90,179,244)"
             ]
            ],
            "type": "heatmap"
           }
          ],
          "heatmapgl": [
           {
            "colorbar": {
             "outlinewidth": 0,
             "tickcolor": "rgb(237,237,237)",
             "ticklen": 6,
             "ticks": "inside"
            },
            "colorscale": [
             [
              0,
              "rgb(20,44,66)"
             ],
             [
              1,
              "rgb(90,179,244)"
             ]
            ],
            "type": "heatmapgl"
           }
          ],
          "histogram": [
           {
            "marker": {
             "pattern": {
              "fillmode": "overlay",
              "size": 10,
              "solidity": 0.2
             }
            },
            "type": "histogram"
           }
          ],
          "histogram2d": [
           {
            "colorbar": {
             "outlinewidth": 0,
             "tickcolor": "rgb(237,237,237)",
             "ticklen": 6,
             "ticks": "inside"
            },
            "colorscale": [
             [
              0,
              "rgb(20,44,66)"
             ],
             [
              1,
              "rgb(90,179,244)"
             ]
            ],
            "type": "histogram2d"
           }
          ],
          "histogram2dcontour": [
           {
            "colorbar": {
             "outlinewidth": 0,
             "tickcolor": "rgb(237,237,237)",
             "ticklen": 6,
             "ticks": "inside"
            },
            "colorscale": [
             [
              0,
              "rgb(20,44,66)"
             ],
             [
              1,
              "rgb(90,179,244)"
             ]
            ],
            "type": "histogram2dcontour"
           }
          ],
          "mesh3d": [
           {
            "colorbar": {
             "outlinewidth": 0,
             "tickcolor": "rgb(237,237,237)",
             "ticklen": 6,
             "ticks": "inside"
            },
            "type": "mesh3d"
           }
          ],
          "parcoords": [
           {
            "line": {
             "colorbar": {
              "outlinewidth": 0,
              "tickcolor": "rgb(237,237,237)",
              "ticklen": 6,
              "ticks": "inside"
             }
            },
            "type": "parcoords"
           }
          ],
          "pie": [
           {
            "automargin": true,
            "type": "pie"
           }
          ],
          "scatter": [
           {
            "fillpattern": {
             "fillmode": "overlay",
             "size": 10,
             "solidity": 0.2
            },
            "type": "scatter"
           }
          ],
          "scatter3d": [
           {
            "line": {
             "colorbar": {
              "outlinewidth": 0,
              "tickcolor": "rgb(237,237,237)",
              "ticklen": 6,
              "ticks": "inside"
             }
            },
            "marker": {
             "colorbar": {
              "outlinewidth": 0,
              "tickcolor": "rgb(237,237,237)",
              "ticklen": 6,
              "ticks": "inside"
             }
            },
            "type": "scatter3d"
           }
          ],
          "scattercarpet": [
           {
            "marker": {
             "colorbar": {
              "outlinewidth": 0,
              "tickcolor": "rgb(237,237,237)",
              "ticklen": 6,
              "ticks": "inside"
             }
            },
            "type": "scattercarpet"
           }
          ],
          "scattergeo": [
           {
            "marker": {
             "colorbar": {
              "outlinewidth": 0,
              "tickcolor": "rgb(237,237,237)",
              "ticklen": 6,
              "ticks": "inside"
             }
            },
            "type": "scattergeo"
           }
          ],
          "scattergl": [
           {
            "marker": {
             "colorbar": {
              "outlinewidth": 0,
              "tickcolor": "rgb(237,237,237)",
              "ticklen": 6,
              "ticks": "inside"
             }
            },
            "type": "scattergl"
           }
          ],
          "scattermapbox": [
           {
            "marker": {
             "colorbar": {
              "outlinewidth": 0,
              "tickcolor": "rgb(237,237,237)",
              "ticklen": 6,
              "ticks": "inside"
             }
            },
            "type": "scattermapbox"
           }
          ],
          "scatterpolar": [
           {
            "marker": {
             "colorbar": {
              "outlinewidth": 0,
              "tickcolor": "rgb(237,237,237)",
              "ticklen": 6,
              "ticks": "inside"
             }
            },
            "type": "scatterpolar"
           }
          ],
          "scatterpolargl": [
           {
            "marker": {
             "colorbar": {
              "outlinewidth": 0,
              "tickcolor": "rgb(237,237,237)",
              "ticklen": 6,
              "ticks": "inside"
             }
            },
            "type": "scatterpolargl"
           }
          ],
          "scatterternary": [
           {
            "marker": {
             "colorbar": {
              "outlinewidth": 0,
              "tickcolor": "rgb(237,237,237)",
              "ticklen": 6,
              "ticks": "inside"
             }
            },
            "type": "scatterternary"
           }
          ],
          "surface": [
           {
            "colorbar": {
             "outlinewidth": 0,
             "tickcolor": "rgb(237,237,237)",
             "ticklen": 6,
             "ticks": "inside"
            },
            "colorscale": [
             [
              0,
              "rgb(20,44,66)"
             ],
             [
              1,
              "rgb(90,179,244)"
             ]
            ],
            "type": "surface"
           }
          ],
          "table": [
           {
            "cells": {
             "fill": {
              "color": "rgb(237,237,237)"
             },
             "line": {
              "color": "white"
             }
            },
            "header": {
             "fill": {
              "color": "rgb(217,217,217)"
             },
             "line": {
              "color": "white"
             }
            },
            "type": "table"
           }
          ]
         },
         "layout": {
          "annotationdefaults": {
           "arrowhead": 0,
           "arrowwidth": 1
          },
          "autotypenumbers": "strict",
          "coloraxis": {
           "colorbar": {
            "outlinewidth": 0,
            "tickcolor": "rgb(237,237,237)",
            "ticklen": 6,
            "ticks": "inside"
           }
          },
          "colorscale": {
           "sequential": [
            [
             0,
             "rgb(20,44,66)"
            ],
            [
             1,
             "rgb(90,179,244)"
            ]
           ],
           "sequentialminus": [
            [
             0,
             "rgb(20,44,66)"
            ],
            [
             1,
             "rgb(90,179,244)"
            ]
           ]
          },
          "colorway": [
           "#F8766D",
           "#A3A500",
           "#00BF7D",
           "#00B0F6",
           "#E76BF3"
          ],
          "font": {
           "color": "rgb(51,51,51)"
          },
          "geo": {
           "bgcolor": "white",
           "lakecolor": "white",
           "landcolor": "rgb(237,237,237)",
           "showlakes": true,
           "showland": true,
           "subunitcolor": "white"
          },
          "hoverlabel": {
           "align": "left"
          },
          "hovermode": "closest",
          "paper_bgcolor": "white",
          "plot_bgcolor": "rgb(237,237,237)",
          "polar": {
           "angularaxis": {
            "gridcolor": "white",
            "linecolor": "white",
            "showgrid": true,
            "tickcolor": "rgb(51,51,51)",
            "ticks": "outside"
           },
           "bgcolor": "rgb(237,237,237)",
           "radialaxis": {
            "gridcolor": "white",
            "linecolor": "white",
            "showgrid": true,
            "tickcolor": "rgb(51,51,51)",
            "ticks": "outside"
           }
          },
          "scene": {
           "xaxis": {
            "backgroundcolor": "rgb(237,237,237)",
            "gridcolor": "white",
            "gridwidth": 2,
            "linecolor": "white",
            "showbackground": true,
            "showgrid": true,
            "tickcolor": "rgb(51,51,51)",
            "ticks": "outside",
            "zerolinecolor": "white"
           },
           "yaxis": {
            "backgroundcolor": "rgb(237,237,237)",
            "gridcolor": "white",
            "gridwidth": 2,
            "linecolor": "white",
            "showbackground": true,
            "showgrid": true,
            "tickcolor": "rgb(51,51,51)",
            "ticks": "outside",
            "zerolinecolor": "white"
           },
           "zaxis": {
            "backgroundcolor": "rgb(237,237,237)",
            "gridcolor": "white",
            "gridwidth": 2,
            "linecolor": "white",
            "showbackground": true,
            "showgrid": true,
            "tickcolor": "rgb(51,51,51)",
            "ticks": "outside",
            "zerolinecolor": "white"
           }
          },
          "shapedefaults": {
           "fillcolor": "black",
           "line": {
            "width": 0
           },
           "opacity": 0.3
          },
          "ternary": {
           "aaxis": {
            "gridcolor": "white",
            "linecolor": "white",
            "showgrid": true,
            "tickcolor": "rgb(51,51,51)",
            "ticks": "outside"
           },
           "baxis": {
            "gridcolor": "white",
            "linecolor": "white",
            "showgrid": true,
            "tickcolor": "rgb(51,51,51)",
            "ticks": "outside"
           },
           "bgcolor": "rgb(237,237,237)",
           "caxis": {
            "gridcolor": "white",
            "linecolor": "white",
            "showgrid": true,
            "tickcolor": "rgb(51,51,51)",
            "ticks": "outside"
           }
          },
          "xaxis": {
           "automargin": true,
           "gridcolor": "white",
           "linecolor": "white",
           "showgrid": true,
           "tickcolor": "rgb(51,51,51)",
           "ticks": "outside",
           "title": {
            "standoff": 15
           },
           "zerolinecolor": "white"
          },
          "yaxis": {
           "automargin": true,
           "gridcolor": "white",
           "linecolor": "white",
           "showgrid": true,
           "tickcolor": "rgb(51,51,51)",
           "ticks": "outside",
           "title": {
            "standoff": 15
           },
           "zerolinecolor": "white"
          }
         }
        }
       }
      }
     },
     "metadata": {},
     "output_type": "display_data"
    }
   ],
   "source": [
    "fig = px.scatter_matrix(df,dimensions=['months_since_last_donation', 'total_number_of_donations', 'total_blood_donated','months_since_first_donation'], color= 'class', template=\"ggplot2\")\n",
    "fig.show() "
   ]
  },
  {
   "cell_type": "code",
   "execution_count": 320,
   "metadata": {},
   "outputs": [
    {
     "data": {
      "application/vnd.plotly.v1+json": {
       "config": {
        "plotlyServerURL": "https://plot.ly"
       },
       "data": [
        {
         "hovertemplate": "class=1<br>total_number_of_donations=%{x}<br>months_since_first_donation=%{y}<extra></extra>",
         "legendgroup": "1",
         "marker": {
          "color": "#636efa",
          "symbol": "circle"
         },
         "mode": "markers",
         "name": "1",
         "orientation": "v",
         "showlegend": true,
         "type": "scatter",
         "x": [
          50,
          13,
          16,
          20,
          7,
          9,
          46,
          10,
          6,
          5,
          14,
          15,
          6,
          3,
          3,
          6,
          6,
          12,
          5,
          10,
          10,
          9,
          8,
          12,
          6,
          14,
          7,
          13,
          5,
          20,
          9,
          11,
          5,
          19,
          8,
          7,
          8,
          5,
          3,
          4,
          17,
          2,
          2,
          4,
          6,
          6,
          7,
          2,
          9,
          4,
          7,
          8,
          13,
          5,
          8,
          7,
          11,
          3,
          5,
          6,
          5,
          8,
          8,
          2,
          2,
          3,
          2,
          7,
          1,
          1,
          1,
          1,
          4,
          5,
          6,
          4,
          5,
          5,
          8,
          2,
          1,
          1,
          1,
          1,
          1,
          1,
          8,
          3,
          17,
          8,
          3,
          14,
          3,
          4,
          4,
          2,
          5,
          3,
          4,
          5,
          9,
          5,
          8,
          4,
          6,
          7,
          3,
          1,
          2,
          5,
          2,
          3,
          2,
          3,
          7,
          1,
          1,
          5,
          43,
          22,
          34,
          26,
          41,
          21,
          21,
          13,
          4,
          16,
          5,
          33,
          10,
          10,
          11,
          11,
          13,
          10,
          5,
          6,
          5,
          4,
          5,
          7,
          6,
          8,
          2,
          6,
          16,
          2,
          2,
          12,
          7,
          6,
          6,
          11,
          16,
          6,
          2,
          2,
          6,
          4,
          1,
          1,
          11,
          1,
          1,
          1,
          4,
          3,
          9,
          8,
          2,
          1,
          3,
          14,
          7,
          2,
          2,
          1
         ],
         "xaxis": "x",
         "y": [
          1,
          0.2708333333333333,
          0.34375,
          0.4479166666666667,
          0.125,
          0.20833333333333334,
          1,
          0.2708333333333333,
          0.13541666666666666,
          0.09375,
          0.4791666666666667,
          0.4895833333333333,
          0.13541666666666666,
          0.020833333333333332,
          0.020833333333333332,
          0.14583333333333334,
          0.14583333333333334,
          0.3333333333333333,
          0.09375,
          0.2708333333333333,
          0.2708333333333333,
          0.25,
          0.2708333333333333,
          0.46875,
          0.14583333333333334,
          0.5729166666666666,
          0.20833333333333334,
          0.53125,
          0.14583333333333334,
          0.6979166666666666,
          0.2708333333333333,
          0.4583333333333333,
          0.125,
          0.6979166666666666,
          0.25,
          0.2708333333333333,
          0.34375,
          0.14583333333333334,
          0.07291666666666667,
          0.125,
          0.71875,
          0.020833333333333332,
          0.020833333333333332,
          0.14583333333333334,
          0.21875,
          0.2708333333333333,
          0.34375,
          0.020833333333333332,
          0.375,
          0.125,
          0.25,
          0.3333333333333333,
          0.7708333333333334,
          0.21875,
          0.3958333333333333,
          0.4583333333333333,
          0.8020833333333334,
          0.14583333333333334,
          0.25,
          0.40625,
          0.3229166666666667,
          0.4583333333333333,
          0.4791666666666667,
          0.08333333333333333,
          0.07291666666666667,
          0.14583333333333334,
          0.09375,
          0.5833333333333334,
          0,
          0,
          0,
          0,
          0.14583333333333334,
          0.3229166666666667,
          0.40625,
          0.25,
          0.34375,
          0.46875,
          0.375,
          0.09375,
          0.020833333333333332,
          0.020833333333333332,
          0.020833333333333332,
          0.020833333333333332,
          0.020833333333333332,
          0.020833333333333332,
          0.5208333333333334,
          0.23958333333333334,
          0.8020833333333334,
          0.40625,
          0.14583333333333334,
          0.7395833333333334,
          0.375,
          0.4270833333333333,
          0.20833333333333334,
          0.14583333333333334,
          0.2708333333333333,
          0.17708333333333334,
          0.21875,
          0.3645833333333333,
          0.7291666666666666,
          0.5104166666666666,
          0.5,
          0.2708333333333333,
          0.34375,
          0.625,
          0.19791666666666666,
          0.09375,
          0.19791666666666666,
          0.3958333333333333,
          0.5104166666666666,
          0.3958333333333333,
          0.19791666666666666,
          0.25,
          0.8854166666666666,
          0.19791666666666666,
          0.20833333333333334,
          0.4895833333333333,
          0.875,
          0.2708333333333333,
          0.78125,
          0.7708333333333334,
          1,
          0.4166666666666667,
          0.5208333333333334,
          0.3125,
          0.020833333333333332,
          0.375,
          0.10416666666666667,
          1,
          0.3229166666666667,
          0.2708333333333333,
          0.3958333333333333,
          0.40625,
          0.3854166666666667,
          0.4270833333333333,
          0.14583333333333334,
          0.20833333333333334,
          0.14583333333333334,
          0.125,
          0.14583333333333334,
          0.3125,
          0.25,
          0.375,
          0.020833333333333332,
          0.2708333333333333,
          0.7083333333333334,
          0.020833333333333332,
          0.020833333333333332,
          0.7083333333333334,
          0.3125,
          0.34375,
          0.2708333333333333,
          0.6458333333333334,
          1,
          0.34375,
          0.09375,
          0.09375,
          0.375,
          0.28125,
          0,
          0,
          0.4895833333333333,
          0.010416666666666666,
          0.020833333333333332,
          0.020833333333333332,
          0.3333333333333333,
          0.125,
          0.90625,
          0.5208333333333334,
          0.125,
          0.09375,
          0.7604166666666666,
          0.6979166666666666,
          0.5833333333333334,
          0.375,
          0.34375,
          0.21875
         ],
         "yaxis": "y"
        },
        {
         "hovertemplate": "class=0<br>total_number_of_donations=%{x}<br>months_since_first_donation=%{y}<extra></extra>",
         "legendgroup": "0",
         "marker": {
          "color": "#EF553B",
          "symbol": "circle"
         },
         "mode": "markers",
         "name": "0",
         "orientation": "v",
         "showlegend": true,
         "type": "scatter",
         "x": [
          24,
          4,
          12,
          23,
          3,
          13,
          11,
          9,
          14,
          6,
          8,
          14,
          16,
          5,
          5,
          9,
          2,
          2,
          2,
          11,
          6,
          12,
          16,
          6,
          7,
          10,
          16,
          2,
          7,
          9,
          4,
          4,
          2,
          2,
          2,
          2,
          4,
          4,
          4,
          6,
          2,
          2,
          2,
          2,
          2,
          2,
          11,
          7,
          17,
          9,
          5,
          5,
          17,
          8,
          5,
          3,
          10,
          9,
          5,
          12,
          24,
          11,
          7,
          4,
          5,
          4,
          5,
          12,
          2,
          6,
          11,
          3,
          5,
          12,
          5,
          2,
          9,
          14,
          3,
          3,
          3,
          2,
          2,
          6,
          11,
          1,
          1,
          1,
          1,
          1,
          1,
          1,
          1,
          1,
          1,
          1,
          1,
          1,
          1,
          1,
          1,
          1,
          1,
          10,
          3,
          4,
          4,
          12,
          8,
          9,
          5,
          4,
          15,
          7,
          7,
          4,
          11,
          2,
          6,
          7,
          9,
          6,
          7,
          7,
          9,
          6,
          2,
          7,
          6,
          3,
          1,
          1,
          1,
          1,
          1,
          1,
          1,
          1,
          1,
          1,
          1,
          1,
          3,
          1,
          1,
          1,
          1,
          8,
          7,
          10,
          3,
          2,
          4,
          9,
          22,
          2,
          5,
          12,
          12,
          2,
          2,
          2,
          6,
          13,
          3,
          8,
          7,
          3,
          12,
          4,
          2,
          5,
          2,
          8,
          7,
          4,
          11,
          7,
          2,
          5,
          5,
          4,
          13,
          3,
          18,
          8,
          16,
          5,
          2,
          5,
          2,
          2,
          12,
          4,
          5,
          5,
          4,
          5,
          2,
          2,
          2,
          2,
          2,
          2,
          3,
          6,
          5,
          3,
          4,
          3,
          5,
          2,
          9,
          1,
          1,
          2,
          2,
          4,
          5,
          16,
          4,
          7,
          2,
          2,
          16,
          7,
          7,
          6,
          2,
          3,
          7,
          3,
          4,
          38,
          6,
          1,
          1,
          1,
          1,
          1,
          1,
          1,
          1,
          2,
          5,
          2,
          4,
          2,
          6,
          3,
          2,
          16,
          6,
          2,
          3,
          13,
          6,
          15,
          4,
          2,
          3,
          2,
          4,
          4,
          5,
          1,
          1,
          1,
          1,
          1,
          1,
          1,
          1,
          7,
          1,
          1,
          3,
          7,
          4,
          4,
          2,
          4,
          4,
          10,
          3,
          8,
          2,
          5,
          8,
          3,
          5,
          3,
          1,
          1,
          1,
          1,
          1,
          1,
          1,
          4,
          1,
          1,
          1,
          1,
          1,
          2,
          2,
          2,
          2,
          2,
          4,
          5,
          2,
          5,
          3,
          3,
          2,
          2,
          4,
          2,
          7,
          2,
          3,
          14,
          8,
          3,
          3,
          2,
          3,
          12,
          3,
          2,
          2,
          8,
          3,
          3,
          3,
          2,
          1,
          1,
          1,
          1,
          1,
          1,
          1,
          1,
          1,
          1,
          1,
          5,
          4,
          4,
          2,
          5,
          3,
          3,
          3,
          2,
          6,
          1,
          1,
          1,
          1,
          1,
          1,
          1,
          1,
          4,
          6,
          3,
          2,
          3,
          2,
          3,
          4,
          3,
          2,
          3,
          1,
          1,
          1,
          1,
          44,
          11,
          11,
          11,
          14,
          6,
          9,
          4,
          15,
          24,
          8,
          4,
          6,
          10,
          14,
          14,
          3,
          4,
          3,
          4,
          4,
          6,
          6,
          5,
          8,
          9,
          10,
          14,
          9,
          6,
          9,
          6,
          6,
          2,
          2,
          9,
          5,
          3,
          1,
          1,
          1,
          1,
          1,
          1,
          1,
          1,
          1,
          11,
          3,
          11,
          5,
          6,
          3,
          11,
          2,
          6,
          3,
          8,
          2,
          11,
          7,
          7,
          1,
          1,
          1,
          1,
          1,
          1,
          1,
          1,
          1,
          1,
          7,
          1,
          6,
          5,
          9,
          2,
          5,
          11,
          9,
          2,
          3,
          15,
          3,
          16,
          5,
          7,
          4,
          5,
          6,
          5,
          2,
          2,
          2,
          3,
          8,
          1,
          5,
          4,
          2,
          3,
          16,
          2,
          8,
          3,
          7,
          5,
          2,
          3,
          8,
          1,
          1,
          1,
          1,
          3,
          4,
          15,
          14,
          10,
          3,
          3,
          19,
          7,
          3,
          2,
          2,
          3,
          4,
          7,
          7,
          6,
          3,
          1,
          1,
          1,
          1,
          1,
          1,
          3,
          3,
          7,
          2,
          3,
          1,
          1,
          1,
          1,
          1,
          2,
          4,
          6,
          2,
          6,
          6,
          4,
          5,
          2,
          3,
          3,
          8,
          3,
          3,
          3,
          2,
          1,
          1,
          6,
          1,
          1,
          3,
          2,
          3,
          1,
          1,
          1,
          1,
          1,
          1,
          4,
          1,
          7,
          3,
          2,
          2,
          3,
          1,
          1
         ],
         "xaxis": "x",
         "y": [
          0.78125,
          0.020833333333333332,
          0.34375,
          0.5833333333333334,
          0.020833333333333332,
          0.46875,
          0.2708333333333333,
          0.14583333333333334,
          0.3958333333333333,
          0.125,
          0.19791666666666666,
          0.5833333333333334,
          0.6458333333333334,
          0.14583333333333334,
          0.14583333333333334,
          0.3541666666666667,
          0,
          0,
          0,
          0.4583333333333333,
          0.20833333333333334,
          0.5208333333333334,
          0.8229166666666666,
          0.19791666666666666,
          0.28125,
          0.4895833333333333,
          0.75,
          0.020833333333333332,
          0.23958333333333334,
          0.5104166666666666,
          0.14583333333333334,
          0.14583333333333334,
          0.020833333333333332,
          0.020833333333333332,
          0.020833333333333332,
          0.020833333333333332,
          0.14583333333333334,
          0.14583333333333334,
          0.14583333333333334,
          0.2708333333333333,
          0.020833333333333332,
          0.020833333333333332,
          0.020833333333333332,
          0.020833333333333332,
          0.020833333333333332,
          0.020833333333333332,
          0.21875,
          0.2708333333333333,
          0.875,
          0.3958333333333333,
          0.25,
          0.25,
          0.7083333333333334,
          0.59375,
          0.25,
          0.125,
          0.6458333333333334,
          0.4583333333333333,
          0.21875,
          0.8333333333333334,
          0.6458333333333334,
          0.6145833333333334,
          0.5729166666666666,
          0.25,
          0.3333333333333333,
          0.25,
          0.2708333333333333,
          0.96875,
          0.08333333333333333,
          0.34375,
          0.8958333333333334,
          0.17708333333333334,
          0.3645833333333333,
          1,
          0.17708333333333334,
          0.09375,
          0.75,
          0.875,
          0.14583333333333334,
          0.14583333333333334,
          0.125,
          0.09375,
          0.09375,
          0.3854166666666667,
          0.7916666666666666,
          0,
          0,
          0,
          0,
          0,
          0,
          0,
          0,
          0,
          0,
          0,
          0,
          0,
          0,
          0,
          0,
          0,
          0,
          0.34375,
          0.20833333333333334,
          0.14583333333333334,
          0.34375,
          0.8958333333333334,
          0.25,
          0.3229166666666667,
          0.3333333333333333,
          0.25,
          0.78125,
          0.5208333333333334,
          0.5208333333333334,
          0.34375,
          0.4166666666666667,
          0.125,
          0.46875,
          0.28125,
          0.4479166666666667,
          0.5208333333333334,
          0.5833333333333334,
          0.5833333333333334,
          0.375,
          0.25,
          0.14583333333333334,
          0.7708333333333334,
          0.2604166666666667,
          0.125,
          0.020833333333333332,
          0.020833333333333332,
          0.020833333333333332,
          0.020833333333333332,
          0.020833333333333332,
          0.020833333333333332,
          0.020833333333333332,
          0.020833333333333332,
          0.020833333333333332,
          0.020833333333333332,
          0.020833333333333332,
          0.020833333333333332,
          0.22916666666666666,
          0.020833333333333332,
          0.020833333333333332,
          0.020833333333333332,
          0.020833333333333332,
          0.3854166666666667,
          0.25,
          0.6354166666666666,
          0.13541666666666666,
          0.125,
          0.4270833333333333,
          0.5833333333333334,
          1,
          0.09375,
          0.4583333333333333,
          0.5833333333333334,
          0.875,
          0.09375,
          0.09375,
          0.09375,
          0.7604166666666666,
          0.59375,
          0.34375,
          0.2708333333333333,
          0.3645833333333333,
          0.2708333333333333,
          0.5833333333333334,
          0.40625,
          0.21875,
          0.5833333333333334,
          0.21875,
          0.4583333333333333,
          0.8333333333333334,
          0.19791666666666666,
          0.3958333333333333,
          0.2708333333333333,
          0.14583333333333334,
          0.5833333333333334,
          0.5833333333333334,
          0.4583333333333333,
          0.5729166666666666,
          0.3333333333333333,
          0.7916666666666666,
          0.4791666666666667,
          0.7083333333333334,
          0.25,
          0.14583333333333334,
          0.3229166666666667,
          0.125,
          0.21875,
          0.5,
          0.2708333333333333,
          0.34375,
          0.34375,
          0.7083333333333334,
          0.2708333333333333,
          0.125,
          0.125,
          0.125,
          0.125,
          0.125,
          0.125,
          0.5208333333333334,
          0.3333333333333333,
          0.75,
          0.21875,
          0.21875,
          0.17708333333333334,
          0.375,
          0.14583333333333334,
          0.6041666666666666,
          0.07291666666666667,
          0.07291666666666667,
          0.28125,
          0.15625,
          0.25,
          0.40625,
          0.8333333333333334,
          0.3333333333333333,
          0.375,
          0.14583333333333334,
          0.40625,
          1,
          0.3854166666666667,
          0.46875,
          0.34375,
          0.14583333333333334,
          0.2708333333333333,
          0.6458333333333334,
          0.3333333333333333,
          0.2916666666666667,
          1,
          0.5833333333333334,
          0.09375,
          0.09375,
          0.09375,
          0.09375,
          0.09375,
          0.09375,
          0.09375,
          0.09375,
          0.19791666666666666,
          0.5,
          0.19791666666666666,
          0.2708333333333333,
          0.40625,
          0.3958333333333333,
          0.25,
          0.25,
          0.6458333333333334,
          0.5104166666666666,
          0.22916666666666666,
          0.71875,
          0.5729166666666666,
          0.71875,
          0.5729166666666666,
          0.375,
          0.25,
          0.3020833333333333,
          0.5208333333333334,
          0.65625,
          0.3958333333333333,
          0.5,
          0.125,
          0.125,
          0.125,
          0.125,
          0.125,
          0.125,
          0.125,
          0.125,
          0.7291666666666666,
          0.125,
          0.125,
          0.5208333333333334,
          0.7395833333333334,
          0.5833333333333334,
          0.59375,
          0.59375,
          0.6145833333333334,
          0.3958333333333333,
          0.90625,
          0.25,
          0.7708333333333334,
          0.21875,
          0.3229166666666667,
          0.4583333333333333,
          0.3333333333333333,
          0.6458333333333334,
          0.40625,
          0.14583333333333334,
          0.14583333333333334,
          0.14583333333333334,
          0.14583333333333334,
          0.14583333333333334,
          0.14583333333333334,
          0.14583333333333334,
          0.4479166666666667,
          0.14583333333333334,
          0.14583333333333334,
          0.14583333333333334,
          0.14583333333333334,
          0.14583333333333334,
          0.25,
          0.21875,
          0.2604166666666667,
          0.21875,
          0.21875,
          0.5729166666666666,
          0.6041666666666666,
          0.21875,
          0.75,
          0.2708333333333333,
          0.3958333333333333,
          0.5208333333333334,
          0.5208333333333334,
          0.6458333333333334,
          0.34375,
          0.9479166666666666,
          0.23958333333333334,
          0.5208333333333334,
          0.9479166666666666,
          0.96875,
          0.4583333333333333,
          0.7708333333333334,
          0.5208333333333334,
          0.7708333333333334,
          0.875,
          0.34375,
          0.25,
          0.25,
          0.6458333333333334,
          0.5,
          0.3229166666666667,
          0.375,
          0.2708333333333333,
          0.19791666666666666,
          0.19791666666666666,
          0.19791666666666666,
          0.19791666666666666,
          0.19791666666666666,
          0.19791666666666666,
          0.19791666666666666,
          0.19791666666666666,
          0.19791666666666666,
          0.19791666666666666,
          0.19791666666666666,
          0.6041666666666666,
          0.4479166666666667,
          0.5208333333333334,
          0.7083333333333334,
          0.5833333333333334,
          0.3958333333333333,
          0.40625,
          0.84375,
          0.34375,
          0.7083333333333334,
          0.21875,
          0.21875,
          0.21875,
          0.21875,
          0.21875,
          0.21875,
          0.21875,
          0.21875,
          0.53125,
          0.875,
          0.4791666666666667,
          0.40625,
          0.6458333333333334,
          0.7083333333333334,
          0.7083333333333334,
          0.8854166666666666,
          0.90625,
          0.8854166666666666,
          0.6458333333333334,
          0.375,
          0.375,
          0.3958333333333333,
          0.75,
          1,
          0.21875,
          0.25,
          0.2708333333333333,
          0.34375,
          0.125,
          0.2708333333333333,
          0.09375,
          0.6458333333333334,
          0.8020833333333334,
          0.2708333333333333,
          0.125,
          0.25,
          0.5208333333333334,
          0.96875,
          0.4791666666666667,
          0.09375,
          0.14583333333333334,
          0.125,
          0.21875,
          0.16666666666666666,
          0.2708333333333333,
          0.2916666666666667,
          0.125,
          0.5,
          0.5208333333333334,
          0.46875,
          0.875,
          0.7604166666666666,
          0.34375,
          0.5520833333333334,
          0.4479166666666667,
          0.46875,
          0.07291666666666667,
          0.09375,
          0.375,
          0.16666666666666666,
          0.19791666666666666,
          0,
          0,
          0,
          0,
          0,
          0,
          0,
          0,
          0,
          0.375,
          0.20833333333333334,
          0.7604166666666666,
          0.375,
          0.4270833333333333,
          0.22916666666666666,
          0.3854166666666667,
          0.125,
          0.4583333333333333,
          0.125,
          0.25,
          0.11458333333333333,
          0.96875,
          0.78125,
          0.78125,
          0.020833333333333332,
          0.020833333333333332,
          0.020833333333333332,
          0.020833333333333332,
          0.020833333333333332,
          0.020833333333333332,
          0.020833333333333332,
          0.020833333333333332,
          0.020833333333333332,
          0.020833333333333332,
          0.625,
          0.020833333333333332,
          0.2708333333333333,
          0.34375,
          0.5416666666666666,
          0.09375,
          0.6354166666666666,
          0.90625,
          0.6458333333333334,
          0.20833333333333334,
          0.25,
          0.71875,
          0.14583333333333334,
          0.90625,
          0.5833333333333334,
          0.34375,
          0.2604166666666667,
          0.5208333333333334,
          0.40625,
          0.375,
          0.125,
          0.125,
          0.3229166666666667,
          0.21875,
          0.4583333333333333,
          0.07291666666666667,
          0.2604166666666667,
          0.25,
          0.2916666666666667,
          0.19791666666666666,
          0.78125,
          0.3020833333333333,
          0.5,
          0.25,
          0.4479166666666667,
          0.3229166666666667,
          0.14583333333333334,
          0.19791666666666666,
          0.7291666666666666,
          0.09375,
          0.09375,
          0.09375,
          0.09375,
          0.78125,
          0.2708333333333333,
          0.8854166666666666,
          0.84375,
          0.625,
          0.21875,
          0.25,
          0.625,
          0.7604166666666666,
          0.2708333333333333,
          0.4583333333333333,
          0.23958333333333334,
          0.3645833333333333,
          0.3229166666666667,
          0.375,
          0.7708333333333334,
          0.5,
          0.3229166666666667,
          0.125,
          0.125,
          0.125,
          0.125,
          0.125,
          0.125,
          0.34375,
          0.34375,
          0.6458333333333334,
          0.19791666666666666,
          0.34375,
          0.14583333333333334,
          0.14583333333333334,
          0.14583333333333334,
          0.14583333333333334,
          0.14583333333333334,
          0.28125,
          0.75,
          0.4791666666666667,
          0.21875,
          0.4479166666666667,
          0.8229166666666666,
          0.5833333333333334,
          0.71875,
          0.25,
          0.34375,
          0.34375,
          0.6979166666666666,
          0.375,
          0.34375,
          0.3958333333333333,
          0.2708333333333333,
          0.19791666666666666,
          0.19791666666666666,
          0.5,
          0.19791666666666666,
          0.19791666666666666,
          0.3854166666666667,
          0.3229166666666667,
          0.8020833333333334,
          0.21875,
          0.21875,
          0.21875,
          0.21875,
          0.21875,
          0.21875,
          0.5208333333333334,
          0.21875,
          0.8958333333333334,
          0.875,
          0.375,
          0.5208333333333334,
          0.625,
          0.3854166666666667,
          0.7291666666666666
         ],
         "yaxis": "y"
        }
       ],
       "layout": {
        "legend": {
         "title": {
          "text": "class"
         },
         "tracegroupgap": 0
        },
        "margin": {
         "t": 60
        },
        "template": {
         "data": {
          "bar": [
           {
            "error_x": {
             "color": "#2a3f5f"
            },
            "error_y": {
             "color": "#2a3f5f"
            },
            "marker": {
             "line": {
              "color": "#E5ECF6",
              "width": 0.5
             },
             "pattern": {
              "fillmode": "overlay",
              "size": 10,
              "solidity": 0.2
             }
            },
            "type": "bar"
           }
          ],
          "barpolar": [
           {
            "marker": {
             "line": {
              "color": "#E5ECF6",
              "width": 0.5
             },
             "pattern": {
              "fillmode": "overlay",
              "size": 10,
              "solidity": 0.2
             }
            },
            "type": "barpolar"
           }
          ],
          "carpet": [
           {
            "aaxis": {
             "endlinecolor": "#2a3f5f",
             "gridcolor": "white",
             "linecolor": "white",
             "minorgridcolor": "white",
             "startlinecolor": "#2a3f5f"
            },
            "baxis": {
             "endlinecolor": "#2a3f5f",
             "gridcolor": "white",
             "linecolor": "white",
             "minorgridcolor": "white",
             "startlinecolor": "#2a3f5f"
            },
            "type": "carpet"
           }
          ],
          "choropleth": [
           {
            "colorbar": {
             "outlinewidth": 0,
             "ticks": ""
            },
            "type": "choropleth"
           }
          ],
          "contour": [
           {
            "colorbar": {
             "outlinewidth": 0,
             "ticks": ""
            },
            "colorscale": [
             [
              0,
              "#0d0887"
             ],
             [
              0.1111111111111111,
              "#46039f"
             ],
             [
              0.2222222222222222,
              "#7201a8"
             ],
             [
              0.3333333333333333,
              "#9c179e"
             ],
             [
              0.4444444444444444,
              "#bd3786"
             ],
             [
              0.5555555555555556,
              "#d8576b"
             ],
             [
              0.6666666666666666,
              "#ed7953"
             ],
             [
              0.7777777777777778,
              "#fb9f3a"
             ],
             [
              0.8888888888888888,
              "#fdca26"
             ],
             [
              1,
              "#f0f921"
             ]
            ],
            "type": "contour"
           }
          ],
          "contourcarpet": [
           {
            "colorbar": {
             "outlinewidth": 0,
             "ticks": ""
            },
            "type": "contourcarpet"
           }
          ],
          "heatmap": [
           {
            "colorbar": {
             "outlinewidth": 0,
             "ticks": ""
            },
            "colorscale": [
             [
              0,
              "#0d0887"
             ],
             [
              0.1111111111111111,
              "#46039f"
             ],
             [
              0.2222222222222222,
              "#7201a8"
             ],
             [
              0.3333333333333333,
              "#9c179e"
             ],
             [
              0.4444444444444444,
              "#bd3786"
             ],
             [
              0.5555555555555556,
              "#d8576b"
             ],
             [
              0.6666666666666666,
              "#ed7953"
             ],
             [
              0.7777777777777778,
              "#fb9f3a"
             ],
             [
              0.8888888888888888,
              "#fdca26"
             ],
             [
              1,
              "#f0f921"
             ]
            ],
            "type": "heatmap"
           }
          ],
          "heatmapgl": [
           {
            "colorbar": {
             "outlinewidth": 0,
             "ticks": ""
            },
            "colorscale": [
             [
              0,
              "#0d0887"
             ],
             [
              0.1111111111111111,
              "#46039f"
             ],
             [
              0.2222222222222222,
              "#7201a8"
             ],
             [
              0.3333333333333333,
              "#9c179e"
             ],
             [
              0.4444444444444444,
              "#bd3786"
             ],
             [
              0.5555555555555556,
              "#d8576b"
             ],
             [
              0.6666666666666666,
              "#ed7953"
             ],
             [
              0.7777777777777778,
              "#fb9f3a"
             ],
             [
              0.8888888888888888,
              "#fdca26"
             ],
             [
              1,
              "#f0f921"
             ]
            ],
            "type": "heatmapgl"
           }
          ],
          "histogram": [
           {
            "marker": {
             "pattern": {
              "fillmode": "overlay",
              "size": 10,
              "solidity": 0.2
             }
            },
            "type": "histogram"
           }
          ],
          "histogram2d": [
           {
            "colorbar": {
             "outlinewidth": 0,
             "ticks": ""
            },
            "colorscale": [
             [
              0,
              "#0d0887"
             ],
             [
              0.1111111111111111,
              "#46039f"
             ],
             [
              0.2222222222222222,
              "#7201a8"
             ],
             [
              0.3333333333333333,
              "#9c179e"
             ],
             [
              0.4444444444444444,
              "#bd3786"
             ],
             [
              0.5555555555555556,
              "#d8576b"
             ],
             [
              0.6666666666666666,
              "#ed7953"
             ],
             [
              0.7777777777777778,
              "#fb9f3a"
             ],
             [
              0.8888888888888888,
              "#fdca26"
             ],
             [
              1,
              "#f0f921"
             ]
            ],
            "type": "histogram2d"
           }
          ],
          "histogram2dcontour": [
           {
            "colorbar": {
             "outlinewidth": 0,
             "ticks": ""
            },
            "colorscale": [
             [
              0,
              "#0d0887"
             ],
             [
              0.1111111111111111,
              "#46039f"
             ],
             [
              0.2222222222222222,
              "#7201a8"
             ],
             [
              0.3333333333333333,
              "#9c179e"
             ],
             [
              0.4444444444444444,
              "#bd3786"
             ],
             [
              0.5555555555555556,
              "#d8576b"
             ],
             [
              0.6666666666666666,
              "#ed7953"
             ],
             [
              0.7777777777777778,
              "#fb9f3a"
             ],
             [
              0.8888888888888888,
              "#fdca26"
             ],
             [
              1,
              "#f0f921"
             ]
            ],
            "type": "histogram2dcontour"
           }
          ],
          "mesh3d": [
           {
            "colorbar": {
             "outlinewidth": 0,
             "ticks": ""
            },
            "type": "mesh3d"
           }
          ],
          "parcoords": [
           {
            "line": {
             "colorbar": {
              "outlinewidth": 0,
              "ticks": ""
             }
            },
            "type": "parcoords"
           }
          ],
          "pie": [
           {
            "automargin": true,
            "type": "pie"
           }
          ],
          "scatter": [
           {
            "fillpattern": {
             "fillmode": "overlay",
             "size": 10,
             "solidity": 0.2
            },
            "type": "scatter"
           }
          ],
          "scatter3d": [
           {
            "line": {
             "colorbar": {
              "outlinewidth": 0,
              "ticks": ""
             }
            },
            "marker": {
             "colorbar": {
              "outlinewidth": 0,
              "ticks": ""
             }
            },
            "type": "scatter3d"
           }
          ],
          "scattercarpet": [
           {
            "marker": {
             "colorbar": {
              "outlinewidth": 0,
              "ticks": ""
             }
            },
            "type": "scattercarpet"
           }
          ],
          "scattergeo": [
           {
            "marker": {
             "colorbar": {
              "outlinewidth": 0,
              "ticks": ""
             }
            },
            "type": "scattergeo"
           }
          ],
          "scattergl": [
           {
            "marker": {
             "colorbar": {
              "outlinewidth": 0,
              "ticks": ""
             }
            },
            "type": "scattergl"
           }
          ],
          "scattermapbox": [
           {
            "marker": {
             "colorbar": {
              "outlinewidth": 0,
              "ticks": ""
             }
            },
            "type": "scattermapbox"
           }
          ],
          "scatterpolar": [
           {
            "marker": {
             "colorbar": {
              "outlinewidth": 0,
              "ticks": ""
             }
            },
            "type": "scatterpolar"
           }
          ],
          "scatterpolargl": [
           {
            "marker": {
             "colorbar": {
              "outlinewidth": 0,
              "ticks": ""
             }
            },
            "type": "scatterpolargl"
           }
          ],
          "scatterternary": [
           {
            "marker": {
             "colorbar": {
              "outlinewidth": 0,
              "ticks": ""
             }
            },
            "type": "scatterternary"
           }
          ],
          "surface": [
           {
            "colorbar": {
             "outlinewidth": 0,
             "ticks": ""
            },
            "colorscale": [
             [
              0,
              "#0d0887"
             ],
             [
              0.1111111111111111,
              "#46039f"
             ],
             [
              0.2222222222222222,
              "#7201a8"
             ],
             [
              0.3333333333333333,
              "#9c179e"
             ],
             [
              0.4444444444444444,
              "#bd3786"
             ],
             [
              0.5555555555555556,
              "#d8576b"
             ],
             [
              0.6666666666666666,
              "#ed7953"
             ],
             [
              0.7777777777777778,
              "#fb9f3a"
             ],
             [
              0.8888888888888888,
              "#fdca26"
             ],
             [
              1,
              "#f0f921"
             ]
            ],
            "type": "surface"
           }
          ],
          "table": [
           {
            "cells": {
             "fill": {
              "color": "#EBF0F8"
             },
             "line": {
              "color": "white"
             }
            },
            "header": {
             "fill": {
              "color": "#C8D4E3"
             },
             "line": {
              "color": "white"
             }
            },
            "type": "table"
           }
          ]
         },
         "layout": {
          "annotationdefaults": {
           "arrowcolor": "#2a3f5f",
           "arrowhead": 0,
           "arrowwidth": 1
          },
          "autotypenumbers": "strict",
          "coloraxis": {
           "colorbar": {
            "outlinewidth": 0,
            "ticks": ""
           }
          },
          "colorscale": {
           "diverging": [
            [
             0,
             "#8e0152"
            ],
            [
             0.1,
             "#c51b7d"
            ],
            [
             0.2,
             "#de77ae"
            ],
            [
             0.3,
             "#f1b6da"
            ],
            [
             0.4,
             "#fde0ef"
            ],
            [
             0.5,
             "#f7f7f7"
            ],
            [
             0.6,
             "#e6f5d0"
            ],
            [
             0.7,
             "#b8e186"
            ],
            [
             0.8,
             "#7fbc41"
            ],
            [
             0.9,
             "#4d9221"
            ],
            [
             1,
             "#276419"
            ]
           ],
           "sequential": [
            [
             0,
             "#0d0887"
            ],
            [
             0.1111111111111111,
             "#46039f"
            ],
            [
             0.2222222222222222,
             "#7201a8"
            ],
            [
             0.3333333333333333,
             "#9c179e"
            ],
            [
             0.4444444444444444,
             "#bd3786"
            ],
            [
             0.5555555555555556,
             "#d8576b"
            ],
            [
             0.6666666666666666,
             "#ed7953"
            ],
            [
             0.7777777777777778,
             "#fb9f3a"
            ],
            [
             0.8888888888888888,
             "#fdca26"
            ],
            [
             1,
             "#f0f921"
            ]
           ],
           "sequentialminus": [
            [
             0,
             "#0d0887"
            ],
            [
             0.1111111111111111,
             "#46039f"
            ],
            [
             0.2222222222222222,
             "#7201a8"
            ],
            [
             0.3333333333333333,
             "#9c179e"
            ],
            [
             0.4444444444444444,
             "#bd3786"
            ],
            [
             0.5555555555555556,
             "#d8576b"
            ],
            [
             0.6666666666666666,
             "#ed7953"
            ],
            [
             0.7777777777777778,
             "#fb9f3a"
            ],
            [
             0.8888888888888888,
             "#fdca26"
            ],
            [
             1,
             "#f0f921"
            ]
           ]
          },
          "colorway": [
           "#636efa",
           "#EF553B",
           "#00cc96",
           "#ab63fa",
           "#FFA15A",
           "#19d3f3",
           "#FF6692",
           "#B6E880",
           "#FF97FF",
           "#FECB52"
          ],
          "font": {
           "color": "#2a3f5f"
          },
          "geo": {
           "bgcolor": "white",
           "lakecolor": "white",
           "landcolor": "#E5ECF6",
           "showlakes": true,
           "showland": true,
           "subunitcolor": "white"
          },
          "hoverlabel": {
           "align": "left"
          },
          "hovermode": "closest",
          "mapbox": {
           "style": "light"
          },
          "paper_bgcolor": "white",
          "plot_bgcolor": "#E5ECF6",
          "polar": {
           "angularaxis": {
            "gridcolor": "white",
            "linecolor": "white",
            "ticks": ""
           },
           "bgcolor": "#E5ECF6",
           "radialaxis": {
            "gridcolor": "white",
            "linecolor": "white",
            "ticks": ""
           }
          },
          "scene": {
           "xaxis": {
            "backgroundcolor": "#E5ECF6",
            "gridcolor": "white",
            "gridwidth": 2,
            "linecolor": "white",
            "showbackground": true,
            "ticks": "",
            "zerolinecolor": "white"
           },
           "yaxis": {
            "backgroundcolor": "#E5ECF6",
            "gridcolor": "white",
            "gridwidth": 2,
            "linecolor": "white",
            "showbackground": true,
            "ticks": "",
            "zerolinecolor": "white"
           },
           "zaxis": {
            "backgroundcolor": "#E5ECF6",
            "gridcolor": "white",
            "gridwidth": 2,
            "linecolor": "white",
            "showbackground": true,
            "ticks": "",
            "zerolinecolor": "white"
           }
          },
          "shapedefaults": {
           "line": {
            "color": "#2a3f5f"
           }
          },
          "ternary": {
           "aaxis": {
            "gridcolor": "white",
            "linecolor": "white",
            "ticks": ""
           },
           "baxis": {
            "gridcolor": "white",
            "linecolor": "white",
            "ticks": ""
           },
           "bgcolor": "#E5ECF6",
           "caxis": {
            "gridcolor": "white",
            "linecolor": "white",
            "ticks": ""
           }
          },
          "title": {
           "x": 0.05
          },
          "xaxis": {
           "automargin": true,
           "gridcolor": "white",
           "linecolor": "white",
           "ticks": "",
           "title": {
            "standoff": 15
           },
           "zerolinecolor": "white",
           "zerolinewidth": 2
          },
          "yaxis": {
           "automargin": true,
           "gridcolor": "white",
           "linecolor": "white",
           "ticks": "",
           "title": {
            "standoff": 15
           },
           "zerolinecolor": "white",
           "zerolinewidth": 2
          }
         }
        },
        "xaxis": {
         "anchor": "y",
         "domain": [
          0,
          1
         ],
         "title": {
          "text": "total_number_of_donations"
         }
        },
        "yaxis": {
         "anchor": "x",
         "domain": [
          0,
          1
         ],
         "title": {
          "text": "months_since_first_donation"
         }
        }
       }
      }
     },
     "metadata": {},
     "output_type": "display_data"
    }
   ],
   "source": [
    "df[\"class\"] = df[\"class\"].astype(str) #convert to string\n",
    "\n",
    "fig = px.scatter(df,x='total_number_of_donations',y='months_since_first_donation', color= 'class')\n",
    "fig.show() "
   ]
  },
  {
   "cell_type": "code",
   "execution_count": 321,
   "metadata": {},
   "outputs": [
    {
     "name": "stdout",
     "output_type": "stream",
     "text": [
      "                             months_since_last_donation  \\\n",
      "months_since_last_donation                     1.000000   \n",
      "total_number_of_donations                     -0.182745   \n",
      "total_blood_donated                           -0.182745   \n",
      "months_since_first_donation                    0.160618   \n",
      "class                                         -0.279869   \n",
      "\n",
      "                             total_number_of_donations  total_blood_donated  \\\n",
      "months_since_last_donation                   -0.182745            -0.182745   \n",
      "total_number_of_donations                     1.000000             1.000000   \n",
      "total_blood_donated                           1.000000             1.000000   \n",
      "months_since_first_donation                   0.634940             0.634940   \n",
      "class                                         0.218633             0.218633   \n",
      "\n",
      "                             months_since_first_donation     class  \n",
      "months_since_last_donation                      0.160618 -0.279869  \n",
      "total_number_of_donations                       0.634940  0.218633  \n",
      "total_blood_donated                             0.634940  0.218633  \n",
      "months_since_first_donation                     1.000000 -0.035854  \n",
      "class                                          -0.035854  1.000000  \n"
     ]
    }
   ],
   "source": [
    "print(df.corr()) "
   ]
  },
  {
   "cell_type": "code",
   "execution_count": 322,
   "metadata": {},
   "outputs": [
    {
     "data": {
      "image/png": "[encoded data removed]",
      "text/plain": [
       "<Figure size 640x480 with 2 Axes>"
      ]
     },
     "metadata": {},
     "output_type": "display_data"
    }
   ],
   "source": [
    "dataplot = sb.heatmap(df.corr(), cmap=\"YlGnBu\", annot=True) \n"
   ]
  },
  {
   "cell_type": "code",
   "execution_count": 323,
   "metadata": {},
   "outputs": [
    {
     "data": {
      "image/png": "[encoded data removed]",
      "text/plain": [
       "<Figure size 1200x1000 with 4 Axes>"
      ]
     },
     "metadata": {},
     "output_type": "display_data"
    }
   ],
   "source": [
    "_ = df.hist(figsize=(12, 10), bins=30, edgecolor=\"black\")\n"
   ]
  },
  {
   "cell_type": "code",
   "execution_count": 324,
   "metadata": {},
   "outputs": [
    {
     "data": {
      "image/png": "[encoded data removed]",
      "text/plain": [
       "<Figure size 640x480 with 1 Axes>"
      ]
     },
     "metadata": {},
     "output_type": "display_data"
    }
   ],
   "source": [
    "df_mean = np.mean(df[\"months_since_last_donation\"])\n",
    "df_std = np.std(df[\"months_since_last_donation\"])\n",
    " \n",
    "# Calculating probability density function (PDF)\n",
    "pdf = stats.norm.pdf(df[\"months_since_last_donation\"].sort_values(), df_mean, df_std)\n",
    "\n",
    "# Drawing a graph\n",
    "plt.plot(df[\"months_since_last_donation\"].sort_values(), pdf)\n",
    "plt.show()"
   ]
  },
  {
   "cell_type": "code",
   "execution_count": 325,
   "metadata": {},
   "outputs": [
    {
     "data": {
      "image/png": "[encoded data removed]",
      "text/plain": [
       "<Figure size 640x480 with 1 Axes>"
      ]
     },
     "metadata": {},
     "output_type": "display_data"
    }
   ],
   "source": [
    "df_mean = np.mean(df[\"total_number_of_donations\"])\n",
    "df_std = np.std(df[\"total_number_of_donations\"])\n",
    " \n",
    "# Calculating probability density function (PDF)\n",
    "pdf = stats.norm.pdf(df[\"total_number_of_donations\"].sort_values(), df_mean, df_std)\n",
    "\n",
    "# Drawing a graph\n",
    "plt.plot(df[\"total_number_of_donations\"].sort_values(), pdf)\n",
    "plt.show()"
   ]
  },
  {
   "cell_type": "code",
   "execution_count": 326,
   "metadata": {},
   "outputs": [
    {
     "data": {
      "image/png": "[encoded data removed]",
      "text/plain": [
       "<Figure size 640x480 with 1 Axes>"
      ]
     },
     "metadata": {},
     "output_type": "display_data"
    }
   ],
   "source": [
    "df_mean = np.mean(df[\"total_blood_donated\"])\n",
    "df_std = np.std(df[\"total_blood_donated\"])\n",
    " \n",
    "# Calculating probability density function (PDF)\n",
    "pdf = stats.norm.pdf(df[\"total_blood_donated\"].sort_values(), df_mean, df_std)\n",
    "\n",
    "# Drawing a graph\n",
    "plt.plot(df[\"total_blood_donated\"].sort_values(), pdf)\n",
    "plt.show()"
   ]
  },
  {
   "cell_type": "code",
   "execution_count": 327,
   "metadata": {},
   "outputs": [
    {
     "data": {
      "image/png": "[encoded data removed]",
      "text/plain": [
       "<Figure size 640x480 with 1 Axes>"
      ]
     },
     "metadata": {},
     "output_type": "display_data"
    }
   ],
   "source": [
    "df_mean = np.mean(df[\"months_since_first_donation\"])\n",
    "df_std = np.std(df[\"months_since_first_donation\"])\n",
    " \n",
    "# Calculating probability density function (PDF)\n",
    "pdf = stats.norm.pdf(df[\"months_since_first_donation\"].sort_values(), df_mean, df_std)\n",
    "\n",
    "# Drawing a graph\n",
    "plt.plot(df[\"months_since_first_donation\"].sort_values(), pdf)\n",
    "plt.show()"
   ]
  },
  {
   "cell_type": "code",
   "execution_count": 328,
   "metadata": {},
   "outputs": [
    {
     "data": {
      "text/html": [
       "<div>\n",
       "<style scoped>\n",
       "    .dataframe tbody tr th:only-of-type {\n",
       "        vertical-align: middle;\n",
       "    }\n",
       "\n",
       "    .dataframe tbody tr th {\n",
       "        vertical-align: top;\n",
       "    }\n",
       "\n",
       "    .dataframe thead th {\n",
       "        text-align: right;\n",
       "    }\n",
       "</style>\n",
       "<table border=\"1\" class=\"dataframe\">\n",
       "  <thead>\n",
       "    <tr style=\"text-align: right;\">\n",
       "      <th></th>\n",
       "      <th>months_since_last_donation</th>\n",
       "      <th>total_number_of_donations</th>\n",
       "      <th>total_blood_donated</th>\n",
       "      <th>months_since_first_donation</th>\n",
       "      <th>class</th>\n",
       "    </tr>\n",
       "  </thead>\n",
       "  <tbody>\n",
       "    <tr>\n",
       "      <th>228</th>\n",
       "      <td>4.0</td>\n",
       "      <td>1.0</td>\n",
       "      <td>250.0</td>\n",
       "      <td>0.020833</td>\n",
       "      <td>0</td>\n",
       "    </tr>\n",
       "    <tr>\n",
       "      <th>322</th>\n",
       "      <td>11.0</td>\n",
       "      <td>4.0</td>\n",
       "      <td>1000.0</td>\n",
       "      <td>0.333333</td>\n",
       "      <td>0</td>\n",
       "    </tr>\n",
       "    <tr>\n",
       "      <th>197</th>\n",
       "      <td>4.0</td>\n",
       "      <td>6.0</td>\n",
       "      <td>1500.0</td>\n",
       "      <td>0.468750</td>\n",
       "      <td>0</td>\n",
       "    </tr>\n",
       "    <tr>\n",
       "      <th>650</th>\n",
       "      <td>9.0</td>\n",
       "      <td>1.0</td>\n",
       "      <td>250.0</td>\n",
       "      <td>0.072917</td>\n",
       "      <td>0</td>\n",
       "    </tr>\n",
       "    <tr>\n",
       "      <th>68</th>\n",
       "      <td>4.0</td>\n",
       "      <td>7.0</td>\n",
       "      <td>1750.0</td>\n",
       "      <td>0.239583</td>\n",
       "      <td>0</td>\n",
       "    </tr>\n",
       "    <tr>\n",
       "      <th>...</th>\n",
       "      <td>...</td>\n",
       "      <td>...</td>\n",
       "      <td>...</td>\n",
       "      <td>...</td>\n",
       "      <td>...</td>\n",
       "    </tr>\n",
       "    <tr>\n",
       "      <th>73</th>\n",
       "      <td>2.0</td>\n",
       "      <td>2.0</td>\n",
       "      <td>500.0</td>\n",
       "      <td>0.020833</td>\n",
       "      <td>0</td>\n",
       "    </tr>\n",
       "    <tr>\n",
       "      <th>400</th>\n",
       "      <td>18.0</td>\n",
       "      <td>2.0</td>\n",
       "      <td>500.0</td>\n",
       "      <td>0.218750</td>\n",
       "      <td>0</td>\n",
       "    </tr>\n",
       "    <tr>\n",
       "      <th>118</th>\n",
       "      <td>1.0</td>\n",
       "      <td>7.0</td>\n",
       "      <td>1750.0</td>\n",
       "      <td>0.572917</td>\n",
       "      <td>0</td>\n",
       "    </tr>\n",
       "    <tr>\n",
       "      <th>701</th>\n",
       "      <td>16.0</td>\n",
       "      <td>1.0</td>\n",
       "      <td>250.0</td>\n",
       "      <td>0.145833</td>\n",
       "      <td>0</td>\n",
       "    </tr>\n",
       "    <tr>\n",
       "      <th>206</th>\n",
       "      <td>2.0</td>\n",
       "      <td>2.0</td>\n",
       "      <td>500.0</td>\n",
       "      <td>0.145833</td>\n",
       "      <td>0</td>\n",
       "    </tr>\n",
       "  </tbody>\n",
       "</table>\n",
       "<p>523 rows × 5 columns</p>\n",
       "</div>"
      ],
      "text/plain": [
       "     months_since_last_donation  total_number_of_donations  \\\n",
       "228                         4.0                        1.0   \n",
       "322                        11.0                        4.0   \n",
       "197                         4.0                        6.0   \n",
       "650                         9.0                        1.0   \n",
       "68                          4.0                        7.0   \n",
       "..                          ...                        ...   \n",
       "73                          2.0                        2.0   \n",
       "400                        18.0                        2.0   \n",
       "118                         1.0                        7.0   \n",
       "701                        16.0                        1.0   \n",
       "206                         2.0                        2.0   \n",
       "\n",
       "     total_blood_donated  months_since_first_donation class  \n",
       "228                250.0                     0.020833     0  \n",
       "322               1000.0                     0.333333     0  \n",
       "197               1500.0                     0.468750     0  \n",
       "650                250.0                     0.072917     0  \n",
       "68                1750.0                     0.239583     0  \n",
       "..                   ...                          ...   ...  \n",
       "73                 500.0                     0.020833     0  \n",
       "400                500.0                     0.218750     0  \n",
       "118               1750.0                     0.572917     0  \n",
       "701                250.0                     0.145833     0  \n",
       "206                500.0                     0.145833     0  \n",
       "\n",
       "[523 rows x 5 columns]"
      ]
     },
     "execution_count": 328,
     "metadata": {},
     "output_type": "execute_result"
    }
   ],
   "source": [
    "#TASK 3 \n",
    "\n",
    "train70, test30 = train_test_split(df, test_size=0.30, random_state=5)\n",
    "train70"
   ]
  },
  {
   "cell_type": "code",
   "execution_count": 329,
   "metadata": {},
   "outputs": [
    {
     "data": {
      "text/html": [
       "<div>\n",
       "<style scoped>\n",
       "    .dataframe tbody tr th:only-of-type {\n",
       "        vertical-align: middle;\n",
       "    }\n",
       "\n",
       "    .dataframe tbody tr th {\n",
       "        vertical-align: top;\n",
       "    }\n",
       "\n",
       "    .dataframe thead th {\n",
       "        text-align: right;\n",
       "    }\n",
       "</style>\n",
       "<table border=\"1\" class=\"dataframe\">\n",
       "  <thead>\n",
       "    <tr style=\"text-align: right;\">\n",
       "      <th></th>\n",
       "      <th>months_since_last_donation</th>\n",
       "      <th>total_number_of_donations</th>\n",
       "      <th>total_blood_donated</th>\n",
       "      <th>months_since_first_donation</th>\n",
       "      <th>class</th>\n",
       "    </tr>\n",
       "  </thead>\n",
       "  <tbody>\n",
       "    <tr>\n",
       "      <th>709</th>\n",
       "      <td>21.0</td>\n",
       "      <td>6.0</td>\n",
       "      <td>1500.0</td>\n",
       "      <td>0.479167</td>\n",
       "      <td>0</td>\n",
       "    </tr>\n",
       "    <tr>\n",
       "      <th>704</th>\n",
       "      <td>16.0</td>\n",
       "      <td>1.0</td>\n",
       "      <td>250.0</td>\n",
       "      <td>0.145833</td>\n",
       "      <td>0</td>\n",
       "    </tr>\n",
       "    <tr>\n",
       "      <th>12</th>\n",
       "      <td>2.0</td>\n",
       "      <td>10.0</td>\n",
       "      <td>2500.0</td>\n",
       "      <td>0.270833</td>\n",
       "      <td>1</td>\n",
       "    </tr>\n",
       "    <tr>\n",
       "      <th>541</th>\n",
       "      <td>2.0</td>\n",
       "      <td>10.0</td>\n",
       "      <td>2500.0</td>\n",
       "      <td>0.520833</td>\n",
       "      <td>0</td>\n",
       "    </tr>\n",
       "    <tr>\n",
       "      <th>163</th>\n",
       "      <td>2.0</td>\n",
       "      <td>1.0</td>\n",
       "      <td>250.0</td>\n",
       "      <td>0.000000</td>\n",
       "      <td>1</td>\n",
       "    </tr>\n",
       "    <tr>\n",
       "      <th>...</th>\n",
       "      <td>...</td>\n",
       "      <td>...</td>\n",
       "      <td>...</td>\n",
       "      <td>...</td>\n",
       "      <td>...</td>\n",
       "    </tr>\n",
       "    <tr>\n",
       "      <th>630</th>\n",
       "      <td>8.0</td>\n",
       "      <td>9.0</td>\n",
       "      <td>2250.0</td>\n",
       "      <td>0.645833</td>\n",
       "      <td>0</td>\n",
       "    </tr>\n",
       "    <tr>\n",
       "      <th>596</th>\n",
       "      <td>3.0</td>\n",
       "      <td>1.0</td>\n",
       "      <td>250.0</td>\n",
       "      <td>0.010417</td>\n",
       "      <td>1</td>\n",
       "    </tr>\n",
       "    <tr>\n",
       "      <th>300</th>\n",
       "      <td>14.0</td>\n",
       "      <td>2.0</td>\n",
       "      <td>500.0</td>\n",
       "      <td>0.125000</td>\n",
       "      <td>0</td>\n",
       "    </tr>\n",
       "    <tr>\n",
       "      <th>326</th>\n",
       "      <td>2.0</td>\n",
       "      <td>2.0</td>\n",
       "      <td>500.0</td>\n",
       "      <td>0.406250</td>\n",
       "      <td>0</td>\n",
       "    </tr>\n",
       "    <tr>\n",
       "      <th>586</th>\n",
       "      <td>2.0</td>\n",
       "      <td>1.0</td>\n",
       "      <td>250.0</td>\n",
       "      <td>0.000000</td>\n",
       "      <td>1</td>\n",
       "    </tr>\n",
       "  </tbody>\n",
       "</table>\n",
       "<p>225 rows × 5 columns</p>\n",
       "</div>"
      ],
      "text/plain": [
       "     months_since_last_donation  total_number_of_donations  \\\n",
       "709                        21.0                        6.0   \n",
       "704                        16.0                        1.0   \n",
       "12                          2.0                       10.0   \n",
       "541                         2.0                       10.0   \n",
       "163                         2.0                        1.0   \n",
       "..                          ...                        ...   \n",
       "630                         8.0                        9.0   \n",
       "596                         3.0                        1.0   \n",
       "300                        14.0                        2.0   \n",
       "326                         2.0                        2.0   \n",
       "586                         2.0                        1.0   \n",
       "\n",
       "     total_blood_donated  months_since_first_donation class  \n",
       "709               1500.0                     0.479167     0  \n",
       "704                250.0                     0.145833     0  \n",
       "12                2500.0                     0.270833     1  \n",
       "541               2500.0                     0.520833     0  \n",
       "163                250.0                     0.000000     1  \n",
       "..                   ...                          ...   ...  \n",
       "630               2250.0                     0.645833     0  \n",
       "596                250.0                     0.010417     1  \n",
       "300                500.0                     0.125000     0  \n",
       "326                500.0                     0.406250     0  \n",
       "586                250.0                     0.000000     1  \n",
       "\n",
       "[225 rows x 5 columns]"
      ]
     },
     "execution_count": 329,
     "metadata": {},
     "output_type": "execute_result"
    }
   ],
   "source": [
    "test30"
   ]
  },
  {
   "cell_type": "code",
   "execution_count": 330,
   "metadata": {},
   "outputs": [
    {
     "data": {
      "text/html": [
       "<div>\n",
       "<style scoped>\n",
       "    .dataframe tbody tr th:only-of-type {\n",
       "        vertical-align: middle;\n",
       "    }\n",
       "\n",
       "    .dataframe tbody tr th {\n",
       "        vertical-align: top;\n",
       "    }\n",
       "\n",
       "    .dataframe thead th {\n",
       "        text-align: right;\n",
       "    }\n",
       "</style>\n",
       "<table border=\"1\" class=\"dataframe\">\n",
       "  <thead>\n",
       "    <tr style=\"text-align: right;\">\n",
       "      <th></th>\n",
       "      <th>months_since_last_donation</th>\n",
       "      <th>total_number_of_donations</th>\n",
       "      <th>total_blood_donated</th>\n",
       "      <th>months_since_first_donation</th>\n",
       "      <th>class</th>\n",
       "    </tr>\n",
       "  </thead>\n",
       "  <tbody>\n",
       "    <tr>\n",
       "      <th>325</th>\n",
       "      <td>14.0</td>\n",
       "      <td>2.0</td>\n",
       "      <td>500.0</td>\n",
       "      <td>0.145833</td>\n",
       "      <td>0</td>\n",
       "    </tr>\n",
       "    <tr>\n",
       "      <th>709</th>\n",
       "      <td>21.0</td>\n",
       "      <td>6.0</td>\n",
       "      <td>1500.0</td>\n",
       "      <td>0.479167</td>\n",
       "      <td>0</td>\n",
       "    </tr>\n",
       "    <tr>\n",
       "      <th>613</th>\n",
       "      <td>4.0</td>\n",
       "      <td>1.0</td>\n",
       "      <td>250.0</td>\n",
       "      <td>0.020833</td>\n",
       "      <td>0</td>\n",
       "    </tr>\n",
       "    <tr>\n",
       "      <th>158</th>\n",
       "      <td>2.0</td>\n",
       "      <td>1.0</td>\n",
       "      <td>250.0</td>\n",
       "      <td>0.000000</td>\n",
       "      <td>0</td>\n",
       "    </tr>\n",
       "    <tr>\n",
       "      <th>43</th>\n",
       "      <td>2.0</td>\n",
       "      <td>5.0</td>\n",
       "      <td>1250.0</td>\n",
       "      <td>0.145833</td>\n",
       "      <td>0</td>\n",
       "    </tr>\n",
       "    <tr>\n",
       "      <th>...</th>\n",
       "      <td>...</td>\n",
       "      <td>...</td>\n",
       "      <td>...</td>\n",
       "      <td>...</td>\n",
       "      <td>...</td>\n",
       "    </tr>\n",
       "    <tr>\n",
       "      <th>335</th>\n",
       "      <td>16.0</td>\n",
       "      <td>3.0</td>\n",
       "      <td>750.0</td>\n",
       "      <td>0.197917</td>\n",
       "      <td>1</td>\n",
       "    </tr>\n",
       "    <tr>\n",
       "      <th>365</th>\n",
       "      <td>14.0</td>\n",
       "      <td>2.0</td>\n",
       "      <td>500.0</td>\n",
       "      <td>0.197917</td>\n",
       "      <td>1</td>\n",
       "    </tr>\n",
       "    <tr>\n",
       "      <th>618</th>\n",
       "      <td>4.0</td>\n",
       "      <td>1.0</td>\n",
       "      <td>250.0</td>\n",
       "      <td>0.020833</td>\n",
       "      <td>1</td>\n",
       "    </tr>\n",
       "    <tr>\n",
       "      <th>227</th>\n",
       "      <td>4.0</td>\n",
       "      <td>3.0</td>\n",
       "      <td>750.0</td>\n",
       "      <td>0.229167</td>\n",
       "      <td>0</td>\n",
       "    </tr>\n",
       "    <tr>\n",
       "      <th>713</th>\n",
       "      <td>16.0</td>\n",
       "      <td>6.0</td>\n",
       "      <td>1500.0</td>\n",
       "      <td>0.822917</td>\n",
       "      <td>0</td>\n",
       "    </tr>\n",
       "  </tbody>\n",
       "</table>\n",
       "<p>673 rows × 5 columns</p>\n",
       "</div>"
      ],
      "text/plain": [
       "     months_since_last_donation  total_number_of_donations  \\\n",
       "325                        14.0                        2.0   \n",
       "709                        21.0                        6.0   \n",
       "613                         4.0                        1.0   \n",
       "158                         2.0                        1.0   \n",
       "43                          2.0                        5.0   \n",
       "..                          ...                        ...   \n",
       "335                        16.0                        3.0   \n",
       "365                        14.0                        2.0   \n",
       "618                         4.0                        1.0   \n",
       "227                         4.0                        3.0   \n",
       "713                        16.0                        6.0   \n",
       "\n",
       "     total_blood_donated  months_since_first_donation class  \n",
       "325                500.0                     0.145833     0  \n",
       "709               1500.0                     0.479167     0  \n",
       "613                250.0                     0.020833     0  \n",
       "158                250.0                     0.000000     0  \n",
       "43                1250.0                     0.145833     0  \n",
       "..                   ...                          ...   ...  \n",
       "335                750.0                     0.197917     1  \n",
       "365                500.0                     0.197917     1  \n",
       "618                250.0                     0.020833     1  \n",
       "227                750.0                     0.229167     0  \n",
       "713               1500.0                     0.822917     0  \n",
       "\n",
       "[673 rows x 5 columns]"
      ]
     },
     "execution_count": 330,
     "metadata": {},
     "output_type": "execute_result"
    }
   ],
   "source": [
    "# TASK 3\n",
    "train90, test10 = train_test_split(df, test_size=0.10, random_state=6)\n",
    "train90"
   ]
  },
  {
   "cell_type": "code",
   "execution_count": 331,
   "metadata": {},
   "outputs": [
    {
     "data": {
      "text/html": [
       "<div>\n",
       "<style scoped>\n",
       "    .dataframe tbody tr th:only-of-type {\n",
       "        vertical-align: middle;\n",
       "    }\n",
       "\n",
       "    .dataframe tbody tr th {\n",
       "        vertical-align: top;\n",
       "    }\n",
       "\n",
       "    .dataframe thead th {\n",
       "        text-align: right;\n",
       "    }\n",
       "</style>\n",
       "<table border=\"1\" class=\"dataframe\">\n",
       "  <thead>\n",
       "    <tr style=\"text-align: right;\">\n",
       "      <th></th>\n",
       "      <th>months_since_last_donation</th>\n",
       "      <th>total_number_of_donations</th>\n",
       "      <th>total_blood_donated</th>\n",
       "      <th>months_since_first_donation</th>\n",
       "      <th>class</th>\n",
       "    </tr>\n",
       "  </thead>\n",
       "  <tbody>\n",
       "    <tr>\n",
       "      <th>648</th>\n",
       "      <td>11.0</td>\n",
       "      <td>3.0</td>\n",
       "      <td>750.0</td>\n",
       "      <td>0.218750</td>\n",
       "      <td>0</td>\n",
       "    </tr>\n",
       "    <tr>\n",
       "      <th>375</th>\n",
       "      <td>11.0</td>\n",
       "      <td>3.0</td>\n",
       "      <td>750.0</td>\n",
       "      <td>0.395833</td>\n",
       "      <td>1</td>\n",
       "    </tr>\n",
       "    <tr>\n",
       "      <th>390</th>\n",
       "      <td>11.0</td>\n",
       "      <td>4.0</td>\n",
       "      <td>1000.0</td>\n",
       "      <td>0.583333</td>\n",
       "      <td>0</td>\n",
       "    </tr>\n",
       "    <tr>\n",
       "      <th>199</th>\n",
       "      <td>9.0</td>\n",
       "      <td>9.0</td>\n",
       "      <td>2250.0</td>\n",
       "      <td>0.447917</td>\n",
       "      <td>0</td>\n",
       "    </tr>\n",
       "    <tr>\n",
       "      <th>507</th>\n",
       "      <td>2.0</td>\n",
       "      <td>11.0</td>\n",
       "      <td>2750.0</td>\n",
       "      <td>0.218750</td>\n",
       "      <td>0</td>\n",
       "    </tr>\n",
       "    <tr>\n",
       "      <th>...</th>\n",
       "      <td>...</td>\n",
       "      <td>...</td>\n",
       "      <td>...</td>\n",
       "      <td>...</td>\n",
       "      <td>...</td>\n",
       "    </tr>\n",
       "    <tr>\n",
       "      <th>59</th>\n",
       "      <td>3.0</td>\n",
       "      <td>6.0</td>\n",
       "      <td>1500.0</td>\n",
       "      <td>0.197917</td>\n",
       "      <td>0</td>\n",
       "    </tr>\n",
       "    <tr>\n",
       "      <th>640</th>\n",
       "      <td>11.0</td>\n",
       "      <td>8.0</td>\n",
       "      <td>2000.0</td>\n",
       "      <td>0.520833</td>\n",
       "      <td>1</td>\n",
       "    </tr>\n",
       "    <tr>\n",
       "      <th>677</th>\n",
       "      <td>23.0</td>\n",
       "      <td>19.0</td>\n",
       "      <td>4750.0</td>\n",
       "      <td>0.625000</td>\n",
       "      <td>0</td>\n",
       "    </tr>\n",
       "    <tr>\n",
       "      <th>696</th>\n",
       "      <td>14.0</td>\n",
       "      <td>3.0</td>\n",
       "      <td>750.0</td>\n",
       "      <td>0.343750</td>\n",
       "      <td>0</td>\n",
       "    </tr>\n",
       "    <tr>\n",
       "      <th>511</th>\n",
       "      <td>2.0</td>\n",
       "      <td>11.0</td>\n",
       "      <td>2750.0</td>\n",
       "      <td>0.250000</td>\n",
       "      <td>0</td>\n",
       "    </tr>\n",
       "  </tbody>\n",
       "</table>\n",
       "<p>75 rows × 5 columns</p>\n",
       "</div>"
      ],
      "text/plain": [
       "     months_since_last_donation  total_number_of_donations  \\\n",
       "648                        11.0                        3.0   \n",
       "375                        11.0                        3.0   \n",
       "390                        11.0                        4.0   \n",
       "199                         9.0                        9.0   \n",
       "507                         2.0                       11.0   \n",
       "..                          ...                        ...   \n",
       "59                          3.0                        6.0   \n",
       "640                        11.0                        8.0   \n",
       "677                        23.0                       19.0   \n",
       "696                        14.0                        3.0   \n",
       "511                         2.0                       11.0   \n",
       "\n",
       "     total_blood_donated  months_since_first_donation class  \n",
       "648                750.0                     0.218750     0  \n",
       "375                750.0                     0.395833     1  \n",
       "390               1000.0                     0.583333     0  \n",
       "199               2250.0                     0.447917     0  \n",
       "507               2750.0                     0.218750     0  \n",
       "..                   ...                          ...   ...  \n",
       "59                1500.0                     0.197917     0  \n",
       "640               2000.0                     0.520833     1  \n",
       "677               4750.0                     0.625000     0  \n",
       "696                750.0                     0.343750     0  \n",
       "511               2750.0                     0.250000     0  \n",
       "\n",
       "[75 rows x 5 columns]"
      ]
     },
     "execution_count": 331,
     "metadata": {},
     "output_type": "execute_result"
    }
   ],
   "source": [
    "test10"
   ]
  },
  {
   "cell_type": "code",
   "execution_count": 359,
   "metadata": {},
   "outputs": [
    {
     "data": {
      "application/vnd.plotly.v1+json": {
       "config": {
        "plotlyServerURL": "https://plot.ly"
       },
       "data": [
        {
         "hovertemplate": "class=0<br>total_number_of_donations=%{x}<br>months_since_first_donation=%{y}<extra></extra>",
         "legendgroup": "0",
         "marker": {
          "color": "#636efa",
          "symbol": "circle"
         },
         "mode": "markers",
         "name": "0",
         "orientation": "v",
         "showlegend": true,
         "type": "scatter",
         "x": [
          6,
          1,
          10,
          3,
          1,
          2,
          2,
          2,
          5,
          12,
          1,
          2,
          1,
          3,
          3,
          14,
          4,
          7,
          2,
          16,
          7,
          6,
          1,
          6,
          2,
          7,
          11,
          1,
          4,
          3,
          5,
          5,
          1,
          3,
          1,
          2,
          1,
          4,
          1,
          2,
          6,
          6,
          3,
          5,
          8,
          3,
          11,
          4,
          5,
          2,
          2,
          2,
          8,
          2,
          2,
          11,
          2,
          1,
          1,
          16,
          5,
          38,
          4,
          1,
          2,
          1,
          6,
          1,
          1,
          3,
          7,
          7,
          3,
          1,
          3,
          2,
          6,
          5,
          5,
          6,
          1,
          4,
          2,
          6,
          1,
          2,
          2,
          2,
          3,
          12,
          3,
          18,
          2,
          3,
          9,
          11,
          4,
          4,
          1,
          1,
          5,
          1,
          1,
          12,
          3,
          2,
          5,
          2,
          4,
          2,
          4,
          3,
          2,
          14,
          1,
          11,
          3,
          2,
          1,
          9,
          1,
          3,
          19,
          1,
          5,
          2,
          3,
          16,
          5,
          4,
          9,
          2,
          2,
          2,
          8,
          2,
          2,
          1,
          2,
          12,
          3,
          5,
          1,
          9,
          7,
          1,
          1,
          1,
          11,
          1,
          4,
          5,
          1,
          15,
          1,
          1,
          11,
          3,
          10,
          8,
          9,
          8,
          5,
          2,
          12,
          2,
          9,
          3,
          8,
          2,
          9,
          2,
          2
         ],
         "xaxis": "x",
         "y": [
          0.4791666666666667,
          0.14583333333333334,
          0.5208333333333334,
          0.90625,
          0.19791666666666666,
          0.125,
          0.21875,
          0.07291666666666667,
          0.25,
          0.875,
          0.020833333333333332,
          0.28125,
          0.14583333333333334,
          0.14583333333333334,
          0.125,
          0.84375,
          0.14583333333333334,
          0.7604166666666666,
          0.25,
          1,
          0.78125,
          0.5,
          0,
          0.5104166666666666,
          0.3229166666666667,
          0.3854166666666667,
          0.6145833333333334,
          0.09375,
          0.5833333333333334,
          0.2708333333333333,
          0.5833333333333334,
          0.5833333333333334,
          0.75,
          0.625,
          0.020833333333333332,
          0.21875,
          0.09375,
          0.4583333333333333,
          0.19791666666666666,
          0.21875,
          0.5833333333333334,
          0.2708333333333333,
          0.21875,
          0.40625,
          0.7291666666666666,
          0.21875,
          0.7604166666666666,
          0.2708333333333333,
          0.6041666666666666,
          0.08333333333333333,
          0.15625,
          0.25,
          0.5,
          0.125,
          0.21875,
          0.4166666666666667,
          0.59375,
          0.020833333333333332,
          0.21875,
          0.90625,
          0.16666666666666666,
          1,
          0.5729166666666666,
          0.020833333333333332,
          0.14583333333333334,
          0.09375,
          0.3958333333333333,
          0.020833333333333332,
          0.21875,
          0.125,
          0.5833333333333334,
          0.8958333333333334,
          0.875,
          0.125,
          0.8020833333333334,
          0.09375,
          0.2604166666666667,
          0.5833333333333334,
          0.375,
          0.3854166666666667,
          0.19791666666666666,
          0.5208333333333334,
          0.125,
          0.20833333333333334,
          0.125,
          0.5208333333333334,
          0.4583333333333333,
          0.14583333333333334,
          0.5208333333333334,
          0.96875,
          0.40625,
          0.7916666666666666,
          0.25,
          0.34375,
          0.5208333333333334,
          0.8958333333333334,
          0.5208333333333334,
          0.09375,
          0.21875,
          0.125,
          0.25,
          0.3958333333333333,
          0.19791666666666666,
          0.34375,
          0.3229166666666667,
          0.25,
          0.75,
          0.125,
          0.5833333333333334,
          0.09375,
          0.25,
          0.17708333333333334,
          0.40625,
          0.875,
          0.020833333333333332,
          0.2708333333333333,
          0.25,
          0,
          0,
          0.2708333333333333,
          0.09375,
          0.20833333333333334,
          0.625,
          0.19791666666666666,
          0.75,
          0.34375,
          0.3645833333333333,
          0.6458333333333334,
          0.2708333333333333,
          0.4479166666666667,
          0.5520833333333334,
          0.2708333333333333,
          0.09375,
          0.11458333333333333,
          0.6458333333333334,
          0.3020833333333333,
          0.5208333333333334,
          0.125,
          0.2604166666666667,
          0.5208333333333334,
          0.7708333333333334,
          0.17708333333333334,
          0.125,
          0.6041666666666666,
          0.7708333333333334,
          0.14583333333333334,
          0.14583333333333334,
          0,
          0.375,
          0,
          0.25,
          0.5208333333333334,
          0.21875,
          0.6458333333333334,
          0.125,
          0.14583333333333334,
          0.4583333333333333,
          0.13541666666666666,
          0.4895833333333333,
          0.4583333333333333,
          0.4479166666666667,
          0.4791666666666667,
          0.125,
          0.25,
          0.875,
          0.09375,
          0.4583333333333333,
          0.2708333333333333,
          0.96875,
          0.125,
          0.6458333333333334,
          0.125,
          0.40625
         ],
         "yaxis": "y"
        },
        {
         "hovertemplate": "class=1<br>total_number_of_donations=%{x}<br>months_since_first_donation=%{y}<extra></extra>",
         "legendgroup": "1",
         "marker": {
          "color": "#EF553B",
          "symbol": "circle"
         },
         "mode": "markers",
         "name": "1",
         "orientation": "v",
         "showlegend": true,
         "type": "scatter",
         "x": [
          10,
          1,
          6,
          5,
          33,
          2,
          5,
          34,
          4,
          5,
          43,
          6,
          7,
          21,
          2,
          6,
          4,
          2,
          4,
          5,
          8,
          17,
          9,
          9,
          4,
          8,
          20,
          2,
          2,
          8,
          9,
          3,
          7,
          8,
          13,
          5,
          7,
          22,
          6,
          41,
          1,
          13,
          4,
          2,
          3,
          14,
          14,
          5,
          11,
          1,
          1,
          1
         ],
         "xaxis": "x",
         "y": [
          0.2708333333333333,
          0,
          0.2708333333333333,
          0.09375,
          1,
          0.09375,
          0.2708333333333333,
          0.78125,
          0.020833333333333332,
          0.3229166666666667,
          0.875,
          0.14583333333333334,
          0.3125,
          0.4166666666666667,
          0.19791666666666666,
          0.14583333333333334,
          0.20833333333333334,
          0.09375,
          0.14583333333333334,
          0.14583333333333334,
          0.5208333333333334,
          0.71875,
          0.90625,
          0.25,
          0.125,
          0.375,
          0.4479166666666667,
          0.020833333333333332,
          0.375,
          0.5208333333333334,
          0.2708333333333333,
          0.14583333333333334,
          0.34375,
          0.2708333333333333,
          0.53125,
          0.25,
          0.25,
          0.2708333333333333,
          0.40625,
          1,
          0.19791666666666666,
          0.3854166666666667,
          0.3333333333333333,
          0.08333333333333333,
          0.25,
          0.7395833333333334,
          0.6979166666666666,
          0.3958333333333333,
          0.6458333333333334,
          0.09375,
          0.010416666666666666,
          0
         ],
         "yaxis": "y"
        }
       ],
       "layout": {
        "legend": {
         "title": {
          "text": "class"
         },
         "tracegroupgap": 0
        },
        "margin": {
         "t": 60
        },
        "template": {
         "data": {
          "bar": [
           {
            "error_x": {
             "color": "#2a3f5f"
            },
            "error_y": {
             "color": "#2a3f5f"
            },
            "marker": {
             "line": {
              "color": "#E5ECF6",
              "width": 0.5
             },
             "pattern": {
              "fillmode": "overlay",
              "size": 10,
              "solidity": 0.2
             }
            },
            "type": "bar"
           }
          ],
          "barpolar": [
           {
            "marker": {
             "line": {
              "color": "#E5ECF6",
              "width": 0.5
             },
             "pattern": {
              "fillmode": "overlay",
              "size": 10,
              "solidity": 0.2
             }
            },
            "type": "barpolar"
           }
          ],
          "carpet": [
           {
            "aaxis": {
             "endlinecolor": "#2a3f5f",
             "gridcolor": "white",
             "linecolor": "white",
             "minorgridcolor": "white",
             "startlinecolor": "#2a3f5f"
            },
            "baxis": {
             "endlinecolor": "#2a3f5f",
             "gridcolor": "white",
             "linecolor": "white",
             "minorgridcolor": "white",
             "startlinecolor": "#2a3f5f"
            },
            "type": "carpet"
           }
          ],
          "choropleth": [
           {
            "colorbar": {
             "outlinewidth": 0,
             "ticks": ""
            },
            "type": "choropleth"
           }
          ],
          "contour": [
           {
            "colorbar": {
             "outlinewidth": 0,
             "ticks": ""
            },
            "colorscale": [
             [
              0,
              "#0d0887"
             ],
             [
              0.1111111111111111,
              "#46039f"
             ],
             [
              0.2222222222222222,
              "#7201a8"
             ],
             [
              0.3333333333333333,
              "#9c179e"
             ],
             [
              0.4444444444444444,
              "#bd3786"
             ],
             [
              0.5555555555555556,
              "#d8576b"
             ],
             [
              0.6666666666666666,
              "#ed7953"
             ],
             [
              0.7777777777777778,
              "#fb9f3a"
             ],
             [
              0.8888888888888888,
              "#fdca26"
             ],
             [
              1,
              "#f0f921"
             ]
            ],
            "type": "contour"
           }
          ],
          "contourcarpet": [
           {
            "colorbar": {
             "outlinewidth": 0,
             "ticks": ""
            },
            "type": "contourcarpet"
           }
          ],
          "heatmap": [
           {
            "colorbar": {
             "outlinewidth": 0,
             "ticks": ""
            },
            "colorscale": [
             [
              0,
              "#0d0887"
             ],
             [
              0.1111111111111111,
              "#46039f"
             ],
             [
              0.2222222222222222,
              "#7201a8"
             ],
             [
              0.3333333333333333,
              "#9c179e"
             ],
             [
              0.4444444444444444,
              "#bd3786"
             ],
             [
              0.5555555555555556,
              "#d8576b"
             ],
             [
              0.6666666666666666,
              "#ed7953"
             ],
             [
              0.7777777777777778,
              "#fb9f3a"
             ],
             [
              0.8888888888888888,
              "#fdca26"
             ],
             [
              1,
              "#f0f921"
             ]
            ],
            "type": "heatmap"
           }
          ],
          "heatmapgl": [
           {
            "colorbar": {
             "outlinewidth": 0,
             "ticks": ""
            },
            "colorscale": [
             [
              0,
              "#0d0887"
             ],
             [
              0.1111111111111111,
              "#46039f"
             ],
             [
              0.2222222222222222,
              "#7201a8"
             ],
             [
              0.3333333333333333,
              "#9c179e"
             ],
             [
              0.4444444444444444,
              "#bd3786"
             ],
             [
              0.5555555555555556,
              "#d8576b"
             ],
             [
              0.6666666666666666,
              "#ed7953"
             ],
             [
              0.7777777777777778,
              "#fb9f3a"
             ],
             [
              0.8888888888888888,
              "#fdca26"
             ],
             [
              1,
              "#f0f921"
             ]
            ],
            "type": "heatmapgl"
           }
          ],
          "histogram": [
           {
            "marker": {
             "pattern": {
              "fillmode": "overlay",
              "size": 10,
              "solidity": 0.2
             }
            },
            "type": "histogram"
           }
          ],
          "histogram2d": [
           {
            "colorbar": {
             "outlinewidth": 0,
             "ticks": ""
            },
            "colorscale": [
             [
              0,
              "#0d0887"
             ],
             [
              0.1111111111111111,
              "#46039f"
             ],
             [
              0.2222222222222222,
              "#7201a8"
             ],
             [
              0.3333333333333333,
              "#9c179e"
             ],
             [
              0.4444444444444444,
              "#bd3786"
             ],
             [
              0.5555555555555556,
              "#d8576b"
             ],
             [
              0.6666666666666666,
              "#ed7953"
             ],
             [
              0.7777777777777778,
              "#fb9f3a"
             ],
             [
              0.8888888888888888,
              "#fdca26"
             ],
             [
              1,
              "#f0f921"
             ]
            ],
            "type": "histogram2d"
           }
          ],
          "histogram2dcontour": [
           {
            "colorbar": {
             "outlinewidth": 0,
             "ticks": ""
            },
            "colorscale": [
             [
              0,
              "#0d0887"
             ],
             [
              0.1111111111111111,
              "#46039f"
             ],
             [
              0.2222222222222222,
              "#7201a8"
             ],
             [
              0.3333333333333333,
              "#9c179e"
             ],
             [
              0.4444444444444444,
              "#bd3786"
             ],
             [
              0.5555555555555556,
              "#d8576b"
             ],
             [
              0.6666666666666666,
              "#ed7953"
             ],
             [
              0.7777777777777778,
              "#fb9f3a"
             ],
             [
              0.8888888888888888,
              "#fdca26"
             ],
             [
              1,
              "#f0f921"
             ]
            ],
            "type": "histogram2dcontour"
           }
          ],
          "mesh3d": [
           {
            "colorbar": {
             "outlinewidth": 0,
             "ticks": ""
            },
            "type": "mesh3d"
           }
          ],
          "parcoords": [
           {
            "line": {
             "colorbar": {
              "outlinewidth": 0,
              "ticks": ""
             }
            },
            "type": "parcoords"
           }
          ],
          "pie": [
           {
            "automargin": true,
            "type": "pie"
           }
          ],
          "scatter": [
           {
            "fillpattern": {
             "fillmode": "overlay",
             "size": 10,
             "solidity": 0.2
            },
            "type": "scatter"
           }
          ],
          "scatter3d": [
           {
            "line": {
             "colorbar": {
              "outlinewidth": 0,
              "ticks": ""
             }
            },
            "marker": {
             "colorbar": {
              "outlinewidth": 0,
              "ticks": ""
             }
            },
            "type": "scatter3d"
           }
          ],
          "scattercarpet": [
           {
            "marker": {
             "colorbar": {
              "outlinewidth": 0,
              "ticks": ""
             }
            },
            "type": "scattercarpet"
           }
          ],
          "scattergeo": [
           {
            "marker": {
             "colorbar": {
              "outlinewidth": 0,
              "ticks": ""
             }
            },
            "type": "scattergeo"
           }
          ],
          "scattergl": [
           {
            "marker": {
             "colorbar": {
              "outlinewidth": 0,
              "ticks": ""
             }
            },
            "type": "scattergl"
           }
          ],
          "scattermapbox": [
           {
            "marker": {
             "colorbar": {
              "outlinewidth": 0,
              "ticks": ""
             }
            },
            "type": "scattermapbox"
           }
          ],
          "scatterpolar": [
           {
            "marker": {
             "colorbar": {
              "outlinewidth": 0,
              "ticks": ""
             }
            },
            "type": "scatterpolar"
           }
          ],
          "scatterpolargl": [
           {
            "marker": {
             "colorbar": {
              "outlinewidth": 0,
              "ticks": ""
             }
            },
            "type": "scatterpolargl"
           }
          ],
          "scatterternary": [
           {
            "marker": {
             "colorbar": {
              "outlinewidth": 0,
              "ticks": ""
             }
            },
            "type": "scatterternary"
           }
          ],
          "surface": [
           {
            "colorbar": {
             "outlinewidth": 0,
             "ticks": ""
            },
            "colorscale": [
             [
              0,
              "#0d0887"
             ],
             [
              0.1111111111111111,
              "#46039f"
             ],
             [
              0.2222222222222222,
              "#7201a8"
             ],
             [
              0.3333333333333333,
              "#9c179e"
             ],
             [
              0.4444444444444444,
              "#bd3786"
             ],
             [
              0.5555555555555556,
              "#d8576b"
             ],
             [
              0.6666666666666666,
              "#ed7953"
             ],
             [
              0.7777777777777778,
              "#fb9f3a"
             ],
             [
              0.8888888888888888,
              "#fdca26"
             ],
             [
              1,
              "#f0f921"
             ]
            ],
            "type": "surface"
           }
          ],
          "table": [
           {
            "cells": {
             "fill": {
              "color": "#EBF0F8"
             },
             "line": {
              "color": "white"
             }
            },
            "header": {
             "fill": {
              "color": "#C8D4E3"
             },
             "line": {
              "color": "white"
             }
            },
            "type": "table"
           }
          ]
         },
         "layout": {
          "annotationdefaults": {
           "arrowcolor": "#2a3f5f",
           "arrowhead": 0,
           "arrowwidth": 1
          },
          "autotypenumbers": "strict",
          "coloraxis": {
           "colorbar": {
            "outlinewidth": 0,
            "ticks": ""
           }
          },
          "colorscale": {
           "diverging": [
            [
             0,
             "#8e0152"
            ],
            [
             0.1,
             "#c51b7d"
            ],
            [
             0.2,
             "#de77ae"
            ],
            [
             0.3,
             "#f1b6da"
            ],
            [
             0.4,
             "#fde0ef"
            ],
            [
             0.5,
             "#f7f7f7"
            ],
            [
             0.6,
             "#e6f5d0"
            ],
            [
             0.7,
             "#b8e186"
            ],
            [
             0.8,
             "#7fbc41"
            ],
            [
             0.9,
             "#4d9221"
            ],
            [
             1,
             "#276419"
            ]
           ],
           "sequential": [
            [
             0,
             "#0d0887"
            ],
            [
             0.1111111111111111,
             "#46039f"
            ],
            [
             0.2222222222222222,
             "#7201a8"
            ],
            [
             0.3333333333333333,
             "#9c179e"
            ],
            [
             0.4444444444444444,
             "#bd3786"
            ],
            [
             0.5555555555555556,
             "#d8576b"
            ],
            [
             0.6666666666666666,
             "#ed7953"
            ],
            [
             0.7777777777777778,
             "#fb9f3a"
            ],
            [
             0.8888888888888888,
             "#fdca26"
            ],
            [
             1,
             "#f0f921"
            ]
           ],
           "sequentialminus": [
            [
             0,
             "#0d0887"
            ],
            [
             0.1111111111111111,
             "#46039f"
            ],
            [
             0.2222222222222222,
             "#7201a8"
            ],
            [
             0.3333333333333333,
             "#9c179e"
            ],
            [
             0.4444444444444444,
             "#bd3786"
            ],
            [
             0.5555555555555556,
             "#d8576b"
            ],
            [
             0.6666666666666666,
             "#ed7953"
            ],
            [
             0.7777777777777778,
             "#fb9f3a"
            ],
            [
             0.8888888888888888,
             "#fdca26"
            ],
            [
             1,
             "#f0f921"
            ]
           ]
          },
          "colorway": [
           "#636efa",
           "#EF553B",
           "#00cc96",
           "#ab63fa",
           "#FFA15A",
           "#19d3f3",
           "#FF6692",
           "#B6E880",
           "#FF97FF",
           "#FECB52"
          ],
          "font": {
           "color": "#2a3f5f"
          },
          "geo": {
           "bgcolor": "white",
           "lakecolor": "white",
           "landcolor": "#E5ECF6",
           "showlakes": true,
           "showland": true,
           "subunitcolor": "white"
          },
          "hoverlabel": {
           "align": "left"
          },
          "hovermode": "closest",
          "mapbox": {
           "style": "light"
          },
          "paper_bgcolor": "white",
          "plot_bgcolor": "#E5ECF6",
          "polar": {
           "angularaxis": {
            "gridcolor": "white",
            "linecolor": "white",
            "ticks": ""
           },
           "bgcolor": "#E5ECF6",
           "radialaxis": {
            "gridcolor": "white",
            "linecolor": "white",
            "ticks": ""
           }
          },
          "scene": {
           "xaxis": {
            "backgroundcolor": "#E5ECF6",
            "gridcolor": "white",
            "gridwidth": 2,
            "linecolor": "white",
            "showbackground": true,
            "ticks": "",
            "zerolinecolor": "white"
           },
           "yaxis": {
            "backgroundcolor": "#E5ECF6",
            "gridcolor": "white",
            "gridwidth": 2,
            "linecolor": "white",
            "showbackground": true,
            "ticks": "",
            "zerolinecolor": "white"
           },
           "zaxis": {
            "backgroundcolor": "#E5ECF6",
            "gridcolor": "white",
            "gridwidth": 2,
            "linecolor": "white",
            "showbackground": true,
            "ticks": "",
            "zerolinecolor": "white"
           }
          },
          "shapedefaults": {
           "line": {
            "color": "#2a3f5f"
           }
          },
          "ternary": {
           "aaxis": {
            "gridcolor": "white",
            "linecolor": "white",
            "ticks": ""
           },
           "baxis": {
            "gridcolor": "white",
            "linecolor": "white",
            "ticks": ""
           },
           "bgcolor": "#E5ECF6",
           "caxis": {
            "gridcolor": "white",
            "linecolor": "white",
            "ticks": ""
           }
          },
          "title": {
           "x": 0.05
          },
          "xaxis": {
           "automargin": true,
           "gridcolor": "white",
           "linecolor": "white",
           "ticks": "",
           "title": {
            "standoff": 15
           },
           "zerolinecolor": "white",
           "zerolinewidth": 2
          },
          "yaxis": {
           "automargin": true,
           "gridcolor": "white",
           "linecolor": "white",
           "ticks": "",
           "title": {
            "standoff": 15
           },
           "zerolinecolor": "white",
           "zerolinewidth": 2
          }
         }
        },
        "xaxis": {
         "anchor": "y",
         "domain": [
          0,
          1
         ],
         "title": {
          "text": "total_number_of_donations"
         }
        },
        "yaxis": {
         "anchor": "x",
         "domain": [
          0,
          1
         ],
         "title": {
          "text": "months_since_first_donation"
         }
        }
       }
      }
     },
     "metadata": {},
     "output_type": "display_data"
    }
   ],
   "source": [
    "test30[\"class\"] = test30[\"class\"].astype(str) #convert to string\n",
    "\n",
    "fig = pd.fig = px.scatter(data_frame=test30, x='total_number_of_donations', y='months_since_first_donation', color='class')\n",
    "fig.show()"
   ]
  },
  {
   "cell_type": "code",
   "execution_count": 332,
   "metadata": {},
   "outputs": [],
   "source": [
    "# The cleaning prcoess for the 90 | 10 split. \n",
    "\n",
    "y_train90 = train90['class']\n",
    "X_train90 = train90.drop(['class'], axis=1)\n",
    "\n",
    "y_test10 = test10['class']\n",
    "X_test10 = test10.drop(['class'], axis=1)\n"
   ]
  },
  {
   "cell_type": "code",
   "execution_count": 333,
   "metadata": {},
   "outputs": [],
   "source": [
    "# The cleaning prcoess for the 70 | 30 split. \n",
    "\n",
    "y_train70 = train70['class']\n",
    "X_train70 = train70.drop(['class'], axis=1)\n",
    "# X_train70.head()\n",
    "\n",
    "y_test30 = test30['class']\n",
    "X_test30 = test30.drop(['class'], axis=1)\n",
    "# X_test30.head()"
   ]
  },
  {
   "cell_type": "code",
   "execution_count": 335,
   "metadata": {},
   "outputs": [
    {
     "name": "stdout",
     "output_type": "stream",
     "text": [
      "GaussianNB()\n"
     ]
    },
    {
     "data": {
      "text/plain": [
       "0.7333333333333333"
      ]
     },
     "execution_count": 335,
     "metadata": {},
     "output_type": "execute_result"
    }
   ],
   "source": [
    "# TASK 4\n",
    "# 4.1\n",
    "GausNB = GaussianNB()\n",
    "GausNB.fit(X_train90, y_train90)\n",
    "print(GausNB)\n",
    "\n",
    "predGNB90 = GausNB.predict(X_test10)\n",
    "accuracy_score(y_test10, predGNB90)"
   ]
  },
  {
   "cell_type": "code",
   "execution_count": 336,
   "metadata": {},
   "outputs": [
    {
     "name": "stdout",
     "output_type": "stream",
     "text": [
      "GaussianNB()\n"
     ]
    },
    {
     "data": {
      "text/plain": [
       "0.7688888888888888"
      ]
     },
     "execution_count": 336,
     "metadata": {},
     "output_type": "execute_result"
    }
   ],
   "source": [
    "# TASK 4\n",
    "# 4.1\n",
    "GausNB = GaussianNB()\n",
    "GausNB.fit(X_train70, y_train70)\n",
    "print(GausNB)\n",
    "\n",
    "predGNB70 = GausNB.predict(X_test30)\n",
    "accuracy_score(y_test30, predGNB70)"
   ]
  },
  {
   "cell_type": "code",
   "execution_count": 337,
   "metadata": {},
   "outputs": [],
   "source": [
    "newdfGNB = X_test30.copy()\n",
    "newdfGNB['predclass'] = predGNB70"
   ]
  },
  {
   "cell_type": "code",
   "execution_count": 338,
   "metadata": {},
   "outputs": [
    {
     "data": {
      "application/vnd.plotly.v1+json": {
       "config": {
        "plotlyServerURL": "https://plot.ly"
       },
       "data": [
        {
         "hovertemplate": "predclass=0<br>total_number_of_donations=%{x}<br>months_since_first_donation=%{y}<extra></extra>",
         "legendgroup": "0",
         "marker": {
          "color": "#636efa",
          "symbol": "circle"
         },
         "mode": "markers",
         "name": "0",
         "orientation": "v",
         "showlegend": true,
         "type": "scatter",
         "x": [
          6,
          1,
          10,
          10,
          1,
          6,
          5,
          3,
          1,
          2,
          2,
          2,
          2,
          5,
          12,
          1,
          2,
          1,
          3,
          3,
          14,
          5,
          4,
          7,
          2,
          7,
          4,
          5,
          6,
          1,
          6,
          6,
          2,
          7,
          1,
          4,
          3,
          5,
          5,
          7,
          1,
          3,
          1,
          2,
          1,
          2,
          4,
          6,
          1,
          2,
          6,
          6,
          4,
          3,
          5,
          8,
          3,
          11,
          2,
          4,
          5,
          4,
          2,
          2,
          2,
          8,
          5,
          2,
          2,
          11,
          2,
          8,
          1,
          1,
          5,
          4,
          1,
          2,
          1,
          6,
          1,
          1,
          3,
          9,
          7,
          7,
          3,
          1,
          3,
          2,
          9,
          6,
          5,
          5,
          6,
          4,
          1,
          8,
          4,
          2,
          2,
          2,
          6,
          1,
          2,
          8,
          2,
          2,
          3,
          3,
          2,
          3,
          9,
          11,
          4,
          9,
          4,
          3,
          7,
          1,
          1,
          5,
          8,
          1,
          1,
          3,
          2,
          5,
          5,
          7,
          2,
          4,
          2,
          4,
          6,
          3,
          2,
          1,
          1,
          3,
          2,
          1,
          9,
          1,
          3,
          19,
          1,
          5,
          2,
          3,
          16,
          5,
          4,
          9,
          2,
          4,
          2,
          2,
          2,
          8,
          3,
          2,
          2,
          1,
          2,
          3,
          5,
          1,
          9,
          7,
          14,
          1,
          1,
          1,
          11,
          1,
          4,
          5,
          5,
          1,
          1,
          1,
          3,
          10,
          8,
          9,
          8,
          5,
          2,
          12,
          2,
          9,
          3,
          8,
          2,
          1,
          9,
          1,
          2,
          2,
          1
         ],
         "xaxis": "x",
         "y": [
          0.4791666666666667,
          0.14583333333333334,
          0.2708333333333333,
          0.5208333333333334,
          0,
          0.2708333333333333,
          0.09375,
          0.90625,
          0.19791666666666666,
          0.125,
          0.21875,
          0.07291666666666667,
          0.09375,
          0.25,
          0.875,
          0.020833333333333332,
          0.28125,
          0.14583333333333334,
          0.14583333333333334,
          0.125,
          0.84375,
          0.2708333333333333,
          0.14583333333333334,
          0.7604166666666666,
          0.25,
          0.78125,
          0.020833333333333332,
          0.3229166666666667,
          0.5,
          0,
          0.5104166666666666,
          0.14583333333333334,
          0.3229166666666667,
          0.3854166666666667,
          0.09375,
          0.5833333333333334,
          0.2708333333333333,
          0.5833333333333334,
          0.5833333333333334,
          0.3125,
          0.75,
          0.625,
          0.020833333333333332,
          0.21875,
          0.09375,
          0.19791666666666666,
          0.4583333333333333,
          0.14583333333333334,
          0.19791666666666666,
          0.21875,
          0.5833333333333334,
          0.2708333333333333,
          0.20833333333333334,
          0.21875,
          0.40625,
          0.7291666666666666,
          0.21875,
          0.7604166666666666,
          0.09375,
          0.2708333333333333,
          0.6041666666666666,
          0.14583333333333334,
          0.08333333333333333,
          0.15625,
          0.25,
          0.5,
          0.14583333333333334,
          0.125,
          0.21875,
          0.4166666666666667,
          0.59375,
          0.5208333333333334,
          0.020833333333333332,
          0.21875,
          0.16666666666666666,
          0.5729166666666666,
          0.020833333333333332,
          0.14583333333333334,
          0.09375,
          0.3958333333333333,
          0.020833333333333332,
          0.21875,
          0.125,
          0.90625,
          0.5833333333333334,
          0.8958333333333334,
          0.875,
          0.125,
          0.8020833333333334,
          0.09375,
          0.25,
          0.2604166666666667,
          0.5833333333333334,
          0.375,
          0.3854166666666667,
          0.125,
          0.19791666666666666,
          0.375,
          0.5208333333333334,
          0.020833333333333332,
          0.125,
          0.375,
          0.20833333333333334,
          0.125,
          0.5208333333333334,
          0.5208333333333334,
          0.4583333333333333,
          0.14583333333333334,
          0.5208333333333334,
          0.40625,
          0.25,
          0.34375,
          0.5208333333333334,
          0.8958333333333334,
          0.5208333333333334,
          0.2708333333333333,
          0.09375,
          0.14583333333333334,
          0.34375,
          0.21875,
          0.125,
          0.25,
          0.2708333333333333,
          0.3958333333333333,
          0.19791666666666666,
          0.3229166666666667,
          0.25,
          0.75,
          0.25,
          0.25,
          0.125,
          0.5833333333333334,
          0.09375,
          0.25,
          0.40625,
          0.17708333333333334,
          0.40625,
          0.020833333333333332,
          0.19791666666666666,
          0.25,
          0,
          0,
          0.2708333333333333,
          0.09375,
          0.20833333333333334,
          0.625,
          0.19791666666666666,
          0.75,
          0.34375,
          0.3645833333333333,
          0.6458333333333334,
          0.2708333333333333,
          0.4479166666666667,
          0.5520833333333334,
          0.2708333333333333,
          0.3333333333333333,
          0.09375,
          0.11458333333333333,
          0.08333333333333333,
          0.6458333333333334,
          0.25,
          0.3020833333333333,
          0.5208333333333334,
          0.125,
          0.2604166666666667,
          0.7708333333333334,
          0.17708333333333334,
          0.125,
          0.6041666666666666,
          0.7708333333333334,
          0.6979166666666666,
          0.14583333333333334,
          0.14583333333333334,
          0,
          0.375,
          0,
          0.25,
          0.5208333333333334,
          0.3958333333333333,
          0.21875,
          0.125,
          0.14583333333333334,
          0.13541666666666666,
          0.4895833333333333,
          0.4583333333333333,
          0.4479166666666667,
          0.4791666666666667,
          0.125,
          0.25,
          0.875,
          0.09375,
          0.4583333333333333,
          0.2708333333333333,
          0.96875,
          0.125,
          0.09375,
          0.6458333333333334,
          0.010416666666666666,
          0.125,
          0.40625,
          0
         ],
         "yaxis": "y"
        },
        {
         "hovertemplate": "predclass=1<br>total_number_of_donations=%{x}<br>months_since_first_donation=%{y}<extra></extra>",
         "legendgroup": "1",
         "marker": {
          "color": "#EF553B",
          "symbol": "circle"
         },
         "mode": "markers",
         "name": "1",
         "orientation": "v",
         "showlegend": true,
         "type": "scatter",
         "x": [
          33,
          34,
          16,
          43,
          11,
          21,
          16,
          17,
          38,
          20,
          12,
          18,
          12,
          13,
          22,
          41,
          14,
          11,
          13,
          14,
          12,
          15,
          11,
          11
         ],
         "xaxis": "x",
         "y": [
          1,
          0.78125,
          1,
          0.875,
          0.6145833333333334,
          0.4166666666666667,
          0.90625,
          0.71875,
          1,
          0.4479166666666667,
          0.96875,
          0.7916666666666666,
          0.34375,
          0.53125,
          0.2708333333333333,
          1,
          0.875,
          0.2708333333333333,
          0.3854166666666667,
          0.7395833333333334,
          0.5208333333333334,
          0.6458333333333334,
          0.4583333333333333,
          0.6458333333333334
         ],
         "yaxis": "y"
        }
       ],
       "layout": {
        "legend": {
         "title": {
          "text": "predclass"
         },
         "tracegroupgap": 0
        },
        "margin": {
         "t": 60
        },
        "template": {
         "data": {
          "bar": [
           {
            "error_x": {
             "color": "#2a3f5f"
            },
            "error_y": {
             "color": "#2a3f5f"
            },
            "marker": {
             "line": {
              "color": "#E5ECF6",
              "width": 0.5
             },
             "pattern": {
              "fillmode": "overlay",
              "size": 10,
              "solidity": 0.2
             }
            },
            "type": "bar"
           }
          ],
          "barpolar": [
           {
            "marker": {
             "line": {
              "color": "#E5ECF6",
              "width": 0.5
             },
             "pattern": {
              "fillmode": "overlay",
              "size": 10,
              "solidity": 0.2
             }
            },
            "type": "barpolar"
           }
          ],
          "carpet": [
           {
            "aaxis": {
             "endlinecolor": "#2a3f5f",
             "gridcolor": "white",
             "linecolor": "white",
             "minorgridcolor": "white",
             "startlinecolor": "#2a3f5f"
            },
            "baxis": {
             "endlinecolor": "#2a3f5f",
             "gridcolor": "white",
             "linecolor": "white",
             "minorgridcolor": "white",
             "startlinecolor": "#2a3f5f"
            },
            "type": "carpet"
           }
          ],
          "choropleth": [
           {
            "colorbar": {
             "outlinewidth": 0,
             "ticks": ""
            },
            "type": "choropleth"
           }
          ],
          "contour": [
           {
            "colorbar": {
             "outlinewidth": 0,
             "ticks": ""
            },
            "colorscale": [
             [
              0,
              "#0d0887"
             ],
             [
              0.1111111111111111,
              "#46039f"
             ],
             [
              0.2222222222222222,
              "#7201a8"
             ],
             [
              0.3333333333333333,
              "#9c179e"
             ],
             [
              0.4444444444444444,
              "#bd3786"
             ],
             [
              0.5555555555555556,
              "#d8576b"
             ],
             [
              0.6666666666666666,
              "#ed7953"
             ],
             [
              0.7777777777777778,
              "#fb9f3a"
             ],
             [
              0.8888888888888888,
              "#fdca26"
             ],
             [
              1,
              "#f0f921"
             ]
            ],
            "type": "contour"
           }
          ],
          "contourcarpet": [
           {
            "colorbar": {
             "outlinewidth": 0,
             "ticks": ""
            },
            "type": "contourcarpet"
           }
          ],
          "heatmap": [
           {
            "colorbar": {
             "outlinewidth": 0,
             "ticks": ""
            },
            "colorscale": [
             [
              0,
              "#0d0887"
             ],
             [
              0.1111111111111111,
              "#46039f"
             ],
             [
              0.2222222222222222,
              "#7201a8"
             ],
             [
              0.3333333333333333,
              "#9c179e"
             ],
             [
              0.4444444444444444,
              "#bd3786"
             ],
             [
              0.5555555555555556,
              "#d8576b"
             ],
             [
              0.6666666666666666,
              "#ed7953"
             ],
             [
              0.7777777777777778,
              "#fb9f3a"
             ],
             [
              0.8888888888888888,
              "#fdca26"
             ],
             [
              1,
              "#f0f921"
             ]
            ],
            "type": "heatmap"
           }
          ],
          "heatmapgl": [
           {
            "colorbar": {
             "outlinewidth": 0,
             "ticks": ""
            },
            "colorscale": [
             [
              0,
              "#0d0887"
             ],
             [
              0.1111111111111111,
              "#46039f"
             ],
             [
              0.2222222222222222,
              "#7201a8"
             ],
             [
              0.3333333333333333,
              "#9c179e"
             ],
             [
              0.4444444444444444,
              "#bd3786"
             ],
             [
              0.5555555555555556,
              "#d8576b"
             ],
             [
              0.6666666666666666,
              "#ed7953"
             ],
             [
              0.7777777777777778,
              "#fb9f3a"
             ],
             [
              0.8888888888888888,
              "#fdca26"
             ],
             [
              1,
              "#f0f921"
             ]
            ],
            "type": "heatmapgl"
           }
          ],
          "histogram": [
           {
            "marker": {
             "pattern": {
              "fillmode": "overlay",
              "size": 10,
              "solidity": 0.2
             }
            },
            "type": "histogram"
           }
          ],
          "histogram2d": [
           {
            "colorbar": {
             "outlinewidth": 0,
             "ticks": ""
            },
            "colorscale": [
             [
              0,
              "#0d0887"
             ],
             [
              0.1111111111111111,
              "#46039f"
             ],
             [
              0.2222222222222222,
              "#7201a8"
             ],
             [
              0.3333333333333333,
              "#9c179e"
             ],
             [
              0.4444444444444444,
              "#bd3786"
             ],
             [
              0.5555555555555556,
              "#d8576b"
             ],
             [
              0.6666666666666666,
              "#ed7953"
             ],
             [
              0.7777777777777778,
              "#fb9f3a"
             ],
             [
              0.8888888888888888,
              "#fdca26"
             ],
             [
              1,
              "#f0f921"
             ]
            ],
            "type": "histogram2d"
           }
          ],
          "histogram2dcontour": [
           {
            "colorbar": {
             "outlinewidth": 0,
             "ticks": ""
            },
            "colorscale": [
             [
              0,
              "#0d0887"
             ],
             [
              0.1111111111111111,
              "#46039f"
             ],
             [
              0.2222222222222222,
              "#7201a8"
             ],
             [
              0.3333333333333333,
              "#9c179e"
             ],
             [
              0.4444444444444444,
              "#bd3786"
             ],
             [
              0.5555555555555556,
              "#d8576b"
             ],
             [
              0.6666666666666666,
              "#ed7953"
             ],
             [
              0.7777777777777778,
              "#fb9f3a"
             ],
             [
              0.8888888888888888,
              "#fdca26"
             ],
             [
              1,
              "#f0f921"
             ]
            ],
            "type": "histogram2dcontour"
           }
          ],
          "mesh3d": [
           {
            "colorbar": {
             "outlinewidth": 0,
             "ticks": ""
            },
            "type": "mesh3d"
           }
          ],
          "parcoords": [
           {
            "line": {
             "colorbar": {
              "outlinewidth": 0,
              "ticks": ""
             }
            },
            "type": "parcoords"
           }
          ],
          "pie": [
           {
            "automargin": true,
            "type": "pie"
           }
          ],
          "scatter": [
           {
            "fillpattern": {
             "fillmode": "overlay",
             "size": 10,
             "solidity": 0.2
            },
            "type": "scatter"
           }
          ],
          "scatter3d": [
           {
            "line": {
             "colorbar": {
              "outlinewidth": 0,
              "ticks": ""
             }
            },
            "marker": {
             "colorbar": {
              "outlinewidth": 0,
              "ticks": ""
             }
            },
            "type": "scatter3d"
           }
          ],
          "scattercarpet": [
           {
            "marker": {
             "colorbar": {
              "outlinewidth": 0,
              "ticks": ""
             }
            },
            "type": "scattercarpet"
           }
          ],
          "scattergeo": [
           {
            "marker": {
             "colorbar": {
              "outlinewidth": 0,
              "ticks": ""
             }
            },
            "type": "scattergeo"
           }
          ],
          "scattergl": [
           {
            "marker": {
             "colorbar": {
              "outlinewidth": 0,
              "ticks": ""
             }
            },
            "type": "scattergl"
           }
          ],
          "scattermapbox": [
           {
            "marker": {
             "colorbar": {
              "outlinewidth": 0,
              "ticks": ""
             }
            },
            "type": "scattermapbox"
           }
          ],
          "scatterpolar": [
           {
            "marker": {
             "colorbar": {
              "outlinewidth": 0,
              "ticks": ""
             }
            },
            "type": "scatterpolar"
           }
          ],
          "scatterpolargl": [
           {
            "marker": {
             "colorbar": {
              "outlinewidth": 0,
              "ticks": ""
             }
            },
            "type": "scatterpolargl"
           }
          ],
          "scatterternary": [
           {
            "marker": {
             "colorbar": {
              "outlinewidth": 0,
              "ticks": ""
             }
            },
            "type": "scatterternary"
           }
          ],
          "surface": [
           {
            "colorbar": {
             "outlinewidth": 0,
             "ticks": ""
            },
            "colorscale": [
             [
              0,
              "#0d0887"
             ],
             [
              0.1111111111111111,
              "#46039f"
             ],
             [
              0.2222222222222222,
              "#7201a8"
             ],
             [
              0.3333333333333333,
              "#9c179e"
             ],
             [
              0.4444444444444444,
              "#bd3786"
             ],
             [
              0.5555555555555556,
              "#d8576b"
             ],
             [
              0.6666666666666666,
              "#ed7953"
             ],
             [
              0.7777777777777778,
              "#fb9f3a"
             ],
             [
              0.8888888888888888,
              "#fdca26"
             ],
             [
              1,
              "#f0f921"
             ]
            ],
            "type": "surface"
           }
          ],
          "table": [
           {
            "cells": {
             "fill": {
              "color": "#EBF0F8"
             },
             "line": {
              "color": "white"
             }
            },
            "header": {
             "fill": {
              "color": "#C8D4E3"
             },
             "line": {
              "color": "white"
             }
            },
            "type": "table"
           }
          ]
         },
         "layout": {
          "annotationdefaults": {
           "arrowcolor": "#2a3f5f",
           "arrowhead": 0,
           "arrowwidth": 1
          },
          "autotypenumbers": "strict",
          "coloraxis": {
           "colorbar": {
            "outlinewidth": 0,
            "ticks": ""
           }
          },
          "colorscale": {
           "diverging": [
            [
             0,
             "#8e0152"
            ],
            [
             0.1,
             "#c51b7d"
            ],
            [
             0.2,
             "#de77ae"
            ],
            [
             0.3,
             "#f1b6da"
            ],
            [
             0.4,
             "#fde0ef"
            ],
            [
             0.5,
             "#f7f7f7"
            ],
            [
             0.6,
             "#e6f5d0"
            ],
            [
             0.7,
             "#b8e186"
            ],
            [
             0.8,
             "#7fbc41"
            ],
            [
             0.9,
             "#4d9221"
            ],
            [
             1,
             "#276419"
            ]
           ],
           "sequential": [
            [
             0,
             "#0d0887"
            ],
            [
             0.1111111111111111,
             "#46039f"
            ],
            [
             0.2222222222222222,
             "#7201a8"
            ],
            [
             0.3333333333333333,
             "#9c179e"
            ],
            [
             0.4444444444444444,
             "#bd3786"
            ],
            [
             0.5555555555555556,
             "#d8576b"
            ],
            [
             0.6666666666666666,
             "#ed7953"
            ],
            [
             0.7777777777777778,
             "#fb9f3a"
            ],
            [
             0.8888888888888888,
             "#fdca26"
            ],
            [
             1,
             "#f0f921"
            ]
           ],
           "sequentialminus": [
            [
             0,
             "#0d0887"
            ],
            [
             0.1111111111111111,
             "#46039f"
            ],
            [
             0.2222222222222222,
             "#7201a8"
            ],
            [
             0.3333333333333333,
             "#9c179e"
            ],
            [
             0.4444444444444444,
             "#bd3786"
            ],
            [
             0.5555555555555556,
             "#d8576b"
            ],
            [
             0.6666666666666666,
             "#ed7953"
            ],
            [
             0.7777777777777778,
             "#fb9f3a"
            ],
            [
             0.8888888888888888,
             "#fdca26"
            ],
            [
             1,
             "#f0f921"
            ]
           ]
          },
          "colorway": [
           "#636efa",
           "#EF553B",
           "#00cc96",
           "#ab63fa",
           "#FFA15A",
           "#19d3f3",
           "#FF6692",
           "#B6E880",
           "#FF97FF",
           "#FECB52"
          ],
          "font": {
           "color": "#2a3f5f"
          },
          "geo": {
           "bgcolor": "white",
           "lakecolor": "white",
           "landcolor": "#E5ECF6",
           "showlakes": true,
           "showland": true,
           "subunitcolor": "white"
          },
          "hoverlabel": {
           "align": "left"
          },
          "hovermode": "closest",
          "mapbox": {
           "style": "light"
          },
          "paper_bgcolor": "white",
          "plot_bgcolor": "#E5ECF6",
          "polar": {
           "angularaxis": {
            "gridcolor": "white",
            "linecolor": "white",
            "ticks": ""
           },
           "bgcolor": "#E5ECF6",
           "radialaxis": {
            "gridcolor": "white",
            "linecolor": "white",
            "ticks": ""
           }
          },
          "scene": {
           "xaxis": {
            "backgroundcolor": "#E5ECF6",
            "gridcolor": "white",
            "gridwidth": 2,
            "linecolor": "white",
            "showbackground": true,
            "ticks": "",
            "zerolinecolor": "white"
           },
           "yaxis": {
            "backgroundcolor": "#E5ECF6",
            "gridcolor": "white",
            "gridwidth": 2,
            "linecolor": "white",
            "showbackground": true,
            "ticks": "",
            "zerolinecolor": "white"
           },
           "zaxis": {
            "backgroundcolor": "#E5ECF6",
            "gridcolor": "white",
            "gridwidth": 2,
            "linecolor": "white",
            "showbackground": true,
            "ticks": "",
            "zerolinecolor": "white"
           }
          },
          "shapedefaults": {
           "line": {
            "color": "#2a3f5f"
           }
          },
          "ternary": {
           "aaxis": {
            "gridcolor": "white",
            "linecolor": "white",
            "ticks": ""
           },
           "baxis": {
            "gridcolor": "white",
            "linecolor": "white",
            "ticks": ""
           },
           "bgcolor": "#E5ECF6",
           "caxis": {
            "gridcolor": "white",
            "linecolor": "white",
            "ticks": ""
           }
          },
          "title": {
           "x": 0.05
          },
          "xaxis": {
           "automargin": true,
           "gridcolor": "white",
           "linecolor": "white",
           "ticks": "",
           "title": {
            "standoff": 15
           },
           "zerolinecolor": "white",
           "zerolinewidth": 2
          },
          "yaxis": {
           "automargin": true,
           "gridcolor": "white",
           "linecolor": "white",
           "ticks": "",
           "title": {
            "standoff": 15
           },
           "zerolinecolor": "white",
           "zerolinewidth": 2
          }
         }
        },
        "xaxis": {
         "anchor": "y",
         "domain": [
          0,
          1
         ],
         "title": {
          "text": "total_number_of_donations"
         }
        },
        "yaxis": {
         "anchor": "x",
         "domain": [
          0,
          1
         ],
         "title": {
          "text": "months_since_first_donation"
         }
        }
       }
      }
     },
     "metadata": {},
     "output_type": "display_data"
    }
   ],
   "source": [
    "newdfGNB[\"predclass\"] = newdfGNB[\"predclass\"].astype(str) #convert to string\n",
    "\n",
    "fig = px.scatter(newdfGNB,x='total_number_of_donations', y='months_since_first_donation', color= 'predclass')\n",
    "fig.show() "
   ]
  },
  {
   "cell_type": "code",
   "execution_count": 378,
   "metadata": {},
   "outputs": [
    {
     "data": {
      "text/plain": [
       "0.7466666666666667"
      ]
     },
     "execution_count": 378,
     "metadata": {},
     "output_type": "execute_result"
    }
   ],
   "source": [
    "# TASK 4\n",
    "# 4.2\n",
    "SVM_Model = SVC(gamma='auto')\n",
    "SVM_Model.fit(X_train90,y_train90)\n",
    "\n",
    "predSVM90 = SVM_Model.predict(X_test10)\n",
    "accuracy_score(y_test10, predSVM90)"
   ]
  },
  {
   "cell_type": "code",
   "execution_count": 379,
   "metadata": {},
   "outputs": [
    {
     "data": {
      "text/plain": [
       "0.7688888888888888"
      ]
     },
     "execution_count": 379,
     "metadata": {},
     "output_type": "execute_result"
    }
   ],
   "source": [
    "# TASK 4\n",
    "# 4.2\n",
    "SVM_Model = SVC(gamma='auto')\n",
    "SVM_Model.fit(X_train70,y_train70)\n",
    "\n",
    "predSVM70 = SVM_Model.predict(X_test30)\n",
    "accuracy_score(y_test30, predSVM70)"
   ]
  },
  {
   "cell_type": "code",
   "execution_count": 380,
   "metadata": {},
   "outputs": [
    {
     "data": {
      "text/plain": [
       "predclass\n",
       "0    209\n",
       "1     16\n",
       "Name: count, dtype: int64"
      ]
     },
     "execution_count": 380,
     "metadata": {},
     "output_type": "execute_result"
    }
   ],
   "source": [
    "newdfSVM = X_test30.copy()\n",
    "newdfSVM['predclass'] = predSVM70\n",
    "newdfSVM['predclass'].value_counts()"
   ]
  },
  {
   "cell_type": "code",
   "execution_count": 381,
   "metadata": {},
   "outputs": [
    {
     "data": {
      "application/vnd.plotly.v1+json": {
       "config": {
        "plotlyServerURL": "https://plot.ly"
       },
       "data": [
        {
         "hovertemplate": "predclass=0<br>total_number_of_donations=%{x}<br>months_since_first_donation=%{y}<extra></extra>",
         "legendgroup": "0",
         "marker": {
          "color": "#636efa",
          "symbol": "circle"
         },
         "mode": "markers",
         "name": "0",
         "orientation": "v",
         "showlegend": true,
         "type": "scatter",
         "x": [
          6,
          1,
          1,
          5,
          33,
          3,
          1,
          2,
          2,
          2,
          2,
          5,
          12,
          1,
          2,
          1,
          3,
          3,
          14,
          5,
          34,
          4,
          7,
          2,
          16,
          4,
          5,
          43,
          6,
          1,
          6,
          6,
          2,
          7,
          11,
          1,
          4,
          3,
          5,
          5,
          1,
          3,
          1,
          2,
          1,
          2,
          4,
          1,
          2,
          6,
          6,
          4,
          3,
          5,
          8,
          3,
          11,
          2,
          4,
          5,
          4,
          2,
          2,
          2,
          8,
          5,
          2,
          2,
          11,
          2,
          8,
          1,
          1,
          16,
          5,
          17,
          38,
          4,
          1,
          2,
          1,
          6,
          1,
          1,
          3,
          9,
          7,
          7,
          3,
          1,
          3,
          2,
          9,
          6,
          5,
          5,
          6,
          4,
          1,
          8,
          20,
          4,
          2,
          2,
          2,
          1,
          2,
          8,
          2,
          2,
          3,
          12,
          3,
          18,
          2,
          3,
          9,
          4,
          9,
          4,
          3,
          1,
          1,
          5,
          1,
          1,
          12,
          3,
          2,
          5,
          5,
          7,
          2,
          4,
          2,
          22,
          4,
          6,
          3,
          41,
          2,
          14,
          1,
          11,
          1,
          3,
          2,
          1,
          9,
          1,
          3,
          19,
          1,
          13,
          5,
          2,
          3,
          16,
          5,
          4,
          9,
          2,
          4,
          2,
          2,
          2,
          8,
          3,
          2,
          2,
          14,
          1,
          2,
          12,
          3,
          5,
          1,
          9,
          14,
          1,
          1,
          1,
          11,
          1,
          4,
          5,
          5,
          1,
          1,
          1,
          11,
          3,
          8,
          9,
          8,
          5,
          2,
          12,
          2,
          9,
          3,
          8,
          2,
          1,
          9,
          1,
          2,
          2,
          1
         ],
         "xaxis": "x",
         "y": [
          0.4791666666666667,
          0.14583333333333334,
          0,
          0.09375,
          1,
          0.90625,
          0.19791666666666666,
          0.125,
          0.21875,
          0.07291666666666667,
          0.09375,
          0.25,
          0.875,
          0.020833333333333332,
          0.28125,
          0.14583333333333334,
          0.14583333333333334,
          0.125,
          0.84375,
          0.2708333333333333,
          0.78125,
          0.14583333333333334,
          0.7604166666666666,
          0.25,
          1,
          0.020833333333333332,
          0.3229166666666667,
          0.875,
          0.5,
          0,
          0.5104166666666666,
          0.14583333333333334,
          0.3229166666666667,
          0.3854166666666667,
          0.6145833333333334,
          0.09375,
          0.5833333333333334,
          0.2708333333333333,
          0.5833333333333334,
          0.5833333333333334,
          0.75,
          0.625,
          0.020833333333333332,
          0.21875,
          0.09375,
          0.19791666666666666,
          0.4583333333333333,
          0.19791666666666666,
          0.21875,
          0.5833333333333334,
          0.2708333333333333,
          0.20833333333333334,
          0.21875,
          0.40625,
          0.7291666666666666,
          0.21875,
          0.7604166666666666,
          0.09375,
          0.2708333333333333,
          0.6041666666666666,
          0.14583333333333334,
          0.08333333333333333,
          0.15625,
          0.25,
          0.5,
          0.14583333333333334,
          0.125,
          0.21875,
          0.4166666666666667,
          0.59375,
          0.5208333333333334,
          0.020833333333333332,
          0.21875,
          0.90625,
          0.16666666666666666,
          0.71875,
          1,
          0.5729166666666666,
          0.020833333333333332,
          0.14583333333333334,
          0.09375,
          0.3958333333333333,
          0.020833333333333332,
          0.21875,
          0.125,
          0.90625,
          0.5833333333333334,
          0.8958333333333334,
          0.875,
          0.125,
          0.8020833333333334,
          0.09375,
          0.25,
          0.2604166666666667,
          0.5833333333333334,
          0.375,
          0.3854166666666667,
          0.125,
          0.19791666666666666,
          0.375,
          0.4479166666666667,
          0.5208333333333334,
          0.020833333333333332,
          0.125,
          0.375,
          0.125,
          0.5208333333333334,
          0.5208333333333334,
          0.4583333333333333,
          0.14583333333333334,
          0.5208333333333334,
          0.96875,
          0.40625,
          0.7916666666666666,
          0.25,
          0.34375,
          0.5208333333333334,
          0.5208333333333334,
          0.2708333333333333,
          0.09375,
          0.14583333333333334,
          0.21875,
          0.125,
          0.25,
          0.3958333333333333,
          0.19791666666666666,
          0.34375,
          0.3229166666666667,
          0.25,
          0.75,
          0.25,
          0.25,
          0.125,
          0.5833333333333334,
          0.09375,
          0.2708333333333333,
          0.25,
          0.40625,
          0.17708333333333334,
          1,
          0.40625,
          0.875,
          0.020833333333333332,
          0.2708333333333333,
          0.19791666666666666,
          0.25,
          0,
          0,
          0.2708333333333333,
          0.09375,
          0.20833333333333334,
          0.625,
          0.19791666666666666,
          0.3854166666666667,
          0.75,
          0.34375,
          0.3645833333333333,
          0.6458333333333334,
          0.2708333333333333,
          0.4479166666666667,
          0.5520833333333334,
          0.2708333333333333,
          0.3333333333333333,
          0.09375,
          0.11458333333333333,
          0.08333333333333333,
          0.6458333333333334,
          0.25,
          0.3020833333333333,
          0.5208333333333334,
          0.7395833333333334,
          0.125,
          0.2604166666666667,
          0.5208333333333334,
          0.7708333333333334,
          0.17708333333333334,
          0.125,
          0.6041666666666666,
          0.6979166666666666,
          0.14583333333333334,
          0.14583333333333334,
          0,
          0.375,
          0,
          0.25,
          0.5208333333333334,
          0.3958333333333333,
          0.21875,
          0.125,
          0.14583333333333334,
          0.6458333333333334,
          0.13541666666666666,
          0.4583333333333333,
          0.4479166666666667,
          0.4791666666666667,
          0.125,
          0.25,
          0.875,
          0.09375,
          0.4583333333333333,
          0.2708333333333333,
          0.96875,
          0.125,
          0.09375,
          0.6458333333333334,
          0.010416666666666666,
          0.125,
          0.40625,
          0
         ],
         "yaxis": "y"
        },
        {
         "hovertemplate": "predclass=1<br>total_number_of_donations=%{x}<br>months_since_first_donation=%{y}<extra></extra>",
         "legendgroup": "1",
         "marker": {
          "color": "#EF553B",
          "symbol": "circle"
         },
         "mode": "markers",
         "name": "1",
         "orientation": "v",
         "showlegend": true,
         "type": "scatter",
         "x": [
          10,
          10,
          6,
          7,
          7,
          21,
          6,
          6,
          11,
          7,
          8,
          13,
          7,
          15,
          11,
          10
         ],
         "xaxis": "x",
         "y": [
          0.2708333333333333,
          0.5208333333333334,
          0.2708333333333333,
          0.78125,
          0.3125,
          0.4166666666666667,
          0.14583333333333334,
          0.20833333333333334,
          0.8958333333333334,
          0.34375,
          0.2708333333333333,
          0.53125,
          0.7708333333333334,
          0.6458333333333334,
          0.4583333333333333,
          0.4895833333333333
         ],
         "yaxis": "y"
        }
       ],
       "layout": {
        "legend": {
         "title": {
          "text": "predclass"
         },
         "tracegroupgap": 0
        },
        "margin": {
         "t": 60
        },
        "template": {
         "data": {
          "bar": [
           {
            "error_x": {
             "color": "#2a3f5f"
            },
            "error_y": {
             "color": "#2a3f5f"
            },
            "marker": {
             "line": {
              "color": "#E5ECF6",
              "width": 0.5
             },
             "pattern": {
              "fillmode": "overlay",
              "size": 10,
              "solidity": 0.2
             }
            },
            "type": "bar"
           }
          ],
          "barpolar": [
           {
            "marker": {
             "line": {
              "color": "#E5ECF6",
              "width": 0.5
             },
             "pattern": {
              "fillmode": "overlay",
              "size": 10,
              "solidity": 0.2
             }
            },
            "type": "barpolar"
           }
          ],
          "carpet": [
           {
            "aaxis": {
             "endlinecolor": "#2a3f5f",
             "gridcolor": "white",
             "linecolor": "white",
             "minorgridcolor": "white",
             "startlinecolor": "#2a3f5f"
            },
            "baxis": {
             "endlinecolor": "#2a3f5f",
             "gridcolor": "white",
             "linecolor": "white",
             "minorgridcolor": "white",
             "startlinecolor": "#2a3f5f"
            },
            "type": "carpet"
           }
          ],
          "choropleth": [
           {
            "colorbar": {
             "outlinewidth": 0,
             "ticks": ""
            },
            "type": "choropleth"
           }
          ],
          "contour": [
           {
            "colorbar": {
             "outlinewidth": 0,
             "ticks": ""
            },
            "colorscale": [
             [
              0,
              "#0d0887"
             ],
             [
              0.1111111111111111,
              "#46039f"
             ],
             [
              0.2222222222222222,
              "#7201a8"
             ],
             [
              0.3333333333333333,
              "#9c179e"
             ],
             [
              0.4444444444444444,
              "#bd3786"
             ],
             [
              0.5555555555555556,
              "#d8576b"
             ],
             [
              0.6666666666666666,
              "#ed7953"
             ],
             [
              0.7777777777777778,
              "#fb9f3a"
             ],
             [
              0.8888888888888888,
              "#fdca26"
             ],
             [
              1,
              "#f0f921"
             ]
            ],
            "type": "contour"
           }
          ],
          "contourcarpet": [
           {
            "colorbar": {
             "outlinewidth": 0,
             "ticks": ""
            },
            "type": "contourcarpet"
           }
          ],
          "heatmap": [
           {
            "colorbar": {
             "outlinewidth": 0,
             "ticks": ""
            },
            "colorscale": [
             [
              0,
              "#0d0887"
             ],
             [
              0.1111111111111111,
              "#46039f"
             ],
             [
              0.2222222222222222,
              "#7201a8"
             ],
             [
              0.3333333333333333,
              "#9c179e"
             ],
             [
              0.4444444444444444,
              "#bd3786"
             ],
             [
              0.5555555555555556,
              "#d8576b"
             ],
             [
              0.6666666666666666,
              "#ed7953"
             ],
             [
              0.7777777777777778,
              "#fb9f3a"
             ],
             [
              0.8888888888888888,
              "#fdca26"
             ],
             [
              1,
              "#f0f921"
             ]
            ],
            "type": "heatmap"
           }
          ],
          "heatmapgl": [
           {
            "colorbar": {
             "outlinewidth": 0,
             "ticks": ""
            },
            "colorscale": [
             [
              0,
              "#0d0887"
             ],
             [
              0.1111111111111111,
              "#46039f"
             ],
             [
              0.2222222222222222,
              "#7201a8"
             ],
             [
              0.3333333333333333,
              "#9c179e"
             ],
             [
              0.4444444444444444,
              "#bd3786"
             ],
             [
              0.5555555555555556,
              "#d8576b"
             ],
             [
              0.6666666666666666,
              "#ed7953"
             ],
             [
              0.7777777777777778,
              "#fb9f3a"
             ],
             [
              0.8888888888888888,
              "#fdca26"
             ],
             [
              1,
              "#f0f921"
             ]
            ],
            "type": "heatmapgl"
           }
          ],
          "histogram": [
           {
            "marker": {
             "pattern": {
              "fillmode": "overlay",
              "size": 10,
              "solidity": 0.2
             }
            },
            "type": "histogram"
           }
          ],
          "histogram2d": [
           {
            "colorbar": {
             "outlinewidth": 0,
             "ticks": ""
            },
            "colorscale": [
             [
              0,
              "#0d0887"
             ],
             [
              0.1111111111111111,
              "#46039f"
             ],
             [
              0.2222222222222222,
              "#7201a8"
             ],
             [
              0.3333333333333333,
              "#9c179e"
             ],
             [
              0.4444444444444444,
              "#bd3786"
             ],
             [
              0.5555555555555556,
              "#d8576b"
             ],
             [
              0.6666666666666666,
              "#ed7953"
             ],
             [
              0.7777777777777778,
              "#fb9f3a"
             ],
             [
              0.8888888888888888,
              "#fdca26"
             ],
             [
              1,
              "#f0f921"
             ]
            ],
            "type": "histogram2d"
           }
          ],
          "histogram2dcontour": [
           {
            "colorbar": {
             "outlinewidth": 0,
             "ticks": ""
            },
            "colorscale": [
             [
              0,
              "#0d0887"
             ],
             [
              0.1111111111111111,
              "#46039f"
             ],
             [
              0.2222222222222222,
              "#7201a8"
             ],
             [
              0.3333333333333333,
              "#9c179e"
             ],
             [
              0.4444444444444444,
              "#bd3786"
             ],
             [
              0.5555555555555556,
              "#d8576b"
             ],
             [
              0.6666666666666666,
              "#ed7953"
             ],
             [
              0.7777777777777778,
              "#fb9f3a"
             ],
             [
              0.8888888888888888,
              "#fdca26"
             ],
             [
              1,
              "#f0f921"
             ]
            ],
            "type": "histogram2dcontour"
           }
          ],
          "mesh3d": [
           {
            "colorbar": {
             "outlinewidth": 0,
             "ticks": ""
            },
            "type": "mesh3d"
           }
          ],
          "parcoords": [
           {
            "line": {
             "colorbar": {
              "outlinewidth": 0,
              "ticks": ""
             }
            },
            "type": "parcoords"
           }
          ],
          "pie": [
           {
            "automargin": true,
            "type": "pie"
           }
          ],
          "scatter": [
           {
            "fillpattern": {
             "fillmode": "overlay",
             "size": 10,
             "solidity": 0.2
            },
            "type": "scatter"
           }
          ],
          "scatter3d": [
           {
            "line": {
             "colorbar": {
              "outlinewidth": 0,
              "ticks": ""
             }
            },
            "marker": {
             "colorbar": {
              "outlinewidth": 0,
              "ticks": ""
             }
            },
            "type": "scatter3d"
           }
          ],
          "scattercarpet": [
           {
            "marker": {
             "colorbar": {
              "outlinewidth": 0,
              "ticks": ""
             }
            },
            "type": "scattercarpet"
           }
          ],
          "scattergeo": [
           {
            "marker": {
             "colorbar": {
              "outlinewidth": 0,
              "ticks": ""
             }
            },
            "type": "scattergeo"
           }
          ],
          "scattergl": [
           {
            "marker": {
             "colorbar": {
              "outlinewidth": 0,
              "ticks": ""
             }
            },
            "type": "scattergl"
           }
          ],
          "scattermapbox": [
           {
            "marker": {
             "colorbar": {
              "outlinewidth": 0,
              "ticks": ""
             }
            },
            "type": "scattermapbox"
           }
          ],
          "scatterpolar": [
           {
            "marker": {
             "colorbar": {
              "outlinewidth": 0,
              "ticks": ""
             }
            },
            "type": "scatterpolar"
           }
          ],
          "scatterpolargl": [
           {
            "marker": {
             "colorbar": {
              "outlinewidth": 0,
              "ticks": ""
             }
            },
            "type": "scatterpolargl"
           }
          ],
          "scatterternary": [
           {
            "marker": {
             "colorbar": {
              "outlinewidth": 0,
              "ticks": ""
             }
            },
            "type": "scatterternary"
           }
          ],
          "surface": [
           {
            "colorbar": {
             "outlinewidth": 0,
             "ticks": ""
            },
            "colorscale": [
             [
              0,
              "#0d0887"
             ],
             [
              0.1111111111111111,
              "#46039f"
             ],
             [
              0.2222222222222222,
              "#7201a8"
             ],
             [
              0.3333333333333333,
              "#9c179e"
             ],
             [
              0.4444444444444444,
              "#bd3786"
             ],
             [
              0.5555555555555556,
              "#d8576b"
             ],
             [
              0.6666666666666666,
              "#ed7953"
             ],
             [
              0.7777777777777778,
              "#fb9f3a"
             ],
             [
              0.8888888888888888,
              "#fdca26"
             ],
             [
              1,
              "#f0f921"
             ]
            ],
            "type": "surface"
           }
          ],
          "table": [
           {
            "cells": {
             "fill": {
              "color": "#EBF0F8"
             },
             "line": {
              "color": "white"
             }
            },
            "header": {
             "fill": {
              "color": "#C8D4E3"
             },
             "line": {
              "color": "white"
             }
            },
            "type": "table"
           }
          ]
         },
         "layout": {
          "annotationdefaults": {
           "arrowcolor": "#2a3f5f",
           "arrowhead": 0,
           "arrowwidth": 1
          },
          "autotypenumbers": "strict",
          "coloraxis": {
           "colorbar": {
            "outlinewidth": 0,
            "ticks": ""
           }
          },
          "colorscale": {
           "diverging": [
            [
             0,
             "#8e0152"
            ],
            [
             0.1,
             "#c51b7d"
            ],
            [
             0.2,
             "#de77ae"
            ],
            [
             0.3,
             "#f1b6da"
            ],
            [
             0.4,
             "#fde0ef"
            ],
            [
             0.5,
             "#f7f7f7"
            ],
            [
             0.6,
             "#e6f5d0"
            ],
            [
             0.7,
             "#b8e186"
            ],
            [
             0.8,
             "#7fbc41"
            ],
            [
             0.9,
             "#4d9221"
            ],
            [
             1,
             "#276419"
            ]
           ],
           "sequential": [
            [
             0,
             "#0d0887"
            ],
            [
             0.1111111111111111,
             "#46039f"
            ],
            [
             0.2222222222222222,
             "#7201a8"
            ],
            [
             0.3333333333333333,
             "#9c179e"
            ],
            [
             0.4444444444444444,
             "#bd3786"
            ],
            [
             0.5555555555555556,
             "#d8576b"
            ],
            [
             0.6666666666666666,
             "#ed7953"
            ],
            [
             0.7777777777777778,
             "#fb9f3a"
            ],
            [
             0.8888888888888888,
             "#fdca26"
            ],
            [
             1,
             "#f0f921"
            ]
           ],
           "sequentialminus": [
            [
             0,
             "#0d0887"
            ],
            [
             0.1111111111111111,
             "#46039f"
            ],
            [
             0.2222222222222222,
             "#7201a8"
            ],
            [
             0.3333333333333333,
             "#9c179e"
            ],
            [
             0.4444444444444444,
             "#bd3786"
            ],
            [
             0.5555555555555556,
             "#d8576b"
            ],
            [
             0.6666666666666666,
             "#ed7953"
            ],
            [
             0.7777777777777778,
             "#fb9f3a"
            ],
            [
             0.8888888888888888,
             "#fdca26"
            ],
            [
             1,
             "#f0f921"
            ]
           ]
          },
          "colorway": [
           "#636efa",
           "#EF553B",
           "#00cc96",
           "#ab63fa",
           "#FFA15A",
           "#19d3f3",
           "#FF6692",
           "#B6E880",
           "#FF97FF",
           "#FECB52"
          ],
          "font": {
           "color": "#2a3f5f"
          },
          "geo": {
           "bgcolor": "white",
           "lakecolor": "white",
           "landcolor": "#E5ECF6",
           "showlakes": true,
           "showland": true,
           "subunitcolor": "white"
          },
          "hoverlabel": {
           "align": "left"
          },
          "hovermode": "closest",
          "mapbox": {
           "style": "light"
          },
          "paper_bgcolor": "white",
          "plot_bgcolor": "#E5ECF6",
          "polar": {
           "angularaxis": {
            "gridcolor": "white",
            "linecolor": "white",
            "ticks": ""
           },
           "bgcolor": "#E5ECF6",
           "radialaxis": {
            "gridcolor": "white",
            "linecolor": "white",
            "ticks": ""
           }
          },
          "scene": {
           "xaxis": {
            "backgroundcolor": "#E5ECF6",
            "gridcolor": "white",
            "gridwidth": 2,
            "linecolor": "white",
            "showbackground": true,
            "ticks": "",
            "zerolinecolor": "white"
           },
           "yaxis": {
            "backgroundcolor": "#E5ECF6",
            "gridcolor": "white",
            "gridwidth": 2,
            "linecolor": "white",
            "showbackground": true,
            "ticks": "",
            "zerolinecolor": "white"
           },
           "zaxis": {
            "backgroundcolor": "#E5ECF6",
            "gridcolor": "white",
            "gridwidth": 2,
            "linecolor": "white",
            "showbackground": true,
            "ticks": "",
            "zerolinecolor": "white"
           }
          },
          "shapedefaults": {
           "line": {
            "color": "#2a3f5f"
           }
          },
          "ternary": {
           "aaxis": {
            "gridcolor": "white",
            "linecolor": "white",
            "ticks": ""
           },
           "baxis": {
            "gridcolor": "white",
            "linecolor": "white",
            "ticks": ""
           },
           "bgcolor": "#E5ECF6",
           "caxis": {
            "gridcolor": "white",
            "linecolor": "white",
            "ticks": ""
           }
          },
          "title": {
           "x": 0.05
          },
          "xaxis": {
           "automargin": true,
           "gridcolor": "white",
           "linecolor": "white",
           "ticks": "",
           "title": {
            "standoff": 15
           },
           "zerolinecolor": "white",
           "zerolinewidth": 2
          },
          "yaxis": {
           "automargin": true,
           "gridcolor": "white",
           "linecolor": "white",
           "ticks": "",
           "title": {
            "standoff": 15
           },
           "zerolinecolor": "white",
           "zerolinewidth": 2
          }
         }
        },
        "xaxis": {
         "anchor": "y",
         "domain": [
          0,
          1
         ],
         "title": {
          "text": "total_number_of_donations"
         }
        },
        "yaxis": {
         "anchor": "x",
         "domain": [
          0,
          1
         ],
         "title": {
          "text": "months_since_first_donation"
         }
        }
       }
      }
     },
     "metadata": {},
     "output_type": "display_data"
    }
   ],
   "source": [
    "newdfSVM[\"predclass\"] = newdfSVM[\"predclass\"].astype(str) #convert to string\n",
    "\n",
    "fig = px.scatter(newdfSVM,x='total_number_of_donations', y='months_since_first_donation', color='predclass')\n",
    "fig.show() "
   ]
  },
  {
   "cell_type": "code",
   "execution_count": 372,
   "metadata": {},
   "outputs": [
    {
     "data": {
      "text/plain": [
       "0.6266666666666667"
      ]
     },
     "execution_count": 372,
     "metadata": {},
     "output_type": "execute_result"
    }
   ],
   "source": [
    "# TASK 4\n",
    "# 4.3\n",
    "MLP = neural_network.MLPClassifier(max_iter=5000)\n",
    "MLP.fit(X_train90, y_train90)\n",
    "\n",
    "predMLP90 = MLP.predict(X_test10)\n",
    "accuracy_score(y_test10, predMLP90)"
   ]
  },
  {
   "cell_type": "code",
   "execution_count": 373,
   "metadata": {},
   "outputs": [
    {
     "data": {
      "text/plain": [
       "0.6888888888888889"
      ]
     },
     "execution_count": 373,
     "metadata": {},
     "output_type": "execute_result"
    }
   ],
   "source": [
    "# TASK 4\n",
    "# 4.3\n",
    "MLP = neural_network.MLPClassifier(max_iter=5000)\n",
    "MLP.fit(X_train70, y_train70)\n",
    "\n",
    "predMLP70 = MLP.predict(X_test30)\n",
    "accuracy_score(y_test30, predMLP70)"
   ]
  },
  {
   "cell_type": "code",
   "execution_count": 374,
   "metadata": {},
   "outputs": [
    {
     "data": {
      "text/plain": [
       "predclass\n",
       "0    129\n",
       "1     96\n",
       "Name: count, dtype: int64"
      ]
     },
     "execution_count": 374,
     "metadata": {},
     "output_type": "execute_result"
    }
   ],
   "source": [
    "newdfMLP = X_test30.copy()\n",
    "newdfMLP['predclass'] = predMLP70\n",
    "newdfMLP['predclass'].value_counts()"
   ]
  },
  {
   "cell_type": "code",
   "execution_count": 376,
   "metadata": {},
   "outputs": [
    {
     "data": {
      "application/vnd.plotly.v1+json": {
       "config": {
        "plotlyServerURL": "https://plot.ly"
       },
       "data": [
        {
         "hovertemplate": "predclass=0<br>total_number_of_donations=%{x}<br>months_since_first_donation=%{y}<extra></extra>",
         "legendgroup": "0",
         "marker": {
          "color": "#636efa",
          "symbol": "circle"
         },
         "mode": "markers",
         "name": "0",
         "orientation": "v",
         "showlegend": true,
         "type": "scatter",
         "x": [
          6,
          1,
          1,
          3,
          1,
          2,
          2,
          2,
          1,
          2,
          1,
          3,
          5,
          7,
          2,
          6,
          1,
          6,
          7,
          1,
          4,
          3,
          5,
          1,
          3,
          1,
          2,
          1,
          2,
          1,
          2,
          6,
          4,
          3,
          5,
          3,
          4,
          5,
          4,
          2,
          2,
          8,
          2,
          2,
          2,
          1,
          1,
          5,
          4,
          1,
          2,
          1,
          6,
          1,
          1,
          7,
          3,
          1,
          3,
          2,
          6,
          5,
          1,
          4,
          2,
          2,
          1,
          2,
          2,
          2,
          3,
          3,
          2,
          3,
          4,
          1,
          1,
          5,
          1,
          1,
          3,
          2,
          5,
          2,
          4,
          2,
          3,
          2,
          1,
          1,
          3,
          1,
          1,
          1,
          2,
          3,
          5,
          4,
          2,
          2,
          8,
          3,
          2,
          2,
          1,
          2,
          3,
          5,
          1,
          1,
          1,
          1,
          1,
          4,
          5,
          1,
          1,
          1,
          3,
          5,
          2,
          12,
          2,
          8,
          2,
          1,
          1,
          2,
          1
         ],
         "xaxis": "x",
         "y": [
          0.4791666666666667,
          0.14583333333333334,
          0,
          0.90625,
          0.19791666666666666,
          0.125,
          0.21875,
          0.07291666666666667,
          0.020833333333333332,
          0.28125,
          0.14583333333333334,
          0.125,
          0.2708333333333333,
          0.7604166666666666,
          0.25,
          0.5,
          0,
          0.5104166666666666,
          0.3854166666666667,
          0.09375,
          0.5833333333333334,
          0.2708333333333333,
          0.5833333333333334,
          0.75,
          0.625,
          0.020833333333333332,
          0.21875,
          0.09375,
          0.19791666666666666,
          0.19791666666666666,
          0.21875,
          0.5833333333333334,
          0.20833333333333334,
          0.21875,
          0.40625,
          0.21875,
          0.2708333333333333,
          0.6041666666666666,
          0.14583333333333334,
          0.15625,
          0.25,
          0.5,
          0.125,
          0.21875,
          0.59375,
          0.020833333333333332,
          0.21875,
          0.16666666666666666,
          0.5729166666666666,
          0.020833333333333332,
          0.14583333333333334,
          0.09375,
          0.3958333333333333,
          0.020833333333333332,
          0.21875,
          0.8958333333333334,
          0.875,
          0.125,
          0.8020833333333334,
          0.09375,
          0.2604166666666667,
          0.375,
          0.19791666666666666,
          0.5208333333333334,
          0.020833333333333332,
          0.375,
          0.125,
          0.5208333333333334,
          0.4583333333333333,
          0.14583333333333334,
          0.5208333333333334,
          0.40625,
          0.25,
          0.34375,
          0.5208333333333334,
          0.21875,
          0.125,
          0.25,
          0.3958333333333333,
          0.19791666666666666,
          0.3229166666666667,
          0.25,
          0.75,
          0.125,
          0.5833333333333334,
          0.09375,
          0.17708333333333334,
          0.40625,
          0.020833333333333332,
          0.19791666666666666,
          0.25,
          0,
          0.09375,
          0.19791666666666666,
          0.34375,
          0.3645833333333333,
          0.2708333333333333,
          0.4479166666666667,
          0.2708333333333333,
          0.11458333333333333,
          0.6458333333333334,
          0.25,
          0.3020833333333333,
          0.5208333333333334,
          0.125,
          0.2604166666666667,
          0.7708333333333334,
          0.17708333333333334,
          0.125,
          0.14583333333333334,
          0.14583333333333334,
          0,
          0,
          0.25,
          0.3958333333333333,
          0.21875,
          0.125,
          0.14583333333333334,
          0.13541666666666666,
          0.125,
          0.25,
          0.875,
          0.09375,
          0.96875,
          0.125,
          0.09375,
          0.010416666666666666,
          0.125,
          0
         ],
         "yaxis": "y"
        },
        {
         "hovertemplate": "predclass=1<br>total_number_of_donations=%{x}<br>months_since_first_donation=%{y}<extra></extra>",
         "legendgroup": "1",
         "marker": {
          "color": "#EF553B",
          "symbol": "circle"
         },
         "mode": "markers",
         "name": "1",
         "orientation": "v",
         "showlegend": true,
         "type": "scatter",
         "x": [
          10,
          10,
          6,
          5,
          33,
          2,
          5,
          12,
          3,
          14,
          34,
          4,
          16,
          7,
          4,
          5,
          43,
          6,
          2,
          11,
          5,
          7,
          21,
          4,
          6,
          6,
          8,
          11,
          2,
          2,
          5,
          11,
          8,
          16,
          17,
          38,
          3,
          9,
          7,
          9,
          5,
          6,
          4,
          8,
          20,
          2,
          6,
          8,
          12,
          18,
          9,
          11,
          9,
          4,
          3,
          7,
          8,
          12,
          13,
          5,
          7,
          22,
          4,
          6,
          41,
          14,
          11,
          2,
          9,
          3,
          19,
          13,
          5,
          16,
          9,
          4,
          2,
          2,
          14,
          12,
          9,
          7,
          14,
          11,
          5,
          15,
          11,
          11,
          10,
          8,
          9,
          8,
          9,
          3,
          9,
          2
         ],
         "xaxis": "x",
         "y": [
          0.2708333333333333,
          0.5208333333333334,
          0.2708333333333333,
          0.09375,
          1,
          0.09375,
          0.25,
          0.875,
          0.14583333333333334,
          0.84375,
          0.78125,
          0.14583333333333334,
          1,
          0.78125,
          0.020833333333333332,
          0.3229166666666667,
          0.875,
          0.14583333333333334,
          0.3229166666666667,
          0.6145833333333334,
          0.5833333333333334,
          0.3125,
          0.4166666666666667,
          0.4583333333333333,
          0.14583333333333334,
          0.2708333333333333,
          0.7291666666666666,
          0.7604166666666666,
          0.09375,
          0.08333333333333333,
          0.14583333333333334,
          0.4166666666666667,
          0.5208333333333334,
          0.90625,
          0.71875,
          1,
          0.125,
          0.90625,
          0.5833333333333334,
          0.25,
          0.5833333333333334,
          0.3854166666666667,
          0.125,
          0.375,
          0.4479166666666667,
          0.125,
          0.20833333333333334,
          0.5208333333333334,
          0.96875,
          0.7916666666666666,
          0.5208333333333334,
          0.8958333333333334,
          0.2708333333333333,
          0.09375,
          0.14583333333333334,
          0.34375,
          0.2708333333333333,
          0.34375,
          0.53125,
          0.25,
          0.25,
          0.2708333333333333,
          0.25,
          0.40625,
          1,
          0.875,
          0.2708333333333333,
          0,
          0.2708333333333333,
          0.20833333333333334,
          0.625,
          0.3854166666666667,
          0.75,
          0.6458333333333334,
          0.5520833333333334,
          0.3333333333333333,
          0.09375,
          0.08333333333333333,
          0.7395833333333334,
          0.5208333333333334,
          0.6041666666666666,
          0.7708333333333334,
          0.6979166666666666,
          0.375,
          0.5208333333333334,
          0.6458333333333334,
          0.4583333333333333,
          0.6458333333333334,
          0.4895833333333333,
          0.4583333333333333,
          0.4479166666666667,
          0.4791666666666667,
          0.4583333333333333,
          0.2708333333333333,
          0.6458333333333334,
          0.40625
         ],
         "yaxis": "y"
        }
       ],
       "layout": {
        "legend": {
         "title": {
          "text": "predclass"
         },
         "tracegroupgap": 0
        },
        "margin": {
         "t": 60
        },
        "template": {
         "data": {
          "bar": [
           {
            "error_x": {
             "color": "#2a3f5f"
            },
            "error_y": {
             "color": "#2a3f5f"
            },
            "marker": {
             "line": {
              "color": "#E5ECF6",
              "width": 0.5
             },
             "pattern": {
              "fillmode": "overlay",
              "size": 10,
              "solidity": 0.2
             }
            },
            "type": "bar"
           }
          ],
          "barpolar": [
           {
            "marker": {
             "line": {
              "color": "#E5ECF6",
              "width": 0.5
             },
             "pattern": {
              "fillmode": "overlay",
              "size": 10,
              "solidity": 0.2
             }
            },
            "type": "barpolar"
           }
          ],
          "carpet": [
           {
            "aaxis": {
             "endlinecolor": "#2a3f5f",
             "gridcolor": "white",
             "linecolor": "white",
             "minorgridcolor": "white",
             "startlinecolor": "#2a3f5f"
            },
            "baxis": {
             "endlinecolor": "#2a3f5f",
             "gridcolor": "white",
             "linecolor": "white",
             "minorgridcolor": "white",
             "startlinecolor": "#2a3f5f"
            },
            "type": "carpet"
           }
          ],
          "choropleth": [
           {
            "colorbar": {
             "outlinewidth": 0,
             "ticks": ""
            },
            "type": "choropleth"
           }
          ],
          "contour": [
           {
            "colorbar": {
             "outlinewidth": 0,
             "ticks": ""
            },
            "colorscale": [
             [
              0,
              "#0d0887"
             ],
             [
              0.1111111111111111,
              "#46039f"
             ],
             [
              0.2222222222222222,
              "#7201a8"
             ],
             [
              0.3333333333333333,
              "#9c179e"
             ],
             [
              0.4444444444444444,
              "#bd3786"
             ],
             [
              0.5555555555555556,
              "#d8576b"
             ],
             [
              0.6666666666666666,
              "#ed7953"
             ],
             [
              0.7777777777777778,
              "#fb9f3a"
             ],
             [
              0.8888888888888888,
              "#fdca26"
             ],
             [
              1,
              "#f0f921"
             ]
            ],
            "type": "contour"
           }
          ],
          "contourcarpet": [
           {
            "colorbar": {
             "outlinewidth": 0,
             "ticks": ""
            },
            "type": "contourcarpet"
           }
          ],
          "heatmap": [
           {
            "colorbar": {
             "outlinewidth": 0,
             "ticks": ""
            },
            "colorscale": [
             [
              0,
              "#0d0887"
             ],
             [
              0.1111111111111111,
              "#46039f"
             ],
             [
              0.2222222222222222,
              "#7201a8"
             ],
             [
              0.3333333333333333,
              "#9c179e"
             ],
             [
              0.4444444444444444,
              "#bd3786"
             ],
             [
              0.5555555555555556,
              "#d8576b"
             ],
             [
              0.6666666666666666,
              "#ed7953"
             ],
             [
              0.7777777777777778,
              "#fb9f3a"
             ],
             [
              0.8888888888888888,
              "#fdca26"
             ],
             [
              1,
              "#f0f921"
             ]
            ],
            "type": "heatmap"
           }
          ],
          "heatmapgl": [
           {
            "colorbar": {
             "outlinewidth": 0,
             "ticks": ""
            },
            "colorscale": [
             [
              0,
              "#0d0887"
             ],
             [
              0.1111111111111111,
              "#46039f"
             ],
             [
              0.2222222222222222,
              "#7201a8"
             ],
             [
              0.3333333333333333,
              "#9c179e"
             ],
             [
              0.4444444444444444,
              "#bd3786"
             ],
             [
              0.5555555555555556,
              "#d8576b"
             ],
             [
              0.6666666666666666,
              "#ed7953"
             ],
             [
              0.7777777777777778,
              "#fb9f3a"
             ],
             [
              0.8888888888888888,
              "#fdca26"
             ],
             [
              1,
              "#f0f921"
             ]
            ],
            "type": "heatmapgl"
           }
          ],
          "histogram": [
           {
            "marker": {
             "pattern": {
              "fillmode": "overlay",
              "size": 10,
              "solidity": 0.2
             }
            },
            "type": "histogram"
           }
          ],
          "histogram2d": [
           {
            "colorbar": {
             "outlinewidth": 0,
             "ticks": ""
            },
            "colorscale": [
             [
              0,
              "#0d0887"
             ],
             [
              0.1111111111111111,
              "#46039f"
             ],
             [
              0.2222222222222222,
              "#7201a8"
             ],
             [
              0.3333333333333333,
              "#9c179e"
             ],
             [
              0.4444444444444444,
              "#bd3786"
             ],
             [
              0.5555555555555556,
              "#d8576b"
             ],
             [
              0.6666666666666666,
              "#ed7953"
             ],
             [
              0.7777777777777778,
              "#fb9f3a"
             ],
             [
              0.8888888888888888,
              "#fdca26"
             ],
             [
              1,
              "#f0f921"
             ]
            ],
            "type": "histogram2d"
           }
          ],
          "histogram2dcontour": [
           {
            "colorbar": {
             "outlinewidth": 0,
             "ticks": ""
            },
            "colorscale": [
             [
              0,
              "#0d0887"
             ],
             [
              0.1111111111111111,
              "#46039f"
             ],
             [
              0.2222222222222222,
              "#7201a8"
             ],
             [
              0.3333333333333333,
              "#9c179e"
             ],
             [
              0.4444444444444444,
              "#bd3786"
             ],
             [
              0.5555555555555556,
              "#d8576b"
             ],
             [
              0.6666666666666666,
              "#ed7953"
             ],
             [
              0.7777777777777778,
              "#fb9f3a"
             ],
             [
              0.8888888888888888,
              "#fdca26"
             ],
             [
              1,
              "#f0f921"
             ]
            ],
            "type": "histogram2dcontour"
           }
          ],
          "mesh3d": [
           {
            "colorbar": {
             "outlinewidth": 0,
             "ticks": ""
            },
            "type": "mesh3d"
           }
          ],
          "parcoords": [
           {
            "line": {
             "colorbar": {
              "outlinewidth": 0,
              "ticks": ""
             }
            },
            "type": "parcoords"
           }
          ],
          "pie": [
           {
            "automargin": true,
            "type": "pie"
           }
          ],
          "scatter": [
           {
            "fillpattern": {
             "fillmode": "overlay",
             "size": 10,
             "solidity": 0.2
            },
            "type": "scatter"
           }
          ],
          "scatter3d": [
           {
            "line": {
             "colorbar": {
              "outlinewidth": 0,
              "ticks": ""
             }
            },
            "marker": {
             "colorbar": {
              "outlinewidth": 0,
              "ticks": ""
             }
            },
            "type": "scatter3d"
           }
          ],
          "scattercarpet": [
           {
            "marker": {
             "colorbar": {
              "outlinewidth": 0,
              "ticks": ""
             }
            },
            "type": "scattercarpet"
           }
          ],
          "scattergeo": [
           {
            "marker": {
             "colorbar": {
              "outlinewidth": 0,
              "ticks": ""
             }
            },
            "type": "scattergeo"
           }
          ],
          "scattergl": [
           {
            "marker": {
             "colorbar": {
              "outlinewidth": 0,
              "ticks": ""
             }
            },
            "type": "scattergl"
           }
          ],
          "scattermapbox": [
           {
            "marker": {
             "colorbar": {
              "outlinewidth": 0,
              "ticks": ""
             }
            },
            "type": "scattermapbox"
           }
          ],
          "scatterpolar": [
           {
            "marker": {
             "colorbar": {
              "outlinewidth": 0,
              "ticks": ""
             }
            },
            "type": "scatterpolar"
           }
          ],
          "scatterpolargl": [
           {
            "marker": {
             "colorbar": {
              "outlinewidth": 0,
              "ticks": ""
             }
            },
            "type": "scatterpolargl"
           }
          ],
          "scatterternary": [
           {
            "marker": {
             "colorbar": {
              "outlinewidth": 0,
              "ticks": ""
             }
            },
            "type": "scatterternary"
           }
          ],
          "surface": [
           {
            "colorbar": {
             "outlinewidth": 0,
             "ticks": ""
            },
            "colorscale": [
             [
              0,
              "#0d0887"
             ],
             [
              0.1111111111111111,
              "#46039f"
             ],
             [
              0.2222222222222222,
              "#7201a8"
             ],
             [
              0.3333333333333333,
              "#9c179e"
             ],
             [
              0.4444444444444444,
              "#bd3786"
             ],
             [
              0.5555555555555556,
              "#d8576b"
             ],
             [
              0.6666666666666666,
              "#ed7953"
             ],
             [
              0.7777777777777778,
              "#fb9f3a"
             ],
             [
              0.8888888888888888,
              "#fdca26"
             ],
             [
              1,
              "#f0f921"
             ]
            ],
            "type": "surface"
           }
          ],
          "table": [
           {
            "cells": {
             "fill": {
              "color": "#EBF0F8"
             },
             "line": {
              "color": "white"
             }
            },
            "header": {
             "fill": {
              "color": "#C8D4E3"
             },
             "line": {
              "color": "white"
             }
            },
            "type": "table"
           }
          ]
         },
         "layout": {
          "annotationdefaults": {
           "arrowcolor": "#2a3f5f",
           "arrowhead": 0,
           "arrowwidth": 1
          },
          "autotypenumbers": "strict",
          "coloraxis": {
           "colorbar": {
            "outlinewidth": 0,
            "ticks": ""
           }
          },
          "colorscale": {
           "diverging": [
            [
             0,
             "#8e0152"
            ],
            [
             0.1,
             "#c51b7d"
            ],
            [
             0.2,
             "#de77ae"
            ],
            [
             0.3,
             "#f1b6da"
            ],
            [
             0.4,
             "#fde0ef"
            ],
            [
             0.5,
             "#f7f7f7"
            ],
            [
             0.6,
             "#e6f5d0"
            ],
            [
             0.7,
             "#b8e186"
            ],
            [
             0.8,
             "#7fbc41"
            ],
            [
             0.9,
             "#4d9221"
            ],
            [
             1,
             "#276419"
            ]
           ],
           "sequential": [
            [
             0,
             "#0d0887"
            ],
            [
             0.1111111111111111,
             "#46039f"
            ],
            [
             0.2222222222222222,
             "#7201a8"
            ],
            [
             0.3333333333333333,
             "#9c179e"
            ],
            [
             0.4444444444444444,
             "#bd3786"
            ],
            [
             0.5555555555555556,
             "#d8576b"
            ],
            [
             0.6666666666666666,
             "#ed7953"
            ],
            [
             0.7777777777777778,
             "#fb9f3a"
            ],
            [
             0.8888888888888888,
             "#fdca26"
            ],
            [
             1,
             "#f0f921"
            ]
           ],
           "sequentialminus": [
            [
             0,
             "#0d0887"
            ],
            [
             0.1111111111111111,
             "#46039f"
            ],
            [
             0.2222222222222222,
             "#7201a8"
            ],
            [
             0.3333333333333333,
             "#9c179e"
            ],
            [
             0.4444444444444444,
             "#bd3786"
            ],
            [
             0.5555555555555556,
             "#d8576b"
            ],
            [
             0.6666666666666666,
             "#ed7953"
            ],
            [
             0.7777777777777778,
             "#fb9f3a"
            ],
            [
             0.8888888888888888,
             "#fdca26"
            ],
            [
             1,
             "#f0f921"
            ]
           ]
          },
          "colorway": [
           "#636efa",
           "#EF553B",
           "#00cc96",
           "#ab63fa",
           "#FFA15A",
           "#19d3f3",
           "#FF6692",
           "#B6E880",
           "#FF97FF",
           "#FECB52"
          ],
          "font": {
           "color": "#2a3f5f"
          },
          "geo": {
           "bgcolor": "white",
           "lakecolor": "white",
           "landcolor": "#E5ECF6",
           "showlakes": true,
           "showland": true,
           "subunitcolor": "white"
          },
          "hoverlabel": {
           "align": "left"
          },
          "hovermode": "closest",
          "mapbox": {
           "style": "light"
          },
          "paper_bgcolor": "white",
          "plot_bgcolor": "#E5ECF6",
          "polar": {
           "angularaxis": {
            "gridcolor": "white",
            "linecolor": "white",
            "ticks": ""
           },
           "bgcolor": "#E5ECF6",
           "radialaxis": {
            "gridcolor": "white",
            "linecolor": "white",
            "ticks": ""
           }
          },
          "scene": {
           "xaxis": {
            "backgroundcolor": "#E5ECF6",
            "gridcolor": "white",
            "gridwidth": 2,
            "linecolor": "white",
            "showbackground": true,
            "ticks": "",
            "zerolinecolor": "white"
           },
           "yaxis": {
            "backgroundcolor": "#E5ECF6",
            "gridcolor": "white",
            "gridwidth": 2,
            "linecolor": "white",
            "showbackground": true,
            "ticks": "",
            "zerolinecolor": "white"
           },
           "zaxis": {
            "backgroundcolor": "#E5ECF6",
            "gridcolor": "white",
            "gridwidth": 2,
            "linecolor": "white",
            "showbackground": true,
            "ticks": "",
            "zerolinecolor": "white"
           }
          },
          "shapedefaults": {
           "line": {
            "color": "#2a3f5f"
           }
          },
          "ternary": {
           "aaxis": {
            "gridcolor": "white",
            "linecolor": "white",
            "ticks": ""
           },
           "baxis": {
            "gridcolor": "white",
            "linecolor": "white",
            "ticks": ""
           },
           "bgcolor": "#E5ECF6",
           "caxis": {
            "gridcolor": "white",
            "linecolor": "white",
            "ticks": ""
           }
          },
          "title": {
           "x": 0.05
          },
          "xaxis": {
           "automargin": true,
           "gridcolor": "white",
           "linecolor": "white",
           "ticks": "",
           "title": {
            "standoff": 15
           },
           "zerolinecolor": "white",
           "zerolinewidth": 2
          },
          "yaxis": {
           "automargin": true,
           "gridcolor": "white",
           "linecolor": "white",
           "ticks": "",
           "title": {
            "standoff": 15
           },
           "zerolinecolor": "white",
           "zerolinewidth": 2
          }
         }
        },
        "xaxis": {
         "anchor": "y",
         "domain": [
          0,
          1
         ],
         "title": {
          "text": "total_number_of_donations"
         }
        },
        "yaxis": {
         "anchor": "x",
         "domain": [
          0,
          1
         ],
         "title": {
          "text": "months_since_first_donation"
         }
        }
       }
      }
     },
     "metadata": {},
     "output_type": "display_data"
    }
   ],
   "source": [
    "newdfMLP[\"predclass\"] = newdfMLP[\"predclass\"].astype(str) #convert to string\n",
    "\n",
    "fig = px.scatter(newdfMLP,x='total_number_of_donations', y='months_since_first_donation', color='predclass')\n",
    "fig.show() "
   ]
  },
  {
   "cell_type": "code",
   "execution_count": 347,
   "metadata": {},
   "outputs": [],
   "source": [
    "# TASK 5\n",
    "# 5.2"
   ]
  },
  {
   "cell_type": "code",
   "execution_count": 348,
   "metadata": {},
   "outputs": [
    {
     "name": "stdout",
     "output_type": "stream",
     "text": [
      "              precision    recall  f1-score   support\n",
      "\n",
      "           0       0.81      0.84      0.83        57\n",
      "           1       0.44      0.39      0.41        18\n",
      "\n",
      "    accuracy                           0.73        75\n",
      "   macro avg       0.63      0.62      0.62        75\n",
      "weighted avg       0.72      0.73      0.73        75\n",
      "\n"
     ]
    }
   ],
   "source": [
    "print(classification_report(y_test10, predGNB90))"
   ]
  },
  {
   "cell_type": "code",
   "execution_count": 349,
   "metadata": {},
   "outputs": [
    {
     "name": "stdout",
     "output_type": "stream",
     "text": [
      "              precision    recall  f1-score   support\n",
      "\n",
      "           0       0.80      0.93      0.86       173\n",
      "           1       0.50      0.23      0.32        52\n",
      "\n",
      "    accuracy                           0.77       225\n",
      "   macro avg       0.65      0.58      0.59       225\n",
      "weighted avg       0.73      0.77      0.73       225\n",
      "\n"
     ]
    }
   ],
   "source": [
    "print(classification_report(y_test30, predGNB70))"
   ]
  },
  {
   "cell_type": "code",
   "execution_count": 350,
   "metadata": {},
   "outputs": [
    {
     "name": "stdout",
     "output_type": "stream",
     "text": [
      "              precision    recall  f1-score   support\n",
      "\n",
      "           0       0.78      0.93      0.85        57\n",
      "           1       0.43      0.17      0.24        18\n",
      "\n",
      "    accuracy                           0.75        75\n",
      "   macro avg       0.60      0.55      0.54        75\n",
      "weighted avg       0.70      0.75      0.70        75\n",
      "\n"
     ]
    }
   ],
   "source": [
    "print(classification_report(y_test10, predSVM90))"
   ]
  },
  {
   "cell_type": "code",
   "execution_count": 351,
   "metadata": {},
   "outputs": [
    {
     "name": "stdout",
     "output_type": "stream",
     "text": [
      "              precision    recall  f1-score   support\n",
      "\n",
      "           0       0.79      0.95      0.86       173\n",
      "           1       0.50      0.15      0.24        52\n",
      "\n",
      "    accuracy                           0.77       225\n",
      "   macro avg       0.64      0.55      0.55       225\n",
      "weighted avg       0.72      0.77      0.72       225\n",
      "\n"
     ]
    }
   ],
   "source": [
    "print(classification_report(y_test30, predSVM70))"
   ]
  },
  {
   "cell_type": "code",
   "execution_count": 352,
   "metadata": {},
   "outputs": [
    {
     "name": "stdout",
     "output_type": "stream",
     "text": [
      "              precision    recall  f1-score   support\n",
      "\n",
      "           0       0.76      1.00      0.86        57\n",
      "           1       0.00      0.00      0.00        18\n",
      "\n",
      "    accuracy                           0.76        75\n",
      "   macro avg       0.38      0.50      0.43        75\n",
      "weighted avg       0.58      0.76      0.66        75\n",
      "\n"
     ]
    },
    {
     "name": "stderr",
     "output_type": "stream",
     "text": [
      "C:\\Users\\aksel\\AppData\\Local\\Packages\\PythonSoftwareFoundation.Python.3.11_qbz5n2kfra8p0\\LocalCache\\local-packages\\Python311\\site-packages\\sklearn\\metrics\\_classification.py:1469: UndefinedMetricWarning:\n",
      "\n",
      "Precision and F-score are ill-defined and being set to 0.0 in labels with no predicted samples. Use `zero_division` parameter to control this behavior.\n",
      "\n",
      "C:\\Users\\aksel\\AppData\\Local\\Packages\\PythonSoftwareFoundation.Python.3.11_qbz5n2kfra8p0\\LocalCache\\local-packages\\Python311\\site-packages\\sklearn\\metrics\\_classification.py:1469: UndefinedMetricWarning:\n",
      "\n",
      "Precision and F-score are ill-defined and being set to 0.0 in labels with no predicted samples. Use `zero_division` parameter to control this behavior.\n",
      "\n",
      "C:\\Users\\aksel\\AppData\\Local\\Packages\\PythonSoftwareFoundation.Python.3.11_qbz5n2kfra8p0\\LocalCache\\local-packages\\Python311\\site-packages\\sklearn\\metrics\\_classification.py:1469: UndefinedMetricWarning:\n",
      "\n",
      "Precision and F-score are ill-defined and being set to 0.0 in labels with no predicted samples. Use `zero_division` parameter to control this behavior.\n",
      "\n"
     ]
    }
   ],
   "source": [
    "print(classification_report(y_test10,predMLP90))"
   ]
  },
  {
   "cell_type": "code",
   "execution_count": 353,
   "metadata": {},
   "outputs": [
    {
     "name": "stdout",
     "output_type": "stream",
     "text": [
      "              precision    recall  f1-score   support\n",
      "\n",
      "           0       0.77      1.00      0.87       173\n",
      "           1       0.00      0.00      0.00        52\n",
      "\n",
      "    accuracy                           0.77       225\n",
      "   macro avg       0.38      0.50      0.43       225\n",
      "weighted avg       0.59      0.77      0.67       225\n",
      "\n"
     ]
    },
    {
     "name": "stderr",
     "output_type": "stream",
     "text": [
      "C:\\Users\\aksel\\AppData\\Local\\Packages\\PythonSoftwareFoundation.Python.3.11_qbz5n2kfra8p0\\LocalCache\\local-packages\\Python311\\site-packages\\sklearn\\metrics\\_classification.py:1469: UndefinedMetricWarning:\n",
      "\n",
      "Precision and F-score are ill-defined and being set to 0.0 in labels with no predicted samples. Use `zero_division` parameter to control this behavior.\n",
      "\n",
      "C:\\Users\\aksel\\AppData\\Local\\Packages\\PythonSoftwareFoundation.Python.3.11_qbz5n2kfra8p0\\LocalCache\\local-packages\\Python311\\site-packages\\sklearn\\metrics\\_classification.py:1469: UndefinedMetricWarning:\n",
      "\n",
      "Precision and F-score are ill-defined and being set to 0.0 in labels with no predicted samples. Use `zero_division` parameter to control this behavior.\n",
      "\n",
      "C:\\Users\\aksel\\AppData\\Local\\Packages\\PythonSoftwareFoundation.Python.3.11_qbz5n2kfra8p0\\LocalCache\\local-packages\\Python311\\site-packages\\sklearn\\metrics\\_classification.py:1469: UndefinedMetricWarning:\n",
      "\n",
      "Precision and F-score are ill-defined and being set to 0.0 in labels with no predicted samples. Use `zero_division` parameter to control this behavior.\n",
      "\n"
     ]
    }
   ],
   "source": [
    "print(classification_report(y_test30,predMLP70))"
   ]
  },
  {
   "cell_type": "code",
   "execution_count": 354,
   "metadata": {},
   "outputs": [],
   "source": [
    "# TASK 5\n",
    "# 5.3"
   ]
  },
  {
   "cell_type": "code",
   "execution_count": 365,
   "metadata": {},
   "outputs": [
    {
     "ename": "ValueError",
     "evalue": "pos_label=1 is not a valid label. It should be one of ['0', '1']",
     "output_type": "error",
     "traceback": [
      "\u001b[1;31m---------------------------------------------------------------------------\u001b[0m",
      "\u001b[1;31mValueError\u001b[0m                                Traceback (most recent call last)",
      "\u001b[1;32mc:\\Users\\aksel\\OneDrive\\Masaüstü\\dataanalytics\\pa4\\notebook.ipynb Cell 55\u001b[0m line \u001b[0;36m1\n\u001b[1;32m----> <a href='vscode-notebook-cell:/c%3A/Users/aksel/OneDrive/Masa%C3%BCst%C3%BC/dataanalytics/pa4/notebook.ipynb#X62sZmlsZQ%3D%3D?line=0'>1</a>\u001b[0m fbeta_score(y_test10, predGNB90, beta\u001b[39m=\u001b[39;49m\u001b[39m0.5\u001b[39;49m)\n",
      "File \u001b[1;32m~\\AppData\\Local\\Packages\\PythonSoftwareFoundation.Python.3.11_qbz5n2kfra8p0\\LocalCache\\local-packages\\Python311\\site-packages\\sklearn\\utils\\_param_validation.py:211\u001b[0m, in \u001b[0;36mvalidate_params.<locals>.decorator.<locals>.wrapper\u001b[1;34m(*args, **kwargs)\u001b[0m\n\u001b[0;32m    205\u001b[0m \u001b[39mtry\u001b[39;00m:\n\u001b[0;32m    206\u001b[0m     \u001b[39mwith\u001b[39;00m config_context(\n\u001b[0;32m    207\u001b[0m         skip_parameter_validation\u001b[39m=\u001b[39m(\n\u001b[0;32m    208\u001b[0m             prefer_skip_nested_validation \u001b[39mor\u001b[39;00m global_skip_validation\n\u001b[0;32m    209\u001b[0m         )\n\u001b[0;32m    210\u001b[0m     ):\n\u001b[1;32m--> 211\u001b[0m         \u001b[39mreturn\u001b[39;00m func(\u001b[39m*\u001b[39;49margs, \u001b[39m*\u001b[39;49m\u001b[39m*\u001b[39;49mkwargs)\n\u001b[0;32m    212\u001b[0m \u001b[39mexcept\u001b[39;00m InvalidParameterError \u001b[39mas\u001b[39;00m e:\n\u001b[0;32m    213\u001b[0m     \u001b[39m# When the function is just a wrapper around an estimator, we allow\u001b[39;00m\n\u001b[0;32m    214\u001b[0m     \u001b[39m# the function to delegate validation to the estimator, but we replace\u001b[39;00m\n\u001b[0;32m    215\u001b[0m     \u001b[39m# the name of the estimator by the name of the function in the error\u001b[39;00m\n\u001b[0;32m    216\u001b[0m     \u001b[39m# message to avoid confusion.\u001b[39;00m\n\u001b[0;32m    217\u001b[0m     msg \u001b[39m=\u001b[39m re\u001b[39m.\u001b[39msub(\n\u001b[0;32m    218\u001b[0m         \u001b[39mr\u001b[39m\u001b[39m\"\u001b[39m\u001b[39mparameter of \u001b[39m\u001b[39m\\\u001b[39m\u001b[39mw+ must be\u001b[39m\u001b[39m\"\u001b[39m,\n\u001b[0;32m    219\u001b[0m         \u001b[39mf\u001b[39m\u001b[39m\"\u001b[39m\u001b[39mparameter of \u001b[39m\u001b[39m{\u001b[39;00mfunc\u001b[39m.\u001b[39m\u001b[39m__qualname__\u001b[39m\u001b[39m}\u001b[39;00m\u001b[39m must be\u001b[39m\u001b[39m\"\u001b[39m,\n\u001b[0;32m    220\u001b[0m         \u001b[39mstr\u001b[39m(e),\n\u001b[0;32m    221\u001b[0m     )\n",
      "File \u001b[1;32m~\\AppData\\Local\\Packages\\PythonSoftwareFoundation.Python.3.11_qbz5n2kfra8p0\\LocalCache\\local-packages\\Python311\\site-packages\\sklearn\\metrics\\_classification.py:1411\u001b[0m, in \u001b[0;36mfbeta_score\u001b[1;34m(y_true, y_pred, beta, labels, pos_label, average, sample_weight, zero_division)\u001b[0m\n\u001b[0;32m   1250\u001b[0m \u001b[39m@validate_params\u001b[39m(\n\u001b[0;32m   1251\u001b[0m     {\n\u001b[0;32m   1252\u001b[0m         \u001b[39m\"\u001b[39m\u001b[39my_true\u001b[39m\u001b[39m\"\u001b[39m: [\u001b[39m\"\u001b[39m\u001b[39marray-like\u001b[39m\u001b[39m\"\u001b[39m, \u001b[39m\"\u001b[39m\u001b[39msparse matrix\u001b[39m\u001b[39m\"\u001b[39m],\n\u001b[1;32m   (...)\u001b[0m\n\u001b[0;32m   1278\u001b[0m     zero_division\u001b[39m=\u001b[39m\u001b[39m\"\u001b[39m\u001b[39mwarn\u001b[39m\u001b[39m\"\u001b[39m,\n\u001b[0;32m   1279\u001b[0m ):\n\u001b[0;32m   1280\u001b[0m \u001b[39m    \u001b[39m\u001b[39m\"\"\"Compute the F-beta score.\u001b[39;00m\n\u001b[0;32m   1281\u001b[0m \n\u001b[0;32m   1282\u001b[0m \u001b[39m    The F-beta score is the weighted harmonic mean of precision and recall,\u001b[39;00m\n\u001b[1;32m   (...)\u001b[0m\n\u001b[0;32m   1408\u001b[0m \u001b[39m    0.38...\u001b[39;00m\n\u001b[0;32m   1409\u001b[0m \u001b[39m    \"\"\"\u001b[39;00m\n\u001b[1;32m-> 1411\u001b[0m     _, _, f, _ \u001b[39m=\u001b[39m precision_recall_fscore_support(\n\u001b[0;32m   1412\u001b[0m         y_true,\n\u001b[0;32m   1413\u001b[0m         y_pred,\n\u001b[0;32m   1414\u001b[0m         beta\u001b[39m=\u001b[39;49mbeta,\n\u001b[0;32m   1415\u001b[0m         labels\u001b[39m=\u001b[39;49mlabels,\n\u001b[0;32m   1416\u001b[0m         pos_label\u001b[39m=\u001b[39;49mpos_label,\n\u001b[0;32m   1417\u001b[0m         average\u001b[39m=\u001b[39;49maverage,\n\u001b[0;32m   1418\u001b[0m         warn_for\u001b[39m=\u001b[39;49m(\u001b[39m\"\u001b[39;49m\u001b[39mf-score\u001b[39;49m\u001b[39m\"\u001b[39;49m,),\n\u001b[0;32m   1419\u001b[0m         sample_weight\u001b[39m=\u001b[39;49msample_weight,\n\u001b[0;32m   1420\u001b[0m         zero_division\u001b[39m=\u001b[39;49mzero_division,\n\u001b[0;32m   1421\u001b[0m     )\n\u001b[0;32m   1422\u001b[0m     \u001b[39mreturn\u001b[39;00m f\n",
      "File \u001b[1;32m~\\AppData\\Local\\Packages\\PythonSoftwareFoundation.Python.3.11_qbz5n2kfra8p0\\LocalCache\\local-packages\\Python311\\site-packages\\sklearn\\utils\\_param_validation.py:184\u001b[0m, in \u001b[0;36mvalidate_params.<locals>.decorator.<locals>.wrapper\u001b[1;34m(*args, **kwargs)\u001b[0m\n\u001b[0;32m    182\u001b[0m global_skip_validation \u001b[39m=\u001b[39m get_config()[\u001b[39m\"\u001b[39m\u001b[39mskip_parameter_validation\u001b[39m\u001b[39m\"\u001b[39m]\n\u001b[0;32m    183\u001b[0m \u001b[39mif\u001b[39;00m global_skip_validation:\n\u001b[1;32m--> 184\u001b[0m     \u001b[39mreturn\u001b[39;00m func(\u001b[39m*\u001b[39;49margs, \u001b[39m*\u001b[39;49m\u001b[39m*\u001b[39;49mkwargs)\n\u001b[0;32m    186\u001b[0m func_sig \u001b[39m=\u001b[39m signature(func)\n\u001b[0;32m    188\u001b[0m \u001b[39m# Map *args/**kwargs to the function signature\u001b[39;00m\n",
      "File \u001b[1;32m~\\AppData\\Local\\Packages\\PythonSoftwareFoundation.Python.3.11_qbz5n2kfra8p0\\LocalCache\\local-packages\\Python311\\site-packages\\sklearn\\metrics\\_classification.py:1721\u001b[0m, in \u001b[0;36mprecision_recall_fscore_support\u001b[1;34m(y_true, y_pred, beta, labels, pos_label, average, warn_for, sample_weight, zero_division)\u001b[0m\n\u001b[0;32m   1563\u001b[0m \u001b[39m\u001b[39m\u001b[39m\"\"\"Compute precision, recall, F-measure and support for each class.\u001b[39;00m\n\u001b[0;32m   1564\u001b[0m \n\u001b[0;32m   1565\u001b[0m \u001b[39mThe precision is the ratio ``tp / (tp + fp)`` where ``tp`` is the number of\u001b[39;00m\n\u001b[1;32m   (...)\u001b[0m\n\u001b[0;32m   1718\u001b[0m \u001b[39m array([2, 2, 2]))\u001b[39;00m\n\u001b[0;32m   1719\u001b[0m \u001b[39m\"\"\"\u001b[39;00m\n\u001b[0;32m   1720\u001b[0m zero_division_value \u001b[39m=\u001b[39m _check_zero_division(zero_division)\n\u001b[1;32m-> 1721\u001b[0m labels \u001b[39m=\u001b[39m _check_set_wise_labels(y_true, y_pred, average, labels, pos_label)\n\u001b[0;32m   1723\u001b[0m \u001b[39m# Calculate tp_sum, pred_sum, true_sum ###\u001b[39;00m\n\u001b[0;32m   1724\u001b[0m samplewise \u001b[39m=\u001b[39m average \u001b[39m==\u001b[39m \u001b[39m\"\u001b[39m\u001b[39msamples\u001b[39m\u001b[39m\"\u001b[39m\n",
      "File \u001b[1;32m~\\AppData\\Local\\Packages\\PythonSoftwareFoundation.Python.3.11_qbz5n2kfra8p0\\LocalCache\\local-packages\\Python311\\site-packages\\sklearn\\metrics\\_classification.py:1507\u001b[0m, in \u001b[0;36m_check_set_wise_labels\u001b[1;34m(y_true, y_pred, average, labels, pos_label)\u001b[0m\n\u001b[0;32m   1505\u001b[0m     \u001b[39mif\u001b[39;00m pos_label \u001b[39mnot\u001b[39;00m \u001b[39min\u001b[39;00m present_labels:\n\u001b[0;32m   1506\u001b[0m         \u001b[39mif\u001b[39;00m \u001b[39mlen\u001b[39m(present_labels) \u001b[39m>\u001b[39m\u001b[39m=\u001b[39m \u001b[39m2\u001b[39m:\n\u001b[1;32m-> 1507\u001b[0m             \u001b[39mraise\u001b[39;00m \u001b[39mValueError\u001b[39;00m(\n\u001b[0;32m   1508\u001b[0m                 \u001b[39mf\u001b[39m\u001b[39m\"\u001b[39m\u001b[39mpos_label=\u001b[39m\u001b[39m{\u001b[39;00mpos_label\u001b[39m}\u001b[39;00m\u001b[39m is not a valid label. It \u001b[39m\u001b[39m\"\u001b[39m\n\u001b[0;32m   1509\u001b[0m                 \u001b[39mf\u001b[39m\u001b[39m\"\u001b[39m\u001b[39mshould be one of \u001b[39m\u001b[39m{\u001b[39;00mpresent_labels\u001b[39m}\u001b[39;00m\u001b[39m\"\u001b[39m\n\u001b[0;32m   1510\u001b[0m             )\n\u001b[0;32m   1511\u001b[0m     labels \u001b[39m=\u001b[39m [pos_label]\n\u001b[0;32m   1512\u001b[0m \u001b[39melse\u001b[39;00m:\n",
      "\u001b[1;31mValueError\u001b[0m: pos_label=1 is not a valid label. It should be one of ['0', '1']"
     ]
    }
   ],
   "source": [
    "fbeta_score(y_test10, predGNB90, beta=0.5)"
   ]
  },
  {
   "cell_type": "code",
   "execution_count": null,
   "metadata": {},
   "outputs": [
    {
     "data": {
      "text/plain": [
       "0.28806584362139914"
      ]
     },
     "execution_count": 288,
     "metadata": {},
     "output_type": "execute_result"
    }
   ],
   "source": [
    "fbeta_score(y_test30, predGNB70, beta=2)"
   ]
  },
  {
   "cell_type": "code",
   "execution_count": null,
   "metadata": {},
   "outputs": [
    {
     "data": {
      "text/plain": [
       "0.505050505050505"
      ]
     },
     "execution_count": 289,
     "metadata": {},
     "output_type": "execute_result"
    }
   ],
   "source": [
    "fbeta_score(y_test10, predMLP90, beta=2)"
   ]
  },
  {
   "cell_type": "code",
   "execution_count": null,
   "metadata": {},
   "outputs": [
    {
     "data": {
      "text/plain": [
       "0.5308219178082191"
      ]
     },
     "execution_count": 290,
     "metadata": {},
     "output_type": "execute_result"
    }
   ],
   "source": [
    "fbeta_score(y_test30, predMLP70, beta=2)"
   ]
  },
  {
   "cell_type": "code",
   "execution_count": null,
   "metadata": {},
   "outputs": [
    {
     "data": {
      "text/plain": [
       "0.23255813953488372"
      ]
     },
     "execution_count": 291,
     "metadata": {},
     "output_type": "execute_result"
    }
   ],
   "source": [
    "fbeta_score(y_test10, predSVM90, beta=2)"
   ]
  },
  {
   "cell_type": "code",
   "execution_count": null,
   "metadata": {},
   "outputs": [
    {
     "data": {
      "text/plain": [
       "0.16666666666666666"
      ]
     },
     "execution_count": 292,
     "metadata": {},
     "output_type": "execute_result"
    }
   ],
   "source": [
    "fbeta_score(y_test30, predSVM70, beta=2)"
   ]
  }
 ],
 "metadata": {
  "kernelspec": {
   "display_name": "Python 3",
   "language": "python",
   "name": "python3"
  },
  "language_info": {
   "codemirror_mode": {
    "name": "ipython",
    "version": 3
   },
   "file_extension": ".py",
   "mimetype": "text/x-python",
   "name": "python",
   "nbconvert_exporter": "python",
   "pygments_lexer": "ipython3",
   "version": "3.11.6"
  }
 },
 "nbformat": 4,
 "nbformat_minor": 2
}
